{
 "cells": [
  {
   "cell_type": "markdown",
   "id": "101b54a4",
   "metadata": {
    "execution": {
     "iopub.status.busy": "2024-02-03T00:19:27.645816+00:00",
     "iopub.status.idle": "2024-02-03T00:19:27.651051+00:00"
    },
    "jupyter": {
     "source_hidden": false
    }
   },
   "source": [
    "# 🦙 Llama2 with 🤗 Transformers"
   ]
  },
  {
   "cell_type": "code",
   "execution_count": 2,
   "id": "85c0a4fd",
   "metadata": {
    "collapsed": false,
    "execution": {
     "iopub": {
      "execute_input": "2024-02-03T03:26:54.535380+00:00"
     },
     "iopub.status.busy": "2024-02-03T03:26:54.535169+00:00",
     "iopub.status.idle": "2024-02-03T03:26:54.578245+00:00",
     "shell.execute_reply": "2024-02-03T03:26:54.577855+00:00"
    },
    "jupyter": {
     "outputs_hidden": false,
     "source_hidden": false
    }
   },
   "outputs": [
    {
     "name": "stdout",
     "output_type": "stream",
     "text": [
      "The rich extension is already loaded. To reload it, use:\n",
      "  %reload_ext rich\n",
      "The autoreload extension is already loaded. To reload it, use:\n",
      "  %reload_ext autoreload\n"
     ]
    }
   ],
   "source": [
    "%load_ext rich\n",
    "%load_ext autoreload\n",
    "%autoreload 2"
   ]
  },
  {
   "cell_type": "code",
   "execution_count": 3,
   "id": "bdbbfdb4",
   "metadata": {
    "collapsed": false,
    "execution": {
     "iopub": {
      "execute_input": "2024-02-03T03:26:56.170139+00:00"
     },
     "iopub.status.busy": "2024-02-03T03:26:56.169969+00:00",
     "iopub.status.idle": "2024-02-03T03:26:57.479899+00:00",
     "shell.execute_reply": "2024-02-03T03:26:57.479375+00:00"
    },
    "jupyter": {
     "outputs_hidden": false,
     "source_hidden": false
    }
   },
   "outputs": [
    {
     "data": {
      "text/html": [
       "<pre style=\"white-space:pre;overflow-x:auto;line-height:normal;font-family:Menlo,'DejaVu Sans Mono',consolas,'Courier New',monospace\"><span style=\"color: #800080; text-decoration-color: #800080; font-weight: bold\">torch.cuda.device_count</span><span style=\"font-weight: bold\">()</span>=<span style=\"color: #008080; text-decoration-color: #008080; font-weight: bold\">4</span>\n",
       "</pre>\n"
      ],
      "text/plain": [
       "\u001b[1;35mtorch.cuda.device_count\u001b[0m\u001b[1m(\u001b[0m\u001b[1m)\u001b[0m=\u001b[1;36m4\u001b[0m\n"
      ]
     },
     "metadata": {},
     "output_type": "display_data"
    }
   ],
   "source": [
    "import torch\n",
    "from rich import print\n",
    "\n",
    "print(f'{torch.cuda.device_count()=}')"
   ]
  },
  {
   "cell_type": "code",
   "execution_count": 4,
   "id": "0e064c70",
   "metadata": {
    "collapsed": false,
    "execution": {
     "iopub": {
      "execute_input": "2024-02-03T03:26:58.185498+00:00"
     },
     "iopub.status.busy": "2024-02-03T03:26:58.185295+00:00",
     "iopub.status.idle": "2024-02-03T03:27:40.583933+00:00",
     "shell.execute_reply": "2024-02-03T03:27:40.583443+00:00"
    },
    "jupyter": {
     "outputs_hidden": false,
     "source_hidden": false
    }
   },
   "outputs": [
    {
     "name": "stderr",
     "output_type": "stream",
     "text": [
      "Special tokens have been added in the vocabulary, make sure the associated word embeddings are fine-tuned or trained.\n"
     ]
    },
    {
     "data": {
      "application/vnd.jupyter.widget-view+json": {
       "model_id": "06d404f409e34014ad0c5f3ef285335b",
       "version_major": 2,
       "version_minor": 0
      },
      "text/plain": [
       "Loading checkpoint shards:   0%|          | 0/2 [00:00<?, ?it/s]"
      ]
     },
     "metadata": {},
     "output_type": "display_data"
    }
   ],
   "source": [
    "from transformers import LlamaForCausalLM, LlamaTokenizer\n",
    "#from transformers import LlamaModel, LlamaConfig\n",
    "\n",
    "#config = LlamaConfig()\n",
    "#model = LlamaModel(config)\n",
    "\n",
    "LLAMA_7B_PATH = '/lus/grand/projects/datascience/llama2/llama/llama-2-7b-hf//'\n",
    "tokenizer = LlamaTokenizer.from_pretrained(LLAMA_7B_PATH)\n",
    "model = LlamaForCausalLM.from_pretrained(LLAMA_7B_PATH)"
   ]
  },
  {
   "cell_type": "code",
   "execution_count": 7,
   "id": "16ecd087",
   "metadata": {
    "collapsed": false,
    "execution": {
     "iopub": {
      "execute_input": "2024-02-03T03:28:06.333033+00:00"
     },
     "iopub.status.busy": "2024-02-03T03:28:06.332732+00:00",
     "iopub.status.idle": "2024-02-03T03:28:06.486360+00:00",
     "shell.execute_reply": "2024-02-03T03:28:06.485907+00:00"
    },
    "jupyter": {
     "outputs_hidden": false,
     "source_hidden": false
    }
   },
   "outputs": [
    {
     "data": {
      "text/html": [
       "<pre style=\"white-space:pre;overflow-x:auto;line-height:normal;font-family:Menlo,'DejaVu Sans Mono',consolas,'Courier New',monospace\"><span style=\"color: #808000; text-decoration-color: #808000\">torch_device</span>=<span style=\"color: #008000; text-decoration-color: #008000\">'cuda'</span>\n",
       "</pre>\n"
      ],
      "text/plain": [
       "\u001b[33mtorch_device\u001b[0m=\u001b[32m'cuda'\u001b[0m\n"
      ]
     },
     "metadata": {},
     "output_type": "display_data"
    }
   ],
   "source": [
    "from ezpz import get_torch_device\n",
    "\n",
    "torch_device = get_torch_device()\n",
    "print(f'{torch_device=}')"
   ]
  },
  {
   "cell_type": "code",
   "execution_count": 8,
   "id": "a54665dc",
   "metadata": {
    "collapsed": false,
    "execution": {
     "iopub": {
      "execute_input": "2024-02-03T03:28:43.363899+00:00"
     },
     "iopub.status.busy": "2024-02-03T03:28:43.363692+00:00",
     "iopub.status.idle": "2024-02-03T03:28:47.585153+00:00",
     "shell.execute_reply": "2024-02-03T03:28:47.584675+00:00"
    },
    "jupyter": {
     "outputs_hidden": false,
     "source_hidden": false
    }
   },
   "outputs": [
    {
     "data": {
      "text/html": [
       "<pre style=\"white-space:pre;overflow-x:auto;line-height:normal;font-family:Menlo,'DejaVu Sans Mono',consolas,'Courier New',monospace\"></pre>\n"
      ],
      "text/plain": []
     },
     "metadata": {},
     "output_type": "display_data"
    },
    {
     "data": {
      "text/plain": [
       "\n",
       "\u001b[1;35mLlamaForCausalLM\u001b[0m\u001b[1m(\u001b[0m\n",
       "  \u001b[1m(\u001b[0mmodel\u001b[1m)\u001b[0m: \u001b[1;35mLlamaModel\u001b[0m\u001b[1m(\u001b[0m\n",
       "    \u001b[1m(\u001b[0membed_tokens\u001b[1m)\u001b[0m: \u001b[1;35mEmbedding\u001b[0m\u001b[1m(\u001b[0m\u001b[1;36m32000\u001b[0m, \u001b[1;36m4096\u001b[0m\u001b[1m)\u001b[0m\n",
       "    \u001b[1m(\u001b[0mlayers\u001b[1m)\u001b[0m: \u001b[1;35mModuleList\u001b[0m\u001b[1m(\u001b[0m\n",
       "      \u001b[1m(\u001b[0m\u001b[1;36m0\u001b[0m-\u001b[1;36m31\u001b[0m\u001b[1m)\u001b[0m: \u001b[1;36m32\u001b[0m x \u001b[1;35mLlamaDecoderLayer\u001b[0m\u001b[1m(\u001b[0m\n",
       "        \u001b[1m(\u001b[0mself_attn\u001b[1m)\u001b[0m: \u001b[1;35mLlamaAttention\u001b[0m\u001b[1m(\u001b[0m\n",
       "          \u001b[1m(\u001b[0mq_proj\u001b[1m)\u001b[0m: \u001b[1;35mLinear\u001b[0m\u001b[1m(\u001b[0m\u001b[33min_features\u001b[0m=\u001b[1;36m4096\u001b[0m, \u001b[33mout_features\u001b[0m=\u001b[1;36m4096\u001b[0m, \u001b[33mbias\u001b[0m=\u001b[3;91mFalse\u001b[0m\u001b[1m)\u001b[0m\n",
       "          \u001b[1m(\u001b[0mk_proj\u001b[1m)\u001b[0m: \u001b[1;35mLinear\u001b[0m\u001b[1m(\u001b[0m\u001b[33min_features\u001b[0m=\u001b[1;36m4096\u001b[0m, \u001b[33mout_features\u001b[0m=\u001b[1;36m4096\u001b[0m, \u001b[33mbias\u001b[0m=\u001b[3;91mFalse\u001b[0m\u001b[1m)\u001b[0m\n",
       "          \u001b[1m(\u001b[0mv_proj\u001b[1m)\u001b[0m: \u001b[1;35mLinear\u001b[0m\u001b[1m(\u001b[0m\u001b[33min_features\u001b[0m=\u001b[1;36m4096\u001b[0m, \u001b[33mout_features\u001b[0m=\u001b[1;36m4096\u001b[0m, \u001b[33mbias\u001b[0m=\u001b[3;91mFalse\u001b[0m\u001b[1m)\u001b[0m\n",
       "          \u001b[1m(\u001b[0mo_proj\u001b[1m)\u001b[0m: \u001b[1;35mLinear\u001b[0m\u001b[1m(\u001b[0m\u001b[33min_features\u001b[0m=\u001b[1;36m4096\u001b[0m, \u001b[33mout_features\u001b[0m=\u001b[1;36m4096\u001b[0m, \u001b[33mbias\u001b[0m=\u001b[3;91mFalse\u001b[0m\u001b[1m)\u001b[0m\n",
       "          \u001b[1m(\u001b[0mrotary_emb\u001b[1m)\u001b[0m: \u001b[1;35mLlamaRotaryEmbedding\u001b[0m\u001b[1m(\u001b[0m\u001b[1m)\u001b[0m\n",
       "        \u001b[1m)\u001b[0m\n",
       "        \u001b[1m(\u001b[0mmlp\u001b[1m)\u001b[0m: \u001b[1;35mLlamaMLP\u001b[0m\u001b[1m(\u001b[0m\n",
       "          \u001b[1m(\u001b[0mgate_proj\u001b[1m)\u001b[0m: \u001b[1;35mLinear\u001b[0m\u001b[1m(\u001b[0m\u001b[33min_features\u001b[0m=\u001b[1;36m4096\u001b[0m, \u001b[33mout_features\u001b[0m=\u001b[1;36m11008\u001b[0m, \u001b[33mbias\u001b[0m=\u001b[3;91mFalse\u001b[0m\u001b[1m)\u001b[0m\n",
       "          \u001b[1m(\u001b[0mup_proj\u001b[1m)\u001b[0m: \u001b[1;35mLinear\u001b[0m\u001b[1m(\u001b[0m\u001b[33min_features\u001b[0m=\u001b[1;36m4096\u001b[0m, \u001b[33mout_features\u001b[0m=\u001b[1;36m11008\u001b[0m, \u001b[33mbias\u001b[0m=\u001b[3;91mFalse\u001b[0m\u001b[1m)\u001b[0m\n",
       "          \u001b[1m(\u001b[0mdown_proj\u001b[1m)\u001b[0m: \u001b[1;35mLinear\u001b[0m\u001b[1m(\u001b[0m\u001b[33min_features\u001b[0m=\u001b[1;36m11008\u001b[0m, \u001b[33mout_features\u001b[0m=\u001b[1;36m4096\u001b[0m, \u001b[33mbias\u001b[0m=\u001b[3;91mFalse\u001b[0m\u001b[1m)\u001b[0m\n",
       "          \u001b[1m(\u001b[0mact_fn\u001b[1m)\u001b[0m: \u001b[1;35mSiLUActivation\u001b[0m\u001b[1m(\u001b[0m\u001b[1m)\u001b[0m\n",
       "        \u001b[1m)\u001b[0m\n",
       "        \u001b[1m(\u001b[0minput_layernorm\u001b[1m)\u001b[0m: \u001b[1;35mLlamaRMSNorm\u001b[0m\u001b[1m(\u001b[0m\u001b[1m)\u001b[0m\n",
       "        \u001b[1m(\u001b[0mpost_attention_layernorm\u001b[1m)\u001b[0m: \u001b[1;35mLlamaRMSNorm\u001b[0m\u001b[1m(\u001b[0m\u001b[1m)\u001b[0m\n",
       "      \u001b[1m)\u001b[0m\n",
       "    \u001b[1m)\u001b[0m\n",
       "    \u001b[1m(\u001b[0mnorm\u001b[1m)\u001b[0m: \u001b[1;35mLlamaRMSNorm\u001b[0m\u001b[1m(\u001b[0m\u001b[1m)\u001b[0m\n",
       "  \u001b[1m)\u001b[0m\n",
       "  \u001b[1m(\u001b[0mlm_head\u001b[1m)\u001b[0m: \u001b[1;35mLinear\u001b[0m\u001b[1m(\u001b[0m\u001b[33min_features\u001b[0m=\u001b[1;36m4096\u001b[0m, \u001b[33mout_features\u001b[0m=\u001b[1;36m32000\u001b[0m, \u001b[33mbias\u001b[0m=\u001b[3;91mFalse\u001b[0m\u001b[1m)\u001b[0m\n",
       "\u001b[1m)\u001b[0m"
      ]
     },
     "execution_count": 8,
     "metadata": {},
     "output_type": "execute_result"
    }
   ],
   "source": [
    "model.to(torch_device)"
   ]
  },
  {
   "cell_type": "code",
   "execution_count": 11,
   "id": "3c4be1f8",
   "metadata": {
    "collapsed": false,
    "execution": {
     "iopub": {
      "execute_input": "2024-02-03T03:29:38.446518+00:00"
     },
     "iopub.status.busy": "2024-02-03T03:29:38.446353+00:00",
     "iopub.status.idle": "2024-02-03T03:29:38.599917+00:00",
     "shell.execute_reply": "2024-02-03T03:29:38.599442+00:00"
    },
    "jupyter": {
     "outputs_hidden": false,
     "source_hidden": false
    }
   },
   "outputs": [],
   "source": [
    "def prompt_model(\n",
    "        prompt: str,\n",
    "        max_length: int = 500,\n",
    "        skip_special_tokens: bool = True,\n",
    "        clean_up_tokenization_spaces: bool = False\n",
    ") -> list[str]:\n",
    "    tokens = tokenizer(prompt, return_tensors=\"pt\")\n",
    "    generate_ids = model.generate(\n",
    "        tokens.input_ids.to(torch_device),\n",
    "        max_length=max_length\n",
    "    )\n",
    "    return tokenizer.batch_decode(\n",
    "        generate_ids,\n",
    "        skip_special_tokens=True,\n",
    "        clean_up_tokenization_spaces=False\n",
    "    )"
   ]
  },
  {
   "cell_type": "code",
   "execution_count": 13,
   "id": "a4c9edfc",
   "metadata": {
    "collapsed": false,
    "execution": {
     "iopub": {
      "execute_input": "2024-02-03T03:29:47.585080+00:00"
     },
     "iopub.status.busy": "2024-02-03T03:29:47.584928+00:00",
     "iopub.status.idle": "2024-02-03T03:29:53.954199+00:00",
     "shell.execute_reply": "2024-02-03T03:29:53.953647+00:00"
    },
    "jupyter": {
     "outputs_hidden": false,
     "source_hidden": false
    }
   },
   "outputs": [
    {
     "name": "stderr",
     "output_type": "stream",
     "text": [
      "The attention mask and the pad token id were not set. As a consequence, you may observe unexpected behavior. Please pass your input's `attention_mask` to obtain reliable results.\n"
     ]
    },
    {
     "name": "stderr",
     "output_type": "stream",
     "text": [
      "Setting `pad_token_id` to `eos_token_id`:2 for open-end generation.\n"
     ]
    }
   ],
   "source": [
    "responses = prompt_model(\n",
    "    \"\"\"\n",
    "    What does Argonne National Laboratory do?\n",
    "    \"\"\",\n",
    "    max_length=256,\n",
    ")"
   ]
  },
  {
   "cell_type": "code",
   "execution_count": 14,
   "id": "cb1302f6",
   "metadata": {
    "collapsed": false,
    "execution": {
     "iopub": {
      "execute_input": "2024-02-03T03:29:53.955147+00:00"
     },
     "iopub.status.busy": "2024-02-03T03:29:53.954995+00:00",
     "iopub.status.idle": "2024-02-03T03:29:54.109098+00:00",
     "shell.execute_reply": "2024-02-03T03:29:54.108636+00:00"
    },
    "jupyter": {
     "outputs_hidden": false,
     "source_hidden": false
    }
   },
   "outputs": [
    {
     "data": {
      "text/html": [
       "<pre style=\"white-space:pre;overflow-x:auto;line-height:normal;font-family:Menlo,'DejaVu Sans Mono',consolas,'Courier New',monospace\">\n",
       "    What does Argonne National Laboratory do?\n",
       "    \n",
       "    Argonne National Laboratory is a United States Department of Energy (DOE) national laboratory operated by the \n",
       "University of Chicago for the DOE's Office of Science. The laboratory is located west of Chicago in Lemont, \n",
       "Illinois. Argonne was the first national laboratory established in the United States.\n",
       "    \n",
       "    Argonne is one of the largest U.S. government-owned science and engineering research centers in the United \n",
       "States. Argonne's scientific expertise is primarily in the physical, biological, and environmental sciences, \n",
       "especially energy-related research. Argonne is also the location of the Advanced Photon Source, a synchrotron light\n",
       "source, and the Argonne Tandem Linear Accelerator System, a nuclear physics research facility.\n",
       "    \n",
       "    Argonne is operated by the University of Chicago for the DOE's Office of Science. The laboratory is located \n",
       "west of Chicago in Lemont, Illinois. Argonne was the first national laboratory established in the United States.\n",
       "    \n",
       "    Argonne is one of the largest U.S. government-owned science and engineering research centers in the United \n",
       "States. Arg\n",
       "</pre>\n"
      ],
      "text/plain": [
       "\n",
       "    What does Argonne National Laboratory do?\n",
       "    \n",
       "    Argonne National Laboratory is a United States Department of Energy (DOE) national laboratory operated by the \n",
       "University of Chicago for the DOE's Office of Science. The laboratory is located west of Chicago in Lemont, \n",
       "Illinois. Argonne was the first national laboratory established in the United States.\n",
       "    \n",
       "    Argonne is one of the largest U.S. government-owned science and engineering research centers in the United \n",
       "States. Argonne's scientific expertise is primarily in the physical, biological, and environmental sciences, \n",
       "especially energy-related research. Argonne is also the location of the Advanced Photon Source, a synchrotron light\n",
       "source, and the Argonne Tandem Linear Accelerator System, a nuclear physics research facility.\n",
       "    \n",
       "    Argonne is operated by the University of Chicago for the DOE's Office of Science. The laboratory is located \n",
       "west of Chicago in Lemont, Illinois. Argonne was the first national laboratory established in the United States.\n",
       "    \n",
       "    Argonne is one of the largest U.S. government-owned science and engineering research centers in the United \n",
       "States. Arg\n"
      ]
     },
     "metadata": {},
     "output_type": "display_data"
    }
   ],
   "source": [
    "from rich.text import Text\n",
    "print(Text(responses[0]))"
   ]
  },
  {
   "cell_type": "code",
   "execution_count": 15,
   "id": "2dab0f9a",
   "metadata": {
    "collapsed": false,
    "execution": {
     "iopub": {
      "execute_input": "2024-02-03T03:30:06.681578+00:00"
     },
     "iopub.status.busy": "2024-02-03T03:30:06.681293+00:00",
     "iopub.status.idle": "2024-02-03T03:30:06.833303+00:00",
     "shell.execute_reply": "2024-02-03T03:30:06.832833+00:00"
    },
    "jupyter": {
     "outputs_hidden": false,
     "source_hidden": false
    }
   },
   "outputs": [],
   "source": [
    "prompt = \"Hey, are you conscious? Can you talk to me?\"\n",
    "inputs = tokenizer(prompt, return_tensors=\"pt\")"
   ]
  },
  {
   "cell_type": "code",
   "execution_count": 18,
   "id": "75cb7dd8",
   "metadata": {
    "collapsed": false,
    "execution": {
     "iopub": {
      "execute_input": "2024-02-03T03:30:50.909805+00:00"
     },
     "iopub.status.busy": "2024-02-03T03:30:50.909613+00:00",
     "iopub.status.idle": "2024-02-03T03:31:04.146717+00:00",
     "shell.execute_reply": "2024-02-03T03:31:04.146205+00:00"
    },
    "jupyter": {
     "outputs_hidden": false,
     "source_hidden": false
    }
   },
   "outputs": [
    {
     "name": "stderr",
     "output_type": "stream",
     "text": [
      "The attention mask and the pad token id were not set. As a consequence, you may observe unexpected behavior. Please pass your input's `attention_mask` to obtain reliable results.\n"
     ]
    },
    {
     "name": "stderr",
     "output_type": "stream",
     "text": [
      "Setting `pad_token_id` to `eos_token_id`:2 for open-end generation.\n"
     ]
    },
    {
     "data": {
      "text/html": [
       "<pre style=\"white-space:pre;overflow-x:auto;line-height:normal;font-family:Menlo,'DejaVu Sans Mono',consolas,'Courier New',monospace\">Hey, are you conscious? Can you talk to me?\n",
       "I'm not sure if you're conscious or not.\n",
       "I'm not sure if you're conscious or not. I'm not sure if you're conscious or not. I'm not sure if you're conscious \n",
       "or not. I'm not sure if you're conscious or not. I'm not sure if you're conscious or not. I'm not sure if you're \n",
       "conscious or not. I'm not sure if you're conscious or not. I'm not sure if you're conscious or not. I'm not sure if\n",
       "you're conscious or not. I'm not sure if you're conscious or not. I'm not sure if you're conscious or not. I'm not \n",
       "sure if you're conscious or not. I'm not sure if you're conscious or not. I'm not sure if you're conscious or not. \n",
       "I'm not sure if you're conscious or not. I'm not sure if you're conscious or not. I'm not sure if you're conscious \n",
       "or not. I'm not sure if you're conscious or not. I'm not sure if you're conscious or not. I'm not sure if you're \n",
       "conscious or not. I'm not sure if you're conscious or not. I'm not sure if you're conscious or not. I'm not sure if\n",
       "you're conscious or not. I'm not sure if you're conscious or not. I'm not sure if you're conscious or not. I'm not \n",
       "sure if you're conscious or not. I'm not sure if you're conscious or not. I'm not sure if you're conscious or not. \n",
       "I'm not sure if you're conscious or not. I'm not sure if you're conscious or not. I'm not sure if you're conscious \n",
       "or not. I'm not sure if you're conscious or not. I'm not sure if you're conscious or not. I'm not sure if you're \n",
       "conscious or not. I'm not sure if you're conscious or not. I'm not sure if you're conscious or not. I'm not sure if\n",
       "you're conscious or not. I'm\n",
       "</pre>\n"
      ],
      "text/plain": [
       "Hey, are you conscious? Can you talk to me?\n",
       "I'm not sure if you're conscious or not.\n",
       "I'm not sure if you're conscious or not. I'm not sure if you're conscious or not. I'm not sure if you're conscious \n",
       "or not. I'm not sure if you're conscious or not. I'm not sure if you're conscious or not. I'm not sure if you're \n",
       "conscious or not. I'm not sure if you're conscious or not. I'm not sure if you're conscious or not. I'm not sure if\n",
       "you're conscious or not. I'm not sure if you're conscious or not. I'm not sure if you're conscious or not. I'm not \n",
       "sure if you're conscious or not. I'm not sure if you're conscious or not. I'm not sure if you're conscious or not. \n",
       "I'm not sure if you're conscious or not. I'm not sure if you're conscious or not. I'm not sure if you're conscious \n",
       "or not. I'm not sure if you're conscious or not. I'm not sure if you're conscious or not. I'm not sure if you're \n",
       "conscious or not. I'm not sure if you're conscious or not. I'm not sure if you're conscious or not. I'm not sure if\n",
       "you're conscious or not. I'm not sure if you're conscious or not. I'm not sure if you're conscious or not. I'm not \n",
       "sure if you're conscious or not. I'm not sure if you're conscious or not. I'm not sure if you're conscious or not. \n",
       "I'm not sure if you're conscious or not. I'm not sure if you're conscious or not. I'm not sure if you're conscious \n",
       "or not. I'm not sure if you're conscious or not. I'm not sure if you're conscious or not. I'm not sure if you're \n",
       "conscious or not. I'm not sure if you're conscious or not. I'm not sure if you're conscious or not. I'm not sure if\n",
       "you're conscious or not. I'm\n"
      ]
     },
     "metadata": {},
     "output_type": "display_data"
    }
   ],
   "source": [
    "from rich import print\n",
    "\n",
    "# Generate\n",
    "generate_ids = model.generate(\n",
    "    inputs.input_ids.to(torch_device),\n",
    "    max_length=512\n",
    ")\n",
    "response = tokenizer.batch_decode(\n",
    "    generate_ids,\n",
    "    skip_special_tokens=True,\n",
    "    clean_up_tokenization_spaces=False\n",
    ")[0]\n",
    "print(response)"
   ]
  }
 ],
 "metadata": {
  "kernelspec": {
   "display_name": "Python 3 (ipykernel)",
   "language": "python",
   "name": "python3"
  },
  "language_info": {
   "codemirror_mode": {
    "name": "ipython",
    "version": 3
   },
   "file_extension": ".py",
   "mimetype": "text/x-python",
   "name": "python",
   "nbconvert_exporter": "python",
   "pygments_lexer": "ipython3",
   "version": "3.10.12"
  },
  "widgets": {
   "application/vnd.jupyter.widget-state+json": {
    "state": {
     "03de5a9d0a9e4e0eb456305cd979c53d": {
      "model_module": "@jupyter-widgets/controls",
      "model_module_version": "2.0.0",
      "model_name": "HTMLModel",
      "state": {
       "_dom_classes": [],
       "_model_module": "@jupyter-widgets/controls",
       "_model_module_version": "2.0.0",
       "_model_name": "HTMLModel",
       "_view_count": null,
       "_view_module": "@jupyter-widgets/controls",
       "_view_module_version": "2.0.0",
       "_view_name": "HTMLView",
       "buffers": [],
       "description": "",
       "description_allow_html": false,
       "layout": "IPY_MODEL_f2a91a0024b74f86bc4fffffd9d20889",
       "placeholder": "​",
       "style": "IPY_MODEL_984216721dfa4dadbb58317cd2ad1943",
       "tabbable": null,
       "tooltip": null,
       "value": " 2/2 [00:13&lt;00:00,  6.39s/it]"
      }
     },
     "06d404f409e34014ad0c5f3ef285335b": {
      "model_module": "@jupyter-widgets/controls",
      "model_module_version": "2.0.0",
      "model_name": "HBoxModel",
      "state": {
       "_dom_classes": [],
       "_model_module": "@jupyter-widgets/controls",
       "_model_module_version": "2.0.0",
       "_model_name": "HBoxModel",
       "_view_count": null,
       "_view_module": "@jupyter-widgets/controls",
       "_view_module_version": "2.0.0",
       "_view_name": "HBoxView",
       "box_style": "",
       "buffers": [],
       "children": [
        "IPY_MODEL_236ec11f793a4651a130138f0c5b8278",
        "IPY_MODEL_aab59321f45746658a0aba32834c3134",
        "IPY_MODEL_03de5a9d0a9e4e0eb456305cd979c53d"
       ],
       "layout": "IPY_MODEL_11c8377418b3484cb6d5ab941e693017",
       "tabbable": null,
       "tooltip": null
      }
     },
     "11c8377418b3484cb6d5ab941e693017": {
      "model_module": "@jupyter-widgets/base",
      "model_module_version": "2.0.0",
      "model_name": "LayoutModel",
      "state": {
       "_model_module": "@jupyter-widgets/base",
       "_model_module_version": "2.0.0",
       "_model_name": "LayoutModel",
       "_view_count": null,
       "_view_module": "@jupyter-widgets/base",
       "_view_module_version": "2.0.0",
       "_view_name": "LayoutView",
       "align_content": null,
       "align_items": null,
       "align_self": null,
       "border_bottom": null,
       "border_left": null,
       "border_right": null,
       "border_top": null,
       "bottom": null,
       "buffers": [],
       "display": null,
       "flex": null,
       "flex_flow": null,
       "grid_area": null,
       "grid_auto_columns": null,
       "grid_auto_flow": null,
       "grid_auto_rows": null,
       "grid_column": null,
       "grid_gap": null,
       "grid_row": null,
       "grid_template_areas": null,
       "grid_template_columns": null,
       "grid_template_rows": null,
       "height": null,
       "justify_content": null,
       "justify_items": null,
       "left": null,
       "margin": null,
       "max_height": null,
       "max_width": null,
       "min_height": null,
       "min_width": null,
       "object_fit": null,
       "object_position": null,
       "order": null,
       "overflow": null,
       "padding": null,
       "right": null,
       "top": null,
       "visibility": null,
       "width": null
      }
     },
     "236ec11f793a4651a130138f0c5b8278": {
      "model_module": "@jupyter-widgets/controls",
      "model_module_version": "2.0.0",
      "model_name": "HTMLModel",
      "state": {
       "_dom_classes": [],
       "_model_module": "@jupyter-widgets/controls",
       "_model_module_version": "2.0.0",
       "_model_name": "HTMLModel",
       "_view_count": null,
       "_view_module": "@jupyter-widgets/controls",
       "_view_module_version": "2.0.0",
       "_view_name": "HTMLView",
       "buffers": [],
       "description": "",
       "description_allow_html": false,
       "layout": "IPY_MODEL_5829653321fb481fbe2cad0127e309a3",
       "placeholder": "​",
       "style": "IPY_MODEL_f98c888f3a164eba93596710c6657576",
       "tabbable": null,
       "tooltip": null,
       "value": "Loading checkpoint shards: 100%"
      }
     },
     "3daa6d1833d84254b0368089f028bdd8": {
      "model_module": "@jupyter-widgets/controls",
      "model_module_version": "2.0.0",
      "model_name": "ProgressStyleModel",
      "state": {
       "_model_module": "@jupyter-widgets/controls",
       "_model_module_version": "2.0.0",
       "_model_name": "ProgressStyleModel",
       "_view_count": null,
       "_view_module": "@jupyter-widgets/base",
       "_view_module_version": "2.0.0",
       "_view_name": "StyleView",
       "bar_color": null,
       "buffers": [],
       "description_width": ""
      }
     },
     "5829653321fb481fbe2cad0127e309a3": {
      "model_module": "@jupyter-widgets/base",
      "model_module_version": "2.0.0",
      "model_name": "LayoutModel",
      "state": {
       "_model_module": "@jupyter-widgets/base",
       "_model_module_version": "2.0.0",
       "_model_name": "LayoutModel",
       "_view_count": null,
       "_view_module": "@jupyter-widgets/base",
       "_view_module_version": "2.0.0",
       "_view_name": "LayoutView",
       "align_content": null,
       "align_items": null,
       "align_self": null,
       "border_bottom": null,
       "border_left": null,
       "border_right": null,
       "border_top": null,
       "bottom": null,
       "buffers": [],
       "display": null,
       "flex": null,
       "flex_flow": null,
       "grid_area": null,
       "grid_auto_columns": null,
       "grid_auto_flow": null,
       "grid_auto_rows": null,
       "grid_column": null,
       "grid_gap": null,
       "grid_row": null,
       "grid_template_areas": null,
       "grid_template_columns": null,
       "grid_template_rows": null,
       "height": null,
       "justify_content": null,
       "justify_items": null,
       "left": null,
       "margin": null,
       "max_height": null,
       "max_width": null,
       "min_height": null,
       "min_width": null,
       "object_fit": null,
       "object_position": null,
       "order": null,
       "overflow": null,
       "padding": null,
       "right": null,
       "top": null,
       "visibility": null,
       "width": null
      }
     },
     "984216721dfa4dadbb58317cd2ad1943": {
      "model_module": "@jupyter-widgets/controls",
      "model_module_version": "2.0.0",
      "model_name": "HTMLStyleModel",
      "state": {
       "_model_module": "@jupyter-widgets/controls",
       "_model_module_version": "2.0.0",
       "_model_name": "HTMLStyleModel",
       "_view_count": null,
       "_view_module": "@jupyter-widgets/base",
       "_view_module_version": "2.0.0",
       "_view_name": "StyleView",
       "background": null,
       "buffers": [],
       "description_width": "",
       "font_size": null,
       "text_color": null
      }
     },
     "aab59321f45746658a0aba32834c3134": {
      "model_module": "@jupyter-widgets/controls",
      "model_module_version": "2.0.0",
      "model_name": "FloatProgressModel",
      "state": {
       "_dom_classes": [],
       "_model_module": "@jupyter-widgets/controls",
       "_model_module_version": "2.0.0",
       "_model_name": "FloatProgressModel",
       "_view_count": null,
       "_view_module": "@jupyter-widgets/controls",
       "_view_module_version": "2.0.0",
       "_view_name": "ProgressView",
       "bar_style": "success",
       "buffers": [],
       "description": "",
       "description_allow_html": false,
       "layout": "IPY_MODEL_bb98ed046ad64faebb247b8aec02c1f4",
       "max": 2.0,
       "min": 0.0,
       "orientation": "horizontal",
       "style": "IPY_MODEL_3daa6d1833d84254b0368089f028bdd8",
       "tabbable": null,
       "tooltip": null,
       "value": 2.0
      }
     },
     "bb98ed046ad64faebb247b8aec02c1f4": {
      "model_module": "@jupyter-widgets/base",
      "model_module_version": "2.0.0",
      "model_name": "LayoutModel",
      "state": {
       "_model_module": "@jupyter-widgets/base",
       "_model_module_version": "2.0.0",
       "_model_name": "LayoutModel",
       "_view_count": null,
       "_view_module": "@jupyter-widgets/base",
       "_view_module_version": "2.0.0",
       "_view_name": "LayoutView",
       "align_content": null,
       "align_items": null,
       "align_self": null,
       "border_bottom": null,
       "border_left": null,
       "border_right": null,
       "border_top": null,
       "bottom": null,
       "buffers": [],
       "display": null,
       "flex": null,
       "flex_flow": null,
       "grid_area": null,
       "grid_auto_columns": null,
       "grid_auto_flow": null,
       "grid_auto_rows": null,
       "grid_column": null,
       "grid_gap": null,
       "grid_row": null,
       "grid_template_areas": null,
       "grid_template_columns": null,
       "grid_template_rows": null,
       "height": null,
       "justify_content": null,
       "justify_items": null,
       "left": null,
       "margin": null,
       "max_height": null,
       "max_width": null,
       "min_height": null,
       "min_width": null,
       "object_fit": null,
       "object_position": null,
       "order": null,
       "overflow": null,
       "padding": null,
       "right": null,
       "top": null,
       "visibility": null,
       "width": null
      }
     },
     "f2a91a0024b74f86bc4fffffd9d20889": {
      "model_module": "@jupyter-widgets/base",
      "model_module_version": "2.0.0",
      "model_name": "LayoutModel",
      "state": {
       "_model_module": "@jupyter-widgets/base",
       "_model_module_version": "2.0.0",
       "_model_name": "LayoutModel",
       "_view_count": null,
       "_view_module": "@jupyter-widgets/base",
       "_view_module_version": "2.0.0",
       "_view_name": "LayoutView",
       "align_content": null,
       "align_items": null,
       "align_self": null,
       "border_bottom": null,
       "border_left": null,
       "border_right": null,
       "border_top": null,
       "bottom": null,
       "buffers": [],
       "display": null,
       "flex": null,
       "flex_flow": null,
       "grid_area": null,
       "grid_auto_columns": null,
       "grid_auto_flow": null,
       "grid_auto_rows": null,
       "grid_column": null,
       "grid_gap": null,
       "grid_row": null,
       "grid_template_areas": null,
       "grid_template_columns": null,
       "grid_template_rows": null,
       "height": null,
       "justify_content": null,
       "justify_items": null,
       "left": null,
       "margin": null,
       "max_height": null,
       "max_width": null,
       "min_height": null,
       "min_width": null,
       "object_fit": null,
       "object_position": null,
       "order": null,
       "overflow": null,
       "padding": null,
       "right": null,
       "top": null,
       "visibility": null,
       "width": null
      }
     },
     "f98c888f3a164eba93596710c6657576": {
      "model_module": "@jupyter-widgets/controls",
      "model_module_version": "2.0.0",
      "model_name": "HTMLStyleModel",
      "state": {
       "_model_module": "@jupyter-widgets/controls",
       "_model_module_version": "2.0.0",
       "_model_name": "HTMLStyleModel",
       "_view_count": null,
       "_view_module": "@jupyter-widgets/base",
       "_view_module_version": "2.0.0",
       "_view_name": "StyleView",
       "background": null,
       "buffers": [],
       "description_width": "",
       "font_size": null,
       "text_color": null
      }
     }
    },
    "version_major": 2,
    "version_minor": 0
   }
  }
 },
 "nbformat": 4,
 "nbformat_minor": 5
}
