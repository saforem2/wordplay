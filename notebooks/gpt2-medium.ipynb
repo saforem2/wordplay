{
 "cells": [
  {
   "cell_type": "markdown",
   "id": "1fc5d004-5e6f-4bb3-938e-fb44f919cec3",
   "metadata": {},
   "source": [
    "# `nanoGPT`: GPT-2 Medium (350M Params)"
   ]
  },
  {
   "cell_type": "markdown",
   "id": "bd994b32-ca5f-4e00-81d3-89dbbf7b2093",
   "metadata": {},
   "source": [
    "## Install / Setup"
   ]
  },
  {
   "cell_type": "markdown",
   "id": "71c38d27-5acb-4e5d-87c8-dbb2739cf277",
   "metadata": {},
   "source": [
    "### First Time Running\n",
    "\n",
    "We need to install `ngpt` and setup the Shakespeare dataset\n",
    "\n",
    "This will need to be ran the first time you are running this notebook.\n",
    "\n",
    "Following the\n",
    "\n",
    "```python\n",
    "!python3 -m pip install nanoGPT\n",
    "```\n",
    "\n",
    "you will need to restart your runtime (Runtime -> Restart runtime)\n",
    "\n",
    "After this, you should be able to\n",
    "\n",
    "```python\n",
    ">>> import ngpt\n",
    ">>> ngpt.__file__\n",
    "'/content/nanoGPT/src/ngpt/__init__.py'\n",
    "```"
   ]
  },
  {
   "cell_type": "code",
   "execution_count": 1,
   "id": "ea233681-405f-4754-a394-e8e6c57080df",
   "metadata": {
    "execution": {
     "iopub.execute_input": "2023-11-15T15:48:04.445117Z",
     "iopub.status.busy": "2023-11-15T15:48:04.444950Z",
     "iopub.status.idle": "2023-11-15T15:48:04.566825Z",
     "shell.execute_reply": "2023-11-15T15:48:04.566355Z",
     "shell.execute_reply.started": "2023-11-15T15:48:04.445100Z"
    }
   },
   "outputs": [
    {
     "name": "stdout",
     "output_type": "stream",
     "text": [
      "/lus/grand/projects/datascience/foremans/locations/thetaGPU/projects/saforem2/nanoGPT/src/ngpt/__init__.py\n",
      "Has ngpt installed. Nothing to do.\n"
     ]
    }
   ],
   "source": [
    "%%bash\n",
    "\n",
    "python3 -c 'import ngpt; print(ngpt.__file__)' 2> '/dev/null'\n",
    "\n",
    "if [[ $? -eq 0 ]]; then\n",
    "    echo \"Has ngpt installed. Nothing to do.\"\n",
    "else\n",
    "    echo \"Does not have ngpt installed. Installing...\"\n",
    "    git clone 'https://github.com/saforem2/nanoGPT'\n",
    "    python3 nanoGPT/data/shakespeare_char/prepare.py\n",
    "    python3 -m pip install -e nanoGPT -vvv\n",
    "fi"
   ]
  },
  {
   "cell_type": "markdown",
   "id": "c14a8da7-72fe-4839-a14d-f01606285fc3",
   "metadata": {},
   "source": [
    "## Post Install\n",
    "\n",
    "If installed correctly, you should be able to:\n",
    "\n",
    "```python\n",
    ">>> import ngpt\n",
    ">>> ngpt.__file__\n",
    "'/path/to/nanoGPT/src/ngpt/__init__.py'\n",
    "```"
   ]
  },
  {
   "cell_type": "code",
   "execution_count": 2,
   "id": "9fbf22d1-34ba-48ae-a78e-fc447fc9a0de",
   "metadata": {
    "execution": {
     "iopub.execute_input": "2023-11-15T15:48:13.535230Z",
     "iopub.status.busy": "2023-11-15T15:48:13.534969Z",
     "iopub.status.idle": "2023-11-15T15:48:13.605481Z",
     "shell.execute_reply": "2023-11-15T15:48:13.605018Z",
     "shell.execute_reply.started": "2023-11-15T15:48:13.535212Z"
    }
   },
   "outputs": [
    {
     "name": "stdout",
     "output_type": "stream",
     "text": [
      "The autoreload extension is already loaded. To reload it, use:\n",
      "  %reload_ext autoreload\n"
     ]
    },
    {
     "data": {
      "text/html": [
       "<pre style=\"white-space:pre;overflow-x:auto;line-height:normal;font-family:Menlo,'DejaVu Sans Mono',consolas,'Courier New',monospace\"><span style=\"color: #800080; text-decoration-color: #800080\">/lus/grand/projects/datascience/foremans/locations/thetaGPU/projects/saforem2/nanoGPT/src/ngpt/</span><span style=\"color: #ff00ff; text-decoration-color: #ff00ff\">__init__.py</span>\n",
       "</pre>\n"
      ],
      "text/plain": [
       "\u001b[35m/lus/grand/projects/datascience/foremans/locations/thetaGPU/projects/saforem2/nanoGPT/src/ngpt/\u001b[0m\u001b[95m__init__.py\u001b[0m\n"
      ]
     },
     "metadata": {},
     "output_type": "display_data"
    }
   ],
   "source": [
    "%load_ext autoreload\n",
    "%autoreload 2\n",
    "\n",
    "import ngpt\n",
    "from rich import print\n",
    "print(ngpt.__file__)"
   ]
  },
  {
   "cell_type": "markdown",
   "id": "e329ed94-582e-4aa8-bbe0-ba56782fe9e9",
   "metadata": {},
   "source": [
    "## Build Trainer\n",
    "\n",
    "Explicitly, we:\n",
    "\n",
    "1. `setup_torch(...)`\n",
    "2. Build `cfg: DictConfig = get_config(...)`\n",
    "3. Instnatiate `config: ExperimentConfig = instantiate(cfg)`\n",
    "4. Build `trainer = Trainer(config)`"
   ]
  },
  {
   "cell_type": "code",
   "execution_count": 3,
   "id": "7d12405a-8f88-476b-8922-a1a212adc682",
   "metadata": {
    "execution": {
     "iopub.execute_input": "2023-11-15T15:48:14.460807Z",
     "iopub.status.busy": "2023-11-15T15:48:14.460558Z",
     "iopub.status.idle": "2023-11-15T15:49:19.165765Z",
     "shell.execute_reply": "2023-11-15T15:49:19.165223Z",
     "shell.execute_reply.started": "2023-11-15T15:48:14.460788Z"
    }
   },
   "outputs": [
    {
     "name": "stderr",
     "output_type": "stream",
     "text": [
      "--------------------------------------------------------------------------\n",
      "WARNING: There was an error initializing an OpenFabrics device.\n",
      "\n",
      "  Local host:   thetagpu23\n",
      "  Local device: mlx5_0\n",
      "--------------------------------------------------------------------------\n",
      "2023-11-15 09:48:20.191135: I tensorflow/core/platform/cpu_feature_guard.cc:193] This TensorFlow binary is optimized with oneAPI Deep Neural Network Library (oneDNN) to use the following CPU instructions in performance-critical operations:  SSE3 SSE4.1 SSE4.2 AVX AVX2 FMA\n",
      "To enable them in other operations, rebuild TensorFlow with the appropriate compiler flags.\n"
     ]
    },
    {
     "data": {
      "text/html": [
       "<pre style=\"white-space:pre;overflow-x:auto;line-height:normal;font-family:Menlo,'DejaVu Sans Mono',consolas,'Courier New',monospace\"><span style=\"color: #838383; text-decoration-color: #838383\">[09:48:22] </span>SEED: <span style=\"color: #800080; text-decoration-color: #800080\">627182480</span>                                                                                         \n",
       "</pre>\n"
      ],
      "text/plain": [
       "\u001b[38;2;131;131;131m[09:48:22]\u001b[0m\u001b[38;2;131;131;131m \u001b[0mSEED: \u001b[35m627182480\u001b[0m                                                                                         \n"
      ]
     },
     "metadata": {},
     "output_type": "display_data"
    },
    {
     "name": "stdout",
     "output_type": "stream",
     "text": [
      "\u001b[38;2;131;131;131m[2023-11-15 09:48:23]\u001b[0m\u001b[33m[WARNING]\u001b[0m\u001b[38;2;119;119;119m[configs.py:297\u001b[0m\u001b[38;2;119;119;119m]\u001b[0m - No meta.pkl found, assuming GPT-\u001b[35m2\u001b[0m encodings\u001b[33m...\u001b[0m\n",
      "\u001b[38;2;131;131;131m[2023-11-15 09:48:26]\u001b[0m\u001b[34m[INFO]\u001b[0m\u001b[38;2;119;119;119m[configs.py:263\u001b[0m\u001b[38;2;119;119;119m]\u001b[0m - Rescaling GAS -> GAS \u001b[32m/\u001b[0m\u001b[32m/\u001b[0m WORLD_SIZE = \u001b[35m1\u001b[0m \u001b[32m/\u001b[0m\u001b[32m/\u001b[0m \u001b[35m1\u001b[0m\n",
      "\u001b[38;2;131;131;131m[2023-11-15 09:48:26]\u001b[0m\u001b[34m[INFO]\u001b[0m\u001b[38;2;119;119;119m[configs.py:398\u001b[0m\u001b[38;2;119;119;119m]\u001b[0m - Tokens per iteration: \u001b[35m4\u001b[0m,\u001b[35m096\u001b[0m\n",
      "\u001b[38;2;131;131;131m[2023-11-15 09:48:26]\u001b[0m\u001b[34m[INFO]\u001b[0m\u001b[38;2;119;119;119m[configs.py:430\u001b[0m\u001b[38;2;119;119;119m]\u001b[0m - Using \u001b[1m<\u001b[0m\u001b[1;95mtorch.amp.autocast_mode.autocast\u001b[0m\u001b[39m object at \u001b[0m\u001b[35m0x7fcbf3a11930\u001b[0m\u001b[1m>\u001b[0m\n",
      "\u001b[38;2;131;131;131m[2023-11-15 09:48:26]\u001b[0m\u001b[34m[INFO]\u001b[0m\u001b[38;2;119;119;119m[trainer.py:187\u001b[0m\u001b[38;2;119;119;119m]\u001b[0m - Initializing from OpenAI GPT-\u001b[35m2\u001b[0m Weights: gpt2-medium\n"
     ]
    },
    {
     "data": {
      "text/html": [
       "<pre style=\"white-space:pre;overflow-x:auto;line-height:normal;font-family:Menlo,'DejaVu Sans Mono',consolas,'Courier New',monospace\">[2023-11-15 09:48:32,281] [INFO] [real_accelerator.py:158:get_accelerator] Setting ds_accelerator to cuda (auto detect)\n",
       "</pre>\n"
      ],
      "text/plain": [
       "[2023-11-15 09:48:32,281] [INFO] [real_accelerator.py:158:get_accelerator] Setting ds_accelerator to cuda (auto detect)\n"
      ]
     },
     "metadata": {},
     "output_type": "display_data"
    },
    {
     "name": "stdout",
     "output_type": "stream",
     "text": [
      "\u001b[38;2;131;131;131m[2023-11-15 09:48:49]\u001b[0m\u001b[34m[INFO]\u001b[0m\u001b[38;2;119;119;119m[model.py:225\u001b[0m\u001b[38;2;119;119;119m]\u001b[0m - loading weights from pretrained gpt: gpt2-medium\n",
      "\u001b[38;2;131;131;131m[2023-11-15 09:48:49]\u001b[0m\u001b[34m[INFO]\u001b[0m\u001b[38;2;119;119;119m[model.py:234\u001b[0m\u001b[38;2;119;119;119m]\u001b[0m - forcing \u001b[3;94mvocab_size\u001b[0m=\u001b[35m50257\u001b[0m, \u001b[3;94mblock_size\u001b[0m=\u001b[35m1024\u001b[0m, \u001b[3;94mbias\u001b[0m=\u001b[3;92mTrue\u001b[0m\n",
      "\u001b[38;2;131;131;131m[2023-11-15 09:48:49]\u001b[0m\u001b[34m[INFO]\u001b[0m\u001b[38;2;119;119;119m[model.py:240\u001b[0m\u001b[38;2;119;119;119m]\u001b[0m - overriding dropout rate to \u001b[35m0.0\u001b[0m\n",
      "\u001b[38;2;131;131;131m[2023-11-15 09:48:55]\u001b[0m\u001b[34m[INFO]\u001b[0m\u001b[38;2;119;119;119m[model.py:160\u001b[0m\u001b[38;2;119;119;119m]\u001b[0m - number of parameters: \u001b[35m353.\u001b[0m77M\n"
     ]
    },
    {
     "data": {
      "application/vnd.jupyter.widget-view+json": {
       "model_id": "aa7495cd2de246eb8efb7fe1b27ffb0e",
       "version_major": 2,
       "version_minor": 0
      },
      "text/plain": [
       "Downloading (…)lve/main/config.json:   0%|          | 0.00/718 [00:00<?, ?B/s]"
      ]
     },
     "metadata": {},
     "output_type": "display_data"
    },
    {
     "data": {
      "application/vnd.jupyter.widget-view+json": {
       "model_id": "074d0d5e88b74935a8ef4dd073b994c2",
       "version_major": 2,
       "version_minor": 0
      },
      "text/plain": [
       "Downloading (…)\"pytorch_model.bin\";:   0%|          | 0.00/1.52G [00:00<?, ?B/s]"
      ]
     },
     "metadata": {},
     "output_type": "display_data"
    },
    {
     "data": {
      "application/vnd.jupyter.widget-view+json": {
       "model_id": "86871f907ea24745bedf174fc7ddb164",
       "version_major": 2,
       "version_minor": 0
      },
      "text/plain": [
       "Downloading (…)neration_config.json:   0%|          | 0.00/124 [00:00<?, ?B/s]"
      ]
     },
     "metadata": {},
     "output_type": "display_data"
    },
    {
     "name": "stdout",
     "output_type": "stream",
     "text": [
      "\u001b[38;2;131;131;131m[2023-11-15 09:49:16]\u001b[0m\u001b[34m[INFO]\u001b[0m\u001b[38;2;119;119;119m[model.py:290\u001b[0m\u001b[38;2;119;119;119m]\u001b[0m - num decayed parameter tensors: \u001b[35m98\u001b[0m, with \u001b[35m354\u001b[0m,\u001b[35m501\u001b[0m,\u001b[35m632\u001b[0m parameters\n",
      "\u001b[38;2;131;131;131m[2023-11-15 09:49:16]\u001b[0m\u001b[34m[INFO]\u001b[0m\u001b[38;2;119;119;119m[model.py:291\u001b[0m\u001b[38;2;119;119;119m]\u001b[0m - num non-decayed parameter tensors: \u001b[35m194\u001b[0m, with \u001b[35m321\u001b[0m,\u001b[35m536\u001b[0m parameters\n",
      "\u001b[38;2;131;131;131m[2023-11-15 09:49:17]\u001b[0m\u001b[34m[INFO]\u001b[0m\u001b[38;2;119;119;119m[model.py:297\u001b[0m\u001b[38;2;119;119;119m]\u001b[0m - using fused AdamW: \u001b[3;92mTrue\u001b[0m\n"
     ]
    }
   ],
   "source": [
    "import os\n",
    "import numpy as np\n",
    "from ezpz import setup_torch\n",
    "from hydra.utils import instantiate\n",
    "from ngpt.configs import get_config, PROJECT_ROOT\n",
    "from ngpt.trainer import Trainer\n",
    "from enrich.console import get_console\n",
    "\n",
    "console = get_console()\n",
    "HF_DATASETS_CACHE = PROJECT_ROOT.joinpath('.cache', 'huggingface')\n",
    "HF_DATASETS_CACHE.mkdir(exist_ok=True, parents=True)\n",
    "\n",
    "os.environ['MASTER_PORT'] = '5127'\n",
    "os.environ['HF_DATASETS_CACHE'] = HF_DATASETS_CACHE.as_posix()\n",
    "\n",
    "SEED = np.random.randint(2**32)\n",
    "console.log(f'SEED: {SEED}')\n",
    "\n",
    "rank = setup_torch('DDP', seed=1234)\n",
    "cfg = get_config(\n",
    "    [\n",
    "        'data=owt',\n",
    "        'model=gpt2_medium',\n",
    "        'optimizer=gpt2_medium',\n",
    "        'train=gpt2_medium',\n",
    "        'train.dtype=bfloat16',\n",
    "        'train.max_iters=1000',\n",
    "        'train.log_interval=100',\n",
    "        'train.init_from=gpt2-medium',\n",
    "    ]\n",
    ")\n",
    "config = instantiate(cfg)\n",
    "trainer = Trainer(config)"
   ]
  },
  {
   "cell_type": "markdown",
   "id": "3b6d7193-d882-4cb5-b9ad-20813b1a3ea2",
   "metadata": {},
   "source": [
    "## Prompt (**prior** to training)"
   ]
  },
  {
   "cell_type": "code",
   "execution_count": 4,
   "id": "74186534-a25a-4ea6-bcfa-bfe9363b21d9",
   "metadata": {
    "execution": {
     "iopub.execute_input": "2023-11-15T15:49:19.167827Z",
     "iopub.status.busy": "2023-11-15T15:49:19.167430Z",
     "iopub.status.idle": "2023-11-15T15:49:33.810566Z",
     "shell.execute_reply": "2023-11-15T15:49:33.810213Z",
     "shell.execute_reply.started": "2023-11-15T15:49:19.167806Z"
    }
   },
   "outputs": [
    {
     "data": {
      "text/html": [
       "<pre style=\"white-space:pre;overflow-x:auto;line-height:normal;font-family:Menlo,'DejaVu Sans Mono',consolas,'Courier New',monospace\"><span style=\"font-weight: bold\">[</span>prompt<span style=\"font-weight: bold\">]</span>: <span style=\"color: #008000; text-decoration-color: #008000\">\"What is a supercomputer? Explain like I'm a child, and speak clearly. Double check your logic..\"</span>\n",
       "</pre>\n"
      ],
      "text/plain": [
       "\u001b[1m[\u001b[0mprompt\u001b[1m]\u001b[0m: \u001b[32m\"What is a supercomputer? Explain like I'm a child, and speak clearly. Double check your logic..\"\u001b[0m\n"
      ]
     },
     "metadata": {},
     "output_type": "display_data"
    },
    {
     "data": {
      "text/html": [
       "<pre style=\"white-space:pre;overflow-x:auto;line-height:normal;font-family:Menlo,'DejaVu Sans Mono',consolas,'Courier New',monospace\"><span style=\"font-weight: bold\">[</span>response<span style=\"font-weight: bold\">]</span>:\n",
       "\n",
       "What is a supercomputer? Explain like I'm a child, and speak clearly. Double check your logic.. When I ask you to describe your computer, this is what you know: a computer that runs a quantum computer to run a computer program. There are now two supercomputers that can do quantum computations, so how can you explain quantum computing? We will get into what quantum computing is first, and then we are going to talk to you about what is a supercomputer. You will learn how to explain quantum computing to a child, and you will find out that quantum computing is what is called artificial intelligence <span style=\"font-weight: bold\">(</span>AI<span style=\"font-weight: bold\">)</span>. Do you understand quantum computing?\n",
       "\n",
       "Follow up – Answering the Quantum Computing Questions\n",
       "\n",
       "Cognitive scientists are trying to define what is called artificial intelligence <span style=\"font-weight: bold\">(</span>AI<span style=\"font-weight: bold\">)</span>. They are trying to understand what computers can do. At the heart of the argument are the following three questions:\n",
       "\n",
       "What is AI and how does it apply to science?\n",
       "\n",
       "What if I say, <span style=\"color: #008000; text-decoration-color: #008000\">\"A computer can tell me if I am an elf, a lion, a fox, or a squirrel?\"</span>. Can I make a decision?\n",
       "\n",
       "How does AI fit into the human condition?\n",
       "\n",
       "Have you ever thought about what is intelligence? Have you ever wondered, <span style=\"color: #008000; text-decoration-color: #008000\">\"What if I want to create a computer that can build me an AI, and that computer is smarter than me? How will the AI affect my life?\"</span>.\n",
       "\n",
       "Before you even begin…\n",
       "\n",
       "BECAUSE YOU HAVE NOT BEEN PURCHASED\n",
       "\n",
       "This is where you may want to get an answer to a question that you have never had the opportunity to ask, and which is too big to ask right now. Think about it. Will I be able to make decisions? Will I be able to ask questions? Do I have the right to be an AI?\n",
       "\n",
       "With an intelligent AI, you can have the ability to run my brain. You can have your mind, and you can control it. You can control your body, you can control your thoughts, and you can control your actions. That will make you a living being. If you are able to experience the world like the rest of us, you will have a better understanding of what it means to be alive; a living being. You will have the ability to observe, dream, and experience. All this will be possible to you if you are created as an intelligent being.\n",
       "\n",
       "By creating an AI, this will be easier. It will be easy for someone to create an AI, and then run it as if\n",
       "</pre>\n"
      ],
      "text/plain": [
       "\u001b[1m[\u001b[0mresponse\u001b[1m]\u001b[0m:\n",
       "\n",
       "What is a supercomputer? Explain like I'm a child, and speak clearly. Double check your logic.. When I ask you to describe your computer, this is what you know: a computer that runs a quantum computer to run a computer program. There are now two supercomputers that can do quantum computations, so how can you explain quantum computing? We will get into what quantum computing is first, and then we are going to talk to you about what is a supercomputer. You will learn how to explain quantum computing to a child, and you will find out that quantum computing is what is called artificial intelligence \u001b[1m(\u001b[0mAI\u001b[1m)\u001b[0m. Do you understand quantum computing?\n",
       "\n",
       "Follow up – Answering the Quantum Computing Questions\n",
       "\n",
       "Cognitive scientists are trying to define what is called artificial intelligence \u001b[1m(\u001b[0mAI\u001b[1m)\u001b[0m. They are trying to understand what computers can do. At the heart of the argument are the following three questions:\n",
       "\n",
       "What is AI and how does it apply to science?\n",
       "\n",
       "What if I say, \u001b[32m\"A computer can tell me if I am an elf, a lion, a fox, or a squirrel?\"\u001b[0m. Can I make a decision?\n",
       "\n",
       "How does AI fit into the human condition?\n",
       "\n",
       "Have you ever thought about what is intelligence? Have you ever wondered, \u001b[32m\"What if I want to create a computer that can build me an AI, and that computer is smarter than me? How will the AI affect my life?\"\u001b[0m.\n",
       "\n",
       "Before you even begin…\n",
       "\n",
       "BECAUSE YOU HAVE NOT BEEN PURCHASED\n",
       "\n",
       "This is where you may want to get an answer to a question that you have never had the opportunity to ask, and which is too big to ask right now. Think about it. Will I be able to make decisions? Will I be able to ask questions? Do I have the right to be an AI?\n",
       "\n",
       "With an intelligent AI, you can have the ability to run my brain. You can have your mind, and you can control it. You can control your body, you can control your thoughts, and you can control your actions. That will make you a living being. If you are able to experience the world like the rest of us, you will have a better understanding of what it means to be alive; a living being. You will have the ability to observe, dream, and experience. All this will be possible to you if you are created as an intelligent being.\n",
       "\n",
       "By creating an AI, this will be easier. It will be easy for someone to create an AI, and then run it as if\n"
      ]
     },
     "metadata": {},
     "output_type": "display_data"
    }
   ],
   "source": [
    "query = \"What is a supercomputer? Explain like I'm a child, and speak clearly. Double check your logic..\"\n",
    "outputs = trainer.evaluate(query, num_samples=1, display=False)\n",
    "console.print(fr'\\[prompt]: \"{query}\"')\n",
    "console.print(\"\\[response]:\\n\\n\" + fr\"{outputs['0']['raw']}\")"
   ]
  },
  {
   "cell_type": "markdown",
   "id": "c5202ff3-8811-47c9-8b9d-9818d4603697",
   "metadata": {},
   "source": [
    "## Train Model\n",
    "\n",
    "\n",
    "|  **NAME**  |     **DESCRIPTION**          |\n",
    "|:----------:|:----------------------------:|\n",
    "|   `step`   | Current training step        |\n",
    "|   `loss`   | Loss value                   |\n",
    "|   `dt`     | Time per step (in **ms**)    |\n",
    "|   `sps`    | Samples per second           |\n",
    "|   `mtps`   | (million) Tokens per sec     |\n",
    "|   `mfu`    | Model Flops Utilization*     |\n",
    "^Logging Legend\n",
    "\n",
    "*in units of A100 `bfloat16` peak FLOPS"
   ]
  },
  {
   "cell_type": "code",
   "execution_count": 5,
   "id": "acb8d33b-f8c9-41c6-aa61-95bdb76bf6ea",
   "metadata": {
    "execution": {
     "iopub.execute_input": "2023-11-15T15:49:33.811724Z",
     "iopub.status.busy": "2023-11-15T15:49:33.811455Z",
     "iopub.status.idle": "2023-11-15T15:56:38.627670Z",
     "shell.execute_reply": "2023-11-15T15:56:38.627392Z",
     "shell.execute_reply.started": "2023-11-15T15:49:33.811704Z"
    }
   },
   "outputs": [
    {
     "data": {
      "application/vnd.jupyter.widget-view+json": {
       "model_id": "f95371059f5d4a22b1f3053cf72e23af",
       "version_major": 2,
       "version_minor": 0
      },
      "text/plain": [
       "  0%|          | 0/1000 [00:00<?, ?it/s]"
      ]
     },
     "metadata": {},
     "output_type": "display_data"
    },
    {
     "name": "stdout",
     "output_type": "stream",
     "text": [
      "\u001b[38;2;131;131;131m[2023-11-15 09:50:50]\u001b[0m\u001b[34m[INFO]\u001b[0m\u001b[38;2;119;119;119m[trainer.py:516\u001b[0m\u001b[38;2;119;119;119m]\u001b[0m - \u001b[3;94mstep\u001b[0m=\u001b[35m100\u001b[0m \u001b[3;94mloss\u001b[0m=\u001b[35m2\u001b[0m\u001b[35m.791\u001b[0m \u001b[3;94mdt\u001b[0m=\u001b[35m387\u001b[0m\u001b[35m.530\u001b[0m \u001b[3;94msps\u001b[0m=\u001b[35m2\u001b[0m\u001b[35m.580\u001b[0m \u001b[3;94mmtps\u001b[0m=\u001b[35m0\u001b[0m\u001b[35m.011\u001b[0m \u001b[3;94mmfu\u001b[0m=\u001b[35m24\u001b[0m\u001b[35m.642\u001b[0m \u001b[3;94mtrain_loss\u001b[0m=\u001b[35m2\u001b[0m\u001b[35m.837\u001b[0m \u001b[3;94mval_loss\u001b[0m=\u001b[35m2\u001b[0m\u001b[35m.826\u001b[0m\n",
      "\u001b[38;2;131;131;131m[2023-11-15 09:51:28]\u001b[0m\u001b[34m[INFO]\u001b[0m\u001b[38;2;119;119;119m[trainer.py:516\u001b[0m\u001b[38;2;119;119;119m]\u001b[0m - \u001b[3;94mstep\u001b[0m=\u001b[35m200\u001b[0m \u001b[3;94mloss\u001b[0m=\u001b[35m2\u001b[0m\u001b[35m.716\u001b[0m \u001b[3;94mdt\u001b[0m=\u001b[35m375\u001b[0m\u001b[35m.216\u001b[0m \u001b[3;94msps\u001b[0m=\u001b[35m2\u001b[0m\u001b[35m.665\u001b[0m \u001b[3;94mmtps\u001b[0m=\u001b[35m0\u001b[0m\u001b[35m.011\u001b[0m \u001b[3;94mmfu\u001b[0m=\u001b[35m24\u001b[0m\u001b[35m.722\u001b[0m \u001b[3;94mtrain_loss\u001b[0m=\u001b[35m2\u001b[0m\u001b[35m.837\u001b[0m \u001b[3;94mval_loss\u001b[0m=\u001b[35m2\u001b[0m\u001b[35m.826\u001b[0m\n",
      "\u001b[38;2;131;131;131m[2023-11-15 09:52:07]\u001b[0m\u001b[34m[INFO]\u001b[0m\u001b[38;2;119;119;119m[trainer.py:516\u001b[0m\u001b[38;2;119;119;119m]\u001b[0m - \u001b[3;94mstep\u001b[0m=\u001b[35m300\u001b[0m \u001b[3;94mloss\u001b[0m=\u001b[35m2\u001b[0m\u001b[35m.701\u001b[0m \u001b[3;94mdt\u001b[0m=\u001b[35m398\u001b[0m\u001b[35m.145\u001b[0m \u001b[3;94msps\u001b[0m=\u001b[35m2\u001b[0m\u001b[35m.512\u001b[0m \u001b[3;94mmtps\u001b[0m=\u001b[35m0\u001b[0m\u001b[35m.010\u001b[0m \u001b[3;94mmfu\u001b[0m=\u001b[35m24\u001b[0m\u001b[35m.649\u001b[0m \u001b[3;94mtrain_loss\u001b[0m=\u001b[35m2\u001b[0m\u001b[35m.837\u001b[0m \u001b[3;94mval_loss\u001b[0m=\u001b[35m2\u001b[0m\u001b[35m.826\u001b[0m\n",
      "\u001b[38;2;131;131;131m[2023-11-15 09:52:45]\u001b[0m\u001b[34m[INFO]\u001b[0m\u001b[38;2;119;119;119m[trainer.py:516\u001b[0m\u001b[38;2;119;119;119m]\u001b[0m - \u001b[3;94mstep\u001b[0m=\u001b[35m400\u001b[0m \u001b[3;94mloss\u001b[0m=\u001b[35m2\u001b[0m\u001b[35m.858\u001b[0m \u001b[3;94mdt\u001b[0m=\u001b[35m376\u001b[0m\u001b[35m.159\u001b[0m \u001b[3;94msps\u001b[0m=\u001b[35m2\u001b[0m\u001b[35m.658\u001b[0m \u001b[3;94mmtps\u001b[0m=\u001b[35m0\u001b[0m\u001b[35m.011\u001b[0m \u001b[3;94mmfu\u001b[0m=\u001b[35m24\u001b[0m\u001b[35m.722\u001b[0m \u001b[3;94mtrain_loss\u001b[0m=\u001b[35m2\u001b[0m\u001b[35m.837\u001b[0m \u001b[3;94mval_loss\u001b[0m=\u001b[35m2\u001b[0m\u001b[35m.826\u001b[0m\n",
      "\u001b[38;2;131;131;131m[2023-11-15 09:53:24]\u001b[0m\u001b[34m[INFO]\u001b[0m\u001b[38;2;119;119;119m[trainer.py:516\u001b[0m\u001b[38;2;119;119;119m]\u001b[0m - \u001b[3;94mstep\u001b[0m=\u001b[35m500\u001b[0m \u001b[3;94mloss\u001b[0m=\u001b[35m2\u001b[0m\u001b[35m.542\u001b[0m \u001b[3;94mdt\u001b[0m=\u001b[35m422\u001b[0m\u001b[35m.272\u001b[0m \u001b[3;94msps\u001b[0m=\u001b[35m2\u001b[0m\u001b[35m.368\u001b[0m \u001b[3;94mmtps\u001b[0m=\u001b[35m0\u001b[0m\u001b[35m.010\u001b[0m \u001b[3;94mmfu\u001b[0m=\u001b[35m24\u001b[0m\u001b[35m.512\u001b[0m \u001b[3;94mtrain_loss\u001b[0m=\u001b[35m2\u001b[0m\u001b[35m.837\u001b[0m \u001b[3;94mval_loss\u001b[0m=\u001b[35m2\u001b[0m\u001b[35m.826\u001b[0m\n",
      "\u001b[38;2;131;131;131m[2023-11-15 09:54:03]\u001b[0m\u001b[34m[INFO]\u001b[0m\u001b[38;2;119;119;119m[trainer.py:516\u001b[0m\u001b[38;2;119;119;119m]\u001b[0m - \u001b[3;94mstep\u001b[0m=\u001b[35m600\u001b[0m \u001b[3;94mloss\u001b[0m=\u001b[35m2\u001b[0m\u001b[35m.912\u001b[0m \u001b[3;94mdt\u001b[0m=\u001b[35m406\u001b[0m\u001b[35m.393\u001b[0m \u001b[3;94msps\u001b[0m=\u001b[35m2\u001b[0m\u001b[35m.461\u001b[0m \u001b[3;94mmtps\u001b[0m=\u001b[35m0\u001b[0m\u001b[35m.010\u001b[0m \u001b[3;94mmfu\u001b[0m=\u001b[35m24\u001b[0m\u001b[35m.410\u001b[0m \u001b[3;94mtrain_loss\u001b[0m=\u001b[35m2\u001b[0m\u001b[35m.837\u001b[0m \u001b[3;94mval_loss\u001b[0m=\u001b[35m2\u001b[0m\u001b[35m.826\u001b[0m\n",
      "\u001b[38;2;131;131;131m[2023-11-15 09:54:42]\u001b[0m\u001b[34m[INFO]\u001b[0m\u001b[38;2;119;119;119m[trainer.py:516\u001b[0m\u001b[38;2;119;119;119m]\u001b[0m - \u001b[3;94mstep\u001b[0m=\u001b[35m700\u001b[0m \u001b[3;94mloss\u001b[0m=\u001b[35m2\u001b[0m\u001b[35m.862\u001b[0m \u001b[3;94mdt\u001b[0m=\u001b[35m369\u001b[0m\u001b[35m.661\u001b[0m \u001b[3;94msps\u001b[0m=\u001b[35m2\u001b[0m\u001b[35m.705\u001b[0m \u001b[3;94mmtps\u001b[0m=\u001b[35m0\u001b[0m\u001b[35m.011\u001b[0m \u001b[3;94mmfu\u001b[0m=\u001b[35m24\u001b[0m\u001b[35m.552\u001b[0m \u001b[3;94mtrain_loss\u001b[0m=\u001b[35m2\u001b[0m\u001b[35m.837\u001b[0m \u001b[3;94mval_loss\u001b[0m=\u001b[35m2\u001b[0m\u001b[35m.826\u001b[0m\n",
      "\u001b[38;2;131;131;131m[2023-11-15 09:55:21]\u001b[0m\u001b[34m[INFO]\u001b[0m\u001b[38;2;119;119;119m[trainer.py:516\u001b[0m\u001b[38;2;119;119;119m]\u001b[0m - \u001b[3;94mstep\u001b[0m=\u001b[35m800\u001b[0m \u001b[3;94mloss\u001b[0m=\u001b[35m2\u001b[0m\u001b[35m.849\u001b[0m \u001b[3;94mdt\u001b[0m=\u001b[35m336\u001b[0m\u001b[35m.193\u001b[0m \u001b[3;94msps\u001b[0m=\u001b[35m2\u001b[0m\u001b[35m.974\u001b[0m \u001b[3;94mmtps\u001b[0m=\u001b[35m0\u001b[0m\u001b[35m.012\u001b[0m \u001b[3;94mmfu\u001b[0m=\u001b[35m24\u001b[0m\u001b[35m.938\u001b[0m \u001b[3;94mtrain_loss\u001b[0m=\u001b[35m2\u001b[0m\u001b[35m.837\u001b[0m \u001b[3;94mval_loss\u001b[0m=\u001b[35m2\u001b[0m\u001b[35m.826\u001b[0m\n",
      "\u001b[38;2;131;131;131m[2023-11-15 09:56:00]\u001b[0m\u001b[34m[INFO]\u001b[0m\u001b[38;2;119;119;119m[trainer.py:516\u001b[0m\u001b[38;2;119;119;119m]\u001b[0m - \u001b[3;94mstep\u001b[0m=\u001b[35m900\u001b[0m \u001b[3;94mloss\u001b[0m=\u001b[35m2\u001b[0m\u001b[35m.586\u001b[0m \u001b[3;94mdt\u001b[0m=\u001b[35m387\u001b[0m\u001b[35m.251\u001b[0m \u001b[3;94msps\u001b[0m=\u001b[35m2\u001b[0m\u001b[35m.582\u001b[0m \u001b[3;94mmtps\u001b[0m=\u001b[35m0\u001b[0m\u001b[35m.011\u001b[0m \u001b[3;94mmfu\u001b[0m=\u001b[35m24\u001b[0m\u001b[35m.910\u001b[0m \u001b[3;94mtrain_loss\u001b[0m=\u001b[35m2\u001b[0m\u001b[35m.837\u001b[0m \u001b[3;94mval_loss\u001b[0m=\u001b[35m2\u001b[0m\u001b[35m.826\u001b[0m\n",
      "\u001b[38;2;131;131;131m[2023-11-15 09:56:38]\u001b[0m\u001b[34m[INFO]\u001b[0m\u001b[38;2;119;119;119m[trainer.py:516\u001b[0m\u001b[38;2;119;119;119m]\u001b[0m - \u001b[3;94mstep\u001b[0m=\u001b[35m1000\u001b[0m \u001b[3;94mloss\u001b[0m=\u001b[35m2\u001b[0m\u001b[35m.763\u001b[0m \u001b[3;94mdt\u001b[0m=\u001b[35m373\u001b[0m\u001b[35m.859\u001b[0m \u001b[3;94msps\u001b[0m=\u001b[35m2\u001b[0m\u001b[35m.675\u001b[0m \u001b[3;94mmtps\u001b[0m=\u001b[35m0\u001b[0m\u001b[35m.011\u001b[0m \u001b[3;94mmfu\u001b[0m=\u001b[35m24\u001b[0m\u001b[35m.973\u001b[0m \u001b[3;94mtrain_loss\u001b[0m=\u001b[35m2\u001b[0m\u001b[35m.837\u001b[0m \u001b[3;94mval_loss\u001b[0m=\u001b[35m2\u001b[0m\u001b[35m.826\u001b[0m\n"
     ]
    }
   ],
   "source": [
    "trainer.model.module.train()\n",
    "trainer.train()"
   ]
  },
  {
   "cell_type": "markdown",
   "id": "aa5c0c5a-539a-462d-a9e3-0655e8e48d85",
   "metadata": {},
   "source": [
    "## Evaluate Model"
   ]
  },
  {
   "cell_type": "code",
   "execution_count": 6,
   "id": "e9dc8564-b518-4ad4-bf7a-7c1120416765",
   "metadata": {
    "execution": {
     "iopub.execute_input": "2023-11-15T15:56:38.629304Z",
     "iopub.status.busy": "2023-11-15T15:56:38.629112Z",
     "iopub.status.idle": "2023-11-15T15:56:52.455378Z",
     "shell.execute_reply": "2023-11-15T15:56:52.455114Z",
     "shell.execute_reply.started": "2023-11-15T15:56:38.629286Z"
    }
   },
   "outputs": [
    {
     "data": {
      "text/html": [
       "<pre style=\"white-space:pre;overflow-x:auto;line-height:normal;font-family:Menlo,'DejaVu Sans Mono',consolas,'Courier New',monospace\"><span style=\"font-weight: bold\">[</span>prompt<span style=\"font-weight: bold\">]</span>: <span style=\"color: #008000; text-decoration-color: #008000\">\"What is a supercomputer? Explain like I'm a child, and speak clearly. Double check your logic..\"</span>\n",
       "</pre>\n"
      ],
      "text/plain": [
       "\u001b[1m[\u001b[0mprompt\u001b[1m]\u001b[0m: \u001b[32m\"What is a supercomputer? Explain like I'm a child, and speak clearly. Double check your logic..\"\u001b[0m\n"
      ]
     },
     "metadata": {},
     "output_type": "display_data"
    },
    {
     "data": {
      "text/html": [
       "<pre style=\"white-space:pre;overflow-x:auto;line-height:normal;font-family:Menlo,'DejaVu Sans Mono',consolas,'Courier New',monospace\"><span style=\"font-weight: bold\">[</span>response<span style=\"font-weight: bold\">]</span>:\n",
       "\n",
       "What is a supercomputer? Explain like I'm a child, and speak clearly. Double check your logic.. Does it say that when you say <span style=\"color: #008000; text-decoration-color: #008000\">\"I want to be famous\"</span> that you should be famous as a songwriter too? Does it say that you should have a place in your life or in an organization? Is it saying that you should be regarded as a <span style=\"color: #008000; text-decoration-color: #008000\">\"supercomputer\"</span> and have access to the best software on earth?\n",
       "\n",
       "Is it saying that you are a computer programmer?\n",
       "\n",
       "Does it say <span style=\"color: #008000; text-decoration-color: #008000\">\"you are a computer scientist\"</span>?\n",
       "\n",
       "Does it say <span style=\"color: #008000; text-decoration-color: #008000\">\"you are a computer scientist\"</span>?\n",
       "\n",
       "Does it say <span style=\"color: #008000; text-decoration-color: #008000\">\"you are a computer programmer\"</span>?\n",
       "\n",
       "Does it say <span style=\"color: #008000; text-decoration-color: #008000\">\"you are a computer programmer\"</span>?\n",
       "\n",
       "Does it say <span style=\"color: #008000; text-decoration-color: #008000\">\"you are a computer programmer\"</span>?\n",
       "\n",
       "Does it say <span style=\"color: #008000; text-decoration-color: #008000\">\"you are a computer programmer\"</span>?\n",
       "\n",
       "Does it say <span style=\"color: #008000; text-decoration-color: #008000\">\"you are a computer programmer\"</span>?\n",
       "\n",
       "Does it say <span style=\"color: #008000; text-decoration-color: #008000\">\"you are a computer programmer\"</span>?\n",
       "\n",
       "Does it say <span style=\"color: #008000; text-decoration-color: #008000\">\"you are a computer programmer\"</span>?\n",
       "\n",
       "Does it say <span style=\"color: #008000; text-decoration-color: #008000\">\"you are a computer programmer?\"</span>\n",
       "\n",
       " does it say <span style=\"color: #008000; text-decoration-color: #008000\">\"you are a computer programmer?\"</span>\n",
       "\n",
       "does it say <span style=\"color: #008000; text-decoration-color: #008000\">\"you are a computer programmer?\"</span>\n",
       "\n",
       "Does it say <span style=\"color: #008000; text-decoration-color: #008000\">\"you are a computer programmer\"</span>?\n",
       "\n",
       "Does it say <span style=\"color: #008000; text-decoration-color: #008000\">\"you are a computer programmer\"</span>?\n",
       "\n",
       "Does it say <span style=\"color: #008000; text-decoration-color: #008000\">\"you are a computer programmer\"</span>?\n",
       "\n",
       "Does it say <span style=\"color: #008000; text-decoration-color: #008000\">\"you are a computer programmer\"</span>?\n",
       "\n",
       "Does it say <span style=\"color: #008000; text-decoration-color: #008000\">\"you are a computer programmer\"</span>?\n",
       "\n",
       "Does it say <span style=\"color: #008000; text-decoration-color: #008000\">\"you are a computer programmer\"</span>?\n",
       "\n",
       "Does it say <span style=\"color: #008000; text-decoration-color: #008000\">\"you are a computer programmer\"</span>?\n",
       "\n",
       "Does it say <span style=\"color: #008000; text-decoration-color: #008000\">\"you are a computer programmer?\"</span>\n",
       "\n",
       "Does it say <span style=\"color: #008000; text-decoration-color: #008000\">\"you are a computer programmer?\"</span>\n",
       "\n",
       "Does it say <span style=\"color: #008000; text-decoration-color: #008000\">\"you are a computer programmer\"</span>?\n",
       "\n",
       "Does it say <span style=\"color: #008000; text-decoration-color: #008000\">\"you are a computer programmer\"</span>?\n",
       "\n",
       "Does it say <span style=\"color: #008000; text-decoration-color: #008000\">\"you are a computer programmer?\"</span>\n",
       "\n",
       "Does it say <span style=\"color: #008000; text-decoration-color: #008000\">\"you are a computer programmer\"</span>?\n",
       "\n",
       "Does it say <span style=\"color: #008000; text-decoration-color: #008000\">\"you are a computer programmer\"</span>?\n",
       "\n",
       "Does it say <span style=\"color: #008000; text-decoration-color: #008000\">\"you are a computer programmer?\"</span>\n",
       "\n",
       "Does it say <span style=\"color: #008000; text-decoration-color: #008000\">\"you are a computer programmer?\"</span>\n",
       "\n",
       "Does it say <span style=\"color: #008000; text-decoration-color: #008000\">\"you are a computer programmer?\"</span>\n",
       "\n",
       "Does it say <span style=\"color: #008000; text-decoration-color: #008000\">\"you are a computer programmer\"</span>?\n",
       "\n",
       "Does it say <span style=\"color: #008000; text-decoration-color: #008000\">\"you are a computer programmer?\"</span>\n",
       "\n",
       "Does it say <span style=\"color: #008000; text-decoration-color: #008000\">\"you are a computer programmer\"</span>?<span style=\"color: #008000; text-decoration-color: #008000\">\" Doesn it say \"</span>you are a computer programmer?\"\n",
       "\n",
       "Does it say <span style=\"color: #008000; text-decoration-color: #008000\">\"you are a computer programmer?\"</span>\n",
       "\n",
       "Does it say <span style=\"color: #008000; text-decoration-color: #008000\">\"you are a computer programmer?\"</span>\n",
       "\n",
       "Does\n",
       "</pre>\n"
      ],
      "text/plain": [
       "\u001b[1m[\u001b[0mresponse\u001b[1m]\u001b[0m:\n",
       "\n",
       "What is a supercomputer? Explain like I'm a child, and speak clearly. Double check your logic.. Does it say that when you say \u001b[32m\"I want to be famous\"\u001b[0m that you should be famous as a songwriter too? Does it say that you should have a place in your life or in an organization? Is it saying that you should be regarded as a \u001b[32m\"supercomputer\"\u001b[0m and have access to the best software on earth?\n",
       "\n",
       "Is it saying that you are a computer programmer?\n",
       "\n",
       "Does it say \u001b[32m\"you are a computer scientist\"\u001b[0m?\n",
       "\n",
       "Does it say \u001b[32m\"you are a computer scientist\"\u001b[0m?\n",
       "\n",
       "Does it say \u001b[32m\"you are a computer programmer\"\u001b[0m?\n",
       "\n",
       "Does it say \u001b[32m\"you are a computer programmer\"\u001b[0m?\n",
       "\n",
       "Does it say \u001b[32m\"you are a computer programmer\"\u001b[0m?\n",
       "\n",
       "Does it say \u001b[32m\"you are a computer programmer\"\u001b[0m?\n",
       "\n",
       "Does it say \u001b[32m\"you are a computer programmer\"\u001b[0m?\n",
       "\n",
       "Does it say \u001b[32m\"you are a computer programmer\"\u001b[0m?\n",
       "\n",
       "Does it say \u001b[32m\"you are a computer programmer\"\u001b[0m?\n",
       "\n",
       "Does it say \u001b[32m\"you are a computer programmer?\"\u001b[0m\n",
       "\n",
       " does it say \u001b[32m\"you are a computer programmer?\"\u001b[0m\n",
       "\n",
       "does it say \u001b[32m\"you are a computer programmer?\"\u001b[0m\n",
       "\n",
       "Does it say \u001b[32m\"you are a computer programmer\"\u001b[0m?\n",
       "\n",
       "Does it say \u001b[32m\"you are a computer programmer\"\u001b[0m?\n",
       "\n",
       "Does it say \u001b[32m\"you are a computer programmer\"\u001b[0m?\n",
       "\n",
       "Does it say \u001b[32m\"you are a computer programmer\"\u001b[0m?\n",
       "\n",
       "Does it say \u001b[32m\"you are a computer programmer\"\u001b[0m?\n",
       "\n",
       "Does it say \u001b[32m\"you are a computer programmer\"\u001b[0m?\n",
       "\n",
       "Does it say \u001b[32m\"you are a computer programmer\"\u001b[0m?\n",
       "\n",
       "Does it say \u001b[32m\"you are a computer programmer?\"\u001b[0m\n",
       "\n",
       "Does it say \u001b[32m\"you are a computer programmer?\"\u001b[0m\n",
       "\n",
       "Does it say \u001b[32m\"you are a computer programmer\"\u001b[0m?\n",
       "\n",
       "Does it say \u001b[32m\"you are a computer programmer\"\u001b[0m?\n",
       "\n",
       "Does it say \u001b[32m\"you are a computer programmer?\"\u001b[0m\n",
       "\n",
       "Does it say \u001b[32m\"you are a computer programmer\"\u001b[0m?\n",
       "\n",
       "Does it say \u001b[32m\"you are a computer programmer\"\u001b[0m?\n",
       "\n",
       "Does it say \u001b[32m\"you are a computer programmer?\"\u001b[0m\n",
       "\n",
       "Does it say \u001b[32m\"you are a computer programmer?\"\u001b[0m\n",
       "\n",
       "Does it say \u001b[32m\"you are a computer programmer?\"\u001b[0m\n",
       "\n",
       "Does it say \u001b[32m\"you are a computer programmer\"\u001b[0m?\n",
       "\n",
       "Does it say \u001b[32m\"you are a computer programmer?\"\u001b[0m\n",
       "\n",
       "Does it say \u001b[32m\"you are a computer programmer\"\u001b[0m?\u001b[32m\" Doesn it say \"\u001b[0myou are a computer programmer?\"\n",
       "\n",
       "Does it say \u001b[32m\"you are a computer programmer?\"\u001b[0m\n",
       "\n",
       "Does it say \u001b[32m\"you are a computer programmer?\"\u001b[0m\n",
       "\n",
       "Does\n"
      ]
     },
     "metadata": {},
     "output_type": "display_data"
    }
   ],
   "source": [
    "query = \"What is a supercomputer? Explain like I'm a child, and speak clearly. Double check your logic..\"\n",
    "outputs = trainer.evaluate(query, num_samples=1, display=False)\n",
    "console.print(fr'\\[prompt]: \"{query}\"')\n",
    "console.print(\"\\[response]:\\n\\n\" + fr\"{outputs['0']['raw']}\")"
   ]
  },
  {
   "cell_type": "markdown",
   "id": "4198594a-58d9-40b7-9c53-b0374bbbc1b2",
   "metadata": {},
   "source": [
    "## Train a bit more??"
   ]
  },
  {
   "cell_type": "code",
   "execution_count": 7,
   "id": "048cf44e-2070-4877-9232-d9ac1bb1740a",
   "metadata": {
    "execution": {
     "iopub.execute_input": "2023-11-15T15:57:55.394204Z",
     "iopub.status.busy": "2023-11-15T15:57:55.394006Z",
     "iopub.status.idle": "2023-11-15T16:06:44.242222Z",
     "shell.execute_reply": "2023-11-15T16:06:44.241905Z",
     "shell.execute_reply.started": "2023-11-15T15:57:55.394186Z"
    }
   },
   "outputs": [
    {
     "data": {
      "text/html": [
       "<pre style=\"white-space:pre;overflow-x:auto;line-height:normal;font-family:Menlo,'DejaVu Sans Mono',consolas,'Courier New',monospace\"><span style=\"color: #00ff00; text-decoration-color: #00ff00\">───────────────────────────────────────────────────── </span>iter: <span style=\"color: #800080; text-decoration-color: #800080\">0</span><span style=\"color: #00ff00; text-decoration-color: #00ff00\"> ─────────────────────────────────────────────────────</span>\n",
       "</pre>\n"
      ],
      "text/plain": [
       "\u001b[92m───────────────────────────────────────────────────── \u001b[0miter: \u001b[35m0\u001b[0m\u001b[92m ─────────────────────────────────────────────────────\u001b[0m\n"
      ]
     },
     "metadata": {},
     "output_type": "display_data"
    },
    {
     "data": {
      "application/vnd.jupyter.widget-view+json": {
       "model_id": "adb199ac3fb946e2839a2b864a345cdc",
       "version_major": 2,
       "version_minor": 0
      },
      "text/plain": [
       "  0%|          | 0/100 [00:00<?, ?it/s]"
      ]
     },
     "metadata": {},
     "output_type": "display_data"
    },
    {
     "name": "stdout",
     "output_type": "stream",
     "text": [
      "\u001b[38;2;131;131;131m[2023-11-15 09:58:35]\u001b[0m\u001b[34m[INFO]\u001b[0m\u001b[38;2;119;119;119m[trainer.py:516\u001b[0m\u001b[38;2;119;119;119m]\u001b[0m - \u001b[3;94mstep\u001b[0m=\u001b[35m1100\u001b[0m \u001b[3;94mloss\u001b[0m=\u001b[35m2\u001b[0m\u001b[35m.939\u001b[0m \u001b[3;94mdt\u001b[0m=\u001b[35m356\u001b[0m\u001b[35m.182\u001b[0m \u001b[3;94msps\u001b[0m=\u001b[35m2\u001b[0m\u001b[35m.808\u001b[0m \u001b[3;94mmtps\u001b[0m=\u001b[35m0\u001b[0m\u001b[35m.011\u001b[0m \u001b[3;94mmfu\u001b[0m=\u001b[35m26\u001b[0m\u001b[35m.810\u001b[0m \u001b[3;94mtrain_loss\u001b[0m=\u001b[35m0\u001b[0m\u001b[35m.000\u001b[0m \u001b[3;94mval_loss\u001b[0m=\u001b[35m0\u001b[0m\u001b[35m.000\u001b[0m\n"
     ]
    },
    {
     "data": {
      "text/html": [
       "<pre style=\"white-space:pre;overflow-x:auto;line-height:normal;font-family:Menlo,'DejaVu Sans Mono',consolas,'Courier New',monospace\"><span style=\"font-weight: bold\">[</span>prompt<span style=\"font-weight: bold\">]</span>: <span style=\"color: #008000; text-decoration-color: #008000\">\"What is a supercomputer?\"</span>\n",
       "</pre>\n"
      ],
      "text/plain": [
       "\u001b[1m[\u001b[0mprompt\u001b[1m]\u001b[0m: \u001b[32m\"What is a supercomputer?\"\u001b[0m\n"
      ]
     },
     "metadata": {},
     "output_type": "display_data"
    },
    {
     "data": {
      "text/html": [
       "<pre style=\"white-space:pre;overflow-x:auto;line-height:normal;font-family:Menlo,'DejaVu Sans Mono',consolas,'Courier New',monospace\"><span style=\"font-weight: bold\">[</span>response<span style=\"font-weight: bold\">]</span>:\n",
       "\n",
       "What is a supercomputer?\n",
       "\n",
       "A supercomputer consists of two parts: “a processor and a network of interconnected graphics processors, called supercomputers,” said Richard Andrews, a computer scientist at the University of Edinburgh.\n",
       "\n",
       "Image copyright PA Image caption The first three are the biggest computers in the world, but they’re all fitted with a touchscreen\n",
       "\n",
       "The processor is a small computer, usually a single-core one. Usually it is made of silicon and it’s the first, and most expensive, part of the complex system. The other two parts of the system are: a chip to power the processor and a memory and software stack to allow for the system to interact on the internet.\n",
       "\n",
       "The first is the processor. It runs a complex combination of algorithms. These algorithms work to compress higher-level data, but also do some processing to understand the lower levels of the system.\n",
       "\n",
       "According to the Oxford computer science textbook, algorithms are:\n",
       "\n",
       "It’s a special structure which allows a system to achieve a particular level of efficiency, such as a faster processor or a faster system of atoms or molecules.\n",
       "\n",
       "Researchers use algorithms to implement certain types of systems like computers or medicine. But a supercomputer can also work faster, or faster, to solve problems.\n",
       "\n",
       "Image copyright PA Image caption The supercomputer in the US can run things like social networks and video games\n",
       "\n",
       "A supercomputer has a processor inside, but there is also a memory and software to process it. This allows a system to do something faster. This is called a supercomputer’s memory.\n",
       "\n",
       "Image copyright Getty Images Image caption Computing power has increased, but it’s also improved the power of computers in recent years\n",
       "\n",
       "The second piece of the system is the computer network. This is a computer system that works together to perform calculations.\n",
       "\n",
       "This is a huge system. It is where all the computers in the world - computers in different countries, continents and different time zones - work together.\n",
       "\n",
       "The network works and converts the data on the computers into calculations. This is the core of a supercomputer.\n",
       "\n",
       "What goes on inside a supercomputer?\n",
       "\n",
       "Image copyright PA Image caption The supercomputer works together to work out human intelligence\n",
       "\n",
       "It can interact with the computer network via a touchscreen.\n",
       "\n",
       "The other pieces of the system are:\n",
       "\n",
       "A computer system can send and receive data through a touchscreen. It is\n",
       "</pre>\n"
      ],
      "text/plain": [
       "\u001b[1m[\u001b[0mresponse\u001b[1m]\u001b[0m:\n",
       "\n",
       "What is a supercomputer?\n",
       "\n",
       "A supercomputer consists of two parts: “a processor and a network of interconnected graphics processors, called supercomputers,” said Richard Andrews, a computer scientist at the University of Edinburgh.\n",
       "\n",
       "Image copyright PA Image caption The first three are the biggest computers in the world, but they’re all fitted with a touchscreen\n",
       "\n",
       "The processor is a small computer, usually a single-core one. Usually it is made of silicon and it’s the first, and most expensive, part of the complex system. The other two parts of the system are: a chip to power the processor and a memory and software stack to allow for the system to interact on the internet.\n",
       "\n",
       "The first is the processor. It runs a complex combination of algorithms. These algorithms work to compress higher-level data, but also do some processing to understand the lower levels of the system.\n",
       "\n",
       "According to the Oxford computer science textbook, algorithms are:\n",
       "\n",
       "It’s a special structure which allows a system to achieve a particular level of efficiency, such as a faster processor or a faster system of atoms or molecules.\n",
       "\n",
       "Researchers use algorithms to implement certain types of systems like computers or medicine. But a supercomputer can also work faster, or faster, to solve problems.\n",
       "\n",
       "Image copyright PA Image caption The supercomputer in the US can run things like social networks and video games\n",
       "\n",
       "A supercomputer has a processor inside, but there is also a memory and software to process it. This allows a system to do something faster. This is called a supercomputer’s memory.\n",
       "\n",
       "Image copyright Getty Images Image caption Computing power has increased, but it’s also improved the power of computers in recent years\n",
       "\n",
       "The second piece of the system is the computer network. This is a computer system that works together to perform calculations.\n",
       "\n",
       "This is a huge system. It is where all the computers in the world - computers in different countries, continents and different time zones - work together.\n",
       "\n",
       "The network works and converts the data on the computers into calculations. This is the core of a supercomputer.\n",
       "\n",
       "What goes on inside a supercomputer?\n",
       "\n",
       "Image copyright PA Image caption The supercomputer works together to work out human intelligence\n",
       "\n",
       "It can interact with the computer network via a touchscreen.\n",
       "\n",
       "The other pieces of the system are:\n",
       "\n",
       "A computer system can send and receive data through a touchscreen. It is\n"
      ]
     },
     "metadata": {},
     "output_type": "display_data"
    },
    {
     "data": {
      "text/html": [
       "<pre style=\"white-space:pre;overflow-x:auto;line-height:normal;font-family:Menlo,'DejaVu Sans Mono',consolas,'Courier New',monospace\"><span style=\"color: #00ff00; text-decoration-color: #00ff00\">───────────────────────────────────────────────────────────────────────────────────────────────────────────────────</span>\n",
       "</pre>\n"
      ],
      "text/plain": [
       "\u001b[92m───────────────────────────────────────────────────────────────────────────────────────────────────────────────────\u001b[0m\n"
      ]
     },
     "metadata": {},
     "output_type": "display_data"
    },
    {
     "data": {
      "text/html": [
       "<pre style=\"white-space:pre;overflow-x:auto;line-height:normal;font-family:Menlo,'DejaVu Sans Mono',consolas,'Courier New',monospace\"><span style=\"color: #00ff00; text-decoration-color: #00ff00\">───────────────────────────────────────────────────── </span>iter: <span style=\"color: #800080; text-decoration-color: #800080\">1</span><span style=\"color: #00ff00; text-decoration-color: #00ff00\"> ─────────────────────────────────────────────────────</span>\n",
       "</pre>\n"
      ],
      "text/plain": [
       "\u001b[92m───────────────────────────────────────────────────── \u001b[0miter: \u001b[35m1\u001b[0m\u001b[92m ─────────────────────────────────────────────────────\u001b[0m\n"
      ]
     },
     "metadata": {},
     "output_type": "display_data"
    },
    {
     "data": {
      "application/vnd.jupyter.widget-view+json": {
       "model_id": "a036290f2bc642ca849da87cd56c34be",
       "version_major": 2,
       "version_minor": 0
      },
      "text/plain": [
       "  0%|          | 0/100 [00:00<?, ?it/s]"
      ]
     },
     "metadata": {},
     "output_type": "display_data"
    },
    {
     "name": "stdout",
     "output_type": "stream",
     "text": [
      "\u001b[38;2;131;131;131m[2023-11-15 09:59:28]\u001b[0m\u001b[34m[INFO]\u001b[0m\u001b[38;2;119;119;119m[trainer.py:516\u001b[0m\u001b[38;2;119;119;119m]\u001b[0m - \u001b[3;94mstep\u001b[0m=\u001b[35m1200\u001b[0m \u001b[3;94mloss\u001b[0m=\u001b[35m2\u001b[0m\u001b[35m.907\u001b[0m \u001b[3;94mdt\u001b[0m=\u001b[35m400\u001b[0m\u001b[35m.617\u001b[0m \u001b[3;94msps\u001b[0m=\u001b[35m2\u001b[0m\u001b[35m.496\u001b[0m \u001b[3;94mmtps\u001b[0m=\u001b[35m0\u001b[0m\u001b[35m.010\u001b[0m \u001b[3;94mmfu\u001b[0m=\u001b[35m23\u001b[0m\u001b[35m.837\u001b[0m \u001b[3;94mtrain_loss\u001b[0m=\u001b[35m0\u001b[0m\u001b[35m.000\u001b[0m \u001b[3;94mval_loss\u001b[0m=\u001b[35m0\u001b[0m\u001b[35m.000\u001b[0m\n"
     ]
    },
    {
     "data": {
      "text/html": [
       "<pre style=\"white-space:pre;overflow-x:auto;line-height:normal;font-family:Menlo,'DejaVu Sans Mono',consolas,'Courier New',monospace\"><span style=\"font-weight: bold\">[</span>prompt<span style=\"font-weight: bold\">]</span>: <span style=\"color: #008000; text-decoration-color: #008000\">\"What is a supercomputer?\"</span>\n",
       "</pre>\n"
      ],
      "text/plain": [
       "\u001b[1m[\u001b[0mprompt\u001b[1m]\u001b[0m: \u001b[32m\"What is a supercomputer?\"\u001b[0m\n"
      ]
     },
     "metadata": {},
     "output_type": "display_data"
    },
    {
     "data": {
      "text/html": [
       "<pre style=\"white-space:pre;overflow-x:auto;line-height:normal;font-family:Menlo,'DejaVu Sans Mono',consolas,'Courier New',monospace\"><span style=\"font-weight: bold\">[</span>response<span style=\"font-weight: bold\">]</span>:\n",
       "\n",
       "What is a supercomputer?\n",
       "\n",
       "One supercomputer is a super computer that is capable of the supercomputing of supercomputers and other machines.\n",
       "\n",
       "Where is the supercomputer on the circuit?\n",
       "\n",
       "The supercomputer is made up of several supercomputers.\n",
       "\n",
       "A supercomputer is the most advanced computer that has ever been built.\n",
       "\n",
       "It is so powerful that it can do so much work.\n",
       "\n",
       "It is the highest powered supercomputer.\n",
       "\n",
       "It is very powerful.\n",
       "\n",
       "It can do so much.\n",
       "\n",
       "It is capable of doing so much.\n",
       "\n",
       "It is supercomputer.\n",
       "\n",
       "It is supercomputer.\n",
       "\n",
       "It is supercomputer.\n",
       "\n",
       "It is supercomputer.\n",
       "\n",
       "It is supercomputer.\n",
       "\n",
       "Supercomputer.\n",
       "\n",
       "If you want a break-down of what a supercomputer is, read this.\n",
       "\n",
       "You might also want to read this.\n",
       "\n",
       "The diagram below shows that the supercomputer is connected to the circuit.\n",
       "\n",
       "What does that diagram look like?\n",
       "\n",
       "A pretty huge diagram, right? Well, it's a diagram that even the best supercomputer doesn't have. It is a diagram that only the best supercomputer has.\n",
       "\n",
       "And that is why it's called a diagram.\n",
       "\n",
       "It is called a diagram.\n",
       "\n",
       "A diagram is an electrical diagram.\n",
       "\n",
       "The diagram on the circuit has an electrical diagram of it's components.\n",
       "\n",
       "When you see an electrical diagram it means the diagram on the circuit has an electrical diagram of it's components.\n",
       "\n",
       "This diagram doesn't imply that the components on the circuit are connected.\n",
       "\n",
       "It just means that the diagram on the circuit has an electrical diagram of it's components.\n",
       "\n",
       "This diagram doesn't imply that the components on the circuit are connected.\n",
       "\n",
       "It just means that the diagram on the circuit has an electrical diagram of it's components.\n",
       "\n",
       "The diagram on the circuit has an electrical diagram of it's components.\n",
       "\n",
       "The diagram on the circuit has an electrical diagram of it's components.\n",
       "\n",
       "The diagram on the circuit has an electrical diagram of it's components.\n",
       "\n",
       "The diagram on the circuit has an electrical diagram of it's components.\n",
       "\n",
       "The diagram on the circuit has an electrical diagram of it's components.\n",
       "\n",
       "This diagram doesn't imply that the components on the circuit are connected.\n",
       "\n",
       "It just means that the diagram on the circuit has an electrical diagram of it\n",
       "</pre>\n"
      ],
      "text/plain": [
       "\u001b[1m[\u001b[0mresponse\u001b[1m]\u001b[0m:\n",
       "\n",
       "What is a supercomputer?\n",
       "\n",
       "One supercomputer is a super computer that is capable of the supercomputing of supercomputers and other machines.\n",
       "\n",
       "Where is the supercomputer on the circuit?\n",
       "\n",
       "The supercomputer is made up of several supercomputers.\n",
       "\n",
       "A supercomputer is the most advanced computer that has ever been built.\n",
       "\n",
       "It is so powerful that it can do so much work.\n",
       "\n",
       "It is the highest powered supercomputer.\n",
       "\n",
       "It is very powerful.\n",
       "\n",
       "It can do so much.\n",
       "\n",
       "It is capable of doing so much.\n",
       "\n",
       "It is supercomputer.\n",
       "\n",
       "It is supercomputer.\n",
       "\n",
       "It is supercomputer.\n",
       "\n",
       "It is supercomputer.\n",
       "\n",
       "It is supercomputer.\n",
       "\n",
       "Supercomputer.\n",
       "\n",
       "If you want a break-down of what a supercomputer is, read this.\n",
       "\n",
       "You might also want to read this.\n",
       "\n",
       "The diagram below shows that the supercomputer is connected to the circuit.\n",
       "\n",
       "What does that diagram look like?\n",
       "\n",
       "A pretty huge diagram, right? Well, it's a diagram that even the best supercomputer doesn't have. It is a diagram that only the best supercomputer has.\n",
       "\n",
       "And that is why it's called a diagram.\n",
       "\n",
       "It is called a diagram.\n",
       "\n",
       "A diagram is an electrical diagram.\n",
       "\n",
       "The diagram on the circuit has an electrical diagram of it's components.\n",
       "\n",
       "When you see an electrical diagram it means the diagram on the circuit has an electrical diagram of it's components.\n",
       "\n",
       "This diagram doesn't imply that the components on the circuit are connected.\n",
       "\n",
       "It just means that the diagram on the circuit has an electrical diagram of it's components.\n",
       "\n",
       "This diagram doesn't imply that the components on the circuit are connected.\n",
       "\n",
       "It just means that the diagram on the circuit has an electrical diagram of it's components.\n",
       "\n",
       "The diagram on the circuit has an electrical diagram of it's components.\n",
       "\n",
       "The diagram on the circuit has an electrical diagram of it's components.\n",
       "\n",
       "The diagram on the circuit has an electrical diagram of it's components.\n",
       "\n",
       "The diagram on the circuit has an electrical diagram of it's components.\n",
       "\n",
       "The diagram on the circuit has an electrical diagram of it's components.\n",
       "\n",
       "This diagram doesn't imply that the components on the circuit are connected.\n",
       "\n",
       "It just means that the diagram on the circuit has an electrical diagram of it\n"
      ]
     },
     "metadata": {},
     "output_type": "display_data"
    },
    {
     "data": {
      "text/html": [
       "<pre style=\"white-space:pre;overflow-x:auto;line-height:normal;font-family:Menlo,'DejaVu Sans Mono',consolas,'Courier New',monospace\"><span style=\"color: #00ff00; text-decoration-color: #00ff00\">───────────────────────────────────────────────────────────────────────────────────────────────────────────────────</span>\n",
       "</pre>\n"
      ],
      "text/plain": [
       "\u001b[92m───────────────────────────────────────────────────────────────────────────────────────────────────────────────────\u001b[0m\n"
      ]
     },
     "metadata": {},
     "output_type": "display_data"
    },
    {
     "data": {
      "text/html": [
       "<pre style=\"white-space:pre;overflow-x:auto;line-height:normal;font-family:Menlo,'DejaVu Sans Mono',consolas,'Courier New',monospace\"><span style=\"color: #00ff00; text-decoration-color: #00ff00\">───────────────────────────────────────────────────── </span>iter: <span style=\"color: #800080; text-decoration-color: #800080\">2</span><span style=\"color: #00ff00; text-decoration-color: #00ff00\"> ─────────────────────────────────────────────────────</span>\n",
       "</pre>\n"
      ],
      "text/plain": [
       "\u001b[92m───────────────────────────────────────────────────── \u001b[0miter: \u001b[35m2\u001b[0m\u001b[92m ─────────────────────────────────────────────────────\u001b[0m\n"
      ]
     },
     "metadata": {},
     "output_type": "display_data"
    },
    {
     "data": {
      "application/vnd.jupyter.widget-view+json": {
       "model_id": "1945b61a9216493b82faeb07f02da664",
       "version_major": 2,
       "version_minor": 0
      },
      "text/plain": [
       "  0%|          | 0/100 [00:00<?, ?it/s]"
      ]
     },
     "metadata": {},
     "output_type": "display_data"
    },
    {
     "name": "stdout",
     "output_type": "stream",
     "text": [
      "\u001b[38;2;131;131;131m[2023-11-15 10:00:22]\u001b[0m\u001b[34m[INFO]\u001b[0m\u001b[38;2;119;119;119m[trainer.py:516\u001b[0m\u001b[38;2;119;119;119m]\u001b[0m - \u001b[3;94mstep\u001b[0m=\u001b[35m1300\u001b[0m \u001b[3;94mloss\u001b[0m=\u001b[35m2\u001b[0m\u001b[35m.941\u001b[0m \u001b[3;94mdt\u001b[0m=\u001b[35m423\u001b[0m\u001b[35m.726\u001b[0m \u001b[3;94msps\u001b[0m=\u001b[35m2\u001b[0m\u001b[35m.360\u001b[0m \u001b[3;94mmtps\u001b[0m=\u001b[35m0\u001b[0m\u001b[35m.010\u001b[0m \u001b[3;94mmfu\u001b[0m=\u001b[35m22\u001b[0m\u001b[35m.537\u001b[0m \u001b[3;94mtrain_loss\u001b[0m=\u001b[35m0\u001b[0m\u001b[35m.000\u001b[0m \u001b[3;94mval_loss\u001b[0m=\u001b[35m0\u001b[0m\u001b[35m.000\u001b[0m\n"
     ]
    },
    {
     "data": {
      "text/html": [
       "<pre style=\"white-space:pre;overflow-x:auto;line-height:normal;font-family:Menlo,'DejaVu Sans Mono',consolas,'Courier New',monospace\"><span style=\"font-weight: bold\">[</span>prompt<span style=\"font-weight: bold\">]</span>: <span style=\"color: #008000; text-decoration-color: #008000\">\"What is a supercomputer?\"</span>\n",
       "</pre>\n"
      ],
      "text/plain": [
       "\u001b[1m[\u001b[0mprompt\u001b[1m]\u001b[0m: \u001b[32m\"What is a supercomputer?\"\u001b[0m\n"
      ]
     },
     "metadata": {},
     "output_type": "display_data"
    },
    {
     "data": {
      "text/html": [
       "<pre style=\"white-space:pre;overflow-x:auto;line-height:normal;font-family:Menlo,'DejaVu Sans Mono',consolas,'Courier New',monospace\"><span style=\"font-weight: bold\">[</span>response<span style=\"font-weight: bold\">]</span>:\n",
       "\n",
       "What is a supercomputer? Supercomputing machines are extremely powerful and cheap. They are also cheap to upgrade, and they are incredibly easy to install - and they can handle any challenge you throw at them. You can even rent out one for a few hours in a day <span style=\"font-weight: bold\">(</span>after all, you need a supercomputer in the first place<span style=\"font-weight: bold\">)</span>.\n",
       "\n",
       "Read more about supercomputing in our article on computing history.<span style=\"font-weight: bold\">&lt;</span><span style=\"color: #ff00ff; text-decoration-color: #ff00ff; font-weight: bold\">|endoftext|</span><span style=\"color: #000000; text-decoration-color: #000000\">&gt;An estimated </span><span style=\"color: #800080; text-decoration-color: #800080\">130</span><span style=\"color: #000000; text-decoration-color: #000000\"> people were killed and at least </span><span style=\"color: #800080; text-decoration-color: #800080\">200</span><span style=\"color: #000000; text-decoration-color: #000000\"> wounded by militants in the attack.</span>\n",
       "\n",
       "<span style=\"color: #000000; text-decoration-color: #000000\">The attack started near the scene of Friday's explosions, which killed two women and a child.</span>\n",
       "\n",
       "<span style=\"color: #000000; text-decoration-color: #000000\">A bomber had targeted a residential area next to the scene of Friday's blasts.</span>\n",
       "\n",
       "<span style=\"color: #000000; text-decoration-color: #000000\">The suicide bomber also targeted the building in the village of Bishnagar, which has a military installation.</span>\n",
       "\n",
       "<span style=\"color: #000000; text-decoration-color: #000000\">There's no estimate of how many people were killed or wounded.</span>\n",
       "\n",
       "<span style=\"color: #000000; text-decoration-color: #000000\">The blasts took place near the village of Bishnagar, which has a military installation. </span><span style=\"color: #000000; text-decoration-color: #000000; font-weight: bold\">(</span><span style=\"color: #000000; text-decoration-color: #000000\">Photo/AP</span><span style=\"color: #000000; text-decoration-color: #000000; font-weight: bold\">)</span>\n",
       "\n",
       "<span style=\"color: #000000; text-decoration-color: #000000\">One of the explosions took place near the building in the village of Bishnagar, which has a military installation. </span><span style=\"color: #000000; text-decoration-color: #000000; font-weight: bold\">(</span><span style=\"color: #000000; text-decoration-color: #000000\">Photo/AP</span><span style=\"color: #000000; text-decoration-color: #000000; font-weight: bold\">)</span>\n",
       "\n",
       "<span style=\"color: #000000; text-decoration-color: #000000\">The explosions took place near the building in the village of Bishnagar, which has a military installation. </span><span style=\"color: #000000; text-decoration-color: #000000; font-weight: bold\">(</span><span style=\"color: #000000; text-decoration-color: #000000\">Photo/AP</span><span style=\"color: #000000; text-decoration-color: #000000; font-weight: bold\">)</span><span style=\"color: #000000; text-decoration-color: #000000\">&lt;|endoftext|</span><span style=\"font-weight: bold\">&gt;</span>How do you know what's happening on your computer? The days are long and the weeks are long, but once in a while, it's nice to get a peek inside the code behind what you’re doing. The difference between a good and a bad computer is usually the code behind its parts. It’s also a good sign that the developer is smart and is playing a skilled game of communication with a user. But you don’t have to play a game of communication to understand and understand how a code is actually interacting with the real world. If this sounds like a bit of a stretch, consider this: Google Chrome has evolved into a fast-paced browser focused on gaming and entertainment. Apple’s Safari was once full of the same stuff, but now it’s mostly silent.\n",
       "\n",
       "That’s a good thing, but it doesn’t explain why Apple’s mobile operating system is so focused on gaming. To the best of my knowledge, there’s not much meaningfully different about what the developer's thinking is as it relates to the development of Safari. Maybe it’s a good thing they�\n",
       "</pre>\n"
      ],
      "text/plain": [
       "\u001b[1m[\u001b[0mresponse\u001b[1m]\u001b[0m:\n",
       "\n",
       "What is a supercomputer? Supercomputing machines are extremely powerful and cheap. They are also cheap to upgrade, and they are incredibly easy to install - and they can handle any challenge you throw at them. You can even rent out one for a few hours in a day \u001b[1m(\u001b[0mafter all, you need a supercomputer in the first place\u001b[1m)\u001b[0m.\n",
       "\n",
       "Read more about supercomputing in our article on computing history.\u001b[1m<\u001b[0m\u001b[1;95m|endoftext|\u001b[0m\u001b[39m>An estimated \u001b[0m\u001b[35m130\u001b[0m\u001b[39m people were killed and at least \u001b[0m\u001b[35m200\u001b[0m\u001b[39m wounded by militants in the attack.\u001b[0m\n",
       "\n",
       "\u001b[39mThe attack started near the scene of Friday's explosions, which killed two women and a child.\u001b[0m\n",
       "\n",
       "\u001b[39mA bomber had targeted a residential area next to the scene of Friday's blasts.\u001b[0m\n",
       "\n",
       "\u001b[39mThe suicide bomber also targeted the building in the village of Bishnagar, which has a military installation.\u001b[0m\n",
       "\n",
       "\u001b[39mThere's no estimate of how many people were killed or wounded.\u001b[0m\n",
       "\n",
       "\u001b[39mThe blasts took place near the village of Bishnagar, which has a military installation. \u001b[0m\u001b[1;39m(\u001b[0m\u001b[39mPhoto/AP\u001b[0m\u001b[1;39m)\u001b[0m\n",
       "\n",
       "\u001b[39mOne of the explosions took place near the building in the village of Bishnagar, which has a military installation. \u001b[0m\u001b[1;39m(\u001b[0m\u001b[39mPhoto/AP\u001b[0m\u001b[1;39m)\u001b[0m\n",
       "\n",
       "\u001b[39mThe explosions took place near the building in the village of Bishnagar, which has a military installation. \u001b[0m\u001b[1;39m(\u001b[0m\u001b[39mPhoto/AP\u001b[0m\u001b[1;39m)\u001b[0m\u001b[39m<|endoftext|\u001b[0m\u001b[1m>\u001b[0mHow do you know what's happening on your computer? The days are long and the weeks are long, but once in a while, it's nice to get a peek inside the code behind what you’re doing. The difference between a good and a bad computer is usually the code behind its parts. It’s also a good sign that the developer is smart and is playing a skilled game of communication with a user. But you don’t have to play a game of communication to understand and understand how a code is actually interacting with the real world. If this sounds like a bit of a stretch, consider this: Google Chrome has evolved into a fast-paced browser focused on gaming and entertainment. Apple’s Safari was once full of the same stuff, but now it’s mostly silent.\n",
       "\n",
       "That’s a good thing, but it doesn’t explain why Apple’s mobile operating system is so focused on gaming. To the best of my knowledge, there’s not much meaningfully different about what the developer's thinking is as it relates to the development of Safari. Maybe it’s a good thing they�\n"
      ]
     },
     "metadata": {},
     "output_type": "display_data"
    },
    {
     "data": {
      "text/html": [
       "<pre style=\"white-space:pre;overflow-x:auto;line-height:normal;font-family:Menlo,'DejaVu Sans Mono',consolas,'Courier New',monospace\"><span style=\"color: #00ff00; text-decoration-color: #00ff00\">───────────────────────────────────────────────────────────────────────────────────────────────────────────────────</span>\n",
       "</pre>\n"
      ],
      "text/plain": [
       "\u001b[92m───────────────────────────────────────────────────────────────────────────────────────────────────────────────────\u001b[0m\n"
      ]
     },
     "metadata": {},
     "output_type": "display_data"
    },
    {
     "data": {
      "text/html": [
       "<pre style=\"white-space:pre;overflow-x:auto;line-height:normal;font-family:Menlo,'DejaVu Sans Mono',consolas,'Courier New',monospace\"><span style=\"color: #00ff00; text-decoration-color: #00ff00\">───────────────────────────────────────────────────── </span>iter: <span style=\"color: #800080; text-decoration-color: #800080\">3</span><span style=\"color: #00ff00; text-decoration-color: #00ff00\"> ─────────────────────────────────────────────────────</span>\n",
       "</pre>\n"
      ],
      "text/plain": [
       "\u001b[92m───────────────────────────────────────────────────── \u001b[0miter: \u001b[35m3\u001b[0m\u001b[92m ─────────────────────────────────────────────────────\u001b[0m\n"
      ]
     },
     "metadata": {},
     "output_type": "display_data"
    },
    {
     "data": {
      "application/vnd.jupyter.widget-view+json": {
       "model_id": "ce636f9b19c94a16b0e88b006ed26f96",
       "version_major": 2,
       "version_minor": 0
      },
      "text/plain": [
       "  0%|          | 0/100 [00:00<?, ?it/s]"
      ]
     },
     "metadata": {},
     "output_type": "display_data"
    },
    {
     "name": "stdout",
     "output_type": "stream",
     "text": [
      "\u001b[38;2;131;131;131m[2023-11-15 10:01:14]\u001b[0m\u001b[34m[INFO]\u001b[0m\u001b[38;2;119;119;119m[trainer.py:516\u001b[0m\u001b[38;2;119;119;119m]\u001b[0m - \u001b[3;94mstep\u001b[0m=\u001b[35m1400\u001b[0m \u001b[3;94mloss\u001b[0m=\u001b[35m2\u001b[0m\u001b[35m.948\u001b[0m \u001b[3;94mdt\u001b[0m=\u001b[35m366\u001b[0m\u001b[35m.042\u001b[0m \u001b[3;94msps\u001b[0m=\u001b[35m2\u001b[0m\u001b[35m.732\u001b[0m \u001b[3;94mmtps\u001b[0m=\u001b[35m0\u001b[0m\u001b[35m.011\u001b[0m \u001b[3;94mmfu\u001b[0m=\u001b[35m26\u001b[0m\u001b[35m.088\u001b[0m \u001b[3;94mtrain_loss\u001b[0m=\u001b[35m0\u001b[0m\u001b[35m.000\u001b[0m \u001b[3;94mval_loss\u001b[0m=\u001b[35m0\u001b[0m\u001b[35m.000\u001b[0m\n"
     ]
    },
    {
     "data": {
      "text/html": [
       "<pre style=\"white-space:pre;overflow-x:auto;line-height:normal;font-family:Menlo,'DejaVu Sans Mono',consolas,'Courier New',monospace\"><span style=\"font-weight: bold\">[</span>prompt<span style=\"font-weight: bold\">]</span>: <span style=\"color: #008000; text-decoration-color: #008000\">\"What is a supercomputer?\"</span>\n",
       "</pre>\n"
      ],
      "text/plain": [
       "\u001b[1m[\u001b[0mprompt\u001b[1m]\u001b[0m: \u001b[32m\"What is a supercomputer?\"\u001b[0m\n"
      ]
     },
     "metadata": {},
     "output_type": "display_data"
    },
    {
     "data": {
      "text/html": [
       "<pre style=\"white-space:pre;overflow-x:auto;line-height:normal;font-family:Menlo,'DejaVu Sans Mono',consolas,'Courier New',monospace\"><span style=\"font-weight: bold\">[</span>response<span style=\"font-weight: bold\">]</span>:\n",
       "\n",
       "What is a supercomputer?\n",
       "\n",
       "A supercomputer is an object that is built around a central processor.\n",
       "\n",
       "Although its size and weight may not be as strong as a human body, it is still far from the feeble components of a regular computer and is the same power as a small power station.\n",
       "\n",
       "The technology is called a supercomputer because it is capable of storing and processing huge amounts of data. If our supercomputer is not powerful enough to perform the calculations of a single human, it is equipped with the ability to run the complex software written in the instructions of the operating system.\n",
       "\n",
       "We have managed to get a number of super computers ready for testing, and they live up to their names.\n",
       "\n",
       "We are talking about super computers that take <span style=\"color: #800080; text-decoration-color: #800080\">10</span>,<span style=\"color: #800080; text-decoration-color: #800080\">000</span> times the power of the entire computer, and are equipped with a powerful combination of processors and big memory storage.\n",
       "\n",
       "They are capable of running the complex software written in the instructions of the operating system.\n",
       "\n",
       "You can call an IBM super computer a super computer because it has the power of all of a human being.\n",
       "\n",
       "How well does it work?\n",
       "\n",
       "IBM super computers are so powerful that they can run our own software. They are incredibly fast, are very long-lasting, they are able to communicate with each other and are connected with our WiFi network.\n",
       "\n",
       "The super computer of yours is a super computer that has a massive amount of memory and power, which is very much more powerful than a human average.\n",
       "\n",
       "That means it can run our programs, which are made of thousands of Java code.\n",
       "\n",
       "It is equipped with the power of a human at <span style=\"color: #800080; text-decoration-color: #800080\">1</span>,<span style=\"color: #800080; text-decoration-color: #800080\">500</span> times their humanweight.\n",
       "\n",
       "You can call an IBM super computer a super computer because it has the power of all of a human being.\n",
       "\n",
       "So, if you are a human being, and you have a super computer, will you be able to run a program that people might not have seen on a super computer?\n",
       "\n",
       "It is the same question as every other question.\n",
       "\n",
       "We have made a number of super computers for different purposes.\n",
       "\n",
       "We have shown to humans the power of running an ultra-fast super computer, such as a supercomputer of this kind.\n",
       "\n",
       "It is possible to run a program written in Java that is <span style=\"color: #800080; text-decoration-color: #800080\">10</span>,<span style=\"color: #800080; text-decoration-color: #800080\">000</span> times the power of the entire computer.\n",
       "\n",
       "We know that we have managed to get a number of super computers ready for testing.\n",
       "\n",
       "\n",
       "</pre>\n"
      ],
      "text/plain": [
       "\u001b[1m[\u001b[0mresponse\u001b[1m]\u001b[0m:\n",
       "\n",
       "What is a supercomputer?\n",
       "\n",
       "A supercomputer is an object that is built around a central processor.\n",
       "\n",
       "Although its size and weight may not be as strong as a human body, it is still far from the feeble components of a regular computer and is the same power as a small power station.\n",
       "\n",
       "The technology is called a supercomputer because it is capable of storing and processing huge amounts of data. If our supercomputer is not powerful enough to perform the calculations of a single human, it is equipped with the ability to run the complex software written in the instructions of the operating system.\n",
       "\n",
       "We have managed to get a number of super computers ready for testing, and they live up to their names.\n",
       "\n",
       "We are talking about super computers that take \u001b[35m10\u001b[0m,\u001b[35m000\u001b[0m times the power of the entire computer, and are equipped with a powerful combination of processors and big memory storage.\n",
       "\n",
       "They are capable of running the complex software written in the instructions of the operating system.\n",
       "\n",
       "You can call an IBM super computer a super computer because it has the power of all of a human being.\n",
       "\n",
       "How well does it work?\n",
       "\n",
       "IBM super computers are so powerful that they can run our own software. They are incredibly fast, are very long-lasting, they are able to communicate with each other and are connected with our WiFi network.\n",
       "\n",
       "The super computer of yours is a super computer that has a massive amount of memory and power, which is very much more powerful than a human average.\n",
       "\n",
       "That means it can run our programs, which are made of thousands of Java code.\n",
       "\n",
       "It is equipped with the power of a human at \u001b[35m1\u001b[0m,\u001b[35m500\u001b[0m times their humanweight.\n",
       "\n",
       "You can call an IBM super computer a super computer because it has the power of all of a human being.\n",
       "\n",
       "So, if you are a human being, and you have a super computer, will you be able to run a program that people might not have seen on a super computer?\n",
       "\n",
       "It is the same question as every other question.\n",
       "\n",
       "We have made a number of super computers for different purposes.\n",
       "\n",
       "We have shown to humans the power of running an ultra-fast super computer, such as a supercomputer of this kind.\n",
       "\n",
       "It is possible to run a program written in Java that is \u001b[35m10\u001b[0m,\u001b[35m000\u001b[0m times the power of the entire computer.\n",
       "\n",
       "We know that we have managed to get a number of super computers ready for testing.\n",
       "\n",
       "\n"
      ]
     },
     "metadata": {},
     "output_type": "display_data"
    },
    {
     "data": {
      "text/html": [
       "<pre style=\"white-space:pre;overflow-x:auto;line-height:normal;font-family:Menlo,'DejaVu Sans Mono',consolas,'Courier New',monospace\"><span style=\"color: #00ff00; text-decoration-color: #00ff00\">───────────────────────────────────────────────────────────────────────────────────────────────────────────────────</span>\n",
       "</pre>\n"
      ],
      "text/plain": [
       "\u001b[92m───────────────────────────────────────────────────────────────────────────────────────────────────────────────────\u001b[0m\n"
      ]
     },
     "metadata": {},
     "output_type": "display_data"
    },
    {
     "data": {
      "text/html": [
       "<pre style=\"white-space:pre;overflow-x:auto;line-height:normal;font-family:Menlo,'DejaVu Sans Mono',consolas,'Courier New',monospace\"><span style=\"color: #00ff00; text-decoration-color: #00ff00\">───────────────────────────────────────────────────── </span>iter: <span style=\"color: #800080; text-decoration-color: #800080\">4</span><span style=\"color: #00ff00; text-decoration-color: #00ff00\"> ─────────────────────────────────────────────────────</span>\n",
       "</pre>\n"
      ],
      "text/plain": [
       "\u001b[92m───────────────────────────────────────────────────── \u001b[0miter: \u001b[35m4\u001b[0m\u001b[92m ─────────────────────────────────────────────────────\u001b[0m\n"
      ]
     },
     "metadata": {},
     "output_type": "display_data"
    },
    {
     "data": {
      "application/vnd.jupyter.widget-view+json": {
       "model_id": "8792a0ff0ece4a6cb2b0c6adaa852b16",
       "version_major": 2,
       "version_minor": 0
      },
      "text/plain": [
       "  0%|          | 0/100 [00:00<?, ?it/s]"
      ]
     },
     "metadata": {},
     "output_type": "display_data"
    },
    {
     "name": "stdout",
     "output_type": "stream",
     "text": [
      "\u001b[38;2;131;131;131m[2023-11-15 10:02:07]\u001b[0m\u001b[34m[INFO]\u001b[0m\u001b[38;2;119;119;119m[trainer.py:516\u001b[0m\u001b[38;2;119;119;119m]\u001b[0m - \u001b[3;94mstep\u001b[0m=\u001b[35m1500\u001b[0m \u001b[3;94mloss\u001b[0m=\u001b[35m2\u001b[0m\u001b[35m.871\u001b[0m \u001b[3;94mdt\u001b[0m=\u001b[35m341\u001b[0m\u001b[35m.233\u001b[0m \u001b[3;94msps\u001b[0m=\u001b[35m2\u001b[0m\u001b[35m.931\u001b[0m \u001b[3;94mmtps\u001b[0m=\u001b[35m0\u001b[0m\u001b[35m.012\u001b[0m \u001b[3;94mmfu\u001b[0m=\u001b[35m27\u001b[0m\u001b[35m.985\u001b[0m \u001b[3;94mtrain_loss\u001b[0m=\u001b[35m0\u001b[0m\u001b[35m.000\u001b[0m \u001b[3;94mval_loss\u001b[0m=\u001b[35m0\u001b[0m\u001b[35m.000\u001b[0m\n"
     ]
    },
    {
     "data": {
      "text/html": [
       "<pre style=\"white-space:pre;overflow-x:auto;line-height:normal;font-family:Menlo,'DejaVu Sans Mono',consolas,'Courier New',monospace\"><span style=\"font-weight: bold\">[</span>prompt<span style=\"font-weight: bold\">]</span>: <span style=\"color: #008000; text-decoration-color: #008000\">\"What is a supercomputer?\"</span>\n",
       "</pre>\n"
      ],
      "text/plain": [
       "\u001b[1m[\u001b[0mprompt\u001b[1m]\u001b[0m: \u001b[32m\"What is a supercomputer?\"\u001b[0m\n"
      ]
     },
     "metadata": {},
     "output_type": "display_data"
    },
    {
     "data": {
      "text/html": [
       "<pre style=\"white-space:pre;overflow-x:auto;line-height:normal;font-family:Menlo,'DejaVu Sans Mono',consolas,'Courier New',monospace\"><span style=\"font-weight: bold\">[</span>response<span style=\"font-weight: bold\">]</span>:\n",
       "\n",
       "What is a supercomputer?\n",
       "\n",
       "A supercomputer is a computer that is able to do complex calculations faster than a human can.\n",
       "\n",
       "A supercomputer is a computer that is able to do complex calculations faster than a human can.\n",
       "\n",
       "A supercomputer can have more cores than a human.\n",
       "\n",
       "A supercomputer is not a memory. It is a super computer. Once you have one, you can use it as an efficient computer.\n",
       "\n",
       "A supercomputer can be the fastest computer on the planet.\n",
       "\n",
       "<span style=\"font-weight: bold\">(</span>Click through the gallery for a larger view.<span style=\"font-weight: bold\">)</span>\n",
       "\n",
       "<span style=\"color: #008000; text-decoration-color: #008000\">\"We have high-performance supercomputers that are very fast and very efficient. The problem is that, because of modern computing technology, we can do multiple tasks at the same time,\"</span> said Thomas DeLong, a computer scientist at the University of Michigan and a computer scientist at the University of California, Berkeley, who is one of the first members of the UNDP supercomputing committee.\n",
       "\n",
       "<span style=\"color: #008000; text-decoration-color: #008000\">\"This is not a supercomputer. It is a supercomputer. It is fast enough to do certain things that other computers cannot. That is the power of super computers.\"</span>\n",
       "\n",
       "DeLong's group has been working to upgrade super computers to get a better computing power. Their goal is to make the supercomputer that is needed for the next generation of computing on the planet -- the next generation that is computing the vast majority of the world's information -- the fastest supercomputer on the planet.\n",
       "\n",
       "<span style=\"color: #008000; text-decoration-color: #008000\">\"We have high-performance supercomputers that are very fast and very efficient. The problem is that, because of modern computing technology, we can do multiple tasks at the same time. That is the power of super computers,\"</span> said Thomas DeLong, a computer scientist at the University of Michigan and a computer scientist at the University of California, Berkeley, who is one of the first members of the UNDP supercomputing committee. <span style=\"color: #008000; text-decoration-color: #008000\">\"That is what super computers are all about.\"</span>\n",
       "\n",
       "Dewey said that it's so easy to see why super computers could be faster than humans -- as an example.\n",
       "\n",
       "<span style=\"color: #008000; text-decoration-color: #008000\">\"Super computers are very fast computers. If you run a program that you're fast enough, you can live with it. It's not any longer a supercomputer, but a supercomputer, which is the next evolutionary step,\"</span> said Dewey.\n",
       "\n",
       "Dewey said super computers are more powerful than the average human -- especially when there's more to computing.\n",
       "\n",
       "\"The supercomputer\n",
       "</pre>\n"
      ],
      "text/plain": [
       "\u001b[1m[\u001b[0mresponse\u001b[1m]\u001b[0m:\n",
       "\n",
       "What is a supercomputer?\n",
       "\n",
       "A supercomputer is a computer that is able to do complex calculations faster than a human can.\n",
       "\n",
       "A supercomputer is a computer that is able to do complex calculations faster than a human can.\n",
       "\n",
       "A supercomputer can have more cores than a human.\n",
       "\n",
       "A supercomputer is not a memory. It is a super computer. Once you have one, you can use it as an efficient computer.\n",
       "\n",
       "A supercomputer can be the fastest computer on the planet.\n",
       "\n",
       "\u001b[1m(\u001b[0mClick through the gallery for a larger view.\u001b[1m)\u001b[0m\n",
       "\n",
       "\u001b[32m\"We have high-performance supercomputers that are very fast and very efficient. The problem is that, because of modern computing technology, we can do multiple tasks at the same time,\"\u001b[0m said Thomas DeLong, a computer scientist at the University of Michigan and a computer scientist at the University of California, Berkeley, who is one of the first members of the UNDP supercomputing committee.\n",
       "\n",
       "\u001b[32m\"This is not a supercomputer. It is a supercomputer. It is fast enough to do certain things that other computers cannot. That is the power of super computers.\"\u001b[0m\n",
       "\n",
       "DeLong's group has been working to upgrade super computers to get a better computing power. Their goal is to make the supercomputer that is needed for the next generation of computing on the planet -- the next generation that is computing the vast majority of the world's information -- the fastest supercomputer on the planet.\n",
       "\n",
       "\u001b[32m\"We have high-performance supercomputers that are very fast and very efficient. The problem is that, because of modern computing technology, we can do multiple tasks at the same time. That is the power of super computers,\"\u001b[0m said Thomas DeLong, a computer scientist at the University of Michigan and a computer scientist at the University of California, Berkeley, who is one of the first members of the UNDP supercomputing committee. \u001b[32m\"That is what super computers are all about.\"\u001b[0m\n",
       "\n",
       "Dewey said that it's so easy to see why super computers could be faster than humans -- as an example.\n",
       "\n",
       "\u001b[32m\"Super computers are very fast computers. If you run a program that you're fast enough, you can live with it. It's not any longer a supercomputer, but a supercomputer, which is the next evolutionary step,\"\u001b[0m said Dewey.\n",
       "\n",
       "Dewey said super computers are more powerful than the average human -- especially when there's more to computing.\n",
       "\n",
       "\"The supercomputer\n"
      ]
     },
     "metadata": {},
     "output_type": "display_data"
    },
    {
     "data": {
      "text/html": [
       "<pre style=\"white-space:pre;overflow-x:auto;line-height:normal;font-family:Menlo,'DejaVu Sans Mono',consolas,'Courier New',monospace\"><span style=\"color: #00ff00; text-decoration-color: #00ff00\">───────────────────────────────────────────────────────────────────────────────────────────────────────────────────</span>\n",
       "</pre>\n"
      ],
      "text/plain": [
       "\u001b[92m───────────────────────────────────────────────────────────────────────────────────────────────────────────────────\u001b[0m\n"
      ]
     },
     "metadata": {},
     "output_type": "display_data"
    },
    {
     "data": {
      "text/html": [
       "<pre style=\"white-space:pre;overflow-x:auto;line-height:normal;font-family:Menlo,'DejaVu Sans Mono',consolas,'Courier New',monospace\"><span style=\"color: #00ff00; text-decoration-color: #00ff00\">───────────────────────────────────────────────────── </span>iter: <span style=\"color: #800080; text-decoration-color: #800080\">5</span><span style=\"color: #00ff00; text-decoration-color: #00ff00\"> ─────────────────────────────────────────────────────</span>\n",
       "</pre>\n"
      ],
      "text/plain": [
       "\u001b[92m───────────────────────────────────────────────────── \u001b[0miter: \u001b[35m5\u001b[0m\u001b[92m ─────────────────────────────────────────────────────\u001b[0m\n"
      ]
     },
     "metadata": {},
     "output_type": "display_data"
    },
    {
     "data": {
      "application/vnd.jupyter.widget-view+json": {
       "model_id": "7ebb4752629c4b24a0e7ec7fd824305e",
       "version_major": 2,
       "version_minor": 0
      },
      "text/plain": [
       "  0%|          | 0/100 [00:00<?, ?it/s]"
      ]
     },
     "metadata": {},
     "output_type": "display_data"
    },
    {
     "name": "stdout",
     "output_type": "stream",
     "text": [
      "\u001b[38;2;131;131;131m[2023-11-15 10:03:00]\u001b[0m\u001b[34m[INFO]\u001b[0m\u001b[38;2;119;119;119m[trainer.py:516\u001b[0m\u001b[38;2;119;119;119m]\u001b[0m - \u001b[3;94mstep\u001b[0m=\u001b[35m1600\u001b[0m \u001b[3;94mloss\u001b[0m=\u001b[35m2\u001b[0m\u001b[35m.997\u001b[0m \u001b[3;94mdt\u001b[0m=\u001b[35m416\u001b[0m\u001b[35m.252\u001b[0m \u001b[3;94msps\u001b[0m=\u001b[35m2\u001b[0m\u001b[35m.402\u001b[0m \u001b[3;94mmtps\u001b[0m=\u001b[35m0\u001b[0m\u001b[35m.010\u001b[0m \u001b[3;94mmfu\u001b[0m=\u001b[35m22\u001b[0m\u001b[35m.941\u001b[0m \u001b[3;94mtrain_loss\u001b[0m=\u001b[35m0\u001b[0m\u001b[35m.000\u001b[0m \u001b[3;94mval_loss\u001b[0m=\u001b[35m0\u001b[0m\u001b[35m.000\u001b[0m\n"
     ]
    },
    {
     "data": {
      "text/html": [
       "<pre style=\"white-space:pre;overflow-x:auto;line-height:normal;font-family:Menlo,'DejaVu Sans Mono',consolas,'Courier New',monospace\"><span style=\"font-weight: bold\">[</span>prompt<span style=\"font-weight: bold\">]</span>: <span style=\"color: #008000; text-decoration-color: #008000\">\"What is a supercomputer?\"</span>\n",
       "</pre>\n"
      ],
      "text/plain": [
       "\u001b[1m[\u001b[0mprompt\u001b[1m]\u001b[0m: \u001b[32m\"What is a supercomputer?\"\u001b[0m\n"
      ]
     },
     "metadata": {},
     "output_type": "display_data"
    },
    {
     "data": {
      "text/html": [
       "<pre style=\"white-space:pre;overflow-x:auto;line-height:normal;font-family:Menlo,'DejaVu Sans Mono',consolas,'Courier New',monospace\"><span style=\"font-weight: bold\">[</span>response<span style=\"font-weight: bold\">]</span>:\n",
       "\n",
       "What is a supercomputer?\n",
       "\n",
       "A supercomputer is a computer for which a large number of computers are required to run programs. A supercomputer is a computer with an operating system that is modified to reduce the number of computers required to run programs.\n",
       "\n",
       "For example, a supercomputer is a computer with a Windows operating system that meets the standard of performance of a modern computer. This is roughly equivalent to a computer of similar size that runs an operating system that runs an operating system that doubles as a computer. This is the very computer that is needed to read and write programs and monitor them, and uses the internet to connect to a computer.\n",
       "\n",
       "Some examples of supercomputers are:\n",
       "\n",
       "Microsoft\n",
       "\n",
       "Google\n",
       "\n",
       "Apple\n",
       "\n",
       "Apple\n",
       "\n",
       "Another example of a computer with an operating system that also includes operating systems and applications that run on the internet is:\n",
       "\n",
       "Microsoft\n",
       "\n",
       "Google\n",
       "\n",
       "Apple\n",
       "\n",
       "Google\n",
       "\n",
       "Apple\n",
       "\n",
       "To communicate with a computer, a computer needs two sources of data:\n",
       "\n",
       "data directly from the command line\n",
       "\n",
       "data from libraries\n",
       "\n",
       "If you have a computer with more than two accounts on the command line, you want to take advantage of the power of the three-way communication paradigm developed by the World Wide Web. If you have any other system you're running <span style=\"font-weight: bold\">(</span>e.g. a mobile device or laptop computer<span style=\"font-weight: bold\">)</span>, you should see that the above is a more appropriate example of communication with a computer.\n",
       "\n",
       "Don't forget to get some free training on how to set up an email server on your computer, and learn how to use a command line terminal or graphical user interface on your computer. That way you can do all of this without having to install any new software on your computer.\n",
       "\n",
       "Or, if you are running a modern computer, you can download and install the free software that is needed for running an operating system on the command line from a single computer.\n",
       "\n",
       "When you're running a modern computer, you need to use software that is capable of running a modern operating system. If you are writing a program that uses the command line, you should read the content of the installation instructions to make sure that the correct software is installed. If the installation instructions don't mention the proper path for the software you are writing, you want to be sure you have the correct software installed. If you're using an older computer <span style=\"font-weight: bold\">(</span>i.e. before the end of <span style=\"color: #800080; text-decoration-color: #800080\">2010</span><span style=\"font-weight: bold\">)</span>, you may need to install extra software that is\n",
       "</pre>\n"
      ],
      "text/plain": [
       "\u001b[1m[\u001b[0mresponse\u001b[1m]\u001b[0m:\n",
       "\n",
       "What is a supercomputer?\n",
       "\n",
       "A supercomputer is a computer for which a large number of computers are required to run programs. A supercomputer is a computer with an operating system that is modified to reduce the number of computers required to run programs.\n",
       "\n",
       "For example, a supercomputer is a computer with a Windows operating system that meets the standard of performance of a modern computer. This is roughly equivalent to a computer of similar size that runs an operating system that runs an operating system that doubles as a computer. This is the very computer that is needed to read and write programs and monitor them, and uses the internet to connect to a computer.\n",
       "\n",
       "Some examples of supercomputers are:\n",
       "\n",
       "Microsoft\n",
       "\n",
       "Google\n",
       "\n",
       "Apple\n",
       "\n",
       "Apple\n",
       "\n",
       "Another example of a computer with an operating system that also includes operating systems and applications that run on the internet is:\n",
       "\n",
       "Microsoft\n",
       "\n",
       "Google\n",
       "\n",
       "Apple\n",
       "\n",
       "Google\n",
       "\n",
       "Apple\n",
       "\n",
       "To communicate with a computer, a computer needs two sources of data:\n",
       "\n",
       "data directly from the command line\n",
       "\n",
       "data from libraries\n",
       "\n",
       "If you have a computer with more than two accounts on the command line, you want to take advantage of the power of the three-way communication paradigm developed by the World Wide Web. If you have any other system you're running \u001b[1m(\u001b[0me.g. a mobile device or laptop computer\u001b[1m)\u001b[0m, you should see that the above is a more appropriate example of communication with a computer.\n",
       "\n",
       "Don't forget to get some free training on how to set up an email server on your computer, and learn how to use a command line terminal or graphical user interface on your computer. That way you can do all of this without having to install any new software on your computer.\n",
       "\n",
       "Or, if you are running a modern computer, you can download and install the free software that is needed for running an operating system on the command line from a single computer.\n",
       "\n",
       "When you're running a modern computer, you need to use software that is capable of running a modern operating system. If you are writing a program that uses the command line, you should read the content of the installation instructions to make sure that the correct software is installed. If the installation instructions don't mention the proper path for the software you are writing, you want to be sure you have the correct software installed. If you're using an older computer \u001b[1m(\u001b[0mi.e. before the end of \u001b[35m2010\u001b[0m\u001b[1m)\u001b[0m, you may need to install extra software that is\n"
      ]
     },
     "metadata": {},
     "output_type": "display_data"
    },
    {
     "data": {
      "text/html": [
       "<pre style=\"white-space:pre;overflow-x:auto;line-height:normal;font-family:Menlo,'DejaVu Sans Mono',consolas,'Courier New',monospace\"><span style=\"color: #00ff00; text-decoration-color: #00ff00\">───────────────────────────────────────────────────────────────────────────────────────────────────────────────────</span>\n",
       "</pre>\n"
      ],
      "text/plain": [
       "\u001b[92m───────────────────────────────────────────────────────────────────────────────────────────────────────────────────\u001b[0m\n"
      ]
     },
     "metadata": {},
     "output_type": "display_data"
    },
    {
     "data": {
      "text/html": [
       "<pre style=\"white-space:pre;overflow-x:auto;line-height:normal;font-family:Menlo,'DejaVu Sans Mono',consolas,'Courier New',monospace\"><span style=\"color: #00ff00; text-decoration-color: #00ff00\">───────────────────────────────────────────────────── </span>iter: <span style=\"color: #800080; text-decoration-color: #800080\">6</span><span style=\"color: #00ff00; text-decoration-color: #00ff00\"> ─────────────────────────────────────────────────────</span>\n",
       "</pre>\n"
      ],
      "text/plain": [
       "\u001b[92m───────────────────────────────────────────────────── \u001b[0miter: \u001b[35m6\u001b[0m\u001b[92m ─────────────────────────────────────────────────────\u001b[0m\n"
      ]
     },
     "metadata": {},
     "output_type": "display_data"
    },
    {
     "data": {
      "application/vnd.jupyter.widget-view+json": {
       "model_id": "fed987c3dd404fd59c59ec4408ebdb6b",
       "version_major": 2,
       "version_minor": 0
      },
      "text/plain": [
       "  0%|          | 0/100 [00:00<?, ?it/s]"
      ]
     },
     "metadata": {},
     "output_type": "display_data"
    },
    {
     "name": "stdout",
     "output_type": "stream",
     "text": [
      "\u001b[38;2;131;131;131m[2023-11-15 10:03:53]\u001b[0m\u001b[34m[INFO]\u001b[0m\u001b[38;2;119;119;119m[trainer.py:516\u001b[0m\u001b[38;2;119;119;119m]\u001b[0m - \u001b[3;94mstep\u001b[0m=\u001b[35m1700\u001b[0m \u001b[3;94mloss\u001b[0m=\u001b[35m3\u001b[0m\u001b[35m.223\u001b[0m \u001b[3;94mdt\u001b[0m=\u001b[35m392\u001b[0m\u001b[35m.194\u001b[0m \u001b[3;94msps\u001b[0m=\u001b[35m2\u001b[0m\u001b[35m.550\u001b[0m \u001b[3;94mmtps\u001b[0m=\u001b[35m0\u001b[0m\u001b[35m.010\u001b[0m \u001b[3;94mmfu\u001b[0m=\u001b[35m24\u001b[0m\u001b[35m.349\u001b[0m \u001b[3;94mtrain_loss\u001b[0m=\u001b[35m0\u001b[0m\u001b[35m.000\u001b[0m \u001b[3;94mval_loss\u001b[0m=\u001b[35m0\u001b[0m\u001b[35m.000\u001b[0m\n"
     ]
    },
    {
     "data": {
      "text/html": [
       "<pre style=\"white-space:pre;overflow-x:auto;line-height:normal;font-family:Menlo,'DejaVu Sans Mono',consolas,'Courier New',monospace\"><span style=\"font-weight: bold\">[</span>prompt<span style=\"font-weight: bold\">]</span>: <span style=\"color: #008000; text-decoration-color: #008000\">\"What is a supercomputer?\"</span>\n",
       "</pre>\n"
      ],
      "text/plain": [
       "\u001b[1m[\u001b[0mprompt\u001b[1m]\u001b[0m: \u001b[32m\"What is a supercomputer?\"\u001b[0m\n"
      ]
     },
     "metadata": {},
     "output_type": "display_data"
    },
    {
     "data": {
      "text/html": [
       "<pre style=\"white-space:pre;overflow-x:auto;line-height:normal;font-family:Menlo,'DejaVu Sans Mono',consolas,'Courier New',monospace\"><span style=\"font-weight: bold\">[</span>response<span style=\"font-weight: bold\">]</span>:\n",
       "\n",
       "What is a supercomputer?\n",
       "\n",
       "A supercomputer is computer that can run instructions that are cheaper to run than the typical computer.\n",
       "\n",
       "But how does the supercomputer perform?\n",
       "\n",
       "In the early days of computers, supercomputers were just very powerful computers, essentially.\n",
       "\n",
       "Then, in the early days of computers, supercomputers were just very powerful computers.\n",
       "\n",
       "Today, computers performed three services.\n",
       "\n",
       "It performed the simple tasks that we all perform.\n",
       "\n",
       "It could run and read programs.\n",
       "\n",
       "It could output an image.\n",
       "\n",
       "It could track specific objects, such as a physical object when it was moved and moved.\n",
       "\n",
       "It could create a software program.\n",
       "\n",
       "And it could create a program.\n",
       "\n",
       "At least that's what the supercomputer did.\n",
       "\n",
       "What's one of the most common supercomputers?\n",
       "\n",
       "You have a lot of supercomputers.\n",
       "\n",
       "That's because supercomputers are just massive computers.\n",
       "\n",
       "Different computers perform different tasks.\n",
       "\n",
       "What are the most common supercomputers?\n",
       "\n",
       "Computers are just computers.\n",
       "\n",
       "What are the most inexpensive supercomputers?\n",
       "\n",
       "Computers are everywhere.\n",
       "\n",
       "What's the cost to build a supercomputer that can do the most complicated tasks?\n",
       "\n",
       "The supercomputer is made out of three parts.\n",
       "\n",
       "It's made of silicon <span style=\"font-weight: bold\">(</span>the most common material<span style=\"font-weight: bold\">)</span>\n",
       "\n",
       "It's made of metal, the second most common\n",
       "\n",
       "The last one is probably a little hard to work with that is\n",
       "\n",
       "The first one is a lot based on silicon\n",
       "\n",
       "Its starting price is around $<span style=\"color: #800080; text-decoration-color: #800080\">50</span>, not that expensive\n",
       "\n",
       "The second one is the most expensive\n",
       "\n",
       "What's the cost to build a supercomputer that can run more complicated software than today's computers?\n",
       "\n",
       "Computers are super computers.\n",
       "\n",
       "But what about the cost to build a supercomputer that can do more complex software than today's computers?\n",
       "\n",
       "The price is a lot\n",
       "\n",
       "What's the cost to build a supercomputer that can perform more complex tasks than today's computers?\n",
       "\n",
       "The cost is just over $<span style=\"color: #800080; text-decoration-color: #800080\">100</span>\n",
       "\n",
       "What happens if you build it to work alone?\n",
       "\n",
       "When you build it to perform alone, you'll have a supercomputer\n",
       "\n",
       "What's the cost of building a supercomputer that can do more complex software than today's computers?\n",
       "\n",
       "The price of a supercomputer that can perform more complex software\n",
       "</pre>\n"
      ],
      "text/plain": [
       "\u001b[1m[\u001b[0mresponse\u001b[1m]\u001b[0m:\n",
       "\n",
       "What is a supercomputer?\n",
       "\n",
       "A supercomputer is computer that can run instructions that are cheaper to run than the typical computer.\n",
       "\n",
       "But how does the supercomputer perform?\n",
       "\n",
       "In the early days of computers, supercomputers were just very powerful computers, essentially.\n",
       "\n",
       "Then, in the early days of computers, supercomputers were just very powerful computers.\n",
       "\n",
       "Today, computers performed three services.\n",
       "\n",
       "It performed the simple tasks that we all perform.\n",
       "\n",
       "It could run and read programs.\n",
       "\n",
       "It could output an image.\n",
       "\n",
       "It could track specific objects, such as a physical object when it was moved and moved.\n",
       "\n",
       "It could create a software program.\n",
       "\n",
       "And it could create a program.\n",
       "\n",
       "At least that's what the supercomputer did.\n",
       "\n",
       "What's one of the most common supercomputers?\n",
       "\n",
       "You have a lot of supercomputers.\n",
       "\n",
       "That's because supercomputers are just massive computers.\n",
       "\n",
       "Different computers perform different tasks.\n",
       "\n",
       "What are the most common supercomputers?\n",
       "\n",
       "Computers are just computers.\n",
       "\n",
       "What are the most inexpensive supercomputers?\n",
       "\n",
       "Computers are everywhere.\n",
       "\n",
       "What's the cost to build a supercomputer that can do the most complicated tasks?\n",
       "\n",
       "The supercomputer is made out of three parts.\n",
       "\n",
       "It's made of silicon \u001b[1m(\u001b[0mthe most common material\u001b[1m)\u001b[0m\n",
       "\n",
       "It's made of metal, the second most common\n",
       "\n",
       "The last one is probably a little hard to work with that is\n",
       "\n",
       "The first one is a lot based on silicon\n",
       "\n",
       "Its starting price is around $\u001b[35m50\u001b[0m, not that expensive\n",
       "\n",
       "The second one is the most expensive\n",
       "\n",
       "What's the cost to build a supercomputer that can run more complicated software than today's computers?\n",
       "\n",
       "Computers are super computers.\n",
       "\n",
       "But what about the cost to build a supercomputer that can do more complex software than today's computers?\n",
       "\n",
       "The price is a lot\n",
       "\n",
       "What's the cost to build a supercomputer that can perform more complex tasks than today's computers?\n",
       "\n",
       "The cost is just over $\u001b[35m100\u001b[0m\n",
       "\n",
       "What happens if you build it to work alone?\n",
       "\n",
       "When you build it to perform alone, you'll have a supercomputer\n",
       "\n",
       "What's the cost of building a supercomputer that can do more complex software than today's computers?\n",
       "\n",
       "The price of a supercomputer that can perform more complex software\n"
      ]
     },
     "metadata": {},
     "output_type": "display_data"
    },
    {
     "data": {
      "text/html": [
       "<pre style=\"white-space:pre;overflow-x:auto;line-height:normal;font-family:Menlo,'DejaVu Sans Mono',consolas,'Courier New',monospace\"><span style=\"color: #00ff00; text-decoration-color: #00ff00\">───────────────────────────────────────────────────────────────────────────────────────────────────────────────────</span>\n",
       "</pre>\n"
      ],
      "text/plain": [
       "\u001b[92m───────────────────────────────────────────────────────────────────────────────────────────────────────────────────\u001b[0m\n"
      ]
     },
     "metadata": {},
     "output_type": "display_data"
    },
    {
     "data": {
      "text/html": [
       "<pre style=\"white-space:pre;overflow-x:auto;line-height:normal;font-family:Menlo,'DejaVu Sans Mono',consolas,'Courier New',monospace\"><span style=\"color: #00ff00; text-decoration-color: #00ff00\">───────────────────────────────────────────────────── </span>iter: <span style=\"color: #800080; text-decoration-color: #800080\">7</span><span style=\"color: #00ff00; text-decoration-color: #00ff00\"> ─────────────────────────────────────────────────────</span>\n",
       "</pre>\n"
      ],
      "text/plain": [
       "\u001b[92m───────────────────────────────────────────────────── \u001b[0miter: \u001b[35m7\u001b[0m\u001b[92m ─────────────────────────────────────────────────────\u001b[0m\n"
      ]
     },
     "metadata": {},
     "output_type": "display_data"
    },
    {
     "data": {
      "application/vnd.jupyter.widget-view+json": {
       "model_id": "96155168d10942d1a33f3dbfe368dccd",
       "version_major": 2,
       "version_minor": 0
      },
      "text/plain": [
       "  0%|          | 0/100 [00:00<?, ?it/s]"
      ]
     },
     "metadata": {},
     "output_type": "display_data"
    },
    {
     "name": "stdout",
     "output_type": "stream",
     "text": [
      "\u001b[38;2;131;131;131m[2023-11-15 10:04:45]\u001b[0m\u001b[34m[INFO]\u001b[0m\u001b[38;2;119;119;119m[trainer.py:516\u001b[0m\u001b[38;2;119;119;119m]\u001b[0m - \u001b[3;94mstep\u001b[0m=\u001b[35m1800\u001b[0m \u001b[3;94mloss\u001b[0m=\u001b[35m3\u001b[0m\u001b[35m.046\u001b[0m \u001b[3;94mdt\u001b[0m=\u001b[35m353\u001b[0m\u001b[35m.265\u001b[0m \u001b[3;94msps\u001b[0m=\u001b[35m2\u001b[0m\u001b[35m.831\u001b[0m \u001b[3;94mmtps\u001b[0m=\u001b[35m0\u001b[0m\u001b[35m.012\u001b[0m \u001b[3;94mmfu\u001b[0m=\u001b[35m27\u001b[0m\u001b[35m.032\u001b[0m \u001b[3;94mtrain_loss\u001b[0m=\u001b[35m0\u001b[0m\u001b[35m.000\u001b[0m \u001b[3;94mval_loss\u001b[0m=\u001b[35m0\u001b[0m\u001b[35m.000\u001b[0m\n"
     ]
    },
    {
     "data": {
      "text/html": [
       "<pre style=\"white-space:pre;overflow-x:auto;line-height:normal;font-family:Menlo,'DejaVu Sans Mono',consolas,'Courier New',monospace\"><span style=\"font-weight: bold\">[</span>prompt<span style=\"font-weight: bold\">]</span>: <span style=\"color: #008000; text-decoration-color: #008000\">\"What is a supercomputer?\"</span>\n",
       "</pre>\n"
      ],
      "text/plain": [
       "\u001b[1m[\u001b[0mprompt\u001b[1m]\u001b[0m: \u001b[32m\"What is a supercomputer?\"\u001b[0m\n"
      ]
     },
     "metadata": {},
     "output_type": "display_data"
    },
    {
     "data": {
      "text/html": [
       "<pre style=\"white-space:pre;overflow-x:auto;line-height:normal;font-family:Menlo,'DejaVu Sans Mono',consolas,'Courier New',monospace\"><span style=\"font-weight: bold\">[</span>response<span style=\"font-weight: bold\">]</span>:\n",
       "\n",
       "What is a supercomputer?\n",
       "\n",
       "A supercomputer is a computer that can control and control all of your work. It is essentially a computer that is able to do everything a computer can do. There are a few different names for a supercomputer <span style=\"font-weight: bold\">(</span>or supercomputer<span style=\"font-weight: bold\">)</span>. In this article, we will focus on one that is nearly ubiquitous, the supercomputer. We will look at the specific tools and software that can be used to create these machines.\n",
       "\n",
       "Defining a supercomputer\n",
       "\n",
       "Intelligent and flexible\n",
       "\n",
       "At its most basic, a supercomputer is an computer that is able to control and control all of your work, all of which happens in the real world. What you would call a computer is a computer that is able to go through your work and store what you have done. This is what most people think of as a computer, when they think of the word. That is not a computer, however, what you are really talking about is your computer.\n",
       "\n",
       "At the end of the day, a supercomputer is a computer that is able to run your work and store what you have done.\n",
       "\n",
       "The programming language used in a supercomputer is text based. You may have heard of a program like C programming language. In this article, I will spend a lot of time explaining how to use C programming language. I will also show you how to use Visual Studio <span style=\"color: #800080; text-decoration-color: #800080\">2016</span> which is just as simple as using C programming language. I will also show you how to develop an MVP of your MVP, which is also what I am talking about in this article.\n",
       "\n",
       "Some examples of programs that might use C programming language include:\n",
       "\n",
       "Creating a supercomputer with C coding language\n",
       "\n",
       "Using C programming language\n",
       "\n",
       "Using C-based programming language\n",
       "\n",
       "Modifying a supercomputer that is able to control all of your work\n",
       "\n",
       "Modifying a supercomputer that is able to control all of your work\n",
       "\n",
       "Modifying a supercomputer that is able to control all of your work\n",
       "\n",
       "Modifying a supercomputer that is able to control all of your work\n",
       "\n",
       "Modifying a supercomputer that is able to control all of your work\n",
       "\n",
       "Modifying a supercomputer that is able to control all of your work\n",
       "\n",
       "Modifying an MVP of your MVP that is also able to control all of your work\n",
       "\n",
       "Modifying a MVP of your MVP that is able to control all of your work\n",
       "\n",
       "Modifying a MVP of your MVP that is able to control all\n",
       "</pre>\n"
      ],
      "text/plain": [
       "\u001b[1m[\u001b[0mresponse\u001b[1m]\u001b[0m:\n",
       "\n",
       "What is a supercomputer?\n",
       "\n",
       "A supercomputer is a computer that can control and control all of your work. It is essentially a computer that is able to do everything a computer can do. There are a few different names for a supercomputer \u001b[1m(\u001b[0mor supercomputer\u001b[1m)\u001b[0m. In this article, we will focus on one that is nearly ubiquitous, the supercomputer. We will look at the specific tools and software that can be used to create these machines.\n",
       "\n",
       "Defining a supercomputer\n",
       "\n",
       "Intelligent and flexible\n",
       "\n",
       "At its most basic, a supercomputer is an computer that is able to control and control all of your work, all of which happens in the real world. What you would call a computer is a computer that is able to go through your work and store what you have done. This is what most people think of as a computer, when they think of the word. That is not a computer, however, what you are really talking about is your computer.\n",
       "\n",
       "At the end of the day, a supercomputer is a computer that is able to run your work and store what you have done.\n",
       "\n",
       "The programming language used in a supercomputer is text based. You may have heard of a program like C programming language. In this article, I will spend a lot of time explaining how to use C programming language. I will also show you how to use Visual Studio \u001b[35m2016\u001b[0m which is just as simple as using C programming language. I will also show you how to develop an MVP of your MVP, which is also what I am talking about in this article.\n",
       "\n",
       "Some examples of programs that might use C programming language include:\n",
       "\n",
       "Creating a supercomputer with C coding language\n",
       "\n",
       "Using C programming language\n",
       "\n",
       "Using C-based programming language\n",
       "\n",
       "Modifying a supercomputer that is able to control all of your work\n",
       "\n",
       "Modifying a supercomputer that is able to control all of your work\n",
       "\n",
       "Modifying a supercomputer that is able to control all of your work\n",
       "\n",
       "Modifying a supercomputer that is able to control all of your work\n",
       "\n",
       "Modifying a supercomputer that is able to control all of your work\n",
       "\n",
       "Modifying a supercomputer that is able to control all of your work\n",
       "\n",
       "Modifying an MVP of your MVP that is also able to control all of your work\n",
       "\n",
       "Modifying a MVP of your MVP that is able to control all of your work\n",
       "\n",
       "Modifying a MVP of your MVP that is able to control all\n"
      ]
     },
     "metadata": {},
     "output_type": "display_data"
    },
    {
     "data": {
      "text/html": [
       "<pre style=\"white-space:pre;overflow-x:auto;line-height:normal;font-family:Menlo,'DejaVu Sans Mono',consolas,'Courier New',monospace\"><span style=\"color: #00ff00; text-decoration-color: #00ff00\">───────────────────────────────────────────────────────────────────────────────────────────────────────────────────</span>\n",
       "</pre>\n"
      ],
      "text/plain": [
       "\u001b[92m───────────────────────────────────────────────────────────────────────────────────────────────────────────────────\u001b[0m\n"
      ]
     },
     "metadata": {},
     "output_type": "display_data"
    },
    {
     "data": {
      "text/html": [
       "<pre style=\"white-space:pre;overflow-x:auto;line-height:normal;font-family:Menlo,'DejaVu Sans Mono',consolas,'Courier New',monospace\"><span style=\"color: #00ff00; text-decoration-color: #00ff00\">───────────────────────────────────────────────────── </span>iter: <span style=\"color: #800080; text-decoration-color: #800080\">8</span><span style=\"color: #00ff00; text-decoration-color: #00ff00\"> ─────────────────────────────────────────────────────</span>\n",
       "</pre>\n"
      ],
      "text/plain": [
       "\u001b[92m───────────────────────────────────────────────────── \u001b[0miter: \u001b[35m8\u001b[0m\u001b[92m ─────────────────────────────────────────────────────\u001b[0m\n"
      ]
     },
     "metadata": {},
     "output_type": "display_data"
    },
    {
     "data": {
      "application/vnd.jupyter.widget-view+json": {
       "model_id": "4fceb16d40f34401a049cc5c7b8a2f14",
       "version_major": 2,
       "version_minor": 0
      },
      "text/plain": [
       "  0%|          | 0/100 [00:00<?, ?it/s]"
      ]
     },
     "metadata": {},
     "output_type": "display_data"
    },
    {
     "name": "stdout",
     "output_type": "stream",
     "text": [
      "\u001b[38;2;131;131;131m[2023-11-15 10:05:37]\u001b[0m\u001b[34m[INFO]\u001b[0m\u001b[38;2;119;119;119m[trainer.py:516\u001b[0m\u001b[38;2;119;119;119m]\u001b[0m - \u001b[3;94mstep\u001b[0m=\u001b[35m1900\u001b[0m \u001b[3;94mloss\u001b[0m=\u001b[35m3\u001b[0m\u001b[35m.108\u001b[0m \u001b[3;94mdt\u001b[0m=\u001b[35m413\u001b[0m\u001b[35m.097\u001b[0m \u001b[3;94msps\u001b[0m=\u001b[35m2\u001b[0m\u001b[35m.421\u001b[0m \u001b[3;94mmtps\u001b[0m=\u001b[35m0\u001b[0m\u001b[35m.010\u001b[0m \u001b[3;94mmfu\u001b[0m=\u001b[35m23\u001b[0m\u001b[35m.116\u001b[0m \u001b[3;94mtrain_loss\u001b[0m=\u001b[35m0\u001b[0m\u001b[35m.000\u001b[0m \u001b[3;94mval_loss\u001b[0m=\u001b[35m0\u001b[0m\u001b[35m.000\u001b[0m\n"
     ]
    },
    {
     "data": {
      "text/html": [
       "<pre style=\"white-space:pre;overflow-x:auto;line-height:normal;font-family:Menlo,'DejaVu Sans Mono',consolas,'Courier New',monospace\"><span style=\"font-weight: bold\">[</span>prompt<span style=\"font-weight: bold\">]</span>: <span style=\"color: #008000; text-decoration-color: #008000\">\"What is a supercomputer?\"</span>\n",
       "</pre>\n"
      ],
      "text/plain": [
       "\u001b[1m[\u001b[0mprompt\u001b[1m]\u001b[0m: \u001b[32m\"What is a supercomputer?\"\u001b[0m\n"
      ]
     },
     "metadata": {},
     "output_type": "display_data"
    },
    {
     "data": {
      "text/html": [
       "<pre style=\"white-space:pre;overflow-x:auto;line-height:normal;font-family:Menlo,'DejaVu Sans Mono',consolas,'Courier New',monospace\"><span style=\"font-weight: bold\">[</span>response<span style=\"font-weight: bold\">]</span>:\n",
       "\n",
       "What is a supercomputer?\n",
       "\n",
       "A supercomputer is not just a computer. It is an instrument that allows us to perform an algorithm. A supercomputer can be used by scientists, researchers, and computing experts. A supercomputer can be used by our lives to perform mathematical tasks such as addition and subtraction, while also being useful as a tool for fun.\n",
       "\n",
       "What's a supercomputer like?\n",
       "\n",
       "There is a very specific reason why super computers are super computers. Super computers are often referred to as chips, or chips with chips.\n",
       "\n",
       "What's a supercomputer like?\n",
       "\n",
       "Super computers are designed for deep learning. They can be used by any researcher who wants to understand how information works on a large scale. Although super computers often have a single chip, it has a huge number of chips.\n",
       "\n",
       "What's a supercomputer like?\n",
       "\n",
       "Super computers are designed to be used by the military. Scientists use super computers to detect and track enemy aircraft. A supercomputer can also be used to run the full search engine on a large server.\n",
       "\n",
       "What's a supercomputer like?\n",
       "\n",
       "Super computers are being used by academics, who are using the technology to develop tools for research. In particular, super computers have been used to check in on the behavior of the human brain.\n",
       "\n",
       "What's a supercomputer like?\n",
       "\n",
       "Super machines have been used to run a wide range of research, such as the Human Genome Project, where the focus is on understanding what happens in the brain.\n",
       "\n",
       "What's a supercomputer like?\n",
       "\n",
       "Superputers can be used by medical professionals to run an automated treatment program. A supercomputer could be used as a tool to find bugs in a patient's brain.\n",
       "\n",
       "What's a supercomputer like?\n",
       "\n",
       "Super computers are being used by astronomers to study the stars. A supercomputer can also be used as a tool to find bugs in a patient's brain.\n",
       "\n",
       "What's a supercomputer like?\n",
       "\n",
       "As the name of the video game, Supercomputer and Supercomputer. Supercomputer in the name of Super Computer and Supercomputer in the name of Supercomputer and Supercomputer.\n",
       "\n",
       "What's a supercomputer like?\n",
       "\n",
       "Superputers can be used by computer scientists to analyze the structure of stars. A supercomputer can also be used as a tool to find bugs in a patient's brain.\n",
       "\n",
       "What's a supercomputer like?\n",
       "\n",
       "Superputers can be used by computer\n",
       "</pre>\n"
      ],
      "text/plain": [
       "\u001b[1m[\u001b[0mresponse\u001b[1m]\u001b[0m:\n",
       "\n",
       "What is a supercomputer?\n",
       "\n",
       "A supercomputer is not just a computer. It is an instrument that allows us to perform an algorithm. A supercomputer can be used by scientists, researchers, and computing experts. A supercomputer can be used by our lives to perform mathematical tasks such as addition and subtraction, while also being useful as a tool for fun.\n",
       "\n",
       "What's a supercomputer like?\n",
       "\n",
       "There is a very specific reason why super computers are super computers. Super computers are often referred to as chips, or chips with chips.\n",
       "\n",
       "What's a supercomputer like?\n",
       "\n",
       "Super computers are designed for deep learning. They can be used by any researcher who wants to understand how information works on a large scale. Although super computers often have a single chip, it has a huge number of chips.\n",
       "\n",
       "What's a supercomputer like?\n",
       "\n",
       "Super computers are designed to be used by the military. Scientists use super computers to detect and track enemy aircraft. A supercomputer can also be used to run the full search engine on a large server.\n",
       "\n",
       "What's a supercomputer like?\n",
       "\n",
       "Super computers are being used by academics, who are using the technology to develop tools for research. In particular, super computers have been used to check in on the behavior of the human brain.\n",
       "\n",
       "What's a supercomputer like?\n",
       "\n",
       "Super machines have been used to run a wide range of research, such as the Human Genome Project, where the focus is on understanding what happens in the brain.\n",
       "\n",
       "What's a supercomputer like?\n",
       "\n",
       "Superputers can be used by medical professionals to run an automated treatment program. A supercomputer could be used as a tool to find bugs in a patient's brain.\n",
       "\n",
       "What's a supercomputer like?\n",
       "\n",
       "Super computers are being used by astronomers to study the stars. A supercomputer can also be used as a tool to find bugs in a patient's brain.\n",
       "\n",
       "What's a supercomputer like?\n",
       "\n",
       "As the name of the video game, Supercomputer and Supercomputer. Supercomputer in the name of Super Computer and Supercomputer in the name of Supercomputer and Supercomputer.\n",
       "\n",
       "What's a supercomputer like?\n",
       "\n",
       "Superputers can be used by computer scientists to analyze the structure of stars. A supercomputer can also be used as a tool to find bugs in a patient's brain.\n",
       "\n",
       "What's a supercomputer like?\n",
       "\n",
       "Superputers can be used by computer\n"
      ]
     },
     "metadata": {},
     "output_type": "display_data"
    },
    {
     "data": {
      "text/html": [
       "<pre style=\"white-space:pre;overflow-x:auto;line-height:normal;font-family:Menlo,'DejaVu Sans Mono',consolas,'Courier New',monospace\"><span style=\"color: #00ff00; text-decoration-color: #00ff00\">───────────────────────────────────────────────────────────────────────────────────────────────────────────────────</span>\n",
       "</pre>\n"
      ],
      "text/plain": [
       "\u001b[92m───────────────────────────────────────────────────────────────────────────────────────────────────────────────────\u001b[0m\n"
      ]
     },
     "metadata": {},
     "output_type": "display_data"
    },
    {
     "data": {
      "text/html": [
       "<pre style=\"white-space:pre;overflow-x:auto;line-height:normal;font-family:Menlo,'DejaVu Sans Mono',consolas,'Courier New',monospace\"><span style=\"color: #00ff00; text-decoration-color: #00ff00\">───────────────────────────────────────────────────── </span>iter: <span style=\"color: #800080; text-decoration-color: #800080\">9</span><span style=\"color: #00ff00; text-decoration-color: #00ff00\"> ─────────────────────────────────────────────────────</span>\n",
       "</pre>\n"
      ],
      "text/plain": [
       "\u001b[92m───────────────────────────────────────────────────── \u001b[0miter: \u001b[35m9\u001b[0m\u001b[92m ─────────────────────────────────────────────────────\u001b[0m\n"
      ]
     },
     "metadata": {},
     "output_type": "display_data"
    },
    {
     "data": {
      "application/vnd.jupyter.widget-view+json": {
       "model_id": "c6689c746b2f4bb9b0c823ae17ba9bc0",
       "version_major": 2,
       "version_minor": 0
      },
      "text/plain": [
       "  0%|          | 0/100 [00:00<?, ?it/s]"
      ]
     },
     "metadata": {},
     "output_type": "display_data"
    },
    {
     "name": "stdout",
     "output_type": "stream",
     "text": [
      "\u001b[38;2;131;131;131m[2023-11-15 10:06:30]\u001b[0m\u001b[34m[INFO]\u001b[0m\u001b[38;2;119;119;119m[trainer.py:516\u001b[0m\u001b[38;2;119;119;119m]\u001b[0m - \u001b[3;94mstep\u001b[0m=\u001b[35m2000\u001b[0m \u001b[3;94mloss\u001b[0m=\u001b[35m3\u001b[0m\u001b[35m.133\u001b[0m \u001b[3;94mdt\u001b[0m=\u001b[35m378\u001b[0m\u001b[35m.236\u001b[0m \u001b[3;94msps\u001b[0m=\u001b[35m2\u001b[0m\u001b[35m.644\u001b[0m \u001b[3;94mmtps\u001b[0m=\u001b[35m0\u001b[0m\u001b[35m.011\u001b[0m \u001b[3;94mmfu\u001b[0m=\u001b[35m25\u001b[0m\u001b[35m.247\u001b[0m \u001b[3;94mtrain_loss\u001b[0m=\u001b[35m0\u001b[0m\u001b[35m.000\u001b[0m \u001b[3;94mval_loss\u001b[0m=\u001b[35m0\u001b[0m\u001b[35m.000\u001b[0m\n"
     ]
    },
    {
     "data": {
      "text/html": [
       "<pre style=\"white-space:pre;overflow-x:auto;line-height:normal;font-family:Menlo,'DejaVu Sans Mono',consolas,'Courier New',monospace\"><span style=\"font-weight: bold\">[</span>prompt<span style=\"font-weight: bold\">]</span>: <span style=\"color: #008000; text-decoration-color: #008000\">\"What is a supercomputer?\"</span>\n",
       "</pre>\n"
      ],
      "text/plain": [
       "\u001b[1m[\u001b[0mprompt\u001b[1m]\u001b[0m: \u001b[32m\"What is a supercomputer?\"\u001b[0m\n"
      ]
     },
     "metadata": {},
     "output_type": "display_data"
    },
    {
     "data": {
      "text/html": [
       "<pre style=\"white-space:pre;overflow-x:auto;line-height:normal;font-family:Menlo,'DejaVu Sans Mono',consolas,'Courier New',monospace\"><span style=\"font-weight: bold\">[</span>response<span style=\"font-weight: bold\">]</span>:\n",
       "\n",
       "What is a supercomputer?\n",
       "\n",
       "Supercomputing is the concept of processing and storing information such as programs and images into a computer.\n",
       "\n",
       "What kind of information can supercomputing access?\n",
       "\n",
       "When used in supercomputing, it can access the entire computer.\n",
       "\n",
       "What is the most powerful reason to allow supercomputing to access data?\n",
       "\n",
       "Supercomputing can access all the data that a computer can read.\n",
       "\n",
       "What are the most challenging aspects of supercomputing?\n",
       "\n",
       "Most supercomputing tasks require only a basic understanding of CPU instructions.\n",
       "\n",
       "What are the advantages of using supercomputing?\n",
       "\n",
       "It’s a fully accessible method, which makes it accessible and easy to use.<span style=\"font-weight: bold\">&lt;</span><span style=\"color: #ff00ff; text-decoration-color: #ff00ff; font-weight: bold\">|endoftext|</span><span style=\"font-weight: bold\">&gt;</span>The Denver Broncos had a four-year contract with former Denver Broncos offensive coordinator Bill O’Brien out. The Broncos never hired Broncos offensive coordinator Bill O’Brien as Broncos offensive coordinator. O’Brien brought in Broncos offensive coordinator Mike Klis to be the Broncos offensive coordinator. Klis was a Broncos offensive coordinator for two seasons.\n",
       "\n",
       "The Broncos hired Broncos offensive coordinator Mike Klis to be the Broncos offensive coordinator. Denver fired Bill O’Brien as Broncos offensive coordinator.\n",
       "\n",
       " Denver had a four-year contract with Bill O’Brien out. The Broncos never hired Bill O’Brien as Broncos offensive coordinator. O’Brien brought in Broncos offensive coordinator Mike Klis to be the Broncos offensive coordinator.\n",
       "\n",
       "In <span style=\"color: #800080; text-decoration-color: #800080\">2009</span>, the Broncos hired Mike Klis, who was the Broncos offensive coordinator for two seasons.\n",
       "\n",
       " Broncos coach Bill O’Brien, left, and Mike Klis, right, in the Broncos offense. In <span style=\"color: #800080; text-decoration-color: #800080\">2009</span>, Broncos coach Bill O’Brien, left, and Mike Klis, right, in the Broncos offense.\n",
       "\n",
       "It’s a matter of fact that Bill O’Brien brought in Peyton Manning to be the Broncos offensive coordinator. Broncos offensive coordinator Mike Klis , left, and Mike Klis, right, in the Broncos offense.\n",
       "\n",
       "DENVER Broncos coach Bill O’Brien, left, and Mike Klis, right, were the Broncos offensive coordinators. Broncos coach Bill O’Brien, left, and Mike Klis, right.\n",
       "\n",
       "Denver coaches Mike Klis and Mike Klis and Broncos offensive coordinator Mike Klis.\n",
       "\n",
       "Denver coaches Mike Klis and Mike Klis, left. Denver coaches Mike Klis and Mike Klis\n",
       "</pre>\n"
      ],
      "text/plain": [
       "\u001b[1m[\u001b[0mresponse\u001b[1m]\u001b[0m:\n",
       "\n",
       "What is a supercomputer?\n",
       "\n",
       "Supercomputing is the concept of processing and storing information such as programs and images into a computer.\n",
       "\n",
       "What kind of information can supercomputing access?\n",
       "\n",
       "When used in supercomputing, it can access the entire computer.\n",
       "\n",
       "What is the most powerful reason to allow supercomputing to access data?\n",
       "\n",
       "Supercomputing can access all the data that a computer can read.\n",
       "\n",
       "What are the most challenging aspects of supercomputing?\n",
       "\n",
       "Most supercomputing tasks require only a basic understanding of CPU instructions.\n",
       "\n",
       "What are the advantages of using supercomputing?\n",
       "\n",
       "It’s a fully accessible method, which makes it accessible and easy to use.\u001b[1m<\u001b[0m\u001b[1;95m|endoftext|\u001b[0m\u001b[1m>\u001b[0mThe Denver Broncos had a four-year contract with former Denver Broncos offensive coordinator Bill O’Brien out. The Broncos never hired Broncos offensive coordinator Bill O’Brien as Broncos offensive coordinator. O’Brien brought in Broncos offensive coordinator Mike Klis to be the Broncos offensive coordinator. Klis was a Broncos offensive coordinator for two seasons.\n",
       "\n",
       "The Broncos hired Broncos offensive coordinator Mike Klis to be the Broncos offensive coordinator. Denver fired Bill O’Brien as Broncos offensive coordinator.\n",
       "\n",
       " Denver had a four-year contract with Bill O’Brien out. The Broncos never hired Bill O’Brien as Broncos offensive coordinator. O’Brien brought in Broncos offensive coordinator Mike Klis to be the Broncos offensive coordinator.\n",
       "\n",
       "In \u001b[35m2009\u001b[0m, the Broncos hired Mike Klis, who was the Broncos offensive coordinator for two seasons.\n",
       "\n",
       " Broncos coach Bill O’Brien, left, and Mike Klis, right, in the Broncos offense. In \u001b[35m2009\u001b[0m, Broncos coach Bill O’Brien, left, and Mike Klis, right, in the Broncos offense.\n",
       "\n",
       "It’s a matter of fact that Bill O’Brien brought in Peyton Manning to be the Broncos offensive coordinator. Broncos offensive coordinator Mike Klis , left, and Mike Klis, right, in the Broncos offense.\n",
       "\n",
       "DENVER Broncos coach Bill O’Brien, left, and Mike Klis, right, were the Broncos offensive coordinators. Broncos coach Bill O’Brien, left, and Mike Klis, right.\n",
       "\n",
       "Denver coaches Mike Klis and Mike Klis and Broncos offensive coordinator Mike Klis.\n",
       "\n",
       "Denver coaches Mike Klis and Mike Klis, left. Denver coaches Mike Klis and Mike Klis\n"
      ]
     },
     "metadata": {},
     "output_type": "display_data"
    },
    {
     "data": {
      "text/html": [
       "<pre style=\"white-space:pre;overflow-x:auto;line-height:normal;font-family:Menlo,'DejaVu Sans Mono',consolas,'Courier New',monospace\"><span style=\"color: #00ff00; text-decoration-color: #00ff00\">───────────────────────────────────────────────────────────────────────────────────────────────────────────────────</span>\n",
       "</pre>\n"
      ],
      "text/plain": [
       "\u001b[92m───────────────────────────────────────────────────────────────────────────────────────────────────────────────────\u001b[0m\n"
      ]
     },
     "metadata": {},
     "output_type": "display_data"
    }
   ],
   "source": [
    "trainer.model.module.train()\n",
    "for iter in range(10):\n",
    "    console.rule(f'iter: {iter}')\n",
    "    trainer.train(train_iters=100)\n",
    "    query = \"What is a supercomputer?\"\n",
    "    outputs = trainer.evaluate(query, num_samples=1, display=False)\n",
    "    console.print(fr'\\[prompt]: \"{query}\"')\n",
    "    console.print(\"\\[response]:\\n\\n\" + fr\"{outputs['0']['raw']}\")\n",
    "    console.rule()"
   ]
  }
 ],
 "metadata": {
  "kernelspec": {
   "display_name": "Python 3 (ipykernel)",
   "language": "python",
   "name": "python3"
  },
  "language_info": {
   "codemirror_mode": {
    "name": "ipython",
    "version": 3
   },
   "file_extension": ".py",
   "mimetype": "text/x-python",
   "name": "python",
   "nbconvert_exporter": "python",
   "pygments_lexer": "ipython3",
   "version": "3.10.8"
  }
 },
 "nbformat": 4,
 "nbformat_minor": 5
}
