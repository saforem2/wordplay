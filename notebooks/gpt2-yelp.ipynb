{
 "cells": [
  {
   "cell_type": "markdown",
   "id": "1fc5d004-5e6f-4bb3-938e-fb44f919cec3",
   "metadata": {},
   "source": [
    "# `nanoGPT`: GPT-2 Small (150M Params)"
   ]
  },
  {
   "cell_type": "markdown",
   "id": "bd994b32-ca5f-4e00-81d3-89dbbf7b2093",
   "metadata": {},
   "source": [
    "## Install / Setup"
   ]
  },
  {
   "cell_type": "markdown",
   "id": "d2da6456-da39-454f-84c3-196257d1114b",
   "metadata": {},
   "source": [
    "### Google Colab\n",
    "\n",
    "1. Mount Google Drive\n",
    "\n",
    "    ```python\n",
    "    from google.colab import drive\n",
    "    drive.mount('/content/drive')\n",
    "    ```\n",
    "\n",
    "2. `bfloat16` doesn't work on Colab, switch to `float16`\n",
    "\n",
    "3. To prepare data\n",
    "    ```bash\n",
    "    !python3 drive/MyDrive/Google-Colab/nanoGPT/data/prepare.py yelp_review_full\n",
    "    ```"
   ]
  },
  {
   "cell_type": "markdown",
   "id": "71c38d27-5acb-4e5d-87c8-dbb2739cf277",
   "metadata": {},
   "source": [
    "### First Time Running\n",
    "\n",
    "We need to install `ngpt` and setup the Shakespeare dataset\n",
    "\n",
    "This will need to be ran the first time you are running this notebook.\n",
    "\n",
    "Following the\n",
    "\n",
    "```python\n",
    "!python3 -m pip install nanoGPT\n",
    "```\n",
    "\n",
    "you will need to restart your runtime (Runtime -> Restart runtime)\n",
    "\n",
    "After this, you should be able to\n",
    "\n",
    "```python\n",
    ">>> import ngpt\n",
    ">>> ngpt.__file__\n",
    "'/content/nanoGPT/src/ngpt/__init__.py'\n",
    "```"
   ]
  },
  {
   "cell_type": "code",
   "execution_count": 1,
   "id": "c5be81c5-4969-4ebc-8f8b-e6499e90595d",
   "metadata": {
    "execution": {
     "iopub.execute_input": "2023-11-30T13:10:07.940716Z",
     "iopub.status.busy": "2023-11-30T13:10:07.940578Z",
     "iopub.status.idle": "2023-11-30T13:10:08.072183Z",
     "shell.execute_reply": "2023-11-30T13:10:08.071648Z",
     "shell.execute_reply.started": "2023-11-30T13:10:07.940699Z"
    }
   },
   "outputs": [
    {
     "name": "stdout",
     "output_type": "stream",
     "text": [
      "pwd: /lus/grand/projects/datascience/foremans/locations/thetaGPU/projects/saforem2/nanoGPT/notebooks\n",
      "/lus/grand/projects/datascience/foremans/locations/thetaGPU/projects/saforem2/nanoGPT/src/ngpt/__init__.py\n",
      "Has ngpt installed. Nothing to do.\n"
     ]
    }
   ],
   "source": [
    "%%bash\n",
    "\n",
    "#cd drive/MyDrive/Google-Colab/\n",
    "echo \"pwd: $(pwd)\"\n",
    "\n",
    "HF_DATASETS_CACHE=\"./.cache/huggingface\"\n",
    "mkdir -p \"${HF_DATASETS_CACHE}\"\n",
    "\n",
    "python3 -c 'import ngpt; print(ngpt.__file__)' 2> '/dev/null'\n",
    "STATUS=$?\n",
    "\n",
    "if [[ $STATUS -eq 0 ]]; then\n",
    "    echo \"Has ngpt installed. Nothing to do.\"\n",
    "else\n",
    "    echo \"Does not have ngpt installed. Installing...\"\n",
    "    git clone 'https://github.com/saforem2/nanoGPT'\n",
    "    python3 -m pip install -e nanoGPT\n",
    "fi\n",
    "\n",
    "#python3 nanoGPT/data/prepare.py yelp_review_full\n",
    "\n",
    "#cd -"
   ]
  },
  {
   "cell_type": "markdown",
   "id": "c14a8da7-72fe-4839-a14d-f01606285fc3",
   "metadata": {},
   "source": [
    "## Post Install\n",
    "\n",
    "If installed correctly, you should be able to:\n",
    "\n",
    "```python\n",
    ">>> import ngpt\n",
    ">>> ngpt.__file__\n",
    "'/path/to/nanoGPT/src/ngpt/__init__.py'\n",
    "```"
   ]
  },
  {
   "cell_type": "code",
   "execution_count": 2,
   "id": "18502155-cb6d-4040-a356-5fecce7eace0",
   "metadata": {
    "execution": {
     "iopub.execute_input": "2023-11-30T13:10:16.345243Z",
     "iopub.status.busy": "2023-11-30T13:10:16.344798Z",
     "iopub.status.idle": "2023-11-30T13:10:16.435919Z",
     "shell.execute_reply": "2023-11-30T13:10:16.435439Z",
     "shell.execute_reply.started": "2023-11-30T13:10:16.345209Z"
    }
   },
   "outputs": [
    {
     "name": "stdout",
     "output_type": "stream",
     "text": [
      "The autoreload extension is already loaded. To reload it, use:\n",
      "  %reload_ext autoreload\n",
      "\u001b[38;2;131;131;131m[2023-11-30 07:10:16]\u001b[0m\u001b[34m[INFO]\u001b[0m\u001b[38;2;119;119;119m[\u001b[0m\u001b[38;2;119;119;119m3434626787.py\u001b[0m\u001b[38;2;119;119;119m:\u001b[0m\u001b[38;2;119;119;119m7\u001b[0m\u001b[38;2;119;119;119m]\u001b[0m - \u001b[32m/lus/grand/projects/datascience/foremans/locations/thetaGPU/projects/saforem2/nanoGPT/src/ngpt/\u001b[0m\u001b[35m__init__.py\u001b[0m\n"
     ]
    }
   ],
   "source": [
    "%load_ext autoreload\n",
    "%autoreload 2\n",
    "\n",
    "import ngpt\n",
    "from enrich import get_logger\n",
    "log = get_logger('jupyter')\n",
    "log.info(ngpt.__file__)"
   ]
  },
  {
   "cell_type": "markdown",
   "id": "e329ed94-582e-4aa8-bbe0-ba56782fe9e9",
   "metadata": {},
   "source": [
    "## Build Trainer\n",
    "\n",
    "Explicitly, we:\n",
    "\n",
    "1. `setup_torch(...)`\n",
    "2. Build `cfg: DictConfig = get_config(...)`\n",
    "3. Instnatiate `config: ExperimentConfig = instantiate(cfg)`\n",
    "4. Build `trainer = Trainer(config)`"
   ]
  },
  {
   "cell_type": "code",
   "execution_count": 3,
   "id": "c21c7f9b-1a50-4a31-b9d3-97ccaeff09dc",
   "metadata": {
    "execution": {
     "iopub.execute_input": "2023-11-30T13:10:22.504418Z",
     "iopub.status.busy": "2023-11-30T13:10:22.504036Z",
     "iopub.status.idle": "2023-11-30T13:10:22.523328Z",
     "shell.execute_reply": "2023-11-30T13:10:22.522871Z",
     "shell.execute_reply.started": "2023-11-30T13:10:22.504396Z"
    }
   },
   "outputs": [],
   "source": [
    "#import os\n",
    "#os.listdir('../data/yelp_review_full/')"
   ]
  },
  {
   "cell_type": "code",
   "execution_count": 4,
   "id": "7d12405a-8f88-476b-8922-a1a212adc682",
   "metadata": {
    "execution": {
     "iopub.execute_input": "2023-11-30T13:10:29.609211Z",
     "iopub.status.busy": "2023-11-30T13:10:29.608914Z",
     "iopub.status.idle": "2023-11-30T13:11:04.435958Z",
     "shell.execute_reply": "2023-11-30T13:11:04.435218Z",
     "shell.execute_reply.started": "2023-11-30T13:10:29.609195Z"
    }
   },
   "outputs": [
    {
     "name": "stderr",
     "output_type": "stream",
     "text": [
      "--------------------------------------------------------------------------\n",
      "WARNING: There was an error initializing an OpenFabrics device.\n",
      "\n",
      "  Local host:   thetagpu23\n",
      "  Local device: mlx5_0\n",
      "--------------------------------------------------------------------------\n"
     ]
    },
    {
     "name": "stdout",
     "output_type": "stream",
     "text": [
      "\u001b[38;2;131;131;131m[2023-11-30 07:10:33]\u001b[0m\u001b[34m[INFO]\u001b[0m\u001b[38;2;119;119;119m[\u001b[0m\u001b[38;2;119;119;119mconfigs.py\u001b[0m\u001b[38;2;119;119;119m:\u001b[0m\u001b[38;2;119;119;119m72\u001b[0m\u001b[38;2;119;119;119m]\u001b[0m - Setting HF_DATASETS_CACHE to \u001b[32m/lus/grand/projects/datascience/foremans/locations/thetaGPU/projects/saforem2/nanoGPT/.cache/huggingface/\u001b[0m\u001b[35mdatasets\u001b[0m\n",
      "Failed to download font: Source Sans Pro, skipping!\n",
      "Failed to download font: Titillium WebRoboto Condensed, skipping!\n"
     ]
    },
    {
     "data": {
      "text/html": [
       "<pre style=\"white-space:pre;overflow-x:auto;line-height:normal;font-family:Menlo,'DejaVu Sans Mono',consolas,'Courier New',monospace\"><span style=\"color: #838383; text-decoration-color: #838383\">[07:10:36] </span>SEED: <span style=\"color: #800080; text-decoration-color: #800080\">3164946669</span>                                                                                                                                                                                                                                                                                                                                                                                                                                                                                                                                                                                                                                                                                                                                                                                                                                                                                                                                                                                                                                                                                                                                                                                                                                                                                                                                                                                                                                                                                                                                                                                                                                                                                                                                                                                                                                                                                                                                                                                                                                                                                                                                                                                                                                                                                                                                                                                                                                                                                                                                                                                                                                                                                                                                                                                                                                                                                                                                                                                                                                                                                                                                                                                                                                                                                                                                                                                                                                                                                                                                                                                                                                                                                                                                                                                                                                                                                                                                                                                                                                                                                                                                                                                                                                                                                                                                                                                                                                                                                                                                                                                                                                                                                                                                                                                                                                                                                                                                                                                                                                                                                                                                                                                                                                                                                                                                                                                                                                                                                                                                                                                                                                                                                                                                                                                                                                                                                                                                                                                                                                                                                                                                                                                                                                                                                                                                                                                                                                                                                                                                                                                                                                                                                                                                                                                                                                                                                                                                                                                                                                                                                                                                                                                                                                                                                                                                                                                                                                                                                                                                                                                                                                                                                                                                                                                                                                                                                                                                                                                                                                                                                                                                                                                                                                                                                                                                                                                                                                                                                                                                                                                                                                                                                                                                                                                                                                                                                                                                                                                                                                                                                                                                                                                                                                                                                                                                                                                                                                                                                                                                                                                                                                                                                                                                                                                                                                                                                                                                                                                                                                                                                                                                                                                                                                                                                                                                                                    <a href=\"file:///tmp/ipykernel_560003/2906770177.py\" target=\"_blank\"><span style=\"color: #777777; text-decoration-color: #777777\">2906770177.py</span></a><span style=\"color: #777777; text-decoration-color: #777777\">:</span><a href=\"file:///tmp/ipykernel_560003/2906770177.py#17\" target=\"_blank\"><span style=\"color: #777777; text-decoration-color: #777777\">17</span></a>\n",
       "</pre>\n"
      ],
      "text/plain": [
       "\u001b[38;2;131;131;131m[07:10:36]\u001b[0m\u001b[38;2;131;131;131m \u001b[0mSEED: \u001b[35m3164946669\u001b[0m                                                                                                                                                                                                                                                                                                                                                                                                                                                                                                                                                                                                                                                                                                                                                                                                                                                                                                                                                                                                                                                                                                                                                                                                                                                                                                                                                                                                                                                                                                                                                                                                                                                                                                                                                                                                                                                                                                                                                                                                                                                                                                                                                                                                                                                                                                                                                                                                                                                                                                                                                                                                                                                                                                                                                                                                                                                                                                                                                                                                                                                                                                                                                                                                                                                                                                                                                                                                                                                                                                                                                                                                                                                                                                                                                                                                                                                                                                                                                                                                                                                                                                                                                                                                                                                                                                                                                                                                                                                                                                                                                                                                                                                                                                                                                                                                                                                                                                                                                                                                                                                                                                                                                                                                                                                                                                                                                                                                                                                                                                                                                                                                                                                                                                                                                                                                                                                                                                                                                                                                                                                                                                                                                                                                                                                                                                                                                                                                                                                                                                                                                                                                                                                                                                                                                                                                                                                                                                                                                                                                                                                                                                                                                                                                                                                                                                                                                                                                                                                                                                                                                                                                                                                                                                                                                                                                                                                                                                                                                                                                                                                                                                                                                                                                                                                                                                                                                                                                                                                                                                                                                                                                                                                                                                                                                                                                                                                                                                                                                                                                                                                                                                                                                                                                                                                                                                                                                                                                                                                                                                                                                                                                                                                                                                                                                                                                                                                                                                                                                                                                                                                                                                                                                                                                                                                                                                                                                                    \u001b]8;id=174039;file:///tmp/ipykernel_560003/2906770177.py\u001b\\\u001b[38;2;119;119;119m2906770177.py\u001b[0m\u001b]8;;\u001b\\\u001b[38;2;119;119;119m:\u001b[0m\u001b]8;id=194820;file:///tmp/ipykernel_560003/2906770177.py#17\u001b\\\u001b[38;2;119;119;119m17\u001b[0m\u001b]8;;\u001b\\\n"
      ]
     },
     "metadata": {},
     "output_type": "display_data"
    },
    {
     "name": "stdout",
     "output_type": "stream",
     "text": [
      "\u001b[38;2;131;131;131m[2023-11-30 07:10:37]\u001b[0m\u001b[34m[INFO]\u001b[0m\u001b[38;2;119;119;119m[\u001b[0m\u001b[38;2;119;119;119mconfigs.py\u001b[0m\u001b[38;2;119;119;119m:\u001b[0m\u001b[38;2;119;119;119m295\u001b[0m\u001b[38;2;119;119;119m]\u001b[0m - Loading test from \u001b[32m/lus/grand/projects/datascience/foremans/locations/thetaGPU/projects/saforem2/nanoGPT/data/yelp_review_full/\u001b[0m\u001b[35mtest.bin\u001b[0m\n",
      "\u001b[38;2;131;131;131m[2023-11-30 07:10:37]\u001b[0m\u001b[34m[INFO]\u001b[0m\u001b[38;2;119;119;119m[\u001b[0m\u001b[38;2;119;119;119mconfigs.py\u001b[0m\u001b[38;2;119;119;119m:\u001b[0m\u001b[38;2;119;119;119m295\u001b[0m\u001b[38;2;119;119;119m]\u001b[0m - Loading train from \u001b[32m/lus/grand/projects/datascience/foremans/locations/thetaGPU/projects/saforem2/nanoGPT/data/yelp_review_full/\u001b[0m\u001b[35mtrain.bin\u001b[0m\n",
      "\u001b[38;2;131;131;131m[2023-11-30 07:10:37]\u001b[0m\u001b[33m[WARNING]\u001b[0m\u001b[38;2;119;119;119m[\u001b[0m\u001b[38;2;119;119;119mconfigs.py\u001b[0m\u001b[38;2;119;119;119m:\u001b[0m\u001b[38;2;119;119;119m330\u001b[0m\u001b[38;2;119;119;119m]\u001b[0m - No meta.pkl found, assuming GPT-\u001b[35m2\u001b[0m encodings\u001b[33m...\u001b[0m\n",
      "\u001b[38;2;131;131;131m[2023-11-30 07:10:38]\u001b[0m\u001b[34m[INFO]\u001b[0m\u001b[38;2;119;119;119m[\u001b[0m\u001b[38;2;119;119;119mconfigs.py\u001b[0m\u001b[38;2;119;119;119m:\u001b[0m\u001b[38;2;119;119;119m270\u001b[0m\u001b[38;2;119;119;119m]\u001b[0m - Rescaling GAS -> GAS \u001b[32m/\u001b[0m\u001b[32m/\u001b[0m WORLD_SIZE = \u001b[35m1\u001b[0m \u001b[32m/\u001b[0m\u001b[32m/\u001b[0m \u001b[35m1\u001b[0m\n",
      "\u001b[38;2;131;131;131m[2023-11-30 07:10:38]\u001b[0m\u001b[34m[INFO]\u001b[0m\u001b[38;2;119;119;119m[\u001b[0m\u001b[38;2;119;119;119mconfigs.py\u001b[0m\u001b[38;2;119;119;119m:\u001b[0m\u001b[38;2;119;119;119m432\u001b[0m\u001b[38;2;119;119;119m]\u001b[0m - Tokens per iteration: \u001b[35m4\u001b[0m,\u001b[35m096\u001b[0m\n",
      "\u001b[38;2;131;131;131m[2023-11-30 07:10:38]\u001b[0m\u001b[34m[INFO]\u001b[0m\u001b[38;2;119;119;119m[\u001b[0m\u001b[38;2;119;119;119mconfigs.py\u001b[0m\u001b[38;2;119;119;119m:\u001b[0m\u001b[38;2;119;119;119m454\u001b[0m\u001b[38;2;119;119;119m]\u001b[0m - Using \u001b[1m<\u001b[0m\u001b[1;95mtorch.amp.autocast_mode.autocast\u001b[0m\u001b[39m object at \u001b[0m\u001b[35m0x7f2cc6117fd0\u001b[0m\u001b[1m>\u001b[0m\n",
      "\u001b[38;2;131;131;131m[2023-11-30 07:10:38]\u001b[0m\u001b[34m[INFO]\u001b[0m\u001b[38;2;119;119;119m[\u001b[0m\u001b[38;2;119;119;119mtrainer.py\u001b[0m\u001b[38;2;119;119;119m:\u001b[0m\u001b[38;2;119;119;119m187\u001b[0m\u001b[38;2;119;119;119m]\u001b[0m - Initializing from OpenAI GPT-\u001b[35m2\u001b[0m Weights: gpt2-medium\n",
      "\u001b[38;2;131;131;131m[2023-11-30 07:10:45]\u001b[0m\u001b[34m[INFO]\u001b[0m\u001b[38;2;119;119;119m[\u001b[0m\u001b[38;2;119;119;119mmodel.py\u001b[0m\u001b[38;2;119;119;119m:\u001b[0m\u001b[38;2;119;119;119m225\u001b[0m\u001b[38;2;119;119;119m]\u001b[0m - loading weights from pretrained gpt: gpt2-medium\n",
      "\u001b[38;2;131;131;131m[2023-11-30 07:10:45]\u001b[0m\u001b[34m[INFO]\u001b[0m\u001b[38;2;119;119;119m[\u001b[0m\u001b[38;2;119;119;119mmodel.py\u001b[0m\u001b[38;2;119;119;119m:\u001b[0m\u001b[38;2;119;119;119m234\u001b[0m\u001b[38;2;119;119;119m]\u001b[0m - forcing \u001b[3;94mvocab_size\u001b[0m=\u001b[35m50257\u001b[0m, \u001b[3;94mblock_size\u001b[0m=\u001b[35m1024\u001b[0m, \u001b[3;94mbias\u001b[0m=\u001b[3;92mTrue\u001b[0m\n",
      "\u001b[38;2;131;131;131m[2023-11-30 07:10:45]\u001b[0m\u001b[34m[INFO]\u001b[0m\u001b[38;2;119;119;119m[\u001b[0m\u001b[38;2;119;119;119mmodel.py\u001b[0m\u001b[38;2;119;119;119m:\u001b[0m\u001b[38;2;119;119;119m240\u001b[0m\u001b[38;2;119;119;119m]\u001b[0m - overriding dropout rate to \u001b[35m0.0\u001b[0m\n",
      "\u001b[38;2;131;131;131m[2023-11-30 07:10:50]\u001b[0m\u001b[34m[INFO]\u001b[0m\u001b[38;2;119;119;119m[\u001b[0m\u001b[38;2;119;119;119mmodel.py\u001b[0m\u001b[38;2;119;119;119m:\u001b[0m\u001b[38;2;119;119;119m160\u001b[0m\u001b[38;2;119;119;119m]\u001b[0m - number of parameters: \u001b[35m353.\u001b[0m77M\n",
      "\u001b[38;2;131;131;131m[2023-11-30 07:11:02]\u001b[0m\u001b[34m[INFO]\u001b[0m\u001b[38;2;119;119;119m[\u001b[0m\u001b[38;2;119;119;119mmodel.py\u001b[0m\u001b[38;2;119;119;119m:\u001b[0m\u001b[38;2;119;119;119m290\u001b[0m\u001b[38;2;119;119;119m]\u001b[0m - num decayed parameter tensors: \u001b[35m98\u001b[0m, with \u001b[35m354\u001b[0m,\u001b[35m501\u001b[0m,\u001b[35m632\u001b[0m parameters\n",
      "\u001b[38;2;131;131;131m[2023-11-30 07:11:02]\u001b[0m\u001b[34m[INFO]\u001b[0m\u001b[38;2;119;119;119m[\u001b[0m\u001b[38;2;119;119;119mmodel.py\u001b[0m\u001b[38;2;119;119;119m:\u001b[0m\u001b[38;2;119;119;119m291\u001b[0m\u001b[38;2;119;119;119m]\u001b[0m - num non-decayed parameter tensors: \u001b[35m194\u001b[0m, with \u001b[35m321\u001b[0m,\u001b[35m536\u001b[0m parameters\n",
      "\u001b[38;2;131;131;131m[2023-11-30 07:11:02]\u001b[0m\u001b[34m[INFO]\u001b[0m\u001b[38;2;119;119;119m[\u001b[0m\u001b[38;2;119;119;119mmodel.py\u001b[0m\u001b[38;2;119;119;119m:\u001b[0m\u001b[38;2;119;119;119m297\u001b[0m\u001b[38;2;119;119;119m]\u001b[0m - using fused AdamW: \u001b[3;92mTrue\u001b[0m\n"
     ]
    }
   ],
   "source": [
    "import os\n",
    "import numpy as np\n",
    "from ezpz import setup_torch\n",
    "from hydra.utils import instantiate\n",
    "from ngpt.configs import get_config, PROJECT_ROOT\n",
    "from ngpt.trainer import Trainer\n",
    "from enrich.console import get_console\n",
    "\n",
    "console = get_console()\n",
    "HF_DATASETS_CACHE = PROJECT_ROOT.joinpath('.cache', 'huggingface')\n",
    "HF_DATASETS_CACHE.mkdir(exist_ok=True, parents=True)\n",
    "\n",
    "os.environ['MASTER_PORT'] = '5278'\n",
    "os.environ['HF_DATASETS_CACHE'] = HF_DATASETS_CACHE.as_posix()\n",
    "\n",
    "SEED = np.random.randint(2**32)\n",
    "console.log(f'SEED: {SEED}')\n",
    "\n",
    "rank = setup_torch('DDP', seed=1234)\n",
    "cfg = get_config(\n",
    "    [\n",
    "        'data=yelp',\n",
    "        #'data.dataset=yelp_review_full',\n",
    "        #'data.root_path=../data/yelp_review_full/',\n",
    "        #'data.out_dir=output_yelp_review_full',\n",
    "        'model=gpt2_medium',\n",
    "        'optimizer=gpt2_medium',\n",
    "        'train=gpt2_medium',\n",
    "        'train.dtype=bfloat16',\n",
    "        'train.max_iters=1000',\n",
    "        'train.log_interval=100',\n",
    "        'train.init_from=gpt2-medium',\n",
    "    ]\n",
    ")\n",
    "config = instantiate(cfg)\n",
    "trainer = Trainer(config)"
   ]
  },
  {
   "cell_type": "markdown",
   "id": "3b6d7193-d882-4cb5-b9ad-20813b1a3ea2",
   "metadata": {},
   "source": [
    "## Prompt (**prior** to training)"
   ]
  },
  {
   "cell_type": "code",
   "execution_count": 5,
   "id": "74186534-a25a-4ea6-bcfa-bfe9363b21d9",
   "metadata": {
    "execution": {
     "iopub.execute_input": "2023-11-30T13:11:04.438509Z",
     "iopub.status.busy": "2023-11-30T13:11:04.438034Z",
     "iopub.status.idle": "2023-11-30T13:11:18.753555Z",
     "shell.execute_reply": "2023-11-30T13:11:18.753195Z",
     "shell.execute_reply.started": "2023-11-30T13:11:04.438488Z"
    }
   },
   "outputs": [
    {
     "data": {
      "text/html": [
       "<pre style=\"white-space:pre;overflow-x:auto;line-height:normal;font-family:Menlo,'DejaVu Sans Mono',consolas,'Courier New',monospace\"><span style=\"font-weight: bold\">[</span>prompt<span style=\"font-weight: bold\">]</span>: <span style=\"color: #008000; text-decoration-color: #008000\">\"What is a supercomputer? Explain like I'm a child, and speak clearly. Double check your logic..\"</span>\n",
       "</pre>\n"
      ],
      "text/plain": [
       "\u001b[1m[\u001b[0mprompt\u001b[1m]\u001b[0m: \u001b[32m\"What is a supercomputer? Explain like I'm a child, and speak clearly. Double check your logic..\"\u001b[0m\n"
      ]
     },
     "metadata": {},
     "output_type": "display_data"
    },
    {
     "data": {
      "text/html": [
       "<pre style=\"white-space:pre;overflow-x:auto;line-height:normal;font-family:Menlo,'DejaVu Sans Mono',consolas,'Courier New',monospace\"><span style=\"font-weight: bold\">[</span>response<span style=\"font-weight: bold\">]</span>:\n",
       "\n",
       "What is a supercomputer? Explain like I'm a child, and speak clearly. Double check your logic.. When I ask you to describe your computer, this is what you know: a computer that runs a quantum computer to run a computer program. There are now two supercomputers that can do quantum computations, so how can you explain quantum computing? We will get into what quantum computing is first, and then we are going to talk to you about what is a supercomputer. You will learn how to explain quantum computing to a child, and you will find out that quantum computing is what is called artificial intelligence <span style=\"font-weight: bold\">(</span>AI<span style=\"font-weight: bold\">)</span>. Do you understand quantum computing?\n",
       "\n",
       "Follow up – Answering the Quantum Computing Questions\n",
       "\n",
       "Cognitive scientists are trying to define what is called artificial intelligence <span style=\"font-weight: bold\">(</span>AI<span style=\"font-weight: bold\">)</span>. They are trying to understand what computers can do. At the heart of the argument are the following three questions:\n",
       "\n",
       "What is AI and how does it apply to science?\n",
       "\n",
       "What if I say, <span style=\"color: #008000; text-decoration-color: #008000\">\"A computer can tell me if I am an elf, a lion, a fox, or a squirrel?\"</span>. Can I make a decision?\n",
       "\n",
       "How does AI fit into the human condition?\n",
       "\n",
       "Have you ever thought about what is intelligence? Have you ever wondered, <span style=\"color: #008000; text-decoration-color: #008000\">\"What if I want to create a computer that can build me an AI, and that computer is smarter than me? How will the AI affect my life?\"</span>.\n",
       "\n",
       "Before you even begin…\n",
       "\n",
       "BECAUSE YOU HAVE NOT BEEN PURCHASED\n",
       "\n",
       "This is where you may want to get an answer to a question that you have never had the opportunity to ask, and which is too big to ask right now. Think about it. Will I be able to make decisions? Will I be able to ask questions? Do I have the right to be an AI?\n",
       "\n",
       "With an intelligent AI, you can have the ability to run my brain. You can have your mind, and you can control it. You can control your body, you can control your thoughts, and you can control your actions. That will make you a living being. If you are able to experience the world like the rest of us, you will have a better understanding of what it means to be alive; a living being. You will have the ability to observe, dream, and experience. All this will be possible to you if you are created as an intelligent being.\n",
       "\n",
       "By creating an AI, this will be easier. It will be easy for someone to create an AI, and then run it as if\n",
       "</pre>\n"
      ],
      "text/plain": [
       "\u001b[1m[\u001b[0mresponse\u001b[1m]\u001b[0m:\n",
       "\n",
       "What is a supercomputer? Explain like I'm a child, and speak clearly. Double check your logic.. When I ask you to describe your computer, this is what you know: a computer that runs a quantum computer to run a computer program. There are now two supercomputers that can do quantum computations, so how can you explain quantum computing? We will get into what quantum computing is first, and then we are going to talk to you about what is a supercomputer. You will learn how to explain quantum computing to a child, and you will find out that quantum computing is what is called artificial intelligence \u001b[1m(\u001b[0mAI\u001b[1m)\u001b[0m. Do you understand quantum computing?\n",
       "\n",
       "Follow up – Answering the Quantum Computing Questions\n",
       "\n",
       "Cognitive scientists are trying to define what is called artificial intelligence \u001b[1m(\u001b[0mAI\u001b[1m)\u001b[0m. They are trying to understand what computers can do. At the heart of the argument are the following three questions:\n",
       "\n",
       "What is AI and how does it apply to science?\n",
       "\n",
       "What if I say, \u001b[32m\"A computer can tell me if I am an elf, a lion, a fox, or a squirrel?\"\u001b[0m. Can I make a decision?\n",
       "\n",
       "How does AI fit into the human condition?\n",
       "\n",
       "Have you ever thought about what is intelligence? Have you ever wondered, \u001b[32m\"What if I want to create a computer that can build me an AI, and that computer is smarter than me? How will the AI affect my life?\"\u001b[0m.\n",
       "\n",
       "Before you even begin…\n",
       "\n",
       "BECAUSE YOU HAVE NOT BEEN PURCHASED\n",
       "\n",
       "This is where you may want to get an answer to a question that you have never had the opportunity to ask, and which is too big to ask right now. Think about it. Will I be able to make decisions? Will I be able to ask questions? Do I have the right to be an AI?\n",
       "\n",
       "With an intelligent AI, you can have the ability to run my brain. You can have your mind, and you can control it. You can control your body, you can control your thoughts, and you can control your actions. That will make you a living being. If you are able to experience the world like the rest of us, you will have a better understanding of what it means to be alive; a living being. You will have the ability to observe, dream, and experience. All this will be possible to you if you are created as an intelligent being.\n",
       "\n",
       "By creating an AI, this will be easier. It will be easy for someone to create an AI, and then run it as if\n"
      ]
     },
     "metadata": {},
     "output_type": "display_data"
    }
   ],
   "source": [
    "query = \"What is a supercomputer? Explain like I'm a child, and speak clearly. Double check your logic..\"\n",
    "outputs = trainer.evaluate(query, num_samples=1, display=False)\n",
    "console.print(fr'\\[prompt]: \"{query}\"')\n",
    "console.print(\"\\[response]:\\n\\n\" + fr\"{outputs['0']['raw']}\")"
   ]
  },
  {
   "cell_type": "markdown",
   "id": "c5202ff3-8811-47c9-8b9d-9818d4603697",
   "metadata": {},
   "source": [
    "## Train Model\n",
    "\n",
    "\n",
    "|  **NAME**  |     **DESCRIPTION**          |\n",
    "|:----------:|:----------------------------:|\n",
    "|   `step`   | Current training step        |\n",
    "|   `loss`   | Loss value                   |\n",
    "|   `dt`     | Time per step (in **ms**)    |\n",
    "|   `sps`    | Samples per second           |\n",
    "|   `mtps`   | (million) Tokens per sec     |\n",
    "|   `mfu`    | Model Flops Utilization*     |\n",
    "^Logging Legend\n",
    "\n",
    "*in units of A100 `bfloat16` peak FLOPS"
   ]
  },
  {
   "cell_type": "code",
   "execution_count": 6,
   "id": "acb8d33b-f8c9-41c6-aa61-95bdb76bf6ea",
   "metadata": {
    "execution": {
     "iopub.execute_input": "2023-11-30T13:12:00.400332Z",
     "iopub.status.busy": "2023-11-30T13:12:00.399870Z",
     "iopub.status.idle": "2023-11-30T13:17:09.005260Z",
     "shell.execute_reply": "2023-11-30T13:17:09.004952Z",
     "shell.execute_reply.started": "2023-11-30T13:12:00.400311Z"
    }
   },
   "outputs": [
    {
     "data": {
      "application/vnd.jupyter.widget-view+json": {
       "model_id": "47b0b2e9d99346b19a124ee6dab1aaa7",
       "version_major": 2,
       "version_minor": 0
      },
      "text/plain": [
       "  0%|          | 0/1000 [00:00<?, ?it/s]"
      ]
     },
     "metadata": {},
     "output_type": "display_data"
    },
    {
     "name": "stdout",
     "output_type": "stream",
     "text": [
      "\u001b[38;2;131;131;131m[2023-11-30 07:12:55]\u001b[0m\u001b[34m[INFO]\u001b[0m\u001b[38;2;119;119;119m[\u001b[0m\u001b[38;2;119;119;119mtrainer.py\u001b[0m\u001b[38;2;119;119;119m:\u001b[0m\u001b[38;2;119;119;119m518\u001b[0m\u001b[38;2;119;119;119m]\u001b[0m - \u001b[3;94mstep\u001b[0m=\u001b[35m100\u001b[0m \u001b[3;94mloss\u001b[0m=\u001b[35m3\u001b[0m\u001b[35m.118\u001b[0m \u001b[3;94mdt\u001b[0m=\u001b[35m280\u001b[0m\u001b[35m.748\u001b[0m \u001b[3;94msps\u001b[0m=\u001b[35m3\u001b[0m\u001b[35m.562\u001b[0m \u001b[3;94mmtps\u001b[0m=\u001b[35m0\u001b[0m\u001b[35m.015\u001b[0m \u001b[3;94mmfu\u001b[0m=\u001b[35m34\u001b[0m\u001b[35m.014\u001b[0m \u001b[3;94mtrain_loss\u001b[0m=\u001b[35m3\u001b[0m\u001b[35m.389\u001b[0m \u001b[3;94mval_loss\u001b[0m=\u001b[35m0\u001b[0m\u001b[35m.000\u001b[0m\n",
      "\u001b[38;2;131;131;131m[2023-11-30 07:13:23]\u001b[0m\u001b[34m[INFO]\u001b[0m\u001b[38;2;119;119;119m[\u001b[0m\u001b[38;2;119;119;119mtrainer.py\u001b[0m\u001b[38;2;119;119;119m:\u001b[0m\u001b[38;2;119;119;119m518\u001b[0m\u001b[38;2;119;119;119m]\u001b[0m - \u001b[3;94mstep\u001b[0m=\u001b[35m200\u001b[0m \u001b[3;94mloss\u001b[0m=\u001b[35m3\u001b[0m\u001b[35m.138\u001b[0m \u001b[3;94mdt\u001b[0m=\u001b[35m281\u001b[0m\u001b[35m.203\u001b[0m \u001b[3;94msps\u001b[0m=\u001b[35m3\u001b[0m\u001b[35m.556\u001b[0m \u001b[3;94mmtps\u001b[0m=\u001b[35m0\u001b[0m\u001b[35m.015\u001b[0m \u001b[3;94mmfu\u001b[0m=\u001b[35m34\u001b[0m\u001b[35m.008\u001b[0m \u001b[3;94mtrain_loss\u001b[0m=\u001b[35m3\u001b[0m\u001b[35m.389\u001b[0m \u001b[3;94mval_loss\u001b[0m=\u001b[35m0\u001b[0m\u001b[35m.000\u001b[0m\n",
      "\u001b[38;2;131;131;131m[2023-11-30 07:13:51]\u001b[0m\u001b[34m[INFO]\u001b[0m\u001b[38;2;119;119;119m[\u001b[0m\u001b[38;2;119;119;119mtrainer.py\u001b[0m\u001b[38;2;119;119;119m:\u001b[0m\u001b[38;2;119;119;119m518\u001b[0m\u001b[38;2;119;119;119m]\u001b[0m - \u001b[3;94mstep\u001b[0m=\u001b[35m300\u001b[0m \u001b[3;94mloss\u001b[0m=\u001b[35m3\u001b[0m\u001b[35m.065\u001b[0m \u001b[3;94mdt\u001b[0m=\u001b[35m280\u001b[0m\u001b[35m.476\u001b[0m \u001b[3;94msps\u001b[0m=\u001b[35m3\u001b[0m\u001b[35m.565\u001b[0m \u001b[3;94mmtps\u001b[0m=\u001b[35m0\u001b[0m\u001b[35m.015\u001b[0m \u001b[3;94mmfu\u001b[0m=\u001b[35m34\u001b[0m\u001b[35m.012\u001b[0m \u001b[3;94mtrain_loss\u001b[0m=\u001b[35m3\u001b[0m\u001b[35m.389\u001b[0m \u001b[3;94mval_loss\u001b[0m=\u001b[35m0\u001b[0m\u001b[35m.000\u001b[0m\n",
      "\u001b[38;2;131;131;131m[2023-11-30 07:14:19]\u001b[0m\u001b[34m[INFO]\u001b[0m\u001b[38;2;119;119;119m[\u001b[0m\u001b[38;2;119;119;119mtrainer.py\u001b[0m\u001b[38;2;119;119;119m:\u001b[0m\u001b[38;2;119;119;119m518\u001b[0m\u001b[38;2;119;119;119m]\u001b[0m - \u001b[3;94mstep\u001b[0m=\u001b[35m400\u001b[0m \u001b[3;94mloss\u001b[0m=\u001b[35m3\u001b[0m\u001b[35m.194\u001b[0m \u001b[3;94mdt\u001b[0m=\u001b[35m280\u001b[0m\u001b[35m.566\u001b[0m \u001b[3;94msps\u001b[0m=\u001b[35m3\u001b[0m\u001b[35m.564\u001b[0m \u001b[3;94mmtps\u001b[0m=\u001b[35m0\u001b[0m\u001b[35m.015\u001b[0m \u001b[3;94mmfu\u001b[0m=\u001b[35m34\u001b[0m\u001b[35m.015\u001b[0m \u001b[3;94mtrain_loss\u001b[0m=\u001b[35m3\u001b[0m\u001b[35m.389\u001b[0m \u001b[3;94mval_loss\u001b[0m=\u001b[35m0\u001b[0m\u001b[35m.000\u001b[0m\n",
      "\u001b[38;2;131;131;131m[2023-11-30 07:14:48]\u001b[0m\u001b[34m[INFO]\u001b[0m\u001b[38;2;119;119;119m[\u001b[0m\u001b[38;2;119;119;119mtrainer.py\u001b[0m\u001b[38;2;119;119;119m:\u001b[0m\u001b[38;2;119;119;119m518\u001b[0m\u001b[38;2;119;119;119m]\u001b[0m - \u001b[3;94mstep\u001b[0m=\u001b[35m500\u001b[0m \u001b[3;94mloss\u001b[0m=\u001b[35m3\u001b[0m\u001b[35m.086\u001b[0m \u001b[3;94mdt\u001b[0m=\u001b[35m281\u001b[0m\u001b[35m.708\u001b[0m \u001b[3;94msps\u001b[0m=\u001b[35m3\u001b[0m\u001b[35m.550\u001b[0m \u001b[3;94mmtps\u001b[0m=\u001b[35m0\u001b[0m\u001b[35m.015\u001b[0m \u001b[3;94mmfu\u001b[0m=\u001b[35m34\u001b[0m\u001b[35m.003\u001b[0m \u001b[3;94mtrain_loss\u001b[0m=\u001b[35m3\u001b[0m\u001b[35m.389\u001b[0m \u001b[3;94mval_loss\u001b[0m=\u001b[35m0\u001b[0m\u001b[35m.000\u001b[0m\n",
      "\u001b[38;2;131;131;131m[2023-11-30 07:15:16]\u001b[0m\u001b[34m[INFO]\u001b[0m\u001b[38;2;119;119;119m[\u001b[0m\u001b[38;2;119;119;119mtrainer.py\u001b[0m\u001b[38;2;119;119;119m:\u001b[0m\u001b[38;2;119;119;119m518\u001b[0m\u001b[38;2;119;119;119m]\u001b[0m - \u001b[3;94mstep\u001b[0m=\u001b[35m600\u001b[0m \u001b[3;94mloss\u001b[0m=\u001b[35m3\u001b[0m\u001b[35m.055\u001b[0m \u001b[3;94mdt\u001b[0m=\u001b[35m280\u001b[0m\u001b[35m.845\u001b[0m \u001b[3;94msps\u001b[0m=\u001b[35m3\u001b[0m\u001b[35m.561\u001b[0m \u001b[3;94mmtps\u001b[0m=\u001b[35m0\u001b[0m\u001b[35m.015\u001b[0m \u001b[3;94mmfu\u001b[0m=\u001b[35m34\u001b[0m\u001b[35m.003\u001b[0m \u001b[3;94mtrain_loss\u001b[0m=\u001b[35m3\u001b[0m\u001b[35m.389\u001b[0m \u001b[3;94mval_loss\u001b[0m=\u001b[35m0\u001b[0m\u001b[35m.000\u001b[0m\n",
      "\u001b[38;2;131;131;131m[2023-11-30 07:15:44]\u001b[0m\u001b[34m[INFO]\u001b[0m\u001b[38;2;119;119;119m[\u001b[0m\u001b[38;2;119;119;119mtrainer.py\u001b[0m\u001b[38;2;119;119;119m:\u001b[0m\u001b[38;2;119;119;119m518\u001b[0m\u001b[38;2;119;119;119m]\u001b[0m - \u001b[3;94mstep\u001b[0m=\u001b[35m700\u001b[0m \u001b[3;94mloss\u001b[0m=\u001b[35m3\u001b[0m\u001b[35m.213\u001b[0m \u001b[3;94mdt\u001b[0m=\u001b[35m281\u001b[0m\u001b[35m.231\u001b[0m \u001b[3;94msps\u001b[0m=\u001b[35m3\u001b[0m\u001b[35m.556\u001b[0m \u001b[3;94mmtps\u001b[0m=\u001b[35m0\u001b[0m\u001b[35m.015\u001b[0m \u001b[3;94mmfu\u001b[0m=\u001b[35m33\u001b[0m\u001b[35m.998\u001b[0m \u001b[3;94mtrain_loss\u001b[0m=\u001b[35m3\u001b[0m\u001b[35m.389\u001b[0m \u001b[3;94mval_loss\u001b[0m=\u001b[35m0\u001b[0m\u001b[35m.000\u001b[0m\n",
      "\u001b[38;2;131;131;131m[2023-11-30 07:16:12]\u001b[0m\u001b[34m[INFO]\u001b[0m\u001b[38;2;119;119;119m[\u001b[0m\u001b[38;2;119;119;119mtrainer.py\u001b[0m\u001b[38;2;119;119;119m:\u001b[0m\u001b[38;2;119;119;119m518\u001b[0m\u001b[38;2;119;119;119m]\u001b[0m - \u001b[3;94mstep\u001b[0m=\u001b[35m800\u001b[0m \u001b[3;94mloss\u001b[0m=\u001b[35m3\u001b[0m\u001b[35m.115\u001b[0m \u001b[3;94mdt\u001b[0m=\u001b[35m289\u001b[0m\u001b[35m.749\u001b[0m \u001b[3;94msps\u001b[0m=\u001b[35m3\u001b[0m\u001b[35m.451\u001b[0m \u001b[3;94mmtps\u001b[0m=\u001b[35m0\u001b[0m\u001b[35m.014\u001b[0m \u001b[3;94mmfu\u001b[0m=\u001b[35m33\u001b[0m\u001b[35m.894\u001b[0m \u001b[3;94mtrain_loss\u001b[0m=\u001b[35m3\u001b[0m\u001b[35m.389\u001b[0m \u001b[3;94mval_loss\u001b[0m=\u001b[35m0\u001b[0m\u001b[35m.000\u001b[0m\n",
      "\u001b[38;2;131;131;131m[2023-11-30 07:16:40]\u001b[0m\u001b[34m[INFO]\u001b[0m\u001b[38;2;119;119;119m[\u001b[0m\u001b[38;2;119;119;119mtrainer.py\u001b[0m\u001b[38;2;119;119;119m:\u001b[0m\u001b[38;2;119;119;119m518\u001b[0m\u001b[38;2;119;119;119m]\u001b[0m - \u001b[3;94mstep\u001b[0m=\u001b[35m900\u001b[0m \u001b[3;94mloss\u001b[0m=\u001b[35m3\u001b[0m\u001b[35m.124\u001b[0m \u001b[3;94mdt\u001b[0m=\u001b[35m280\u001b[0m\u001b[35m.994\u001b[0m \u001b[3;94msps\u001b[0m=\u001b[35m3\u001b[0m\u001b[35m.559\u001b[0m \u001b[3;94mmtps\u001b[0m=\u001b[35m0\u001b[0m\u001b[35m.015\u001b[0m \u001b[3;94mmfu\u001b[0m=\u001b[35m33\u001b[0m\u001b[35m.903\u001b[0m \u001b[3;94mtrain_loss\u001b[0m=\u001b[35m3\u001b[0m\u001b[35m.389\u001b[0m \u001b[3;94mval_loss\u001b[0m=\u001b[35m0\u001b[0m\u001b[35m.000\u001b[0m\n",
      "\u001b[38;2;131;131;131m[2023-11-30 07:17:08]\u001b[0m\u001b[34m[INFO]\u001b[0m\u001b[38;2;119;119;119m[\u001b[0m\u001b[38;2;119;119;119mtrainer.py\u001b[0m\u001b[38;2;119;119;119m:\u001b[0m\u001b[38;2;119;119;119m518\u001b[0m\u001b[38;2;119;119;119m]\u001b[0m - \u001b[3;94mstep\u001b[0m=\u001b[35m1000\u001b[0m \u001b[3;94mloss\u001b[0m=\u001b[35m3\u001b[0m\u001b[35m.158\u001b[0m \u001b[3;94mdt\u001b[0m=\u001b[35m280\u001b[0m\u001b[35m.818\u001b[0m \u001b[3;94msps\u001b[0m=\u001b[35m3\u001b[0m\u001b[35m.561\u001b[0m \u001b[3;94mmtps\u001b[0m=\u001b[35m0\u001b[0m\u001b[35m.015\u001b[0m \u001b[3;94mmfu\u001b[0m=\u001b[35m33\u001b[0m\u001b[35m.913\u001b[0m \u001b[3;94mtrain_loss\u001b[0m=\u001b[35m3\u001b[0m\u001b[35m.389\u001b[0m \u001b[3;94mval_loss\u001b[0m=\u001b[35m0\u001b[0m\u001b[35m.000\u001b[0m\n"
     ]
    }
   ],
   "source": [
    "trainer.train()"
   ]
  },
  {
   "cell_type": "markdown",
   "id": "aa5c0c5a-539a-462d-a9e3-0655e8e48d85",
   "metadata": {},
   "source": [
    "## Evaluate Model"
   ]
  },
  {
   "cell_type": "code",
   "execution_count": 7,
   "id": "e9dc8564-b518-4ad4-bf7a-7c1120416765",
   "metadata": {
    "execution": {
     "iopub.execute_input": "2023-11-30T13:17:53.552403Z",
     "iopub.status.busy": "2023-11-30T13:17:53.552034Z",
     "iopub.status.idle": "2023-11-30T13:18:07.536181Z",
     "shell.execute_reply": "2023-11-30T13:18:07.535864Z",
     "shell.execute_reply.started": "2023-11-30T13:17:53.552381Z"
    }
   },
   "outputs": [
    {
     "data": {
      "text/html": [
       "<pre style=\"white-space:pre;overflow-x:auto;line-height:normal;font-family:Menlo,'DejaVu Sans Mono',consolas,'Courier New',monospace\"><span style=\"font-weight: bold\">[</span>prompt<span style=\"font-weight: bold\">]</span>: <span style=\"color: #008000; text-decoration-color: #008000\">\"What is a supercomputer? Explain like I'm a child, and speak clearly. Double check your logic..\"</span>\n",
       "</pre>\n"
      ],
      "text/plain": [
       "\u001b[1m[\u001b[0mprompt\u001b[1m]\u001b[0m: \u001b[32m\"What is a supercomputer? Explain like I'm a child, and speak clearly. Double check your logic..\"\u001b[0m\n"
      ]
     },
     "metadata": {},
     "output_type": "display_data"
    },
    {
     "data": {
      "text/html": [
       "<pre style=\"white-space:pre;overflow-x:auto;line-height:normal;font-family:Menlo,'DejaVu Sans Mono',consolas,'Courier New',monospace\"><span style=\"font-weight: bold\">[</span>response<span style=\"font-weight: bold\">]</span>:\n",
       "\n",
       "What is a supercomputer? Explain like I'm a child, and speak clearly. Double check your logic..what's left to say and how do I want to be treated? I find a copy of my birthday song and I love it. What do you think is going to happen? I guess I got two chances on the table. \\n\\nWell, I like the mix of the place. Too cute for me to give a review.<span style=\"font-weight: bold\">&lt;</span><span style=\"color: #ff00ff; text-decoration-color: #ff00ff; font-weight: bold\">|endoftext|</span><span style=\"font-weight: bold\">&gt;</span>I don't know if I've already been to the MOST expensive hotel in town or not.  But, I like this hotel.  It's just a bit nicer than most others, like the Monte Carlo, but the rooms here are just fine. It isn't fancy, but it's not cheap for Vegas.<span style=\"font-weight: bold\">&lt;</span><span style=\"color: #ff00ff; text-decoration-color: #ff00ff; font-weight: bold\">|endoftext|</span><span style=\"font-weight: bold\">&gt;</span>I booked a room here for <span style=\"color: #800080; text-decoration-color: #800080\">2</span> nights. I stayed in the casino at 9pm on a Sunday.  I was charged for <span style=\"color: #800080; text-decoration-color: #800080\">1</span>/<span style=\"color: #800080; text-decoration-color: #800080\">5</span> of a soda instead of the full size. How underhanded! And I'm sure I'm very lucky to be charged for a soda which I had not paid for. I had paid for a soda, but never received it. I just want to make the situation clear:  whatever the hotel is doing to try to earn the best possible customer experience, they are doing a very poor job. \\n\\nTHOUGH THE RESOURCES ABOUT THIS PLACE ARE SO MUCH BETTER THAN ANY OF THE NEW YORK PLAZA PLAZA, THE CHARGES ARE EXCELLENT.\\n\\nI had a free birthday here with my room; however, I would never stay here again.<span style=\"font-weight: bold\">&lt;</span><span style=\"color: #ff00ff; text-decoration-color: #ff00ff; font-weight: bold\">|endoftext|</span><span style=\"font-weight: bold\">&gt;</span>I came here for a business trip and needed a room and price was about $<span style=\"color: #800080; text-decoration-color: #800080\">100</span> per night. I was staying with my wife for a wedding. I had so much money I didn't even know what to expect. We got a room right away. It was amazing. The room was beautiful and clean. It was slightly busy but that's expected. There were <span style=\"color: #800080; text-decoration-color: #800080\">2</span> beds in the room. They were beautiful. The room was the best part. The bathroom was awesome. I'll go back to check it out!<span style=\"font-weight: bold\">&lt;</span><span style=\"color: #ff00ff; text-decoration-color: #ff00ff; font-weight: bold\">|endoftext|</span><span style=\"font-weight: bold\">&gt;</span>I stayed at the MOST expensive hotel in Vegas.  \\n\\nI didn't think it was bad but I was wrong.\\n\\nI talked to the front desk and they didn't ask me what room I was on or what hotel I was staying in.  I had booked two rooms on the same floor as the one I was on.  \\n\\nThe MOST expensive hotel\n",
       "</pre>\n"
      ],
      "text/plain": [
       "\u001b[1m[\u001b[0mresponse\u001b[1m]\u001b[0m:\n",
       "\n",
       "What is a supercomputer? Explain like I'm a child, and speak clearly. Double check your logic..what's left to say and how do I want to be treated? I find a copy of my birthday song and I love it. What do you think is going to happen? I guess I got two chances on the table. \\n\\nWell, I like the mix of the place. Too cute for me to give a review.\u001b[1m<\u001b[0m\u001b[1;95m|endoftext|\u001b[0m\u001b[1m>\u001b[0mI don't know if I've already been to the MOST expensive hotel in town or not.  But, I like this hotel.  It's just a bit nicer than most others, like the Monte Carlo, but the rooms here are just fine. It isn't fancy, but it's not cheap for Vegas.\u001b[1m<\u001b[0m\u001b[1;95m|endoftext|\u001b[0m\u001b[1m>\u001b[0mI booked a room here for \u001b[35m2\u001b[0m nights. I stayed in the casino at 9pm on a Sunday.  I was charged for \u001b[35m1\u001b[0m/\u001b[35m5\u001b[0m of a soda instead of the full size. How underhanded! And I'm sure I'm very lucky to be charged for a soda which I had not paid for. I had paid for a soda, but never received it. I just want to make the situation clear:  whatever the hotel is doing to try to earn the best possible customer experience, they are doing a very poor job. \\n\\nTHOUGH THE RESOURCES ABOUT THIS PLACE ARE SO MUCH BETTER THAN ANY OF THE NEW YORK PLAZA PLAZA, THE CHARGES ARE EXCELLENT.\\n\\nI had a free birthday here with my room; however, I would never stay here again.\u001b[1m<\u001b[0m\u001b[1;95m|endoftext|\u001b[0m\u001b[1m>\u001b[0mI came here for a business trip and needed a room and price was about $\u001b[35m100\u001b[0m per night. I was staying with my wife for a wedding. I had so much money I didn't even know what to expect. We got a room right away. It was amazing. The room was beautiful and clean. It was slightly busy but that's expected. There were \u001b[35m2\u001b[0m beds in the room. They were beautiful. The room was the best part. The bathroom was awesome. I'll go back to check it out!\u001b[1m<\u001b[0m\u001b[1;95m|endoftext|\u001b[0m\u001b[1m>\u001b[0mI stayed at the MOST expensive hotel in Vegas.  \\n\\nI didn't think it was bad but I was wrong.\\n\\nI talked to the front desk and they didn't ask me what room I was on or what hotel I was staying in.  I had booked two rooms on the same floor as the one I was on.  \\n\\nThe MOST expensive hotel\n"
      ]
     },
     "metadata": {},
     "output_type": "display_data"
    }
   ],
   "source": [
    "query = \"What is a supercomputer? Explain like I'm a child, and speak clearly. Double check your logic..\"\n",
    "outputs = trainer.evaluate(query, num_samples=1, display=False)\n",
    "console.print(fr'\\[prompt]: \"{query}\"')\n",
    "console.print(\"\\[response]:\\n\\n\" + fr\"{outputs['0']['raw']}\")"
   ]
  }
 ],
 "metadata": {
  "kernelspec": {
   "display_name": "Python 3 (ipykernel)",
   "language": "python",
   "name": "python3"
  },
  "language_info": {
   "codemirror_mode": {
    "name": "ipython",
    "version": 3
   },
   "file_extension": ".py",
   "mimetype": "text/x-python",
   "name": "python",
   "nbconvert_exporter": "python",
   "pygments_lexer": "ipython3",
   "version": "3.10.8"
  }
 },
 "nbformat": 4,
 "nbformat_minor": 5
}
