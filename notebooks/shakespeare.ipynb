{
  "cells": [
    {
      "cell_type": "raw",
      "id": "1d841301-7152-45fd-836f-d0dda350fd57",
      "metadata": {
        "jupyter": {
          "source_hidden": false
        },
        "id": "1d841301-7152-45fd-836f-d0dda350fd57"
      },
      "source": [
        "---\n",
        "title: title\n",
        "author: author\n",
        "execute:\n",
        "    enabled: false\n",
        "jupyter: python3\n",
        "---"
      ]
    },
    {
      "cell_type": "markdown",
      "id": "1fc5d004-5e6f-4bb3-938e-fb44f919cec3",
      "metadata": {
        "execution": {
          "iopub.status.busy": "2023-11-11T07:14:30.136832+00:00",
          "iopub.status.idle": "2023-11-11T07:14:30.175293+00:00"
        },
        "id": "1fc5d004-5e6f-4bb3-938e-fb44f919cec3"
      },
      "source": [
        "# `nanoGPT`: Shakespeare"
      ]
    },
    {
      "cell_type": "markdown",
      "id": "bd994b32-ca5f-4e00-81d3-89dbbf7b2093",
      "metadata": {
        "id": "bd994b32-ca5f-4e00-81d3-89dbbf7b2093"
      },
      "source": [
        "## Install / Setup"
      ]
    },
    {
      "cell_type": "markdown",
      "id": "99a8bdbf-d488-4553-8955-9a2ad01bc54b",
      "metadata": {
        "id": "99a8bdbf-d488-4553-8955-9a2ad01bc54b"
      },
      "source": [
        "### Google Colab\n",
        "\n",
        "```python\n",
        "from google.colab import drive\n",
        "drive.mount('/content/drive')\n",
        "```"
      ]
    },
    {
      "cell_type": "markdown",
      "id": "71c38d27-5acb-4e5d-87c8-dbb2739cf277",
      "metadata": {
        "jupyter": {
          "source_hidden": false
        },
        "id": "71c38d27-5acb-4e5d-87c8-dbb2739cf277"
      },
      "source": [
        "### First Time Running\n",
        "\n",
        "We need to install `wordplay` and setup the Shakespeare dataset\n",
        "\n",
        "This will need to be ran the first time you are running this notebook.\n",
        "\n",
        "Following the\n",
        "\n",
        "```python\n",
        "!python3 -m pip install wordplay\n",
        "```\n",
        "\n",
        "you will need to restart your runtime (Runtime -> Restart runtime)\n",
        "\n",
        "After this, you should be able to\n",
        "\n",
        "```python\n",
        ">>> import ngpt\n",
        ">>> ngpt.__file__\n",
        "'/content/nanoGPT/src/ngpt/__init__.py'\n",
        "```"
      ]
    },
    {
      "cell_type": "code",
      "execution_count": 1,
      "id": "31e60f3e",
      "metadata": {
        "execution": {
          "iopub.execute_input": "2023-11-30T16:35:09.547786Z",
          "iopub.status.busy": "2023-11-30T16:35:09.547243Z",
          "iopub.status.idle": "2023-11-30T16:35:09.697821Z",
          "shell.execute_reply": "2023-11-30T16:35:09.697442Z",
          "shell.execute_reply.started": "2023-11-30T16:35:09.547769Z"
        },
        "jupyter": {
          "outputs_hidden": false,
          "source_hidden": false
        },
        "colab": {
          "base_uri": "https://localhost:8080/"
        },
        "id": "31e60f3e",
        "outputId": "c338dd9a-ea36-4690-bbc6-53e8d2826464"
      },
      "outputs": [
        {
          "output_type": "stream",
          "name": "stdout",
          "text": [
            "/content/wordplay/src/wordplay/__init__.py\n",
            "Has wordplay installed. Nothing to do.\n"
          ]
        }
      ],
      "source": [
        "%%bash\n",
        "\n",
        "python3 -c 'import wordplay; print(wordplay.__file__)' 2> '/dev/null'\n",
        "\n",
        "if [[ $? -eq 0 ]]; then\n",
        "    echo \"Has wordplay installed. Nothing to do.\"\n",
        "else\n",
        "    echo \"Does not have wordplay installed. Installing...\"\n",
        "    git clone 'https://github.com/saforem2/wordplay'\n",
        "    python3 wordplay/data/shakespeare_char/prepare.py\n",
        "    python3 wordplay/data/shakespeare/prepare.py\n",
        "    python3 -m pip install deepspeed\n",
        "    python3 -m pip install -e wordplay\n",
        "fi"
      ]
    },
    {
      "cell_type": "markdown",
      "id": "c14a8da7-72fe-4839-a14d-f01606285fc3",
      "metadata": {
        "jupyter": {
          "source_hidden": false
        },
        "id": "c14a8da7-72fe-4839-a14d-f01606285fc3"
      },
      "source": [
        "## Post Install\n",
        "\n",
        "If installed correctly, you should be able to:\n",
        "\n",
        "```python\n",
        ">>> import wordplay\n",
        ">>> wordplay.__file__\n",
        "'/path/to/wordplay/src/wordplay/__init__.py'\n",
        "```"
      ]
    },
    {
      "cell_type": "code",
      "execution_count": 2,
      "id": "3b9abf57",
      "metadata": {
        "jupyter": {
          "outputs_hidden": false,
          "source_hidden": false
        },
        "id": "3b9abf57"
      },
      "outputs": [],
      "source": [
        "import os\n",
        "# os.environ['PYTORCH_ENABLE_MPS_FALLBACK'] = '1'\n",
        "os.environ['COLORTERM'] = 'truecolor'"
      ]
    },
    {
      "cell_type": "code",
      "execution_count": 3,
      "id": "9fbf22d1-34ba-48ae-a78e-fc447fc9a0de",
      "metadata": {
        "execution": {
          "iopub.execute_input": "2023-11-30T16:35:09.818095Z",
          "iopub.status.busy": "2023-11-30T16:35:09.817884Z",
          "iopub.status.idle": "2023-11-30T16:35:10.193029Z",
          "shell.execute_reply": "2023-11-30T16:35:10.192647Z",
          "shell.execute_reply.started": "2023-11-30T16:35:09.818079Z"
        },
        "jupyter": {
          "outputs_hidden": false,
          "source_hidden": false
        },
        "colab": {
          "base_uri": "https://localhost:8080/"
        },
        "id": "9fbf22d1-34ba-48ae-a78e-fc447fc9a0de",
        "outputId": "6dd62273-4361-4e69-b9c7-e61cac65356b"
      },
      "outputs": [
        {
          "output_type": "stream",
          "name": "stderr",
          "text": [
            "INFO:root:/content/wordplay/src/wordplay/__init__.py\n"
          ]
        },
        {
          "output_type": "stream",
          "name": "stdout",
          "text": [
            "\u001b[30m[\u001b[0m\u001b[90m2024-02-06 \u001b[0m\u001b[90m14:13:55\u001b[0m\u001b[30m]\u001b[0m\u001b[30m[\u001b[0m\u001b[1;32mINFO\u001b[0m\u001b[30m]\u001b[0m\u001b[30m[\u001b[0m\u001b[3;36m<ipython-input-3-df3b64ce7190>\u001b[0m\u001b[92m:\u001b[0m\u001b[30m8\u001b[0m\u001b[30m]\u001b[0m\u001b[1;93m - \u001b[0m\u001b[32m/content/wordplay/src/wordplay/\u001b[0m\u001b[35m__init__.py\u001b[0m\n"
          ]
        }
      ],
      "source": [
        "%load_ext autoreload\n",
        "%autoreload 2\n",
        "\n",
        "import wordplay\n",
        "from enrich import get_logger\n",
        "log = get_logger(level='INFO')\n",
        "#from rich import print\n",
        "log.info(wordplay.__file__)"
      ]
    },
    {
      "cell_type": "markdown",
      "id": "e329ed94-582e-4aa8-bbe0-ba56782fe9e9",
      "metadata": {
        "jupyter": {
          "source_hidden": false
        },
        "id": "e329ed94-582e-4aa8-bbe0-ba56782fe9e9"
      },
      "source": [
        "## Build Trainer\n",
        "\n",
        "Explicitly, we:\n",
        "\n",
        "1. `setup_torch(...)`\n",
        "2. Build `cfg: DictConfig = get_config(...)`\n",
        "3. Instnatiate `config: ExperimentConfig = instantiate(cfg)`\n",
        "4. Build `trainer = Trainer(config)`"
      ]
    },
    {
      "cell_type": "code",
      "execution_count": 4,
      "id": "f827bd82",
      "metadata": {
        "jupyter": {
          "outputs_hidden": false,
          "source_hidden": false
        },
        "colab": {
          "base_uri": "https://localhost:8080/",
          "height": 497
        },
        "id": "f827bd82",
        "outputId": "2f8a3974-6036-4900-e1f6-f205c917219a"
      },
      "outputs": [
        {
          "output_type": "display_data",
          "data": {
            "text/plain": [
              "\u001b[30m[\u001b[0m\u001b[90m2024-02-06 \u001b[0m\u001b[90m14:13:58\u001b[0m\u001b[30m]\u001b[0m\u001b[30m[\u001b[0m\u001b[1;32mINFO\u001b[0m\u001b[30m]\u001b[0m\u001b[30m[\u001b[0m\u001b[3;36mconfigs\u001b[0m\u001b[92m:\u001b[0m\u001b[30m72\u001b[0m\u001b[30m]\u001b[0m\u001b[1;93m - \u001b[0mSetting HF_DATASETS_CACHE to \u001b[32m/content/wordplay/.cache/huggingface/\u001b[0m\u001b[35mdatasets\u001b[0m\n"
            ],
            "text/html": [
              "<pre style=\"white-space:pre;overflow-x:auto;line-height:normal;font-family:Menlo,'DejaVu Sans Mono',consolas,'Courier New',monospace\"><span style=\"color: #000000; text-decoration-color: #000000\">[</span><span style=\"color: #808080; text-decoration-color: #808080\">2024-02-06 14:13:58</span><span style=\"color: #000000; text-decoration-color: #000000\">][</span><span style=\"color: #008000; text-decoration-color: #008000; font-weight: bold\">INFO</span><span style=\"color: #000000; text-decoration-color: #000000\">][</span><span style=\"color: #008080; text-decoration-color: #008080; font-style: italic\">configs</span><span style=\"color: #00ff00; text-decoration-color: #00ff00\">:</span><span style=\"color: #000000; text-decoration-color: #000000\">72</span><span style=\"color: #000000; text-decoration-color: #000000\">]</span><span style=\"color: #ffff00; text-decoration-color: #ffff00; font-weight: bold\"> - </span>Setting HF_DATASETS_CACHE to <span style=\"color: #008000; text-decoration-color: #008000\">/content/wordplay/.cache/huggingface/</span><span style=\"color: #800080; text-decoration-color: #800080\">datasets</span>\n",
              "</pre>\n"
            ]
          },
          "metadata": {}
        },
        {
          "output_type": "display_data",
          "data": {
            "text/plain": [
              "\u001b[30m[\u001b[0m\u001b[90m2024-02-06 \u001b[0m\u001b[90m14:13:59\u001b[0m\u001b[30m]\u001b[0m\u001b[30m[\u001b[0m\u001b[1;32mINFO\u001b[0m\u001b[30m]\u001b[0m\u001b[30m[\u001b[0m\u001b[3;36mutils\u001b[0m\u001b[92m:\u001b[0m\u001b[30m148\u001b[0m\u001b[30m]\u001b[0m\u001b[1;93m - \u001b[0mNote: NumExpr detected \u001b[35m12\u001b[0m cores but \u001b[3;33m\"NUMEXPR_MAX_THREADS\"\u001b[0m not set, so enforcing safe limit of \u001b[35m8\u001b[0m.\n"
            ],
            "text/html": [
              "<pre style=\"white-space:pre;overflow-x:auto;line-height:normal;font-family:Menlo,'DejaVu Sans Mono',consolas,'Courier New',monospace\"><span style=\"color: #000000; text-decoration-color: #000000\">[</span><span style=\"color: #808080; text-decoration-color: #808080\">2024-02-06 14:13:59</span><span style=\"color: #000000; text-decoration-color: #000000\">][</span><span style=\"color: #008000; text-decoration-color: #008000; font-weight: bold\">INFO</span><span style=\"color: #000000; text-decoration-color: #000000\">][</span><span style=\"color: #008080; text-decoration-color: #008080; font-style: italic\">utils</span><span style=\"color: #00ff00; text-decoration-color: #00ff00\">:</span><span style=\"color: #000000; text-decoration-color: #000000\">148</span><span style=\"color: #000000; text-decoration-color: #000000\">]</span><span style=\"color: #ffff00; text-decoration-color: #ffff00; font-weight: bold\"> - </span>Note: NumExpr detected <span style=\"color: #800080; text-decoration-color: #800080\">12</span> cores but <span style=\"color: #808000; text-decoration-color: #808000; font-style: italic\">\"NUMEXPR_MAX_THREADS\"</span> not set, so enforcing safe limit of <span style=\"color: #800080; text-decoration-color: #800080\">8</span>.\n",
              "</pre>\n"
            ]
          },
          "metadata": {}
        },
        {
          "output_type": "display_data",
          "data": {
            "text/plain": [
              "\u001b[30m[\u001b[0m\u001b[90m2024-02-06 \u001b[0m\u001b[90m14:13:59\u001b[0m\u001b[30m]\u001b[0m\u001b[30m[\u001b[0m\u001b[1;32mINFO\u001b[0m\u001b[30m]\u001b[0m\u001b[30m[\u001b[0m\u001b[3;36mutils\u001b[0m\u001b[92m:\u001b[0m\u001b[30m160\u001b[0m\u001b[30m]\u001b[0m\u001b[1;93m - \u001b[0mNumExpr defaulting to \u001b[35m8\u001b[0m threads.\n"
            ],
            "text/html": [
              "<pre style=\"white-space:pre;overflow-x:auto;line-height:normal;font-family:Menlo,'DejaVu Sans Mono',consolas,'Courier New',monospace\"><span style=\"color: #000000; text-decoration-color: #000000\">[</span><span style=\"color: #808080; text-decoration-color: #808080\">2024-02-06 14:13:59</span><span style=\"color: #000000; text-decoration-color: #000000\">][</span><span style=\"color: #008000; text-decoration-color: #008000; font-weight: bold\">INFO</span><span style=\"color: #000000; text-decoration-color: #000000\">][</span><span style=\"color: #008080; text-decoration-color: #008080; font-style: italic\">utils</span><span style=\"color: #00ff00; text-decoration-color: #00ff00\">:</span><span style=\"color: #000000; text-decoration-color: #000000\">160</span><span style=\"color: #000000; text-decoration-color: #000000\">]</span><span style=\"color: #ffff00; text-decoration-color: #ffff00; font-weight: bold\"> - </span>NumExpr defaulting to <span style=\"color: #800080; text-decoration-color: #800080\">8</span> threads.\n",
              "</pre>\n"
            ]
          },
          "metadata": {}
        },
        {
          "output_type": "display_data",
          "data": {
            "text/plain": [
              "\u001b[30m[\u001b[0m\u001b[90m2024-02-06 \u001b[0m\u001b[90m14:14:00\u001b[0m\u001b[30m]\u001b[0m\u001b[30m[\u001b[0m\u001b[1;32mINFO\u001b[0m\u001b[30m]\u001b[0m\u001b[30m[\u001b[0m\u001b[3;36mdist\u001b[0m\u001b[92m:\u001b[0m\u001b[30m257\u001b[0m\u001b[30m]\u001b[0m\u001b[1;93m - \u001b[0m\u001b[3;94mDistInfo\u001b[0m=\u001b[1;31m{\u001b[0m\n",
              "    \u001b[3;33m\"DEVICE\"\u001b[0m: \u001b[3;33m\"cuda\"\u001b[0m,\n",
              "    \u001b[3;33m\"DEVICE_ID\"\u001b[0m: \u001b[3;33m\"cuda:0\"\u001b[0m,\n",
              "    \u001b[3;33m\"DISTRIBUTED_BACKEND\"\u001b[0m: \u001b[3;33m\"nccl\"\u001b[0m,\n",
              "    \u001b[3;33m\"GPUS_PER_NODE\"\u001b[0m: \u001b[35m1\u001b[0m,\n",
              "    \u001b[3;33m\"HOSTFILE\"\u001b[0m: \u001b[3;33m\"/content/hostfile\"\u001b[0m,\n",
              "    \u001b[3;33m\"HOSTNAME\"\u001b[0m: \u001b[3;33m\"83594087f236\"\u001b[0m,\n",
              "    \u001b[3;33m\"HOSTS\"\u001b[0m: \u001b[3;33m\"\u001b[0m\u001b[3;33m[\u001b[0m\u001b[3;33m'83594087f236'\u001b[0m\u001b[3;33m]\u001b[0m\u001b[3;33m\"\u001b[0m,\n",
              "    \u001b[3;33m\"LOCAL_RANK\"\u001b[0m: \u001b[35m0\u001b[0m,\n",
              "    \u001b[3;33m\"MACHINE\"\u001b[0m: \u001b[3;33m\"83594087f236\"\u001b[0m,\n",
              "    \u001b[3;33m\"NGPUS\"\u001b[0m: \u001b[35m1\u001b[0m,\n",
              "    \u001b[3;33m\"NODE_ID\"\u001b[0m: \u001b[35m0\u001b[0m,\n",
              "    \u001b[3;33m\"NUM_NODES\"\u001b[0m: \u001b[35m1\u001b[0m,\n",
              "    \u001b[3;33m\"RANK\"\u001b[0m: \u001b[35m0\u001b[0m,\n",
              "    \u001b[3;33m\"SCHEDULER\"\u001b[0m: \u001b[3;33m\"LOCAL\"\u001b[0m,\n",
              "    \u001b[3;33m\"WORLD_SIZE_IN_USE\"\u001b[0m: \u001b[35m1\u001b[0m,\n",
              "    \u001b[3;33m\"WORLD_SIZE_TOTAL\"\u001b[0m: \u001b[35m1\u001b[0m\n",
              "\u001b[1;31m}\u001b[0m\n"
            ],
            "text/html": [
              "<pre style=\"white-space:pre;overflow-x:auto;line-height:normal;font-family:Menlo,'DejaVu Sans Mono',consolas,'Courier New',monospace\"><span style=\"color: #000000; text-decoration-color: #000000\">[</span><span style=\"color: #808080; text-decoration-color: #808080\">2024-02-06 14:14:00</span><span style=\"color: #000000; text-decoration-color: #000000\">][</span><span style=\"color: #008000; text-decoration-color: #008000; font-weight: bold\">INFO</span><span style=\"color: #000000; text-decoration-color: #000000\">][</span><span style=\"color: #008080; text-decoration-color: #008080; font-style: italic\">dist</span><span style=\"color: #00ff00; text-decoration-color: #00ff00\">:</span><span style=\"color: #000000; text-decoration-color: #000000\">257</span><span style=\"color: #000000; text-decoration-color: #000000\">]</span><span style=\"color: #ffff00; text-decoration-color: #ffff00; font-weight: bold\"> - </span><span style=\"color: #0000ff; text-decoration-color: #0000ff; font-style: italic\">DistInfo</span>=<span style=\"color: #800000; text-decoration-color: #800000; font-weight: bold\">{</span>\n",
              "    <span style=\"color: #808000; text-decoration-color: #808000; font-style: italic\">\"DEVICE\"</span>: <span style=\"color: #808000; text-decoration-color: #808000; font-style: italic\">\"cuda\"</span>,\n",
              "    <span style=\"color: #808000; text-decoration-color: #808000; font-style: italic\">\"DEVICE_ID\"</span>: <span style=\"color: #808000; text-decoration-color: #808000; font-style: italic\">\"cuda:0\"</span>,\n",
              "    <span style=\"color: #808000; text-decoration-color: #808000; font-style: italic\">\"DISTRIBUTED_BACKEND\"</span>: <span style=\"color: #808000; text-decoration-color: #808000; font-style: italic\">\"nccl\"</span>,\n",
              "    <span style=\"color: #808000; text-decoration-color: #808000; font-style: italic\">\"GPUS_PER_NODE\"</span>: <span style=\"color: #800080; text-decoration-color: #800080\">1</span>,\n",
              "    <span style=\"color: #808000; text-decoration-color: #808000; font-style: italic\">\"HOSTFILE\"</span>: <span style=\"color: #808000; text-decoration-color: #808000; font-style: italic\">\"/content/hostfile\"</span>,\n",
              "    <span style=\"color: #808000; text-decoration-color: #808000; font-style: italic\">\"HOSTNAME\"</span>: <span style=\"color: #808000; text-decoration-color: #808000; font-style: italic\">\"83594087f236\"</span>,\n",
              "    <span style=\"color: #808000; text-decoration-color: #808000; font-style: italic\">\"HOSTS\"</span>: <span style=\"color: #808000; text-decoration-color: #808000; font-style: italic\">\"</span><span style=\"color: #808000; text-decoration-color: #808000; font-style: italic\">[</span><span style=\"color: #808000; text-decoration-color: #808000; font-style: italic\">'83594087f236'</span><span style=\"color: #808000; text-decoration-color: #808000; font-style: italic\">]</span><span style=\"color: #808000; text-decoration-color: #808000; font-style: italic\">\"</span>,\n",
              "    <span style=\"color: #808000; text-decoration-color: #808000; font-style: italic\">\"LOCAL_RANK\"</span>: <span style=\"color: #800080; text-decoration-color: #800080\">0</span>,\n",
              "    <span style=\"color: #808000; text-decoration-color: #808000; font-style: italic\">\"MACHINE\"</span>: <span style=\"color: #808000; text-decoration-color: #808000; font-style: italic\">\"83594087f236\"</span>,\n",
              "    <span style=\"color: #808000; text-decoration-color: #808000; font-style: italic\">\"NGPUS\"</span>: <span style=\"color: #800080; text-decoration-color: #800080\">1</span>,\n",
              "    <span style=\"color: #808000; text-decoration-color: #808000; font-style: italic\">\"NODE_ID\"</span>: <span style=\"color: #800080; text-decoration-color: #800080\">0</span>,\n",
              "    <span style=\"color: #808000; text-decoration-color: #808000; font-style: italic\">\"NUM_NODES\"</span>: <span style=\"color: #800080; text-decoration-color: #800080\">1</span>,\n",
              "    <span style=\"color: #808000; text-decoration-color: #808000; font-style: italic\">\"RANK\"</span>: <span style=\"color: #800080; text-decoration-color: #800080\">0</span>,\n",
              "    <span style=\"color: #808000; text-decoration-color: #808000; font-style: italic\">\"SCHEDULER\"</span>: <span style=\"color: #808000; text-decoration-color: #808000; font-style: italic\">\"LOCAL\"</span>,\n",
              "    <span style=\"color: #808000; text-decoration-color: #808000; font-style: italic\">\"WORLD_SIZE_IN_USE\"</span>: <span style=\"color: #800080; text-decoration-color: #800080\">1</span>,\n",
              "    <span style=\"color: #808000; text-decoration-color: #808000; font-style: italic\">\"WORLD_SIZE_TOTAL\"</span>: <span style=\"color: #800080; text-decoration-color: #800080\">1</span>\n",
              "<span style=\"color: #800000; text-decoration-color: #800000; font-weight: bold\">}</span>\n",
              "</pre>\n"
            ]
          },
          "metadata": {}
        },
        {
          "output_type": "display_data",
          "data": {
            "text/plain": [
              "\u001b[30m[\u001b[0m\u001b[90m2024-02-06 \u001b[0m\u001b[90m14:14:00\u001b[0m\u001b[30m]\u001b[0m\u001b[30m[\u001b[0m\u001b[1;32mINFO\u001b[0m\u001b[30m]\u001b[0m\u001b[30m[\u001b[0m\u001b[3;36mdist\u001b[0m\u001b[92m:\u001b[0m\u001b[30m642\u001b[0m\u001b[30m]\u001b[0m\u001b[1;93m - \u001b[0m\u001b[1;31m[\u001b[0m\u001b[35m0\u001b[0m/\u001b[35m1\u001b[0m\u001b[1;31m]\u001b[0m Using \u001b[3;94mdevice\u001b[0m=\u001b[3;33m'cuda'\u001b[0m with \u001b[3;94mbackend\u001b[0m=\u001b[3;33m'DDP'\u001b[0m + \u001b[3;33m'nccl'\u001b[0m for distributed training.\n"
            ],
            "text/html": [
              "<pre style=\"white-space:pre;overflow-x:auto;line-height:normal;font-family:Menlo,'DejaVu Sans Mono',consolas,'Courier New',monospace\"><span style=\"color: #000000; text-decoration-color: #000000\">[</span><span style=\"color: #808080; text-decoration-color: #808080\">2024-02-06 14:14:00</span><span style=\"color: #000000; text-decoration-color: #000000\">][</span><span style=\"color: #008000; text-decoration-color: #008000; font-weight: bold\">INFO</span><span style=\"color: #000000; text-decoration-color: #000000\">][</span><span style=\"color: #008080; text-decoration-color: #008080; font-style: italic\">dist</span><span style=\"color: #00ff00; text-decoration-color: #00ff00\">:</span><span style=\"color: #000000; text-decoration-color: #000000\">642</span><span style=\"color: #000000; text-decoration-color: #000000\">]</span><span style=\"color: #ffff00; text-decoration-color: #ffff00; font-weight: bold\"> - </span><span style=\"color: #800000; text-decoration-color: #800000; font-weight: bold\">[</span><span style=\"color: #800080; text-decoration-color: #800080\">0</span>/<span style=\"color: #800080; text-decoration-color: #800080\">1</span><span style=\"color: #800000; text-decoration-color: #800000; font-weight: bold\">]</span> Using <span style=\"color: #0000ff; text-decoration-color: #0000ff; font-style: italic\">device</span>=<span style=\"color: #808000; text-decoration-color: #808000; font-style: italic\">'cuda'</span> with <span style=\"color: #0000ff; text-decoration-color: #0000ff; font-style: italic\">backend</span>=<span style=\"color: #808000; text-decoration-color: #808000; font-style: italic\">'DDP'</span> + <span style=\"color: #808000; text-decoration-color: #808000; font-style: italic\">'nccl'</span> for distributed training.\n",
              "</pre>\n"
            ]
          },
          "metadata": {}
        },
        {
          "output_type": "display_data",
          "data": {
            "text/plain": [
              "\u001b[30m[\u001b[0m\u001b[90m2024-02-06 \u001b[0m\u001b[90m14:14:00\u001b[0m\u001b[30m]\u001b[0m\u001b[30m[\u001b[0m\u001b[1;32mINFO\u001b[0m\u001b[30m]\u001b[0m\u001b[30m[\u001b[0m\u001b[3;36mdist\u001b[0m\u001b[92m:\u001b[0m\u001b[30m308\u001b[0m\u001b[30m]\u001b[0m\u001b[1;93m - \u001b[0m\u001b[1;31m[\u001b[0m\u001b[3;94mdevice\u001b[0m=\u001b[3;33m'cuda'\u001b[0m\u001b[1;31m]\u001b[0m\u001b[1;31m[\u001b[0m\u001b[3;94mrank\u001b[0m=\u001b[35m0\u001b[0m/\u001b[35m0\u001b[0m\u001b[1;31m]\u001b[0m\u001b[1;31m[\u001b[0m\u001b[3;94mlocal_rank\u001b[0m=\u001b[35m0\u001b[0m/\u001b[35m0\u001b[0m\u001b[1;31m]\u001b[0m\u001b[1;31m[\u001b[0m\u001b[3;94mnode\u001b[0m=\u001b[35m0\u001b[0m/\u001b[35m0\u001b[0m\u001b[1;31m]\u001b[0m\n"
            ],
            "text/html": [
              "<pre style=\"white-space:pre;overflow-x:auto;line-height:normal;font-family:Menlo,'DejaVu Sans Mono',consolas,'Courier New',monospace\"><span style=\"color: #000000; text-decoration-color: #000000\">[</span><span style=\"color: #808080; text-decoration-color: #808080\">2024-02-06 14:14:00</span><span style=\"color: #000000; text-decoration-color: #000000\">][</span><span style=\"color: #008000; text-decoration-color: #008000; font-weight: bold\">INFO</span><span style=\"color: #000000; text-decoration-color: #000000\">][</span><span style=\"color: #008080; text-decoration-color: #008080; font-style: italic\">dist</span><span style=\"color: #00ff00; text-decoration-color: #00ff00\">:</span><span style=\"color: #000000; text-decoration-color: #000000\">308</span><span style=\"color: #000000; text-decoration-color: #000000\">]</span><span style=\"color: #ffff00; text-decoration-color: #ffff00; font-weight: bold\"> - </span><span style=\"color: #800000; text-decoration-color: #800000; font-weight: bold\">[</span><span style=\"color: #0000ff; text-decoration-color: #0000ff; font-style: italic\">device</span>=<span style=\"color: #808000; text-decoration-color: #808000; font-style: italic\">'cuda'</span><span style=\"color: #800000; text-decoration-color: #800000; font-weight: bold\">][</span><span style=\"color: #0000ff; text-decoration-color: #0000ff; font-style: italic\">rank</span>=<span style=\"color: #800080; text-decoration-color: #800080\">0</span>/<span style=\"color: #800080; text-decoration-color: #800080\">0</span><span style=\"color: #800000; text-decoration-color: #800000; font-weight: bold\">][</span><span style=\"color: #0000ff; text-decoration-color: #0000ff; font-style: italic\">local_rank</span>=<span style=\"color: #800080; text-decoration-color: #800080\">0</span>/<span style=\"color: #800080; text-decoration-color: #800080\">0</span><span style=\"color: #800000; text-decoration-color: #800000; font-weight: bold\">][</span><span style=\"color: #0000ff; text-decoration-color: #0000ff; font-style: italic\">node</span>=<span style=\"color: #800080; text-decoration-color: #800080\">0</span>/<span style=\"color: #800080; text-decoration-color: #800080\">0</span><span style=\"color: #800000; text-decoration-color: #800000; font-weight: bold\">]</span>\n",
              "</pre>\n"
            ]
          },
          "metadata": {}
        },
        {
          "output_type": "display_data",
          "data": {
            "text/plain": [
              "\u001b[30m[\u001b[0m\u001b[90m2024-02-06 \u001b[0m\u001b[90m14:14:00\u001b[0m\u001b[30m]\u001b[0m\u001b[30m[\u001b[0m\u001b[93mWARNING\u001b[0m\u001b[30m]\u001b[0m\u001b[30m[\u001b[0m\u001b[3;36mdist\u001b[0m\u001b[92m:\u001b[0m\u001b[30m314\u001b[0m\u001b[30m]\u001b[0m\u001b[1;93m - \u001b[0mUsing \u001b[1;31m[\u001b[0m\u001b[35m1\u001b[0m \u001b[32m/\u001b[0m \u001b[35m1\u001b[0m\u001b[1;31m]\u001b[0m available \u001b[3;33m\"cuda\"\u001b[0m devices !!\n"
            ],
            "text/html": [
              "<pre style=\"white-space:pre;overflow-x:auto;line-height:normal;font-family:Menlo,'DejaVu Sans Mono',consolas,'Courier New',monospace\"><span style=\"color: #000000; text-decoration-color: #000000\">[</span><span style=\"color: #808080; text-decoration-color: #808080\">2024-02-06 14:14:00</span><span style=\"color: #000000; text-decoration-color: #000000\">][</span><span style=\"color: #ffff00; text-decoration-color: #ffff00\">WARNING</span><span style=\"color: #000000; text-decoration-color: #000000\">][</span><span style=\"color: #008080; text-decoration-color: #008080; font-style: italic\">dist</span><span style=\"color: #00ff00; text-decoration-color: #00ff00\">:</span><span style=\"color: #000000; text-decoration-color: #000000\">314</span><span style=\"color: #000000; text-decoration-color: #000000\">]</span><span style=\"color: #ffff00; text-decoration-color: #ffff00; font-weight: bold\"> - </span>Using <span style=\"color: #800000; text-decoration-color: #800000; font-weight: bold\">[</span><span style=\"color: #800080; text-decoration-color: #800080\">1</span> <span style=\"color: #008000; text-decoration-color: #008000\">/</span> <span style=\"color: #800080; text-decoration-color: #800080\">1</span><span style=\"color: #800000; text-decoration-color: #800000; font-weight: bold\">]</span> available <span style=\"color: #808000; text-decoration-color: #808000; font-style: italic\">\"cuda\"</span> devices !!\n",
              "</pre>\n"
            ]
          },
          "metadata": {}
        },
        {
          "output_type": "display_data",
          "data": {
            "text/plain": [
              "\u001b[30m[\u001b[0m\u001b[90m2024-02-06 \u001b[0m\u001b[90m14:14:01\u001b[0m\u001b[30m]\u001b[0m\u001b[30m[\u001b[0m\u001b[1;32mINFO\u001b[0m\u001b[30m]\u001b[0m\u001b[30m[\u001b[0m\u001b[3;36mconfigs\u001b[0m\u001b[92m:\u001b[0m\u001b[30m308\u001b[0m\u001b[30m]\u001b[0m\u001b[1;93m - \u001b[0mLoading val from \u001b[32m/content/wordplay/data/shakespeare_char/\u001b[0m\u001b[35mval.bin\u001b[0m\n"
            ],
            "text/html": [
              "<pre style=\"white-space:pre;overflow-x:auto;line-height:normal;font-family:Menlo,'DejaVu Sans Mono',consolas,'Courier New',monospace\"><span style=\"color: #000000; text-decoration-color: #000000\">[</span><span style=\"color: #808080; text-decoration-color: #808080\">2024-02-06 14:14:01</span><span style=\"color: #000000; text-decoration-color: #000000\">][</span><span style=\"color: #008000; text-decoration-color: #008000; font-weight: bold\">INFO</span><span style=\"color: #000000; text-decoration-color: #000000\">][</span><span style=\"color: #008080; text-decoration-color: #008080; font-style: italic\">configs</span><span style=\"color: #00ff00; text-decoration-color: #00ff00\">:</span><span style=\"color: #000000; text-decoration-color: #000000\">308</span><span style=\"color: #000000; text-decoration-color: #000000\">]</span><span style=\"color: #ffff00; text-decoration-color: #ffff00; font-weight: bold\"> - </span>Loading val from <span style=\"color: #008000; text-decoration-color: #008000\">/content/wordplay/data/shakespeare_char/</span><span style=\"color: #800080; text-decoration-color: #800080\">val.bin</span>\n",
              "</pre>\n"
            ]
          },
          "metadata": {}
        },
        {
          "output_type": "display_data",
          "data": {
            "text/plain": [
              "\u001b[30m[\u001b[0m\u001b[90m2024-02-06 \u001b[0m\u001b[90m14:14:01\u001b[0m\u001b[30m]\u001b[0m\u001b[30m[\u001b[0m\u001b[1;32mINFO\u001b[0m\u001b[30m]\u001b[0m\u001b[30m[\u001b[0m\u001b[3;36mconfigs\u001b[0m\u001b[92m:\u001b[0m\u001b[30m308\u001b[0m\u001b[30m]\u001b[0m\u001b[1;93m - \u001b[0mLoading train from \u001b[32m/content/wordplay/data/shakespeare_char/\u001b[0m\u001b[35mtrain.bin\u001b[0m\n"
            ],
            "text/html": [
              "<pre style=\"white-space:pre;overflow-x:auto;line-height:normal;font-family:Menlo,'DejaVu Sans Mono',consolas,'Courier New',monospace\"><span style=\"color: #000000; text-decoration-color: #000000\">[</span><span style=\"color: #808080; text-decoration-color: #808080\">2024-02-06 14:14:01</span><span style=\"color: #000000; text-decoration-color: #000000\">][</span><span style=\"color: #008000; text-decoration-color: #008000; font-weight: bold\">INFO</span><span style=\"color: #000000; text-decoration-color: #000000\">][</span><span style=\"color: #008080; text-decoration-color: #008080; font-style: italic\">configs</span><span style=\"color: #00ff00; text-decoration-color: #00ff00\">:</span><span style=\"color: #000000; text-decoration-color: #000000\">308</span><span style=\"color: #000000; text-decoration-color: #000000\">]</span><span style=\"color: #ffff00; text-decoration-color: #ffff00; font-weight: bold\"> - </span>Loading train from <span style=\"color: #008000; text-decoration-color: #008000\">/content/wordplay/data/shakespeare_char/</span><span style=\"color: #800080; text-decoration-color: #800080\">train.bin</span>\n",
              "</pre>\n"
            ]
          },
          "metadata": {}
        },
        {
          "output_type": "display_data",
          "data": {
            "text/plain": [
              "\u001b[30m[\u001b[0m\u001b[90m2024-02-06 \u001b[0m\u001b[90m14:14:01\u001b[0m\u001b[30m]\u001b[0m\u001b[30m[\u001b[0m\u001b[1;32mINFO\u001b[0m\u001b[30m]\u001b[0m\u001b[30m[\u001b[0m\u001b[3;36mconfigs\u001b[0m\u001b[92m:\u001b[0m\u001b[30m283\u001b[0m\u001b[30m]\u001b[0m\u001b[1;93m - \u001b[0mRescaling GAS -> GAS \u001b[32m/\u001b[0m\u001b[32m/\u001b[0m WORLD_SIZE = \u001b[35m1\u001b[0m \u001b[32m/\u001b[0m\u001b[32m/\u001b[0m \u001b[35m1\u001b[0m\n"
            ],
            "text/html": [
              "<pre style=\"white-space:pre;overflow-x:auto;line-height:normal;font-family:Menlo,'DejaVu Sans Mono',consolas,'Courier New',monospace\"><span style=\"color: #000000; text-decoration-color: #000000\">[</span><span style=\"color: #808080; text-decoration-color: #808080\">2024-02-06 14:14:01</span><span style=\"color: #000000; text-decoration-color: #000000\">][</span><span style=\"color: #008000; text-decoration-color: #008000; font-weight: bold\">INFO</span><span style=\"color: #000000; text-decoration-color: #000000\">][</span><span style=\"color: #008080; text-decoration-color: #008080; font-style: italic\">configs</span><span style=\"color: #00ff00; text-decoration-color: #00ff00\">:</span><span style=\"color: #000000; text-decoration-color: #000000\">283</span><span style=\"color: #000000; text-decoration-color: #000000\">]</span><span style=\"color: #ffff00; text-decoration-color: #ffff00; font-weight: bold\"> - </span>Rescaling GAS -&gt; GAS <span style=\"color: #008000; text-decoration-color: #008000\">//</span> WORLD_SIZE = <span style=\"color: #800080; text-decoration-color: #800080\">1</span> <span style=\"color: #008000; text-decoration-color: #008000\">//</span> <span style=\"color: #800080; text-decoration-color: #800080\">1</span>\n",
              "</pre>\n"
            ]
          },
          "metadata": {}
        },
        {
          "output_type": "display_data",
          "data": {
            "text/plain": [
              "\u001b[30m[\u001b[0m\u001b[90m2024-02-06 \u001b[0m\u001b[90m14:14:01\u001b[0m\u001b[30m]\u001b[0m\u001b[30m[\u001b[0m\u001b[1;32mINFO\u001b[0m\u001b[30m]\u001b[0m\u001b[30m[\u001b[0m\u001b[3;36mconfigs\u001b[0m\u001b[92m:\u001b[0m\u001b[30m433\u001b[0m\u001b[30m]\u001b[0m\u001b[1;93m - \u001b[0mTokens per iteration: \u001b[35m16\u001b[0m,\u001b[35m384\u001b[0m\n"
            ],
            "text/html": [
              "<pre style=\"white-space:pre;overflow-x:auto;line-height:normal;font-family:Menlo,'DejaVu Sans Mono',consolas,'Courier New',monospace\"><span style=\"color: #000000; text-decoration-color: #000000\">[</span><span style=\"color: #808080; text-decoration-color: #808080\">2024-02-06 14:14:01</span><span style=\"color: #000000; text-decoration-color: #000000\">][</span><span style=\"color: #008000; text-decoration-color: #008000; font-weight: bold\">INFO</span><span style=\"color: #000000; text-decoration-color: #000000\">][</span><span style=\"color: #008080; text-decoration-color: #008080; font-style: italic\">configs</span><span style=\"color: #00ff00; text-decoration-color: #00ff00\">:</span><span style=\"color: #000000; text-decoration-color: #000000\">433</span><span style=\"color: #000000; text-decoration-color: #000000\">]</span><span style=\"color: #ffff00; text-decoration-color: #ffff00; font-weight: bold\"> - </span>Tokens per iteration: <span style=\"color: #800080; text-decoration-color: #800080\">16</span>,<span style=\"color: #800080; text-decoration-color: #800080\">384</span>\n",
              "</pre>\n"
            ]
          },
          "metadata": {}
        },
        {
          "output_type": "display_data",
          "data": {
            "text/plain": [
              "\u001b[30m[\u001b[0m\u001b[90m2024-02-06 \u001b[0m\u001b[90m14:14:01\u001b[0m\u001b[30m]\u001b[0m\u001b[30m[\u001b[0m\u001b[1;32mINFO\u001b[0m\u001b[30m]\u001b[0m\u001b[30m[\u001b[0m\u001b[3;36mconfigs\u001b[0m\u001b[92m:\u001b[0m\u001b[30m456\u001b[0m\u001b[30m]\u001b[0m\u001b[1;93m - \u001b[0mUsing self.\u001b[3;94mptdtype\u001b[0m=\u001b[95mtorch\u001b[0m.float16 on self.\u001b[3;94mdevice_type\u001b[0m=\u001b[3;33m'cuda'\u001b[0m\n"
            ],
            "text/html": [
              "<pre style=\"white-space:pre;overflow-x:auto;line-height:normal;font-family:Menlo,'DejaVu Sans Mono',consolas,'Courier New',monospace\"><span style=\"color: #000000; text-decoration-color: #000000\">[</span><span style=\"color: #808080; text-decoration-color: #808080\">2024-02-06 14:14:01</span><span style=\"color: #000000; text-decoration-color: #000000\">][</span><span style=\"color: #008000; text-decoration-color: #008000; font-weight: bold\">INFO</span><span style=\"color: #000000; text-decoration-color: #000000\">][</span><span style=\"color: #008080; text-decoration-color: #008080; font-style: italic\">configs</span><span style=\"color: #00ff00; text-decoration-color: #00ff00\">:</span><span style=\"color: #000000; text-decoration-color: #000000\">456</span><span style=\"color: #000000; text-decoration-color: #000000\">]</span><span style=\"color: #ffff00; text-decoration-color: #ffff00; font-weight: bold\"> - </span>Using self.<span style=\"color: #0000ff; text-decoration-color: #0000ff; font-style: italic\">ptdtype</span>=<span style=\"color: #ff00ff; text-decoration-color: #ff00ff\">torch</span>.float16 on self.<span style=\"color: #0000ff; text-decoration-color: #0000ff; font-style: italic\">device_type</span>=<span style=\"color: #808000; text-decoration-color: #808000; font-style: italic\">'cuda'</span>\n",
              "</pre>\n"
            ]
          },
          "metadata": {}
        },
        {
          "output_type": "display_data",
          "data": {
            "text/plain": [
              "\u001b[30m[\u001b[0m\u001b[90m2024-02-06 \u001b[0m\u001b[90m14:14:01\u001b[0m\u001b[30m]\u001b[0m\u001b[30m[\u001b[0m\u001b[1;32mINFO\u001b[0m\u001b[30m]\u001b[0m\u001b[30m[\u001b[0m\u001b[3;36mconfigs\u001b[0m\u001b[92m:\u001b[0m\u001b[30m462\u001b[0m\u001b[30m]\u001b[0m\u001b[1;93m - \u001b[0mInitializing a new model from scratch\n"
            ],
            "text/html": [
              "<pre style=\"white-space:pre;overflow-x:auto;line-height:normal;font-family:Menlo,'DejaVu Sans Mono',consolas,'Courier New',monospace\"><span style=\"color: #000000; text-decoration-color: #000000\">[</span><span style=\"color: #808080; text-decoration-color: #808080\">2024-02-06 14:14:01</span><span style=\"color: #000000; text-decoration-color: #000000\">][</span><span style=\"color: #008000; text-decoration-color: #008000; font-weight: bold\">INFO</span><span style=\"color: #000000; text-decoration-color: #000000\">][</span><span style=\"color: #008080; text-decoration-color: #008080; font-style: italic\">configs</span><span style=\"color: #00ff00; text-decoration-color: #00ff00\">:</span><span style=\"color: #000000; text-decoration-color: #000000\">462</span><span style=\"color: #000000; text-decoration-color: #000000\">]</span><span style=\"color: #ffff00; text-decoration-color: #ffff00; font-weight: bold\"> - </span>Initializing a new model from scratch\n",
              "</pre>\n"
            ]
          },
          "metadata": {}
        }
      ],
      "source": [
        "import os\n",
        "import numpy as np\n",
        "from ezpz import setup\n",
        "from hydra.utils import instantiate\n",
        "from wordplay.configs import get_config, PROJECT_ROOT\n",
        "from wordplay.trainer import Trainer\n",
        "\n",
        "HF_DATASETS_CACHE = PROJECT_ROOT.joinpath('.cache', 'huggingface')\n",
        "HF_DATASETS_CACHE.mkdir(exist_ok=True, parents=True)\n",
        "\n",
        "os.environ['HF_DATASETS_CACHE'] = HF_DATASETS_CACHE.as_posix()\n",
        "\n",
        "BACKEND = 'DDP'\n",
        "\n",
        "rank = setup(\n",
        "    framework='pytorch',\n",
        "    backend=BACKEND,\n",
        "    seed=1234,\n",
        ")\n",
        "\n",
        "cfg = get_config(\n",
        "    [\n",
        "        'data=shakespeare',\n",
        "        'model=shakespeare',\n",
        "        'optimizer=shakespeare',\n",
        "        'train=shakespeare',\n",
        "        f'train.backend={BACKEND}',\n",
        "        'train.compile=false',\n",
        "        'train.dtype=float16',\n",
        "        'train.max_iters=5000',\n",
        "        'train.log_interval=100',\n",
        "        'train.eval_interval=500',\n",
        "    ]\n",
        ")\n",
        "config = instantiate(cfg)"
      ]
    },
    {
      "cell_type": "code",
      "execution_count": 5,
      "id": "7d12405a-8f88-476b-8922-a1a212adc682",
      "metadata": {
        "execution": {
          "iopub.execute_input": "2023-11-30T16:35:10.194033Z",
          "iopub.status.busy": "2023-11-30T16:35:10.193752Z",
          "iopub.status.idle": "2023-11-30T16:36:28.944914Z",
          "shell.execute_reply": "2023-11-30T16:36:28.943625Z",
          "shell.execute_reply.started": "2023-11-30T16:35:10.194017Z"
        },
        "jupyter": {
          "outputs_hidden": false,
          "source_hidden": false
        },
        "colab": {
          "base_uri": "https://localhost:8080/",
          "height": 113
        },
        "id": "7d12405a-8f88-476b-8922-a1a212adc682",
        "outputId": "bff4ade8-cf80-4a20-a68c-693ee2531122"
      },
      "outputs": [
        {
          "output_type": "display_data",
          "data": {
            "text/plain": [
              "\u001b[30m[\u001b[0m\u001b[90m2024-02-06 \u001b[0m\u001b[90m14:14:01\u001b[0m\u001b[30m]\u001b[0m\u001b[30m[\u001b[0m\u001b[1;32mINFO\u001b[0m\u001b[30m]\u001b[0m\u001b[30m[\u001b[0m\u001b[3;36mtrainer\u001b[0m\u001b[92m:\u001b[0m\u001b[30m277\u001b[0m\u001b[30m]\u001b[0m\u001b[1;93m - \u001b[0mInitializing a new model from scratch\n"
            ],
            "text/html": [
              "<pre style=\"white-space:pre;overflow-x:auto;line-height:normal;font-family:Menlo,'DejaVu Sans Mono',consolas,'Courier New',monospace\"><span style=\"color: #000000; text-decoration-color: #000000\">[</span><span style=\"color: #808080; text-decoration-color: #808080\">2024-02-06 14:14:01</span><span style=\"color: #000000; text-decoration-color: #000000\">][</span><span style=\"color: #008000; text-decoration-color: #008000; font-weight: bold\">INFO</span><span style=\"color: #000000; text-decoration-color: #000000\">][</span><span style=\"color: #008080; text-decoration-color: #008080; font-style: italic\">trainer</span><span style=\"color: #00ff00; text-decoration-color: #00ff00\">:</span><span style=\"color: #000000; text-decoration-color: #000000\">277</span><span style=\"color: #000000; text-decoration-color: #000000\">]</span><span style=\"color: #ffff00; text-decoration-color: #ffff00; font-weight: bold\"> - </span>Initializing a new model from scratch\n",
              "</pre>\n"
            ]
          },
          "metadata": {}
        },
        {
          "output_type": "display_data",
          "data": {
            "text/plain": [
              "\u001b[30m[\u001b[0m\u001b[90m2024-02-06 \u001b[0m\u001b[90m14:14:01\u001b[0m\u001b[30m]\u001b[0m\u001b[30m[\u001b[0m\u001b[1;32mINFO\u001b[0m\u001b[30m]\u001b[0m\u001b[30m[\u001b[0m\u001b[3;36mmodel\u001b[0m\u001b[92m:\u001b[0m\u001b[30m255\u001b[0m\u001b[30m]\u001b[0m\u001b[1;93m - \u001b[0mnumber of parameters: \u001b[35m10.\u001b[0m65M\n"
            ],
            "text/html": [
              "<pre style=\"white-space:pre;overflow-x:auto;line-height:normal;font-family:Menlo,'DejaVu Sans Mono',consolas,'Courier New',monospace\"><span style=\"color: #000000; text-decoration-color: #000000\">[</span><span style=\"color: #808080; text-decoration-color: #808080\">2024-02-06 14:14:01</span><span style=\"color: #000000; text-decoration-color: #000000\">][</span><span style=\"color: #008000; text-decoration-color: #008000; font-weight: bold\">INFO</span><span style=\"color: #000000; text-decoration-color: #000000\">][</span><span style=\"color: #008080; text-decoration-color: #008080; font-style: italic\">model</span><span style=\"color: #00ff00; text-decoration-color: #00ff00\">:</span><span style=\"color: #000000; text-decoration-color: #000000\">255</span><span style=\"color: #000000; text-decoration-color: #000000\">]</span><span style=\"color: #ffff00; text-decoration-color: #ffff00; font-weight: bold\"> - </span>number of parameters: <span style=\"color: #800080; text-decoration-color: #800080\">10.</span>65M\n",
              "</pre>\n"
            ]
          },
          "metadata": {}
        },
        {
          "output_type": "display_data",
          "data": {
            "text/plain": [
              "\u001b[30m[\u001b[0m\u001b[90m2024-02-06 \u001b[0m\u001b[90m14:14:01\u001b[0m\u001b[30m]\u001b[0m\u001b[30m[\u001b[0m\u001b[1;32mINFO\u001b[0m\u001b[30m]\u001b[0m\u001b[30m[\u001b[0m\u001b[3;36mmodel\u001b[0m\u001b[92m:\u001b[0m\u001b[30m445\u001b[0m\u001b[30m]\u001b[0m\u001b[1;93m - \u001b[0mnum decayed parameter tensors: \u001b[35m26\u001b[0m, with \u001b[35m10\u001b[0m,\u001b[35m740\u001b[0m,\u001b[35m096\u001b[0m parameters\n"
            ],
            "text/html": [
              "<pre style=\"white-space:pre;overflow-x:auto;line-height:normal;font-family:Menlo,'DejaVu Sans Mono',consolas,'Courier New',monospace\"><span style=\"color: #000000; text-decoration-color: #000000\">[</span><span style=\"color: #808080; text-decoration-color: #808080\">2024-02-06 14:14:01</span><span style=\"color: #000000; text-decoration-color: #000000\">][</span><span style=\"color: #008000; text-decoration-color: #008000; font-weight: bold\">INFO</span><span style=\"color: #000000; text-decoration-color: #000000\">][</span><span style=\"color: #008080; text-decoration-color: #008080; font-style: italic\">model</span><span style=\"color: #00ff00; text-decoration-color: #00ff00\">:</span><span style=\"color: #000000; text-decoration-color: #000000\">445</span><span style=\"color: #000000; text-decoration-color: #000000\">]</span><span style=\"color: #ffff00; text-decoration-color: #ffff00; font-weight: bold\"> - </span>num decayed parameter tensors: <span style=\"color: #800080; text-decoration-color: #800080\">26</span>, with <span style=\"color: #800080; text-decoration-color: #800080\">10</span>,<span style=\"color: #800080; text-decoration-color: #800080\">740</span>,<span style=\"color: #800080; text-decoration-color: #800080\">096</span> parameters\n",
              "</pre>\n"
            ]
          },
          "metadata": {}
        },
        {
          "output_type": "display_data",
          "data": {
            "text/plain": [
              "\u001b[30m[\u001b[0m\u001b[90m2024-02-06 \u001b[0m\u001b[90m14:14:01\u001b[0m\u001b[30m]\u001b[0m\u001b[30m[\u001b[0m\u001b[1;32mINFO\u001b[0m\u001b[30m]\u001b[0m\u001b[30m[\u001b[0m\u001b[3;36mmodel\u001b[0m\u001b[92m:\u001b[0m\u001b[30m449\u001b[0m\u001b[30m]\u001b[0m\u001b[1;93m - \u001b[0mnum non-decayed parameter tensors: \u001b[35m13\u001b[0m, with \u001b[35m4\u001b[0m,\u001b[35m992\u001b[0m parameters\n"
            ],
            "text/html": [
              "<pre style=\"white-space:pre;overflow-x:auto;line-height:normal;font-family:Menlo,'DejaVu Sans Mono',consolas,'Courier New',monospace\"><span style=\"color: #000000; text-decoration-color: #000000\">[</span><span style=\"color: #808080; text-decoration-color: #808080\">2024-02-06 14:14:01</span><span style=\"color: #000000; text-decoration-color: #000000\">][</span><span style=\"color: #008000; text-decoration-color: #008000; font-weight: bold\">INFO</span><span style=\"color: #000000; text-decoration-color: #000000\">][</span><span style=\"color: #008080; text-decoration-color: #008080; font-style: italic\">model</span><span style=\"color: #00ff00; text-decoration-color: #00ff00\">:</span><span style=\"color: #000000; text-decoration-color: #000000\">449</span><span style=\"color: #000000; text-decoration-color: #000000\">]</span><span style=\"color: #ffff00; text-decoration-color: #ffff00; font-weight: bold\"> - </span>num non-decayed parameter tensors: <span style=\"color: #800080; text-decoration-color: #800080\">13</span>, with <span style=\"color: #800080; text-decoration-color: #800080\">4</span>,<span style=\"color: #800080; text-decoration-color: #800080\">992</span> parameters\n",
              "</pre>\n"
            ]
          },
          "metadata": {}
        },
        {
          "output_type": "display_data",
          "data": {
            "text/plain": [
              "\u001b[30m[\u001b[0m\u001b[90m2024-02-06 \u001b[0m\u001b[90m14:14:02\u001b[0m\u001b[30m]\u001b[0m\u001b[30m[\u001b[0m\u001b[1;32mINFO\u001b[0m\u001b[30m]\u001b[0m\u001b[30m[\u001b[0m\u001b[3;36mmodel\u001b[0m\u001b[92m:\u001b[0m\u001b[30m465\u001b[0m\u001b[30m]\u001b[0m\u001b[1;93m - \u001b[0musing fused AdamW: \u001b[3;92mTrue\u001b[0m\n"
            ],
            "text/html": [
              "<pre style=\"white-space:pre;overflow-x:auto;line-height:normal;font-family:Menlo,'DejaVu Sans Mono',consolas,'Courier New',monospace\"><span style=\"color: #000000; text-decoration-color: #000000\">[</span><span style=\"color: #808080; text-decoration-color: #808080\">2024-02-06 14:14:02</span><span style=\"color: #000000; text-decoration-color: #000000\">][</span><span style=\"color: #008000; text-decoration-color: #008000; font-weight: bold\">INFO</span><span style=\"color: #000000; text-decoration-color: #000000\">][</span><span style=\"color: #008080; text-decoration-color: #008080; font-style: italic\">model</span><span style=\"color: #00ff00; text-decoration-color: #00ff00\">:</span><span style=\"color: #000000; text-decoration-color: #000000\">465</span><span style=\"color: #000000; text-decoration-color: #000000\">]</span><span style=\"color: #ffff00; text-decoration-color: #ffff00; font-weight: bold\"> - </span>using fused AdamW: <span style=\"color: #00ff00; text-decoration-color: #00ff00; font-style: italic\">True</span>\n",
              "</pre>\n"
            ]
          },
          "metadata": {}
        },
        {
          "output_type": "display_data",
          "data": {
            "text/plain": [
              "\u001b[30m[\u001b[0m\u001b[90m2024-02-06 \u001b[0m\u001b[90m14:14:02\u001b[0m\u001b[30m]\u001b[0m\u001b[30m[\u001b[0m\u001b[1;7;31mCRITICAL\u001b[0m\u001b[30m]\u001b[0m\u001b[30m[\u001b[0m\u001b[3;36mtrainer\u001b[0m\u001b[92m:\u001b[0m\u001b[30m338\u001b[0m\u001b[30m]\u001b[0m\u001b[1;93m - \u001b[0m\u001b[3;33m\"\u001b[0m\u001b[3;33mdevid\u001b[0m\u001b[3;33m='cuda:0'\"\u001b[0m\n"
            ],
            "text/html": [
              "<pre style=\"white-space:pre;overflow-x:auto;line-height:normal;font-family:Menlo,'DejaVu Sans Mono',consolas,'Courier New',monospace\"><span style=\"color: #000000; text-decoration-color: #000000\">[</span><span style=\"color: #808080; text-decoration-color: #808080\">2024-02-06 14:14:02</span><span style=\"color: #000000; text-decoration-color: #000000\">][</span><span style=\"background-color: #800000; font-weight: bold\">CRITICAL</span><span style=\"color: #000000; text-decoration-color: #000000\">][</span><span style=\"color: #008080; text-decoration-color: #008080; font-style: italic\">trainer</span><span style=\"color: #00ff00; text-decoration-color: #00ff00\">:</span><span style=\"color: #000000; text-decoration-color: #000000\">338</span><span style=\"color: #000000; text-decoration-color: #000000\">]</span><span style=\"color: #ffff00; text-decoration-color: #ffff00; font-weight: bold\"> - </span><span style=\"color: #808000; text-decoration-color: #808000; font-style: italic\">\"devid='cuda:0'\"</span>\n",
              "</pre>\n"
            ]
          },
          "metadata": {}
        }
      ],
      "source": [
        "trainer = Trainer(config)"
      ]
    },
    {
      "cell_type": "markdown",
      "id": "cca969e9-5132-42a8-9728-9db1bce6a198",
      "metadata": {
        "jupyter": {
          "source_hidden": false
        },
        "id": "cca969e9-5132-42a8-9728-9db1bce6a198"
      },
      "source": [
        "## Prompt (**prior** to training)"
      ]
    },
    {
      "cell_type": "code",
      "execution_count": 6,
      "id": "d4f50e19",
      "metadata": {
        "jupyter": {
          "outputs_hidden": false,
          "source_hidden": false
        },
        "colab": {
          "base_uri": "https://localhost:8080/",
          "height": 81
        },
        "id": "d4f50e19",
        "outputId": "144d41b5-b042-4c4f-e41d-63c052c8eb4b"
      },
      "outputs": [
        {
          "output_type": "display_data",
          "data": {
            "text/plain": [
              "\u001b[30m[\u001b[0m\u001b[90m2024-02-06 \u001b[0m\u001b[90m14:14:12\u001b[0m\u001b[30m]\u001b[0m\u001b[30m[\u001b[0m\u001b[1;32mINFO\u001b[0m\u001b[30m]\u001b[0m\u001b[30m[\u001b[0m\u001b[3;36m<ipython-input-6-c240c2a7e644>\u001b[0m\u001b[92m:\u001b[0m\u001b[30m9\u001b[0m\u001b[30m]\u001b[0m\u001b[1;93m - \u001b[0m\u001b[1;31m[\u001b[0m\u001b[3;33m'prompt'\u001b[0m\u001b[1;31m]\u001b[0m: \u001b[3;33m'What is an LLM?'\u001b[0m\n"
            ],
            "text/html": [
              "<pre style=\"white-space:pre;overflow-x:auto;line-height:normal;font-family:Menlo,'DejaVu Sans Mono',consolas,'Courier New',monospace\"><span style=\"color: #000000; text-decoration-color: #000000\">[</span><span style=\"color: #808080; text-decoration-color: #808080\">2024-02-06 14:14:12</span><span style=\"color: #000000; text-decoration-color: #000000\">][</span><span style=\"color: #008000; text-decoration-color: #008000; font-weight: bold\">INFO</span><span style=\"color: #000000; text-decoration-color: #000000\">][</span><span style=\"color: #008080; text-decoration-color: #008080; font-style: italic\">&lt;ipython-input-6-c240c2a7e644&gt;</span><span style=\"color: #00ff00; text-decoration-color: #00ff00\">:</span><span style=\"color: #000000; text-decoration-color: #000000\">9</span><span style=\"color: #000000; text-decoration-color: #000000\">]</span><span style=\"color: #ffff00; text-decoration-color: #ffff00; font-weight: bold\"> - </span><span style=\"color: #800000; text-decoration-color: #800000; font-weight: bold\">[</span><span style=\"color: #808000; text-decoration-color: #808000; font-style: italic\">'prompt'</span><span style=\"color: #800000; text-decoration-color: #800000; font-weight: bold\">]</span>: <span style=\"color: #808000; text-decoration-color: #808000; font-style: italic\">'What is an LLM?'</span>\n",
              "</pre>\n"
            ]
          },
          "metadata": {}
        },
        {
          "output_type": "display_data",
          "data": {
            "text/plain": [
              "\u001b[30m[\u001b[0m\u001b[90m2024-02-06 \u001b[0m\u001b[90m14:14:12\u001b[0m\u001b[30m]\u001b[0m\u001b[30m[\u001b[0m\u001b[1;32mINFO\u001b[0m\u001b[30m]\u001b[0m\u001b[30m[\u001b[0m\u001b[3;36m<ipython-input-6-c240c2a7e644>\u001b[0m\u001b[92m:\u001b[0m\u001b[30m10\u001b[0m\u001b[30m]\u001b[0m\u001b[1;93m - \u001b[0m\u001b[1;31m[\u001b[0m\u001b[3;33m'response'\u001b[0m\u001b[1;31m]\u001b[0m:\n",
              "\n",
              "What is an LLM??GGGGGVVVVVVVVVVVYYYYYYYYYCCCCCCCCCCCCCCCCCCCCCCCCCCCCCiiiiiiiiiiiiiiiiiiiiiiiiiiiiiiiiiiiiiiiiiiiiiiiiiiiiiiiiiiiiiiiiiiiiiiiii\n"
            ],
            "text/html": [
              "<pre style=\"white-space:pre;overflow-x:auto;line-height:normal;font-family:Menlo,'DejaVu Sans Mono',consolas,'Courier New',monospace\"><span style=\"color: #000000; text-decoration-color: #000000\">[</span><span style=\"color: #808080; text-decoration-color: #808080\">2024-02-06 14:14:12</span><span style=\"color: #000000; text-decoration-color: #000000\">][</span><span style=\"color: #008000; text-decoration-color: #008000; font-weight: bold\">INFO</span><span style=\"color: #000000; text-decoration-color: #000000\">][</span><span style=\"color: #008080; text-decoration-color: #008080; font-style: italic\">&lt;ipython-input-6-c240c2a7e644&gt;</span><span style=\"color: #00ff00; text-decoration-color: #00ff00\">:</span><span style=\"color: #000000; text-decoration-color: #000000\">10</span><span style=\"color: #000000; text-decoration-color: #000000\">]</span><span style=\"color: #ffff00; text-decoration-color: #ffff00; font-weight: bold\"> - </span><span style=\"color: #800000; text-decoration-color: #800000; font-weight: bold\">[</span><span style=\"color: #808000; text-decoration-color: #808000; font-style: italic\">'response'</span><span style=\"color: #800000; text-decoration-color: #800000; font-weight: bold\">]</span>:\n",
              "\n",
              "What is an LLM??GGGGGVVVVVVVVVVVYYYYYYYYYCCCCCCCCCCCCCCCCCCCCCCCCCCCCCiiiiiiiiiiiiiiiiiiiiiiiiiiiiiiiiiiiiiiiiiiiiiiiiiiiiiiiiiiiiiiiiiiiiiiiii\n",
              "</pre>\n"
            ]
          },
          "metadata": {}
        }
      ],
      "source": [
        "query = \"What is an LLM?\"\n",
        "outputs = trainer.evaluate(\n",
        "    query,\n",
        "    num_samples=1,\n",
        "    max_new_tokens=128,\n",
        "    top_k=1,\n",
        "    display=False\n",
        ")\n",
        "log.info(f\"['prompt']: '{query}'\")\n",
        "log.info(\"['response']:\\n\\n\" + fr\"{outputs['0']['raw']}\")"
      ]
    },
    {
      "cell_type": "markdown",
      "id": "c5202ff3-8811-47c9-8b9d-9818d4603697",
      "metadata": {
        "jupyter": {
          "source_hidden": false
        },
        "id": "c5202ff3-8811-47c9-8b9d-9818d4603697"
      },
      "source": [
        "## Train Model\n",
        "\n",
        "|  name  |       description            |\n",
        "|:------:|:----------------------------:|\n",
        "| `step` | Current training step        |\n",
        "| `loss` | Loss value                   |\n",
        "| `dt`   | Time per step (in **ms**)    |\n",
        "| `sps`  | Samples per second           |\n",
        "| `mtps` | (million) Tokens per sec     |\n",
        "| `mfu`  | Model Flops utilization[^1]  |\n",
        "^legend: #tbl-legend\n",
        "\n",
        "[^1]: in units of A100 `bfloat16` peak FLOPS"
      ]
    },
    {
      "cell_type": "code",
      "execution_count": 7,
      "id": "291fa522",
      "metadata": {
        "jupyter": {
          "outputs_hidden": false,
          "source_hidden": false
        },
        "colab": {
          "base_uri": "https://localhost:8080/",
          "height": 35
        },
        "id": "291fa522",
        "outputId": "339508c6-f72a-4fbd-e415-9698e53081ef"
      },
      "outputs": [
        {
          "output_type": "execute_result",
          "data": {
            "text/plain": [
              "'cuda'"
            ],
            "application/vnd.google.colaboratory.intrinsic+json": {
              "type": "string"
            }
          },
          "metadata": {},
          "execution_count": 7
        }
      ],
      "source": [
        "trainer.config.device_type"
      ]
    },
    {
      "cell_type": "code",
      "execution_count": 8,
      "id": "acb8d33b-f8c9-41c6-aa61-95bdb76bf6ea",
      "metadata": {
        "execution": {
          "iopub.status.busy": "2023-11-30T16:36:28.946773Z",
          "iopub.status.idle": "2023-11-30T16:36:28.946965Z",
          "shell.execute_reply": "2023-11-30T16:36:28.946874Z",
          "shell.execute_reply.started": "2023-11-30T16:36:28.946865Z"
        },
        "jupyter": {
          "outputs_hidden": false,
          "source_hidden": false
        },
        "colab": {
          "base_uri": "https://localhost:8080/",
          "height": 1000
        },
        "id": "acb8d33b-f8c9-41c6-aa61-95bdb76bf6ea",
        "outputId": "b38cefb2-9fa7-423b-9d7f-05ad5f05792d"
      },
      "outputs": [
        {
          "output_type": "stream",
          "name": "stderr",
          "text": [
            "\r  0%|          | 0/5000 [00:00<?, ?it/s]"
          ]
        },
        {
          "output_type": "display_data",
          "data": {
            "text/plain": [
              "\u001b[3m                              Training Legend                               \u001b[0m\n",
              "┏━━━━━━━━━━━━┳━━━━━━━━━━━━━━━━━━━━━━━━━━━━━━━━━━━━━━━━━━━━━━━━━━━━━━━━━━━━━┓\n",
              "┃\u001b[1m \u001b[0m\u001b[1m   abbr   \u001b[0m\u001b[1m \u001b[0m┃\u001b[1m \u001b[0m\u001b[1mdesc                                                       \u001b[0m\u001b[1m \u001b[0m┃\n",
              "┡━━━━━━━━━━━━╇━━━━━━━━━━━━━━━━━━━━━━━━━━━━━━━━━━━━━━━━━━━━━━━━━━━━━━━━━━━━━┩\n",
              "│\u001b[32m \u001b[0m\u001b[32m   step   \u001b[0m\u001b[32m \u001b[0m│ Current training iteration                                  │\n",
              "│\u001b[32m \u001b[0m\u001b[32m   loss   \u001b[0m\u001b[32m \u001b[0m│ Loss value                                                  │\n",
              "│\u001b[32m \u001b[0m\u001b[32m    dt    \u001b[0m\u001b[32m \u001b[0m│ Elapsed time per training step (measured in **ms**)         │\n",
              "│\u001b[32m \u001b[0m\u001b[32m   dtf    \u001b[0m\u001b[32m \u001b[0m│ Elapsed time per forward step (measured in **ms**)          │\n",
              "│\u001b[32m \u001b[0m\u001b[32m   dtb    \u001b[0m\u001b[32m \u001b[0m│ Elapsed time per backward step (measured in **ms**)         │\n",
              "│\u001b[32m \u001b[0m\u001b[32m   sps    \u001b[0m\u001b[32m \u001b[0m│ Samples per second                                          │\n",
              "│\u001b[32m \u001b[0m\u001b[32m   mtps   \u001b[0m\u001b[32m \u001b[0m│ Tokens per second, measured in MEGA (1 x 10^6) tokens / sec │\n",
              "│\u001b[32m \u001b[0m\u001b[32m   mfu    \u001b[0m\u001b[32m \u001b[0m│ Model flops utilization                                     │\n",
              "│\u001b[32m \u001b[0m\u001b[32mtrain_loss\u001b[0m\u001b[32m \u001b[0m│ Training loss value                                         │\n",
              "│\u001b[32m \u001b[0m\u001b[32m val_loss \u001b[0m\u001b[32m \u001b[0m│ Validation loss value                                       │\n",
              "└────────────┴─────────────────────────────────────────────────────────────┘\n"
            ],
            "text/html": [
              "<pre style=\"white-space:pre;overflow-x:auto;line-height:normal;font-family:Menlo,'DejaVu Sans Mono',consolas,'Courier New',monospace\"><span style=\"font-style: italic\">                              Training Legend                               </span>\n",
              "┏━━━━━━━━━━━━┳━━━━━━━━━━━━━━━━━━━━━━━━━━━━━━━━━━━━━━━━━━━━━━━━━━━━━━━━━━━━━┓\n",
              "┃<span style=\"font-weight: bold\">    abbr    </span>┃<span style=\"font-weight: bold\"> desc                                                        </span>┃\n",
              "┡━━━━━━━━━━━━╇━━━━━━━━━━━━━━━━━━━━━━━━━━━━━━━━━━━━━━━━━━━━━━━━━━━━━━━━━━━━━┩\n",
              "│<span style=\"color: #008000; text-decoration-color: #008000\">    step    </span>│ Current training iteration                                  │\n",
              "│<span style=\"color: #008000; text-decoration-color: #008000\">    loss    </span>│ Loss value                                                  │\n",
              "│<span style=\"color: #008000; text-decoration-color: #008000\">     dt     </span>│ Elapsed time per training step (measured in **ms**)         │\n",
              "│<span style=\"color: #008000; text-decoration-color: #008000\">    dtf     </span>│ Elapsed time per forward step (measured in **ms**)          │\n",
              "│<span style=\"color: #008000; text-decoration-color: #008000\">    dtb     </span>│ Elapsed time per backward step (measured in **ms**)         │\n",
              "│<span style=\"color: #008000; text-decoration-color: #008000\">    sps     </span>│ Samples per second                                          │\n",
              "│<span style=\"color: #008000; text-decoration-color: #008000\">    mtps    </span>│ Tokens per second, measured in MEGA (1 x 10^6) tokens / sec │\n",
              "│<span style=\"color: #008000; text-decoration-color: #008000\">    mfu     </span>│ Model flops utilization                                     │\n",
              "│<span style=\"color: #008000; text-decoration-color: #008000\"> train_loss </span>│ Training loss value                                         │\n",
              "│<span style=\"color: #008000; text-decoration-color: #008000\">  val_loss  </span>│ Validation loss value                                       │\n",
              "└────────────┴─────────────────────────────────────────────────────────────┘\n",
              "</pre>\n"
            ]
          },
          "metadata": {}
        },
        {
          "output_type": "stream",
          "name": "stderr",
          "text": [
            "  2%|▏         | 97/5000 [00:07<02:07, 38.41it/s]"
          ]
        },
        {
          "output_type": "display_data",
          "data": {
            "text/plain": [
              "\u001b[30m[\u001b[0m\u001b[90m2024-02-06 \u001b[0m\u001b[90m14:14:30\u001b[0m\u001b[30m]\u001b[0m\u001b[30m[\u001b[0m\u001b[1;32mINFO\u001b[0m\u001b[30m]\u001b[0m\u001b[30m[\u001b[0m\u001b[3;36mtrainer\u001b[0m\u001b[92m:\u001b[0m\u001b[30m768\u001b[0m\u001b[30m]\u001b[0m\u001b[1;93m - \u001b[0m\u001b[3;94mstep\u001b[0m=\u001b[35m100\u001b[0m \u001b[3;94mloss\u001b[0m=\u001b[35m2\u001b[0m\u001b[35m.4807\u001b[0m \u001b[3;94mdt\u001b[0m=\u001b[35m28\u001b[0m\u001b[35m.3995\u001b[0m \u001b[3;94mdtf\u001b[0m=\u001b[35m8\u001b[0m\u001b[35m.2712\u001b[0m \u001b[3;94mdtb\u001b[0m=\u001b[35m16\u001b[0m\u001b[35m.9648\u001b[0m \u001b[3;94msps\u001b[0m=\u001b[35m35\u001b[0m\u001b[35m.2119\u001b[0m \u001b[3;94mmtps\u001b[0m=\u001b[35m0\u001b[0m\u001b[35m.5769\u001b[0m \u001b[3;94mmfu\u001b[0m=\u001b[35m13\u001b[0m\u001b[35m.1208\u001b[0m \u001b[3;94mtrain_loss\u001b[0m=\u001b[35m4\u001b[0m\u001b[35m.3000\u001b[0m \u001b[3;94mval_loss\u001b[0m=\u001b[35m4\u001b[0m\u001b[35m.2911\u001b[0m\n"
            ],
            "text/html": [
              "<pre style=\"white-space:pre;overflow-x:auto;line-height:normal;font-family:Menlo,'DejaVu Sans Mono',consolas,'Courier New',monospace\"><span style=\"color: #000000; text-decoration-color: #000000\">[</span><span style=\"color: #808080; text-decoration-color: #808080\">2024-02-06 14:14:30</span><span style=\"color: #000000; text-decoration-color: #000000\">][</span><span style=\"color: #008000; text-decoration-color: #008000; font-weight: bold\">INFO</span><span style=\"color: #000000; text-decoration-color: #000000\">][</span><span style=\"color: #008080; text-decoration-color: #008080; font-style: italic\">trainer</span><span style=\"color: #00ff00; text-decoration-color: #00ff00\">:</span><span style=\"color: #000000; text-decoration-color: #000000\">768</span><span style=\"color: #000000; text-decoration-color: #000000\">]</span><span style=\"color: #ffff00; text-decoration-color: #ffff00; font-weight: bold\"> - </span><span style=\"color: #0000ff; text-decoration-color: #0000ff; font-style: italic\">step</span>=<span style=\"color: #800080; text-decoration-color: #800080\">100</span> <span style=\"color: #0000ff; text-decoration-color: #0000ff; font-style: italic\">loss</span>=<span style=\"color: #800080; text-decoration-color: #800080\">2.4807</span> <span style=\"color: #0000ff; text-decoration-color: #0000ff; font-style: italic\">dt</span>=<span style=\"color: #800080; text-decoration-color: #800080\">28.3995</span> <span style=\"color: #0000ff; text-decoration-color: #0000ff; font-style: italic\">dtf</span>=<span style=\"color: #800080; text-decoration-color: #800080\">8.2712</span> <span style=\"color: #0000ff; text-decoration-color: #0000ff; font-style: italic\">dtb</span>=<span style=\"color: #800080; text-decoration-color: #800080\">16.9648</span> <span style=\"color: #0000ff; text-decoration-color: #0000ff; font-style: italic\">sps</span>=<span style=\"color: #800080; text-decoration-color: #800080\">35.2119</span> <span style=\"color: #0000ff; text-decoration-color: #0000ff; font-style: italic\">mtps</span>=<span style=\"color: #800080; text-decoration-color: #800080\">0.5769</span> <span style=\"color: #0000ff; text-decoration-color: #0000ff; font-style: italic\">mfu</span>=<span style=\"color: #800080; text-decoration-color: #800080\">13.1208</span> <span style=\"color: #0000ff; text-decoration-color: #0000ff; font-style: italic\">train_loss</span>=<span style=\"color: #800080; text-decoration-color: #800080\">4.3000</span> <span style=\"color: #0000ff; text-decoration-color: #0000ff; font-style: italic\">val_loss</span>=<span style=\"color: #800080; text-decoration-color: #800080\">4.2911</span>\n",
              "</pre>\n"
            ]
          },
          "metadata": {}
        },
        {
          "output_type": "stream",
          "name": "stderr",
          "text": [
            "  4%|▍         | 197/5000 [00:10<02:07, 37.72it/s]"
          ]
        },
        {
          "output_type": "display_data",
          "data": {
            "text/plain": [
              "\u001b[30m[\u001b[0m\u001b[90m2024-02-06 \u001b[0m\u001b[90m14:14:32\u001b[0m\u001b[30m]\u001b[0m\u001b[30m[\u001b[0m\u001b[1;32mINFO\u001b[0m\u001b[30m]\u001b[0m\u001b[30m[\u001b[0m\u001b[3;36mtrainer\u001b[0m\u001b[92m:\u001b[0m\u001b[30m768\u001b[0m\u001b[30m]\u001b[0m\u001b[1;93m - \u001b[0m\u001b[3;94mstep\u001b[0m=\u001b[35m200\u001b[0m \u001b[3;94mloss\u001b[0m=\u001b[35m2\u001b[0m\u001b[35m.2614\u001b[0m \u001b[3;94mdt\u001b[0m=\u001b[35m25\u001b[0m\u001b[35m.4588\u001b[0m \u001b[3;94mdtf\u001b[0m=\u001b[35m8\u001b[0m\u001b[35m.7787\u001b[0m \u001b[3;94mdtb\u001b[0m=\u001b[35m13\u001b[0m\u001b[35m.6151\u001b[0m \u001b[3;94msps\u001b[0m=\u001b[35m39\u001b[0m\u001b[35m.2791\u001b[0m \u001b[3;94mmtps\u001b[0m=\u001b[35m0\u001b[0m\u001b[35m.6435\u001b[0m \u001b[3;94mmfu\u001b[0m=\u001b[35m13\u001b[0m\u001b[35m.2723\u001b[0m \u001b[3;94mtrain_loss\u001b[0m=\u001b[35m4\u001b[0m\u001b[35m.3000\u001b[0m \u001b[3;94mval_loss\u001b[0m=\u001b[35m4\u001b[0m\u001b[35m.2911\u001b[0m\n"
            ],
            "text/html": [
              "<pre style=\"white-space:pre;overflow-x:auto;line-height:normal;font-family:Menlo,'DejaVu Sans Mono',consolas,'Courier New',monospace\"><span style=\"color: #000000; text-decoration-color: #000000\">[</span><span style=\"color: #808080; text-decoration-color: #808080\">2024-02-06 14:14:32</span><span style=\"color: #000000; text-decoration-color: #000000\">][</span><span style=\"color: #008000; text-decoration-color: #008000; font-weight: bold\">INFO</span><span style=\"color: #000000; text-decoration-color: #000000\">][</span><span style=\"color: #008080; text-decoration-color: #008080; font-style: italic\">trainer</span><span style=\"color: #00ff00; text-decoration-color: #00ff00\">:</span><span style=\"color: #000000; text-decoration-color: #000000\">768</span><span style=\"color: #000000; text-decoration-color: #000000\">]</span><span style=\"color: #ffff00; text-decoration-color: #ffff00; font-weight: bold\"> - </span><span style=\"color: #0000ff; text-decoration-color: #0000ff; font-style: italic\">step</span>=<span style=\"color: #800080; text-decoration-color: #800080\">200</span> <span style=\"color: #0000ff; text-decoration-color: #0000ff; font-style: italic\">loss</span>=<span style=\"color: #800080; text-decoration-color: #800080\">2.2614</span> <span style=\"color: #0000ff; text-decoration-color: #0000ff; font-style: italic\">dt</span>=<span style=\"color: #800080; text-decoration-color: #800080\">25.4588</span> <span style=\"color: #0000ff; text-decoration-color: #0000ff; font-style: italic\">dtf</span>=<span style=\"color: #800080; text-decoration-color: #800080\">8.7787</span> <span style=\"color: #0000ff; text-decoration-color: #0000ff; font-style: italic\">dtb</span>=<span style=\"color: #800080; text-decoration-color: #800080\">13.6151</span> <span style=\"color: #0000ff; text-decoration-color: #0000ff; font-style: italic\">sps</span>=<span style=\"color: #800080; text-decoration-color: #800080\">39.2791</span> <span style=\"color: #0000ff; text-decoration-color: #0000ff; font-style: italic\">mtps</span>=<span style=\"color: #800080; text-decoration-color: #800080\">0.6435</span> <span style=\"color: #0000ff; text-decoration-color: #0000ff; font-style: italic\">mfu</span>=<span style=\"color: #800080; text-decoration-color: #800080\">13.2723</span> <span style=\"color: #0000ff; text-decoration-color: #0000ff; font-style: italic\">train_loss</span>=<span style=\"color: #800080; text-decoration-color: #800080\">4.3000</span> <span style=\"color: #0000ff; text-decoration-color: #0000ff; font-style: italic\">val_loss</span>=<span style=\"color: #800080; text-decoration-color: #800080\">4.2911</span>\n",
              "</pre>\n"
            ]
          },
          "metadata": {}
        },
        {
          "output_type": "stream",
          "name": "stderr",
          "text": [
            "  6%|▌         | 297/5000 [00:12<02:05, 37.42it/s]"
          ]
        },
        {
          "output_type": "display_data",
          "data": {
            "text/plain": [
              "\u001b[30m[\u001b[0m\u001b[90m2024-02-06 \u001b[0m\u001b[90m14:14:35\u001b[0m\u001b[30m]\u001b[0m\u001b[30m[\u001b[0m\u001b[1;32mINFO\u001b[0m\u001b[30m]\u001b[0m\u001b[30m[\u001b[0m\u001b[3;36mtrainer\u001b[0m\u001b[92m:\u001b[0m\u001b[30m768\u001b[0m\u001b[30m]\u001b[0m\u001b[1;93m - \u001b[0m\u001b[3;94mstep\u001b[0m=\u001b[35m300\u001b[0m \u001b[3;94mloss\u001b[0m=\u001b[35m1\u001b[0m\u001b[35m.9093\u001b[0m \u001b[3;94mdt\u001b[0m=\u001b[35m26\u001b[0m\u001b[35m.6617\u001b[0m \u001b[3;94mdtf\u001b[0m=\u001b[35m9\u001b[0m\u001b[35m.0365\u001b[0m \u001b[3;94mdtb\u001b[0m=\u001b[35m14\u001b[0m\u001b[35m.0989\u001b[0m \u001b[3;94msps\u001b[0m=\u001b[35m37\u001b[0m\u001b[35m.5070\u001b[0m \u001b[3;94mmtps\u001b[0m=\u001b[35m0\u001b[0m\u001b[35m.6145\u001b[0m \u001b[3;94mmfu\u001b[0m=\u001b[35m13\u001b[0m\u001b[35m.3427\u001b[0m \u001b[3;94mtrain_loss\u001b[0m=\u001b[35m4\u001b[0m\u001b[35m.3000\u001b[0m \u001b[3;94mval_loss\u001b[0m=\u001b[35m4\u001b[0m\u001b[35m.2911\u001b[0m\n"
            ],
            "text/html": [
              "<pre style=\"white-space:pre;overflow-x:auto;line-height:normal;font-family:Menlo,'DejaVu Sans Mono',consolas,'Courier New',monospace\"><span style=\"color: #000000; text-decoration-color: #000000\">[</span><span style=\"color: #808080; text-decoration-color: #808080\">2024-02-06 14:14:35</span><span style=\"color: #000000; text-decoration-color: #000000\">][</span><span style=\"color: #008000; text-decoration-color: #008000; font-weight: bold\">INFO</span><span style=\"color: #000000; text-decoration-color: #000000\">][</span><span style=\"color: #008080; text-decoration-color: #008080; font-style: italic\">trainer</span><span style=\"color: #00ff00; text-decoration-color: #00ff00\">:</span><span style=\"color: #000000; text-decoration-color: #000000\">768</span><span style=\"color: #000000; text-decoration-color: #000000\">]</span><span style=\"color: #ffff00; text-decoration-color: #ffff00; font-weight: bold\"> - </span><span style=\"color: #0000ff; text-decoration-color: #0000ff; font-style: italic\">step</span>=<span style=\"color: #800080; text-decoration-color: #800080\">300</span> <span style=\"color: #0000ff; text-decoration-color: #0000ff; font-style: italic\">loss</span>=<span style=\"color: #800080; text-decoration-color: #800080\">1.9093</span> <span style=\"color: #0000ff; text-decoration-color: #0000ff; font-style: italic\">dt</span>=<span style=\"color: #800080; text-decoration-color: #800080\">26.6617</span> <span style=\"color: #0000ff; text-decoration-color: #0000ff; font-style: italic\">dtf</span>=<span style=\"color: #800080; text-decoration-color: #800080\">9.0365</span> <span style=\"color: #0000ff; text-decoration-color: #0000ff; font-style: italic\">dtb</span>=<span style=\"color: #800080; text-decoration-color: #800080\">14.0989</span> <span style=\"color: #0000ff; text-decoration-color: #0000ff; font-style: italic\">sps</span>=<span style=\"color: #800080; text-decoration-color: #800080\">37.5070</span> <span style=\"color: #0000ff; text-decoration-color: #0000ff; font-style: italic\">mtps</span>=<span style=\"color: #800080; text-decoration-color: #800080\">0.6145</span> <span style=\"color: #0000ff; text-decoration-color: #0000ff; font-style: italic\">mfu</span>=<span style=\"color: #800080; text-decoration-color: #800080\">13.3427</span> <span style=\"color: #0000ff; text-decoration-color: #0000ff; font-style: italic\">train_loss</span>=<span style=\"color: #800080; text-decoration-color: #800080\">4.3000</span> <span style=\"color: #0000ff; text-decoration-color: #0000ff; font-style: italic\">val_loss</span>=<span style=\"color: #800080; text-decoration-color: #800080\">4.2911</span>\n",
              "</pre>\n"
            ]
          },
          "metadata": {}
        },
        {
          "output_type": "stream",
          "name": "stderr",
          "text": [
            "  8%|▊         | 397/5000 [00:15<02:05, 36.72it/s]"
          ]
        },
        {
          "output_type": "display_data",
          "data": {
            "text/plain": [
              "\u001b[30m[\u001b[0m\u001b[90m2024-02-06 \u001b[0m\u001b[90m14:14:38\u001b[0m\u001b[30m]\u001b[0m\u001b[30m[\u001b[0m\u001b[1;32mINFO\u001b[0m\u001b[30m]\u001b[0m\u001b[30m[\u001b[0m\u001b[3;36mtrainer\u001b[0m\u001b[92m:\u001b[0m\u001b[30m768\u001b[0m\u001b[30m]\u001b[0m\u001b[1;93m - \u001b[0m\u001b[3;94mstep\u001b[0m=\u001b[35m400\u001b[0m \u001b[3;94mloss\u001b[0m=\u001b[35m1\u001b[0m\u001b[35m.7226\u001b[0m \u001b[3;94mdt\u001b[0m=\u001b[35m26\u001b[0m\u001b[35m.7318\u001b[0m \u001b[3;94mdtf\u001b[0m=\u001b[35m8\u001b[0m\u001b[35m.6104\u001b[0m \u001b[3;94mdtb\u001b[0m=\u001b[35m14\u001b[0m\u001b[35m.8132\u001b[0m \u001b[3;94msps\u001b[0m=\u001b[35m37\u001b[0m\u001b[35m.4087\u001b[0m \u001b[3;94mmtps\u001b[0m=\u001b[35m0\u001b[0m\u001b[35m.6129\u001b[0m \u001b[3;94mmfu\u001b[0m=\u001b[35m13\u001b[0m\u001b[35m.4024\u001b[0m \u001b[3;94mtrain_loss\u001b[0m=\u001b[35m4\u001b[0m\u001b[35m.3000\u001b[0m \u001b[3;94mval_loss\u001b[0m=\u001b[35m4\u001b[0m\u001b[35m.2911\u001b[0m\n"
            ],
            "text/html": [
              "<pre style=\"white-space:pre;overflow-x:auto;line-height:normal;font-family:Menlo,'DejaVu Sans Mono',consolas,'Courier New',monospace\"><span style=\"color: #000000; text-decoration-color: #000000\">[</span><span style=\"color: #808080; text-decoration-color: #808080\">2024-02-06 14:14:38</span><span style=\"color: #000000; text-decoration-color: #000000\">][</span><span style=\"color: #008000; text-decoration-color: #008000; font-weight: bold\">INFO</span><span style=\"color: #000000; text-decoration-color: #000000\">][</span><span style=\"color: #008080; text-decoration-color: #008080; font-style: italic\">trainer</span><span style=\"color: #00ff00; text-decoration-color: #00ff00\">:</span><span style=\"color: #000000; text-decoration-color: #000000\">768</span><span style=\"color: #000000; text-decoration-color: #000000\">]</span><span style=\"color: #ffff00; text-decoration-color: #ffff00; font-weight: bold\"> - </span><span style=\"color: #0000ff; text-decoration-color: #0000ff; font-style: italic\">step</span>=<span style=\"color: #800080; text-decoration-color: #800080\">400</span> <span style=\"color: #0000ff; text-decoration-color: #0000ff; font-style: italic\">loss</span>=<span style=\"color: #800080; text-decoration-color: #800080\">1.7226</span> <span style=\"color: #0000ff; text-decoration-color: #0000ff; font-style: italic\">dt</span>=<span style=\"color: #800080; text-decoration-color: #800080\">26.7318</span> <span style=\"color: #0000ff; text-decoration-color: #0000ff; font-style: italic\">dtf</span>=<span style=\"color: #800080; text-decoration-color: #800080\">8.6104</span> <span style=\"color: #0000ff; text-decoration-color: #0000ff; font-style: italic\">dtb</span>=<span style=\"color: #800080; text-decoration-color: #800080\">14.8132</span> <span style=\"color: #0000ff; text-decoration-color: #0000ff; font-style: italic\">sps</span>=<span style=\"color: #800080; text-decoration-color: #800080\">37.4087</span> <span style=\"color: #0000ff; text-decoration-color: #0000ff; font-style: italic\">mtps</span>=<span style=\"color: #800080; text-decoration-color: #800080\">0.6129</span> <span style=\"color: #0000ff; text-decoration-color: #0000ff; font-style: italic\">mfu</span>=<span style=\"color: #800080; text-decoration-color: #800080\">13.4024</span> <span style=\"color: #0000ff; text-decoration-color: #0000ff; font-style: italic\">train_loss</span>=<span style=\"color: #800080; text-decoration-color: #800080\">4.3000</span> <span style=\"color: #0000ff; text-decoration-color: #0000ff; font-style: italic\">val_loss</span>=<span style=\"color: #800080; text-decoration-color: #800080\">4.2911</span>\n",
              "</pre>\n"
            ]
          },
          "metadata": {}
        },
        {
          "output_type": "stream",
          "name": "stderr",
          "text": [
            " 10%|▉         | 497/5000 [00:18<01:59, 37.68it/s]"
          ]
        },
        {
          "output_type": "display_data",
          "data": {
            "text/plain": [
              "\u001b[30m[\u001b[0m\u001b[90m2024-02-06 \u001b[0m\u001b[90m14:14:40\u001b[0m\u001b[30m]\u001b[0m\u001b[30m[\u001b[0m\u001b[1;32mINFO\u001b[0m\u001b[30m]\u001b[0m\u001b[30m[\u001b[0m\u001b[3;36mtrainer\u001b[0m\u001b[92m:\u001b[0m\u001b[30m768\u001b[0m\u001b[30m]\u001b[0m\u001b[1;93m - \u001b[0m\u001b[3;94mstep\u001b[0m=\u001b[35m500\u001b[0m \u001b[3;94mloss\u001b[0m=\u001b[35m1\u001b[0m\u001b[35m.5998\u001b[0m \u001b[3;94mdt\u001b[0m=\u001b[35m25\u001b[0m\u001b[35m.9560\u001b[0m \u001b[3;94mdtf\u001b[0m=\u001b[35m8\u001b[0m\u001b[35m.3991\u001b[0m \u001b[3;94mdtb\u001b[0m=\u001b[35m14\u001b[0m\u001b[35m.3842\u001b[0m \u001b[3;94msps\u001b[0m=\u001b[35m38\u001b[0m\u001b[35m.5268\u001b[0m \u001b[3;94mmtps\u001b[0m=\u001b[35m0\u001b[0m\u001b[35m.6312\u001b[0m \u001b[3;94mmfu\u001b[0m=\u001b[35m13\u001b[0m\u001b[35m.4977\u001b[0m \u001b[3;94mtrain_loss\u001b[0m=\u001b[35m4\u001b[0m\u001b[35m.3000\u001b[0m \u001b[3;94mval_loss\u001b[0m=\u001b[35m4\u001b[0m\u001b[35m.2911\u001b[0m\n"
            ],
            "text/html": [
              "<pre style=\"white-space:pre;overflow-x:auto;line-height:normal;font-family:Menlo,'DejaVu Sans Mono',consolas,'Courier New',monospace\"><span style=\"color: #000000; text-decoration-color: #000000\">[</span><span style=\"color: #808080; text-decoration-color: #808080\">2024-02-06 14:14:40</span><span style=\"color: #000000; text-decoration-color: #000000\">][</span><span style=\"color: #008000; text-decoration-color: #008000; font-weight: bold\">INFO</span><span style=\"color: #000000; text-decoration-color: #000000\">][</span><span style=\"color: #008080; text-decoration-color: #008080; font-style: italic\">trainer</span><span style=\"color: #00ff00; text-decoration-color: #00ff00\">:</span><span style=\"color: #000000; text-decoration-color: #000000\">768</span><span style=\"color: #000000; text-decoration-color: #000000\">]</span><span style=\"color: #ffff00; text-decoration-color: #ffff00; font-weight: bold\"> - </span><span style=\"color: #0000ff; text-decoration-color: #0000ff; font-style: italic\">step</span>=<span style=\"color: #800080; text-decoration-color: #800080\">500</span> <span style=\"color: #0000ff; text-decoration-color: #0000ff; font-style: italic\">loss</span>=<span style=\"color: #800080; text-decoration-color: #800080\">1.5998</span> <span style=\"color: #0000ff; text-decoration-color: #0000ff; font-style: italic\">dt</span>=<span style=\"color: #800080; text-decoration-color: #800080\">25.9560</span> <span style=\"color: #0000ff; text-decoration-color: #0000ff; font-style: italic\">dtf</span>=<span style=\"color: #800080; text-decoration-color: #800080\">8.3991</span> <span style=\"color: #0000ff; text-decoration-color: #0000ff; font-style: italic\">dtb</span>=<span style=\"color: #800080; text-decoration-color: #800080\">14.3842</span> <span style=\"color: #0000ff; text-decoration-color: #0000ff; font-style: italic\">sps</span>=<span style=\"color: #800080; text-decoration-color: #800080\">38.5268</span> <span style=\"color: #0000ff; text-decoration-color: #0000ff; font-style: italic\">mtps</span>=<span style=\"color: #800080; text-decoration-color: #800080\">0.6312</span> <span style=\"color: #0000ff; text-decoration-color: #0000ff; font-style: italic\">mfu</span>=<span style=\"color: #800080; text-decoration-color: #800080\">13.4977</span> <span style=\"color: #0000ff; text-decoration-color: #0000ff; font-style: italic\">train_loss</span>=<span style=\"color: #800080; text-decoration-color: #800080\">4.3000</span> <span style=\"color: #0000ff; text-decoration-color: #0000ff; font-style: italic\">val_loss</span>=<span style=\"color: #800080; text-decoration-color: #800080\">4.2911</span>\n",
              "</pre>\n"
            ]
          },
          "metadata": {}
        },
        {
          "output_type": "display_data",
          "data": {
            "text/plain": [
              "\u001b[30m[\u001b[0m\u001b[90m2024-02-06 \u001b[0m\u001b[90m14:14:45\u001b[0m\u001b[30m]\u001b[0m\u001b[30m[\u001b[0m\u001b[1;32mINFO\u001b[0m\u001b[30m]\u001b[0m\u001b[30m[\u001b[0m\u001b[3;36mtrainer\u001b[0m\u001b[92m:\u001b[0m\u001b[30m666\u001b[0m\u001b[30m]\u001b[0m\u001b[1;93m - \u001b[0mSaving checkpoint to: \u001b[32m/\u001b[0m\u001b[35mcontent\u001b[0m\n"
            ],
            "text/html": [
              "<pre style=\"white-space:pre;overflow-x:auto;line-height:normal;font-family:Menlo,'DejaVu Sans Mono',consolas,'Courier New',monospace\"><span style=\"color: #000000; text-decoration-color: #000000\">[</span><span style=\"color: #808080; text-decoration-color: #808080\">2024-02-06 14:14:45</span><span style=\"color: #000000; text-decoration-color: #000000\">][</span><span style=\"color: #008000; text-decoration-color: #008000; font-weight: bold\">INFO</span><span style=\"color: #000000; text-decoration-color: #000000\">][</span><span style=\"color: #008080; text-decoration-color: #008080; font-style: italic\">trainer</span><span style=\"color: #00ff00; text-decoration-color: #00ff00\">:</span><span style=\"color: #000000; text-decoration-color: #000000\">666</span><span style=\"color: #000000; text-decoration-color: #000000\">]</span><span style=\"color: #ffff00; text-decoration-color: #ffff00; font-weight: bold\"> - </span>Saving checkpoint to: <span style=\"color: #008000; text-decoration-color: #008000\">/</span><span style=\"color: #800080; text-decoration-color: #800080\">content</span>\n",
              "</pre>\n"
            ]
          },
          "metadata": {}
        },
        {
          "output_type": "display_data",
          "data": {
            "text/plain": [
              "\u001b[30m[\u001b[0m\u001b[90m2024-02-06 \u001b[0m\u001b[90m14:14:45\u001b[0m\u001b[30m]\u001b[0m\u001b[30m[\u001b[0m\u001b[1;32mINFO\u001b[0m\u001b[30m]\u001b[0m\u001b[30m[\u001b[0m\u001b[3;36mtrainer\u001b[0m\u001b[92m:\u001b[0m\u001b[30m667\u001b[0m\u001b[30m]\u001b[0m\u001b[1;93m - \u001b[0mSaving model to: \u001b[32m/content/\u001b[0m\u001b[35mmodel.pth\u001b[0m\n"
            ],
            "text/html": [
              "<pre style=\"white-space:pre;overflow-x:auto;line-height:normal;font-family:Menlo,'DejaVu Sans Mono',consolas,'Courier New',monospace\"><span style=\"color: #000000; text-decoration-color: #000000\">[</span><span style=\"color: #808080; text-decoration-color: #808080\">2024-02-06 14:14:45</span><span style=\"color: #000000; text-decoration-color: #000000\">][</span><span style=\"color: #008000; text-decoration-color: #008000; font-weight: bold\">INFO</span><span style=\"color: #000000; text-decoration-color: #000000\">][</span><span style=\"color: #008080; text-decoration-color: #008080; font-style: italic\">trainer</span><span style=\"color: #00ff00; text-decoration-color: #00ff00\">:</span><span style=\"color: #000000; text-decoration-color: #000000\">667</span><span style=\"color: #000000; text-decoration-color: #000000\">]</span><span style=\"color: #ffff00; text-decoration-color: #ffff00; font-weight: bold\"> - </span>Saving model to: <span style=\"color: #008000; text-decoration-color: #008000\">/content/</span><span style=\"color: #800080; text-decoration-color: #800080\">model.pth</span>\n",
              "</pre>\n"
            ]
          },
          "metadata": {}
        },
        {
          "output_type": "display_data",
          "data": {
            "text/plain": [
              "\u001b[30m[\u001b[0m\u001b[90m2024-02-06 \u001b[0m\u001b[90m14:14:45\u001b[0m\u001b[30m]\u001b[0m\u001b[30m[\u001b[0m\u001b[1;32mINFO\u001b[0m\u001b[30m]\u001b[0m\u001b[30m[\u001b[0m\u001b[3;36mconfigs\u001b[0m\u001b[92m:\u001b[0m\u001b[30m132\u001b[0m\u001b[30m]\u001b[0m\u001b[1;93m - \u001b[0mAppending \u001b[32m/\u001b[0m\u001b[35mcontent\u001b[0m to \u001b[32m/content/wordplay/src/ckpts/\u001b[0m\u001b[35mcheckpoints.log\u001b[0m\n"
            ],
            "text/html": [
              "<pre style=\"white-space:pre;overflow-x:auto;line-height:normal;font-family:Menlo,'DejaVu Sans Mono',consolas,'Courier New',monospace\"><span style=\"color: #000000; text-decoration-color: #000000\">[</span><span style=\"color: #808080; text-decoration-color: #808080\">2024-02-06 14:14:45</span><span style=\"color: #000000; text-decoration-color: #000000\">][</span><span style=\"color: #008000; text-decoration-color: #008000; font-weight: bold\">INFO</span><span style=\"color: #000000; text-decoration-color: #000000\">][</span><span style=\"color: #008080; text-decoration-color: #008080; font-style: italic\">configs</span><span style=\"color: #00ff00; text-decoration-color: #00ff00\">:</span><span style=\"color: #000000; text-decoration-color: #000000\">132</span><span style=\"color: #000000; text-decoration-color: #000000\">]</span><span style=\"color: #ffff00; text-decoration-color: #ffff00; font-weight: bold\"> - </span>Appending <span style=\"color: #008000; text-decoration-color: #008000\">/</span><span style=\"color: #800080; text-decoration-color: #800080\">content</span> to <span style=\"color: #008000; text-decoration-color: #008000\">/content/wordplay/src/ckpts/</span><span style=\"color: #800080; text-decoration-color: #800080\">checkpoints.log</span>\n",
              "</pre>\n"
            ]
          },
          "metadata": {}
        },
        {
          "output_type": "stream",
          "name": "stderr",
          "text": [
            " 12%|█▏        | 597/5000 [00:25<01:56, 37.74it/s]"
          ]
        },
        {
          "output_type": "display_data",
          "data": {
            "text/plain": [
              "\u001b[30m[\u001b[0m\u001b[90m2024-02-06 \u001b[0m\u001b[90m14:14:48\u001b[0m\u001b[30m]\u001b[0m\u001b[30m[\u001b[0m\u001b[1;32mINFO\u001b[0m\u001b[30m]\u001b[0m\u001b[30m[\u001b[0m\u001b[3;36mtrainer\u001b[0m\u001b[92m:\u001b[0m\u001b[30m768\u001b[0m\u001b[30m]\u001b[0m\u001b[1;93m - \u001b[0m\u001b[3;94mstep\u001b[0m=\u001b[35m600\u001b[0m \u001b[3;94mloss\u001b[0m=\u001b[35m1\u001b[0m\u001b[35m.5289\u001b[0m \u001b[3;94mdt\u001b[0m=\u001b[35m26\u001b[0m\u001b[35m.0022\u001b[0m \u001b[3;94mdtf\u001b[0m=\u001b[35m8\u001b[0m\u001b[35m.5099\u001b[0m \u001b[3;94mdtb\u001b[0m=\u001b[35m14\u001b[0m\u001b[35m.1903\u001b[0m \u001b[3;94msps\u001b[0m=\u001b[35m38\u001b[0m\u001b[35m.4583\u001b[0m \u001b[3;94mmtps\u001b[0m=\u001b[35m0\u001b[0m\u001b[35m.6301\u001b[0m \u001b[3;94mmfu\u001b[0m=\u001b[35m13\u001b[0m\u001b[35m.5810\u001b[0m \u001b[3;94mtrain_loss\u001b[0m=\u001b[35m1\u001b[0m\u001b[35m.5379\u001b[0m \u001b[3;94mval_loss\u001b[0m=\u001b[35m1\u001b[0m\u001b[35m.6992\u001b[0m\n"
            ],
            "text/html": [
              "<pre style=\"white-space:pre;overflow-x:auto;line-height:normal;font-family:Menlo,'DejaVu Sans Mono',consolas,'Courier New',monospace\"><span style=\"color: #000000; text-decoration-color: #000000\">[</span><span style=\"color: #808080; text-decoration-color: #808080\">2024-02-06 14:14:48</span><span style=\"color: #000000; text-decoration-color: #000000\">][</span><span style=\"color: #008000; text-decoration-color: #008000; font-weight: bold\">INFO</span><span style=\"color: #000000; text-decoration-color: #000000\">][</span><span style=\"color: #008080; text-decoration-color: #008080; font-style: italic\">trainer</span><span style=\"color: #00ff00; text-decoration-color: #00ff00\">:</span><span style=\"color: #000000; text-decoration-color: #000000\">768</span><span style=\"color: #000000; text-decoration-color: #000000\">]</span><span style=\"color: #ffff00; text-decoration-color: #ffff00; font-weight: bold\"> - </span><span style=\"color: #0000ff; text-decoration-color: #0000ff; font-style: italic\">step</span>=<span style=\"color: #800080; text-decoration-color: #800080\">600</span> <span style=\"color: #0000ff; text-decoration-color: #0000ff; font-style: italic\">loss</span>=<span style=\"color: #800080; text-decoration-color: #800080\">1.5289</span> <span style=\"color: #0000ff; text-decoration-color: #0000ff; font-style: italic\">dt</span>=<span style=\"color: #800080; text-decoration-color: #800080\">26.0022</span> <span style=\"color: #0000ff; text-decoration-color: #0000ff; font-style: italic\">dtf</span>=<span style=\"color: #800080; text-decoration-color: #800080\">8.5099</span> <span style=\"color: #0000ff; text-decoration-color: #0000ff; font-style: italic\">dtb</span>=<span style=\"color: #800080; text-decoration-color: #800080\">14.1903</span> <span style=\"color: #0000ff; text-decoration-color: #0000ff; font-style: italic\">sps</span>=<span style=\"color: #800080; text-decoration-color: #800080\">38.4583</span> <span style=\"color: #0000ff; text-decoration-color: #0000ff; font-style: italic\">mtps</span>=<span style=\"color: #800080; text-decoration-color: #800080\">0.6301</span> <span style=\"color: #0000ff; text-decoration-color: #0000ff; font-style: italic\">mfu</span>=<span style=\"color: #800080; text-decoration-color: #800080\">13.5810</span> <span style=\"color: #0000ff; text-decoration-color: #0000ff; font-style: italic\">train_loss</span>=<span style=\"color: #800080; text-decoration-color: #800080\">1.5379</span> <span style=\"color: #0000ff; text-decoration-color: #0000ff; font-style: italic\">val_loss</span>=<span style=\"color: #800080; text-decoration-color: #800080\">1.6992</span>\n",
              "</pre>\n"
            ]
          },
          "metadata": {}
        },
        {
          "output_type": "stream",
          "name": "stderr",
          "text": [
            " 14%|█▍        | 697/5000 [00:28<01:55, 37.24it/s]"
          ]
        },
        {
          "output_type": "display_data",
          "data": {
            "text/plain": [
              "\u001b[30m[\u001b[0m\u001b[90m2024-02-06 \u001b[0m\u001b[90m14:14:50\u001b[0m\u001b[30m]\u001b[0m\u001b[30m[\u001b[0m\u001b[1;32mINFO\u001b[0m\u001b[30m]\u001b[0m\u001b[30m[\u001b[0m\u001b[3;36mtrainer\u001b[0m\u001b[92m:\u001b[0m\u001b[30m768\u001b[0m\u001b[30m]\u001b[0m\u001b[1;93m - \u001b[0m\u001b[3;94mstep\u001b[0m=\u001b[35m700\u001b[0m \u001b[3;94mloss\u001b[0m=\u001b[35m1\u001b[0m\u001b[35m.4712\u001b[0m \u001b[3;94mdt\u001b[0m=\u001b[35m26\u001b[0m\u001b[35m.3511\u001b[0m \u001b[3;94mdtf\u001b[0m=\u001b[35m8\u001b[0m\u001b[35m.4116\u001b[0m \u001b[3;94mdtb\u001b[0m=\u001b[35m14\u001b[0m\u001b[35m.6337\u001b[0m \u001b[3;94msps\u001b[0m=\u001b[35m37\u001b[0m\u001b[35m.9490\u001b[0m \u001b[3;94mmtps\u001b[0m=\u001b[35m0\u001b[0m\u001b[35m.6218\u001b[0m \u001b[3;94mmfu\u001b[0m=\u001b[35m13\u001b[0m\u001b[35m.6370\u001b[0m \u001b[3;94mtrain_loss\u001b[0m=\u001b[35m1\u001b[0m\u001b[35m.5379\u001b[0m \u001b[3;94mval_loss\u001b[0m=\u001b[35m1\u001b[0m\u001b[35m.6992\u001b[0m\n"
            ],
            "text/html": [
              "<pre style=\"white-space:pre;overflow-x:auto;line-height:normal;font-family:Menlo,'DejaVu Sans Mono',consolas,'Courier New',monospace\"><span style=\"color: #000000; text-decoration-color: #000000\">[</span><span style=\"color: #808080; text-decoration-color: #808080\">2024-02-06 14:14:50</span><span style=\"color: #000000; text-decoration-color: #000000\">][</span><span style=\"color: #008000; text-decoration-color: #008000; font-weight: bold\">INFO</span><span style=\"color: #000000; text-decoration-color: #000000\">][</span><span style=\"color: #008080; text-decoration-color: #008080; font-style: italic\">trainer</span><span style=\"color: #00ff00; text-decoration-color: #00ff00\">:</span><span style=\"color: #000000; text-decoration-color: #000000\">768</span><span style=\"color: #000000; text-decoration-color: #000000\">]</span><span style=\"color: #ffff00; text-decoration-color: #ffff00; font-weight: bold\"> - </span><span style=\"color: #0000ff; text-decoration-color: #0000ff; font-style: italic\">step</span>=<span style=\"color: #800080; text-decoration-color: #800080\">700</span> <span style=\"color: #0000ff; text-decoration-color: #0000ff; font-style: italic\">loss</span>=<span style=\"color: #800080; text-decoration-color: #800080\">1.4712</span> <span style=\"color: #0000ff; text-decoration-color: #0000ff; font-style: italic\">dt</span>=<span style=\"color: #800080; text-decoration-color: #800080\">26.3511</span> <span style=\"color: #0000ff; text-decoration-color: #0000ff; font-style: italic\">dtf</span>=<span style=\"color: #800080; text-decoration-color: #800080\">8.4116</span> <span style=\"color: #0000ff; text-decoration-color: #0000ff; font-style: italic\">dtb</span>=<span style=\"color: #800080; text-decoration-color: #800080\">14.6337</span> <span style=\"color: #0000ff; text-decoration-color: #0000ff; font-style: italic\">sps</span>=<span style=\"color: #800080; text-decoration-color: #800080\">37.9490</span> <span style=\"color: #0000ff; text-decoration-color: #0000ff; font-style: italic\">mtps</span>=<span style=\"color: #800080; text-decoration-color: #800080\">0.6218</span> <span style=\"color: #0000ff; text-decoration-color: #0000ff; font-style: italic\">mfu</span>=<span style=\"color: #800080; text-decoration-color: #800080\">13.6370</span> <span style=\"color: #0000ff; text-decoration-color: #0000ff; font-style: italic\">train_loss</span>=<span style=\"color: #800080; text-decoration-color: #800080\">1.5379</span> <span style=\"color: #0000ff; text-decoration-color: #0000ff; font-style: italic\">val_loss</span>=<span style=\"color: #800080; text-decoration-color: #800080\">1.6992</span>\n",
              "</pre>\n"
            ]
          },
          "metadata": {}
        },
        {
          "output_type": "stream",
          "name": "stderr",
          "text": [
            " 16%|█▌        | 797/5000 [00:30<01:50, 38.11it/s]"
          ]
        },
        {
          "output_type": "display_data",
          "data": {
            "text/plain": [
              "\u001b[30m[\u001b[0m\u001b[90m2024-02-06 \u001b[0m\u001b[90m14:14:53\u001b[0m\u001b[30m]\u001b[0m\u001b[30m[\u001b[0m\u001b[1;32mINFO\u001b[0m\u001b[30m]\u001b[0m\u001b[30m[\u001b[0m\u001b[3;36mtrainer\u001b[0m\u001b[92m:\u001b[0m\u001b[30m768\u001b[0m\u001b[30m]\u001b[0m\u001b[1;93m - \u001b[0m\u001b[3;94mstep\u001b[0m=\u001b[35m800\u001b[0m \u001b[3;94mloss\u001b[0m=\u001b[35m1\u001b[0m\u001b[35m.3986\u001b[0m \u001b[3;94mdt\u001b[0m=\u001b[35m25\u001b[0m\u001b[35m.5812\u001b[0m \u001b[3;94mdtf\u001b[0m=\u001b[35m8\u001b[0m\u001b[35m.4975\u001b[0m \u001b[3;94mdtb\u001b[0m=\u001b[35m13\u001b[0m\u001b[35m.8907\u001b[0m \u001b[3;94msps\u001b[0m=\u001b[35m39\u001b[0m\u001b[35m.0912\u001b[0m \u001b[3;94mmtps\u001b[0m=\u001b[35m0\u001b[0m\u001b[35m.6405\u001b[0m \u001b[3;94mmfu\u001b[0m=\u001b[35m13\u001b[0m\u001b[35m.7299\u001b[0m \u001b[3;94mtrain_loss\u001b[0m=\u001b[35m1\u001b[0m\u001b[35m.5379\u001b[0m \u001b[3;94mval_loss\u001b[0m=\u001b[35m1\u001b[0m\u001b[35m.6992\u001b[0m\n"
            ],
            "text/html": [
              "<pre style=\"white-space:pre;overflow-x:auto;line-height:normal;font-family:Menlo,'DejaVu Sans Mono',consolas,'Courier New',monospace\"><span style=\"color: #000000; text-decoration-color: #000000\">[</span><span style=\"color: #808080; text-decoration-color: #808080\">2024-02-06 14:14:53</span><span style=\"color: #000000; text-decoration-color: #000000\">][</span><span style=\"color: #008000; text-decoration-color: #008000; font-weight: bold\">INFO</span><span style=\"color: #000000; text-decoration-color: #000000\">][</span><span style=\"color: #008080; text-decoration-color: #008080; font-style: italic\">trainer</span><span style=\"color: #00ff00; text-decoration-color: #00ff00\">:</span><span style=\"color: #000000; text-decoration-color: #000000\">768</span><span style=\"color: #000000; text-decoration-color: #000000\">]</span><span style=\"color: #ffff00; text-decoration-color: #ffff00; font-weight: bold\"> - </span><span style=\"color: #0000ff; text-decoration-color: #0000ff; font-style: italic\">step</span>=<span style=\"color: #800080; text-decoration-color: #800080\">800</span> <span style=\"color: #0000ff; text-decoration-color: #0000ff; font-style: italic\">loss</span>=<span style=\"color: #800080; text-decoration-color: #800080\">1.3986</span> <span style=\"color: #0000ff; text-decoration-color: #0000ff; font-style: italic\">dt</span>=<span style=\"color: #800080; text-decoration-color: #800080\">25.5812</span> <span style=\"color: #0000ff; text-decoration-color: #0000ff; font-style: italic\">dtf</span>=<span style=\"color: #800080; text-decoration-color: #800080\">8.4975</span> <span style=\"color: #0000ff; text-decoration-color: #0000ff; font-style: italic\">dtb</span>=<span style=\"color: #800080; text-decoration-color: #800080\">13.8907</span> <span style=\"color: #0000ff; text-decoration-color: #0000ff; font-style: italic\">sps</span>=<span style=\"color: #800080; text-decoration-color: #800080\">39.0912</span> <span style=\"color: #0000ff; text-decoration-color: #0000ff; font-style: italic\">mtps</span>=<span style=\"color: #800080; text-decoration-color: #800080\">0.6405</span> <span style=\"color: #0000ff; text-decoration-color: #0000ff; font-style: italic\">mfu</span>=<span style=\"color: #800080; text-decoration-color: #800080\">13.7299</span> <span style=\"color: #0000ff; text-decoration-color: #0000ff; font-style: italic\">train_loss</span>=<span style=\"color: #800080; text-decoration-color: #800080\">1.5379</span> <span style=\"color: #0000ff; text-decoration-color: #0000ff; font-style: italic\">val_loss</span>=<span style=\"color: #800080; text-decoration-color: #800080\">1.6992</span>\n",
              "</pre>\n"
            ]
          },
          "metadata": {}
        },
        {
          "output_type": "stream",
          "name": "stderr",
          "text": [
            " 18%|█▊        | 897/5000 [00:33<01:48, 37.77it/s]"
          ]
        },
        {
          "output_type": "display_data",
          "data": {
            "text/plain": [
              "\u001b[30m[\u001b[0m\u001b[90m2024-02-06 \u001b[0m\u001b[90m14:14:56\u001b[0m\u001b[30m]\u001b[0m\u001b[30m[\u001b[0m\u001b[1;32mINFO\u001b[0m\u001b[30m]\u001b[0m\u001b[30m[\u001b[0m\u001b[3;36mtrainer\u001b[0m\u001b[92m:\u001b[0m\u001b[30m768\u001b[0m\u001b[30m]\u001b[0m\u001b[1;93m - \u001b[0m\u001b[3;94mstep\u001b[0m=\u001b[35m900\u001b[0m \u001b[3;94mloss\u001b[0m=\u001b[35m1\u001b[0m\u001b[35m.3942\u001b[0m \u001b[3;94mdt\u001b[0m=\u001b[35m26\u001b[0m\u001b[35m.7695\u001b[0m \u001b[3;94mdtf\u001b[0m=\u001b[35m8\u001b[0m\u001b[35m.9853\u001b[0m \u001b[3;94mdtb\u001b[0m=\u001b[35m14\u001b[0m\u001b[35m.4478\u001b[0m \u001b[3;94msps\u001b[0m=\u001b[35m37\u001b[0m\u001b[35m.3559\u001b[0m \u001b[3;94mmtps\u001b[0m=\u001b[35m0\u001b[0m\u001b[35m.6120\u001b[0m \u001b[3;94mmfu\u001b[0m=\u001b[35m13\u001b[0m\u001b[35m.7489\u001b[0m \u001b[3;94mtrain_loss\u001b[0m=\u001b[35m1\u001b[0m\u001b[35m.5379\u001b[0m \u001b[3;94mval_loss\u001b[0m=\u001b[35m1\u001b[0m\u001b[35m.6992\u001b[0m\n"
            ],
            "text/html": [
              "<pre style=\"white-space:pre;overflow-x:auto;line-height:normal;font-family:Menlo,'DejaVu Sans Mono',consolas,'Courier New',monospace\"><span style=\"color: #000000; text-decoration-color: #000000\">[</span><span style=\"color: #808080; text-decoration-color: #808080\">2024-02-06 14:14:56</span><span style=\"color: #000000; text-decoration-color: #000000\">][</span><span style=\"color: #008000; text-decoration-color: #008000; font-weight: bold\">INFO</span><span style=\"color: #000000; text-decoration-color: #000000\">][</span><span style=\"color: #008080; text-decoration-color: #008080; font-style: italic\">trainer</span><span style=\"color: #00ff00; text-decoration-color: #00ff00\">:</span><span style=\"color: #000000; text-decoration-color: #000000\">768</span><span style=\"color: #000000; text-decoration-color: #000000\">]</span><span style=\"color: #ffff00; text-decoration-color: #ffff00; font-weight: bold\"> - </span><span style=\"color: #0000ff; text-decoration-color: #0000ff; font-style: italic\">step</span>=<span style=\"color: #800080; text-decoration-color: #800080\">900</span> <span style=\"color: #0000ff; text-decoration-color: #0000ff; font-style: italic\">loss</span>=<span style=\"color: #800080; text-decoration-color: #800080\">1.3942</span> <span style=\"color: #0000ff; text-decoration-color: #0000ff; font-style: italic\">dt</span>=<span style=\"color: #800080; text-decoration-color: #800080\">26.7695</span> <span style=\"color: #0000ff; text-decoration-color: #0000ff; font-style: italic\">dtf</span>=<span style=\"color: #800080; text-decoration-color: #800080\">8.9853</span> <span style=\"color: #0000ff; text-decoration-color: #0000ff; font-style: italic\">dtb</span>=<span style=\"color: #800080; text-decoration-color: #800080\">14.4478</span> <span style=\"color: #0000ff; text-decoration-color: #0000ff; font-style: italic\">sps</span>=<span style=\"color: #800080; text-decoration-color: #800080\">37.3559</span> <span style=\"color: #0000ff; text-decoration-color: #0000ff; font-style: italic\">mtps</span>=<span style=\"color: #800080; text-decoration-color: #800080\">0.6120</span> <span style=\"color: #0000ff; text-decoration-color: #0000ff; font-style: italic\">mfu</span>=<span style=\"color: #800080; text-decoration-color: #800080\">13.7489</span> <span style=\"color: #0000ff; text-decoration-color: #0000ff; font-style: italic\">train_loss</span>=<span style=\"color: #800080; text-decoration-color: #800080\">1.5379</span> <span style=\"color: #0000ff; text-decoration-color: #0000ff; font-style: italic\">val_loss</span>=<span style=\"color: #800080; text-decoration-color: #800080\">1.6992</span>\n",
              "</pre>\n"
            ]
          },
          "metadata": {}
        },
        {
          "output_type": "stream",
          "name": "stderr",
          "text": [
            " 20%|█▉        | 997/5000 [00:35<01:46, 37.50it/s]"
          ]
        },
        {
          "output_type": "display_data",
          "data": {
            "text/plain": [
              "\u001b[30m[\u001b[0m\u001b[90m2024-02-06 \u001b[0m\u001b[90m14:14:58\u001b[0m\u001b[30m]\u001b[0m\u001b[30m[\u001b[0m\u001b[1;32mINFO\u001b[0m\u001b[30m]\u001b[0m\u001b[30m[\u001b[0m\u001b[3;36mtrainer\u001b[0m\u001b[92m:\u001b[0m\u001b[30m768\u001b[0m\u001b[30m]\u001b[0m\u001b[1;93m - \u001b[0m\u001b[3;94mstep\u001b[0m=\u001b[35m1000\u001b[0m \u001b[3;94mloss\u001b[0m=\u001b[35m1\u001b[0m\u001b[35m.3599\u001b[0m \u001b[3;94mdt\u001b[0m=\u001b[35m26\u001b[0m\u001b[35m.2531\u001b[0m \u001b[3;94mdtf\u001b[0m=\u001b[35m8\u001b[0m\u001b[35m.5338\u001b[0m \u001b[3;94mdtb\u001b[0m=\u001b[35m14\u001b[0m\u001b[35m.4736\u001b[0m \u001b[3;94msps\u001b[0m=\u001b[35m38\u001b[0m\u001b[35m.0907\u001b[0m \u001b[3;94mmtps\u001b[0m=\u001b[35m0\u001b[0m\u001b[35m.6241\u001b[0m \u001b[3;94mmfu\u001b[0m=\u001b[35m13\u001b[0m\u001b[35m.7933\u001b[0m \u001b[3;94mtrain_loss\u001b[0m=\u001b[35m1\u001b[0m\u001b[35m.5379\u001b[0m \u001b[3;94mval_loss\u001b[0m=\u001b[35m1\u001b[0m\u001b[35m.6992\u001b[0m\n"
            ],
            "text/html": [
              "<pre style=\"white-space:pre;overflow-x:auto;line-height:normal;font-family:Menlo,'DejaVu Sans Mono',consolas,'Courier New',monospace\"><span style=\"color: #000000; text-decoration-color: #000000\">[</span><span style=\"color: #808080; text-decoration-color: #808080\">2024-02-06 14:14:58</span><span style=\"color: #000000; text-decoration-color: #000000\">][</span><span style=\"color: #008000; text-decoration-color: #008000; font-weight: bold\">INFO</span><span style=\"color: #000000; text-decoration-color: #000000\">][</span><span style=\"color: #008080; text-decoration-color: #008080; font-style: italic\">trainer</span><span style=\"color: #00ff00; text-decoration-color: #00ff00\">:</span><span style=\"color: #000000; text-decoration-color: #000000\">768</span><span style=\"color: #000000; text-decoration-color: #000000\">]</span><span style=\"color: #ffff00; text-decoration-color: #ffff00; font-weight: bold\"> - </span><span style=\"color: #0000ff; text-decoration-color: #0000ff; font-style: italic\">step</span>=<span style=\"color: #800080; text-decoration-color: #800080\">1000</span> <span style=\"color: #0000ff; text-decoration-color: #0000ff; font-style: italic\">loss</span>=<span style=\"color: #800080; text-decoration-color: #800080\">1.3599</span> <span style=\"color: #0000ff; text-decoration-color: #0000ff; font-style: italic\">dt</span>=<span style=\"color: #800080; text-decoration-color: #800080\">26.2531</span> <span style=\"color: #0000ff; text-decoration-color: #0000ff; font-style: italic\">dtf</span>=<span style=\"color: #800080; text-decoration-color: #800080\">8.5338</span> <span style=\"color: #0000ff; text-decoration-color: #0000ff; font-style: italic\">dtb</span>=<span style=\"color: #800080; text-decoration-color: #800080\">14.4736</span> <span style=\"color: #0000ff; text-decoration-color: #0000ff; font-style: italic\">sps</span>=<span style=\"color: #800080; text-decoration-color: #800080\">38.0907</span> <span style=\"color: #0000ff; text-decoration-color: #0000ff; font-style: italic\">mtps</span>=<span style=\"color: #800080; text-decoration-color: #800080\">0.6241</span> <span style=\"color: #0000ff; text-decoration-color: #0000ff; font-style: italic\">mfu</span>=<span style=\"color: #800080; text-decoration-color: #800080\">13.7933</span> <span style=\"color: #0000ff; text-decoration-color: #0000ff; font-style: italic\">train_loss</span>=<span style=\"color: #800080; text-decoration-color: #800080\">1.5379</span> <span style=\"color: #0000ff; text-decoration-color: #0000ff; font-style: italic\">val_loss</span>=<span style=\"color: #800080; text-decoration-color: #800080\">1.6992</span>\n",
              "</pre>\n"
            ]
          },
          "metadata": {}
        },
        {
          "output_type": "display_data",
          "data": {
            "text/plain": [
              "\u001b[30m[\u001b[0m\u001b[90m2024-02-06 \u001b[0m\u001b[90m14:15:03\u001b[0m\u001b[30m]\u001b[0m\u001b[30m[\u001b[0m\u001b[1;32mINFO\u001b[0m\u001b[30m]\u001b[0m\u001b[30m[\u001b[0m\u001b[3;36mtrainer\u001b[0m\u001b[92m:\u001b[0m\u001b[30m666\u001b[0m\u001b[30m]\u001b[0m\u001b[1;93m - \u001b[0mSaving checkpoint to: \u001b[32m/\u001b[0m\u001b[35mcontent\u001b[0m\n"
            ],
            "text/html": [
              "<pre style=\"white-space:pre;overflow-x:auto;line-height:normal;font-family:Menlo,'DejaVu Sans Mono',consolas,'Courier New',monospace\"><span style=\"color: #000000; text-decoration-color: #000000\">[</span><span style=\"color: #808080; text-decoration-color: #808080\">2024-02-06 14:15:03</span><span style=\"color: #000000; text-decoration-color: #000000\">][</span><span style=\"color: #008000; text-decoration-color: #008000; font-weight: bold\">INFO</span><span style=\"color: #000000; text-decoration-color: #000000\">][</span><span style=\"color: #008080; text-decoration-color: #008080; font-style: italic\">trainer</span><span style=\"color: #00ff00; text-decoration-color: #00ff00\">:</span><span style=\"color: #000000; text-decoration-color: #000000\">666</span><span style=\"color: #000000; text-decoration-color: #000000\">]</span><span style=\"color: #ffff00; text-decoration-color: #ffff00; font-weight: bold\"> - </span>Saving checkpoint to: <span style=\"color: #008000; text-decoration-color: #008000\">/</span><span style=\"color: #800080; text-decoration-color: #800080\">content</span>\n",
              "</pre>\n"
            ]
          },
          "metadata": {}
        },
        {
          "output_type": "display_data",
          "data": {
            "text/plain": [
              "\u001b[30m[\u001b[0m\u001b[90m2024-02-06 \u001b[0m\u001b[90m14:15:03\u001b[0m\u001b[30m]\u001b[0m\u001b[30m[\u001b[0m\u001b[1;32mINFO\u001b[0m\u001b[30m]\u001b[0m\u001b[30m[\u001b[0m\u001b[3;36mtrainer\u001b[0m\u001b[92m:\u001b[0m\u001b[30m667\u001b[0m\u001b[30m]\u001b[0m\u001b[1;93m - \u001b[0mSaving model to: \u001b[32m/content/\u001b[0m\u001b[35mmodel.pth\u001b[0m\n"
            ],
            "text/html": [
              "<pre style=\"white-space:pre;overflow-x:auto;line-height:normal;font-family:Menlo,'DejaVu Sans Mono',consolas,'Courier New',monospace\"><span style=\"color: #000000; text-decoration-color: #000000\">[</span><span style=\"color: #808080; text-decoration-color: #808080\">2024-02-06 14:15:03</span><span style=\"color: #000000; text-decoration-color: #000000\">][</span><span style=\"color: #008000; text-decoration-color: #008000; font-weight: bold\">INFO</span><span style=\"color: #000000; text-decoration-color: #000000\">][</span><span style=\"color: #008080; text-decoration-color: #008080; font-style: italic\">trainer</span><span style=\"color: #00ff00; text-decoration-color: #00ff00\">:</span><span style=\"color: #000000; text-decoration-color: #000000\">667</span><span style=\"color: #000000; text-decoration-color: #000000\">]</span><span style=\"color: #ffff00; text-decoration-color: #ffff00; font-weight: bold\"> - </span>Saving model to: <span style=\"color: #008000; text-decoration-color: #008000\">/content/</span><span style=\"color: #800080; text-decoration-color: #800080\">model.pth</span>\n",
              "</pre>\n"
            ]
          },
          "metadata": {}
        },
        {
          "output_type": "display_data",
          "data": {
            "text/plain": [
              "\u001b[30m[\u001b[0m\u001b[90m2024-02-06 \u001b[0m\u001b[90m14:15:03\u001b[0m\u001b[30m]\u001b[0m\u001b[30m[\u001b[0m\u001b[1;32mINFO\u001b[0m\u001b[30m]\u001b[0m\u001b[30m[\u001b[0m\u001b[3;36mconfigs\u001b[0m\u001b[92m:\u001b[0m\u001b[30m132\u001b[0m\u001b[30m]\u001b[0m\u001b[1;93m - \u001b[0mAppending \u001b[32m/\u001b[0m\u001b[35mcontent\u001b[0m to \u001b[32m/content/wordplay/src/ckpts/\u001b[0m\u001b[35mcheckpoints.log\u001b[0m\n"
            ],
            "text/html": [
              "<pre style=\"white-space:pre;overflow-x:auto;line-height:normal;font-family:Menlo,'DejaVu Sans Mono',consolas,'Courier New',monospace\"><span style=\"color: #000000; text-decoration-color: #000000\">[</span><span style=\"color: #808080; text-decoration-color: #808080\">2024-02-06 14:15:03</span><span style=\"color: #000000; text-decoration-color: #000000\">][</span><span style=\"color: #008000; text-decoration-color: #008000; font-weight: bold\">INFO</span><span style=\"color: #000000; text-decoration-color: #000000\">][</span><span style=\"color: #008080; text-decoration-color: #008080; font-style: italic\">configs</span><span style=\"color: #00ff00; text-decoration-color: #00ff00\">:</span><span style=\"color: #000000; text-decoration-color: #000000\">132</span><span style=\"color: #000000; text-decoration-color: #000000\">]</span><span style=\"color: #ffff00; text-decoration-color: #ffff00; font-weight: bold\"> - </span>Appending <span style=\"color: #008000; text-decoration-color: #008000\">/</span><span style=\"color: #800080; text-decoration-color: #800080\">content</span> to <span style=\"color: #008000; text-decoration-color: #008000\">/content/wordplay/src/ckpts/</span><span style=\"color: #800080; text-decoration-color: #800080\">checkpoints.log</span>\n",
              "</pre>\n"
            ]
          },
          "metadata": {}
        },
        {
          "output_type": "stream",
          "name": "stderr",
          "text": [
            " 22%|██▏       | 1097/5000 [00:43<01:44, 37.44it/s]"
          ]
        },
        {
          "output_type": "display_data",
          "data": {
            "text/plain": [
              "\u001b[30m[\u001b[0m\u001b[90m2024-02-06 \u001b[0m\u001b[90m14:15:06\u001b[0m\u001b[30m]\u001b[0m\u001b[30m[\u001b[0m\u001b[1;32mINFO\u001b[0m\u001b[30m]\u001b[0m\u001b[30m[\u001b[0m\u001b[3;36mtrainer\u001b[0m\u001b[92m:\u001b[0m\u001b[30m768\u001b[0m\u001b[30m]\u001b[0m\u001b[1;93m - \u001b[0m\u001b[3;94mstep\u001b[0m=\u001b[35m1100\u001b[0m \u001b[3;94mloss\u001b[0m=\u001b[35m1\u001b[0m\u001b[35m.3170\u001b[0m \u001b[3;94mdt\u001b[0m=\u001b[35m26\u001b[0m\u001b[35m.7824\u001b[0m \u001b[3;94mdtf\u001b[0m=\u001b[35m9\u001b[0m\u001b[35m.1724\u001b[0m \u001b[3;94mdtb\u001b[0m=\u001b[35m14\u001b[0m\u001b[35m.1687\u001b[0m \u001b[3;94msps\u001b[0m=\u001b[35m37\u001b[0m\u001b[35m.3380\u001b[0m \u001b[3;94mmtps\u001b[0m=\u001b[35m0\u001b[0m\u001b[35m.6117\u001b[0m \u001b[3;94mmfu\u001b[0m=\u001b[35m13\u001b[0m\u001b[35m.8053\u001b[0m \u001b[3;94mtrain_loss\u001b[0m=\u001b[35m1\u001b[0m\u001b[35m.2713\u001b[0m \u001b[3;94mval_loss\u001b[0m=\u001b[35m1\u001b[0m\u001b[35m.5197\u001b[0m\n"
            ],
            "text/html": [
              "<pre style=\"white-space:pre;overflow-x:auto;line-height:normal;font-family:Menlo,'DejaVu Sans Mono',consolas,'Courier New',monospace\"><span style=\"color: #000000; text-decoration-color: #000000\">[</span><span style=\"color: #808080; text-decoration-color: #808080\">2024-02-06 14:15:06</span><span style=\"color: #000000; text-decoration-color: #000000\">][</span><span style=\"color: #008000; text-decoration-color: #008000; font-weight: bold\">INFO</span><span style=\"color: #000000; text-decoration-color: #000000\">][</span><span style=\"color: #008080; text-decoration-color: #008080; font-style: italic\">trainer</span><span style=\"color: #00ff00; text-decoration-color: #00ff00\">:</span><span style=\"color: #000000; text-decoration-color: #000000\">768</span><span style=\"color: #000000; text-decoration-color: #000000\">]</span><span style=\"color: #ffff00; text-decoration-color: #ffff00; font-weight: bold\"> - </span><span style=\"color: #0000ff; text-decoration-color: #0000ff; font-style: italic\">step</span>=<span style=\"color: #800080; text-decoration-color: #800080\">1100</span> <span style=\"color: #0000ff; text-decoration-color: #0000ff; font-style: italic\">loss</span>=<span style=\"color: #800080; text-decoration-color: #800080\">1.3170</span> <span style=\"color: #0000ff; text-decoration-color: #0000ff; font-style: italic\">dt</span>=<span style=\"color: #800080; text-decoration-color: #800080\">26.7824</span> <span style=\"color: #0000ff; text-decoration-color: #0000ff; font-style: italic\">dtf</span>=<span style=\"color: #800080; text-decoration-color: #800080\">9.1724</span> <span style=\"color: #0000ff; text-decoration-color: #0000ff; font-style: italic\">dtb</span>=<span style=\"color: #800080; text-decoration-color: #800080\">14.1687</span> <span style=\"color: #0000ff; text-decoration-color: #0000ff; font-style: italic\">sps</span>=<span style=\"color: #800080; text-decoration-color: #800080\">37.3380</span> <span style=\"color: #0000ff; text-decoration-color: #0000ff; font-style: italic\">mtps</span>=<span style=\"color: #800080; text-decoration-color: #800080\">0.6117</span> <span style=\"color: #0000ff; text-decoration-color: #0000ff; font-style: italic\">mfu</span>=<span style=\"color: #800080; text-decoration-color: #800080\">13.8053</span> <span style=\"color: #0000ff; text-decoration-color: #0000ff; font-style: italic\">train_loss</span>=<span style=\"color: #800080; text-decoration-color: #800080\">1.2713</span> <span style=\"color: #0000ff; text-decoration-color: #0000ff; font-style: italic\">val_loss</span>=<span style=\"color: #800080; text-decoration-color: #800080\">1.5197</span>\n",
              "</pre>\n"
            ]
          },
          "metadata": {}
        },
        {
          "output_type": "stream",
          "name": "stderr",
          "text": [
            " 24%|██▍       | 1197/5000 [00:46<01:40, 37.95it/s]"
          ]
        },
        {
          "output_type": "display_data",
          "data": {
            "text/plain": [
              "\u001b[30m[\u001b[0m\u001b[90m2024-02-06 \u001b[0m\u001b[90m14:15:08\u001b[0m\u001b[30m]\u001b[0m\u001b[30m[\u001b[0m\u001b[1;32mINFO\u001b[0m\u001b[30m]\u001b[0m\u001b[30m[\u001b[0m\u001b[3;36mtrainer\u001b[0m\u001b[92m:\u001b[0m\u001b[30m768\u001b[0m\u001b[30m]\u001b[0m\u001b[1;93m - \u001b[0m\u001b[3;94mstep\u001b[0m=\u001b[35m1200\u001b[0m \u001b[3;94mloss\u001b[0m=\u001b[35m1\u001b[0m\u001b[35m.2871\u001b[0m \u001b[3;94mdt\u001b[0m=\u001b[35m25\u001b[0m\u001b[35m.7503\u001b[0m \u001b[3;94mdtf\u001b[0m=\u001b[35m8\u001b[0m\u001b[35m.4601\u001b[0m \u001b[3;94mdtb\u001b[0m=\u001b[35m14\u001b[0m\u001b[35m.0959\u001b[0m \u001b[3;94msps\u001b[0m=\u001b[35m38\u001b[0m\u001b[35m.8346\u001b[0m \u001b[3;94mmtps\u001b[0m=\u001b[35m0\u001b[0m\u001b[35m.6363\u001b[0m \u001b[3;94mmfu\u001b[0m=\u001b[35m13\u001b[0m\u001b[35m.8718\u001b[0m \u001b[3;94mtrain_loss\u001b[0m=\u001b[35m1\u001b[0m\u001b[35m.2713\u001b[0m \u001b[3;94mval_loss\u001b[0m=\u001b[35m1\u001b[0m\u001b[35m.5197\u001b[0m\n"
            ],
            "text/html": [
              "<pre style=\"white-space:pre;overflow-x:auto;line-height:normal;font-family:Menlo,'DejaVu Sans Mono',consolas,'Courier New',monospace\"><span style=\"color: #000000; text-decoration-color: #000000\">[</span><span style=\"color: #808080; text-decoration-color: #808080\">2024-02-06 14:15:08</span><span style=\"color: #000000; text-decoration-color: #000000\">][</span><span style=\"color: #008000; text-decoration-color: #008000; font-weight: bold\">INFO</span><span style=\"color: #000000; text-decoration-color: #000000\">][</span><span style=\"color: #008080; text-decoration-color: #008080; font-style: italic\">trainer</span><span style=\"color: #00ff00; text-decoration-color: #00ff00\">:</span><span style=\"color: #000000; text-decoration-color: #000000\">768</span><span style=\"color: #000000; text-decoration-color: #000000\">]</span><span style=\"color: #ffff00; text-decoration-color: #ffff00; font-weight: bold\"> - </span><span style=\"color: #0000ff; text-decoration-color: #0000ff; font-style: italic\">step</span>=<span style=\"color: #800080; text-decoration-color: #800080\">1200</span> <span style=\"color: #0000ff; text-decoration-color: #0000ff; font-style: italic\">loss</span>=<span style=\"color: #800080; text-decoration-color: #800080\">1.2871</span> <span style=\"color: #0000ff; text-decoration-color: #0000ff; font-style: italic\">dt</span>=<span style=\"color: #800080; text-decoration-color: #800080\">25.7503</span> <span style=\"color: #0000ff; text-decoration-color: #0000ff; font-style: italic\">dtf</span>=<span style=\"color: #800080; text-decoration-color: #800080\">8.4601</span> <span style=\"color: #0000ff; text-decoration-color: #0000ff; font-style: italic\">dtb</span>=<span style=\"color: #800080; text-decoration-color: #800080\">14.0959</span> <span style=\"color: #0000ff; text-decoration-color: #0000ff; font-style: italic\">sps</span>=<span style=\"color: #800080; text-decoration-color: #800080\">38.8346</span> <span style=\"color: #0000ff; text-decoration-color: #0000ff; font-style: italic\">mtps</span>=<span style=\"color: #800080; text-decoration-color: #800080\">0.6363</span> <span style=\"color: #0000ff; text-decoration-color: #0000ff; font-style: italic\">mfu</span>=<span style=\"color: #800080; text-decoration-color: #800080\">13.8718</span> <span style=\"color: #0000ff; text-decoration-color: #0000ff; font-style: italic\">train_loss</span>=<span style=\"color: #800080; text-decoration-color: #800080\">1.2713</span> <span style=\"color: #0000ff; text-decoration-color: #0000ff; font-style: italic\">val_loss</span>=<span style=\"color: #800080; text-decoration-color: #800080\">1.5197</span>\n",
              "</pre>\n"
            ]
          },
          "metadata": {}
        },
        {
          "output_type": "stream",
          "name": "stderr",
          "text": [
            " 26%|██▌       | 1297/5000 [00:48<01:38, 37.46it/s]"
          ]
        },
        {
          "output_type": "display_data",
          "data": {
            "text/plain": [
              "\u001b[30m[\u001b[0m\u001b[90m2024-02-06 \u001b[0m\u001b[90m14:15:11\u001b[0m\u001b[30m]\u001b[0m\u001b[30m[\u001b[0m\u001b[1;32mINFO\u001b[0m\u001b[30m]\u001b[0m\u001b[30m[\u001b[0m\u001b[3;36mtrainer\u001b[0m\u001b[92m:\u001b[0m\u001b[30m768\u001b[0m\u001b[30m]\u001b[0m\u001b[1;93m - \u001b[0m\u001b[3;94mstep\u001b[0m=\u001b[35m1300\u001b[0m \u001b[3;94mloss\u001b[0m=\u001b[35m1\u001b[0m\u001b[35m.2819\u001b[0m \u001b[3;94mdt\u001b[0m=\u001b[35m25\u001b[0m\u001b[35m.9129\u001b[0m \u001b[3;94mdtf\u001b[0m=\u001b[35m8\u001b[0m\u001b[35m.4001\u001b[0m \u001b[3;94mdtb\u001b[0m=\u001b[35m14\u001b[0m\u001b[35m.2155\u001b[0m \u001b[3;94msps\u001b[0m=\u001b[35m38\u001b[0m\u001b[35m.5909\u001b[0m \u001b[3;94mmtps\u001b[0m=\u001b[35m0\u001b[0m\u001b[35m.6323\u001b[0m \u001b[3;94mmfu\u001b[0m=\u001b[35m13\u001b[0m\u001b[35m.9226\u001b[0m \u001b[3;94mtrain_loss\u001b[0m=\u001b[35m1\u001b[0m\u001b[35m.2713\u001b[0m \u001b[3;94mval_loss\u001b[0m=\u001b[35m1\u001b[0m\u001b[35m.5197\u001b[0m\n"
            ],
            "text/html": [
              "<pre style=\"white-space:pre;overflow-x:auto;line-height:normal;font-family:Menlo,'DejaVu Sans Mono',consolas,'Courier New',monospace\"><span style=\"color: #000000; text-decoration-color: #000000\">[</span><span style=\"color: #808080; text-decoration-color: #808080\">2024-02-06 14:15:11</span><span style=\"color: #000000; text-decoration-color: #000000\">][</span><span style=\"color: #008000; text-decoration-color: #008000; font-weight: bold\">INFO</span><span style=\"color: #000000; text-decoration-color: #000000\">][</span><span style=\"color: #008080; text-decoration-color: #008080; font-style: italic\">trainer</span><span style=\"color: #00ff00; text-decoration-color: #00ff00\">:</span><span style=\"color: #000000; text-decoration-color: #000000\">768</span><span style=\"color: #000000; text-decoration-color: #000000\">]</span><span style=\"color: #ffff00; text-decoration-color: #ffff00; font-weight: bold\"> - </span><span style=\"color: #0000ff; text-decoration-color: #0000ff; font-style: italic\">step</span>=<span style=\"color: #800080; text-decoration-color: #800080\">1300</span> <span style=\"color: #0000ff; text-decoration-color: #0000ff; font-style: italic\">loss</span>=<span style=\"color: #800080; text-decoration-color: #800080\">1.2819</span> <span style=\"color: #0000ff; text-decoration-color: #0000ff; font-style: italic\">dt</span>=<span style=\"color: #800080; text-decoration-color: #800080\">25.9129</span> <span style=\"color: #0000ff; text-decoration-color: #0000ff; font-style: italic\">dtf</span>=<span style=\"color: #800080; text-decoration-color: #800080\">8.4001</span> <span style=\"color: #0000ff; text-decoration-color: #0000ff; font-style: italic\">dtb</span>=<span style=\"color: #800080; text-decoration-color: #800080\">14.2155</span> <span style=\"color: #0000ff; text-decoration-color: #0000ff; font-style: italic\">sps</span>=<span style=\"color: #800080; text-decoration-color: #800080\">38.5909</span> <span style=\"color: #0000ff; text-decoration-color: #0000ff; font-style: italic\">mtps</span>=<span style=\"color: #800080; text-decoration-color: #800080\">0.6323</span> <span style=\"color: #0000ff; text-decoration-color: #0000ff; font-style: italic\">mfu</span>=<span style=\"color: #800080; text-decoration-color: #800080\">13.9226</span> <span style=\"color: #0000ff; text-decoration-color: #0000ff; font-style: italic\">train_loss</span>=<span style=\"color: #800080; text-decoration-color: #800080\">1.2713</span> <span style=\"color: #0000ff; text-decoration-color: #0000ff; font-style: italic\">val_loss</span>=<span style=\"color: #800080; text-decoration-color: #800080\">1.5197</span>\n",
              "</pre>\n"
            ]
          },
          "metadata": {}
        },
        {
          "output_type": "stream",
          "name": "stderr",
          "text": [
            " 28%|██▊       | 1397/5000 [00:51<01:35, 37.62it/s]"
          ]
        },
        {
          "output_type": "display_data",
          "data": {
            "text/plain": [
              "\u001b[30m[\u001b[0m\u001b[90m2024-02-06 \u001b[0m\u001b[90m14:15:14\u001b[0m\u001b[30m]\u001b[0m\u001b[30m[\u001b[0m\u001b[1;32mINFO\u001b[0m\u001b[30m]\u001b[0m\u001b[30m[\u001b[0m\u001b[3;36mtrainer\u001b[0m\u001b[92m:\u001b[0m\u001b[30m768\u001b[0m\u001b[30m]\u001b[0m\u001b[1;93m - \u001b[0m\u001b[3;94mstep\u001b[0m=\u001b[35m1400\u001b[0m \u001b[3;94mloss\u001b[0m=\u001b[35m1\u001b[0m\u001b[35m.2934\u001b[0m \u001b[3;94mdt\u001b[0m=\u001b[35m25\u001b[0m\u001b[35m.7526\u001b[0m \u001b[3;94mdtf\u001b[0m=\u001b[35m8\u001b[0m\u001b[35m.5109\u001b[0m \u001b[3;94mdtb\u001b[0m=\u001b[35m14\u001b[0m\u001b[35m.0045\u001b[0m \u001b[3;94msps\u001b[0m=\u001b[35m38\u001b[0m\u001b[35m.8310\u001b[0m \u001b[3;94mmtps\u001b[0m=\u001b[35m0\u001b[0m\u001b[35m.6362\u001b[0m \u001b[3;94mmfu\u001b[0m=\u001b[35m13\u001b[0m\u001b[35m.9773\u001b[0m \u001b[3;94mtrain_loss\u001b[0m=\u001b[35m1\u001b[0m\u001b[35m.2713\u001b[0m \u001b[3;94mval_loss\u001b[0m=\u001b[35m1\u001b[0m\u001b[35m.5197\u001b[0m\n"
            ],
            "text/html": [
              "<pre style=\"white-space:pre;overflow-x:auto;line-height:normal;font-family:Menlo,'DejaVu Sans Mono',consolas,'Courier New',monospace\"><span style=\"color: #000000; text-decoration-color: #000000\">[</span><span style=\"color: #808080; text-decoration-color: #808080\">2024-02-06 14:15:14</span><span style=\"color: #000000; text-decoration-color: #000000\">][</span><span style=\"color: #008000; text-decoration-color: #008000; font-weight: bold\">INFO</span><span style=\"color: #000000; text-decoration-color: #000000\">][</span><span style=\"color: #008080; text-decoration-color: #008080; font-style: italic\">trainer</span><span style=\"color: #00ff00; text-decoration-color: #00ff00\">:</span><span style=\"color: #000000; text-decoration-color: #000000\">768</span><span style=\"color: #000000; text-decoration-color: #000000\">]</span><span style=\"color: #ffff00; text-decoration-color: #ffff00; font-weight: bold\"> - </span><span style=\"color: #0000ff; text-decoration-color: #0000ff; font-style: italic\">step</span>=<span style=\"color: #800080; text-decoration-color: #800080\">1400</span> <span style=\"color: #0000ff; text-decoration-color: #0000ff; font-style: italic\">loss</span>=<span style=\"color: #800080; text-decoration-color: #800080\">1.2934</span> <span style=\"color: #0000ff; text-decoration-color: #0000ff; font-style: italic\">dt</span>=<span style=\"color: #800080; text-decoration-color: #800080\">25.7526</span> <span style=\"color: #0000ff; text-decoration-color: #0000ff; font-style: italic\">dtf</span>=<span style=\"color: #800080; text-decoration-color: #800080\">8.5109</span> <span style=\"color: #0000ff; text-decoration-color: #0000ff; font-style: italic\">dtb</span>=<span style=\"color: #800080; text-decoration-color: #800080\">14.0045</span> <span style=\"color: #0000ff; text-decoration-color: #0000ff; font-style: italic\">sps</span>=<span style=\"color: #800080; text-decoration-color: #800080\">38.8310</span> <span style=\"color: #0000ff; text-decoration-color: #0000ff; font-style: italic\">mtps</span>=<span style=\"color: #800080; text-decoration-color: #800080\">0.6362</span> <span style=\"color: #0000ff; text-decoration-color: #0000ff; font-style: italic\">mfu</span>=<span style=\"color: #800080; text-decoration-color: #800080\">13.9773</span> <span style=\"color: #0000ff; text-decoration-color: #0000ff; font-style: italic\">train_loss</span>=<span style=\"color: #800080; text-decoration-color: #800080\">1.2713</span> <span style=\"color: #0000ff; text-decoration-color: #0000ff; font-style: italic\">val_loss</span>=<span style=\"color: #800080; text-decoration-color: #800080\">1.5197</span>\n",
              "</pre>\n"
            ]
          },
          "metadata": {}
        },
        {
          "output_type": "stream",
          "name": "stderr",
          "text": [
            " 30%|██▉       | 1497/5000 [00:54<01:32, 38.01it/s]"
          ]
        },
        {
          "output_type": "display_data",
          "data": {
            "text/plain": [
              "\u001b[30m[\u001b[0m\u001b[90m2024-02-06 \u001b[0m\u001b[90m14:15:16\u001b[0m\u001b[30m]\u001b[0m\u001b[30m[\u001b[0m\u001b[1;32mINFO\u001b[0m\u001b[30m]\u001b[0m\u001b[30m[\u001b[0m\u001b[3;36mtrainer\u001b[0m\u001b[92m:\u001b[0m\u001b[30m768\u001b[0m\u001b[30m]\u001b[0m\u001b[1;93m - \u001b[0m\u001b[3;94mstep\u001b[0m=\u001b[35m1500\u001b[0m \u001b[3;94mloss\u001b[0m=\u001b[35m1\u001b[0m\u001b[35m.2166\u001b[0m \u001b[3;94mdt\u001b[0m=\u001b[35m26\u001b[0m\u001b[35m.9794\u001b[0m \u001b[3;94mdtf\u001b[0m=\u001b[35m8\u001b[0m\u001b[35m.6787\u001b[0m \u001b[3;94mdtb\u001b[0m=\u001b[35m14\u001b[0m\u001b[35m.9733\u001b[0m \u001b[3;94msps\u001b[0m=\u001b[35m37\u001b[0m\u001b[35m.0653\u001b[0m \u001b[3;94mmtps\u001b[0m=\u001b[35m0\u001b[0m\u001b[35m.6073\u001b[0m \u001b[3;94mmfu\u001b[0m=\u001b[35m13\u001b[0m\u001b[35m.9607\u001b[0m \u001b[3;94mtrain_loss\u001b[0m=\u001b[35m1\u001b[0m\u001b[35m.2713\u001b[0m \u001b[3;94mval_loss\u001b[0m=\u001b[35m1\u001b[0m\u001b[35m.5197\u001b[0m\n"
            ],
            "text/html": [
              "<pre style=\"white-space:pre;overflow-x:auto;line-height:normal;font-family:Menlo,'DejaVu Sans Mono',consolas,'Courier New',monospace\"><span style=\"color: #000000; text-decoration-color: #000000\">[</span><span style=\"color: #808080; text-decoration-color: #808080\">2024-02-06 14:15:16</span><span style=\"color: #000000; text-decoration-color: #000000\">][</span><span style=\"color: #008000; text-decoration-color: #008000; font-weight: bold\">INFO</span><span style=\"color: #000000; text-decoration-color: #000000\">][</span><span style=\"color: #008080; text-decoration-color: #008080; font-style: italic\">trainer</span><span style=\"color: #00ff00; text-decoration-color: #00ff00\">:</span><span style=\"color: #000000; text-decoration-color: #000000\">768</span><span style=\"color: #000000; text-decoration-color: #000000\">]</span><span style=\"color: #ffff00; text-decoration-color: #ffff00; font-weight: bold\"> - </span><span style=\"color: #0000ff; text-decoration-color: #0000ff; font-style: italic\">step</span>=<span style=\"color: #800080; text-decoration-color: #800080\">1500</span> <span style=\"color: #0000ff; text-decoration-color: #0000ff; font-style: italic\">loss</span>=<span style=\"color: #800080; text-decoration-color: #800080\">1.2166</span> <span style=\"color: #0000ff; text-decoration-color: #0000ff; font-style: italic\">dt</span>=<span style=\"color: #800080; text-decoration-color: #800080\">26.9794</span> <span style=\"color: #0000ff; text-decoration-color: #0000ff; font-style: italic\">dtf</span>=<span style=\"color: #800080; text-decoration-color: #800080\">8.6787</span> <span style=\"color: #0000ff; text-decoration-color: #0000ff; font-style: italic\">dtb</span>=<span style=\"color: #800080; text-decoration-color: #800080\">14.9733</span> <span style=\"color: #0000ff; text-decoration-color: #0000ff; font-style: italic\">sps</span>=<span style=\"color: #800080; text-decoration-color: #800080\">37.0653</span> <span style=\"color: #0000ff; text-decoration-color: #0000ff; font-style: italic\">mtps</span>=<span style=\"color: #800080; text-decoration-color: #800080\">0.6073</span> <span style=\"color: #0000ff; text-decoration-color: #0000ff; font-style: italic\">mfu</span>=<span style=\"color: #800080; text-decoration-color: #800080\">13.9607</span> <span style=\"color: #0000ff; text-decoration-color: #0000ff; font-style: italic\">train_loss</span>=<span style=\"color: #800080; text-decoration-color: #800080\">1.2713</span> <span style=\"color: #0000ff; text-decoration-color: #0000ff; font-style: italic\">val_loss</span>=<span style=\"color: #800080; text-decoration-color: #800080\">1.5197</span>\n",
              "</pre>\n"
            ]
          },
          "metadata": {}
        },
        {
          "output_type": "display_data",
          "data": {
            "text/plain": [
              "\u001b[30m[\u001b[0m\u001b[90m2024-02-06 \u001b[0m\u001b[90m14:15:21\u001b[0m\u001b[30m]\u001b[0m\u001b[30m[\u001b[0m\u001b[1;32mINFO\u001b[0m\u001b[30m]\u001b[0m\u001b[30m[\u001b[0m\u001b[3;36mtrainer\u001b[0m\u001b[92m:\u001b[0m\u001b[30m666\u001b[0m\u001b[30m]\u001b[0m\u001b[1;93m - \u001b[0mSaving checkpoint to: \u001b[32m/\u001b[0m\u001b[35mcontent\u001b[0m\n"
            ],
            "text/html": [
              "<pre style=\"white-space:pre;overflow-x:auto;line-height:normal;font-family:Menlo,'DejaVu Sans Mono',consolas,'Courier New',monospace\"><span style=\"color: #000000; text-decoration-color: #000000\">[</span><span style=\"color: #808080; text-decoration-color: #808080\">2024-02-06 14:15:21</span><span style=\"color: #000000; text-decoration-color: #000000\">][</span><span style=\"color: #008000; text-decoration-color: #008000; font-weight: bold\">INFO</span><span style=\"color: #000000; text-decoration-color: #000000\">][</span><span style=\"color: #008080; text-decoration-color: #008080; font-style: italic\">trainer</span><span style=\"color: #00ff00; text-decoration-color: #00ff00\">:</span><span style=\"color: #000000; text-decoration-color: #000000\">666</span><span style=\"color: #000000; text-decoration-color: #000000\">]</span><span style=\"color: #ffff00; text-decoration-color: #ffff00; font-weight: bold\"> - </span>Saving checkpoint to: <span style=\"color: #008000; text-decoration-color: #008000\">/</span><span style=\"color: #800080; text-decoration-color: #800080\">content</span>\n",
              "</pre>\n"
            ]
          },
          "metadata": {}
        },
        {
          "output_type": "display_data",
          "data": {
            "text/plain": [
              "\u001b[30m[\u001b[0m\u001b[90m2024-02-06 \u001b[0m\u001b[90m14:15:21\u001b[0m\u001b[30m]\u001b[0m\u001b[30m[\u001b[0m\u001b[1;32mINFO\u001b[0m\u001b[30m]\u001b[0m\u001b[30m[\u001b[0m\u001b[3;36mtrainer\u001b[0m\u001b[92m:\u001b[0m\u001b[30m667\u001b[0m\u001b[30m]\u001b[0m\u001b[1;93m - \u001b[0mSaving model to: \u001b[32m/content/\u001b[0m\u001b[35mmodel.pth\u001b[0m\n"
            ],
            "text/html": [
              "<pre style=\"white-space:pre;overflow-x:auto;line-height:normal;font-family:Menlo,'DejaVu Sans Mono',consolas,'Courier New',monospace\"><span style=\"color: #000000; text-decoration-color: #000000\">[</span><span style=\"color: #808080; text-decoration-color: #808080\">2024-02-06 14:15:21</span><span style=\"color: #000000; text-decoration-color: #000000\">][</span><span style=\"color: #008000; text-decoration-color: #008000; font-weight: bold\">INFO</span><span style=\"color: #000000; text-decoration-color: #000000\">][</span><span style=\"color: #008080; text-decoration-color: #008080; font-style: italic\">trainer</span><span style=\"color: #00ff00; text-decoration-color: #00ff00\">:</span><span style=\"color: #000000; text-decoration-color: #000000\">667</span><span style=\"color: #000000; text-decoration-color: #000000\">]</span><span style=\"color: #ffff00; text-decoration-color: #ffff00; font-weight: bold\"> - </span>Saving model to: <span style=\"color: #008000; text-decoration-color: #008000\">/content/</span><span style=\"color: #800080; text-decoration-color: #800080\">model.pth</span>\n",
              "</pre>\n"
            ]
          },
          "metadata": {}
        },
        {
          "output_type": "display_data",
          "data": {
            "text/plain": [
              "\u001b[30m[\u001b[0m\u001b[90m2024-02-06 \u001b[0m\u001b[90m14:15:21\u001b[0m\u001b[30m]\u001b[0m\u001b[30m[\u001b[0m\u001b[1;32mINFO\u001b[0m\u001b[30m]\u001b[0m\u001b[30m[\u001b[0m\u001b[3;36mconfigs\u001b[0m\u001b[92m:\u001b[0m\u001b[30m132\u001b[0m\u001b[30m]\u001b[0m\u001b[1;93m - \u001b[0mAppending \u001b[32m/\u001b[0m\u001b[35mcontent\u001b[0m to \u001b[32m/content/wordplay/src/ckpts/\u001b[0m\u001b[35mcheckpoints.log\u001b[0m\n"
            ],
            "text/html": [
              "<pre style=\"white-space:pre;overflow-x:auto;line-height:normal;font-family:Menlo,'DejaVu Sans Mono',consolas,'Courier New',monospace\"><span style=\"color: #000000; text-decoration-color: #000000\">[</span><span style=\"color: #808080; text-decoration-color: #808080\">2024-02-06 14:15:21</span><span style=\"color: #000000; text-decoration-color: #000000\">][</span><span style=\"color: #008000; text-decoration-color: #008000; font-weight: bold\">INFO</span><span style=\"color: #000000; text-decoration-color: #000000\">][</span><span style=\"color: #008080; text-decoration-color: #008080; font-style: italic\">configs</span><span style=\"color: #00ff00; text-decoration-color: #00ff00\">:</span><span style=\"color: #000000; text-decoration-color: #000000\">132</span><span style=\"color: #000000; text-decoration-color: #000000\">]</span><span style=\"color: #ffff00; text-decoration-color: #ffff00; font-weight: bold\"> - </span>Appending <span style=\"color: #008000; text-decoration-color: #008000\">/</span><span style=\"color: #800080; text-decoration-color: #800080\">content</span> to <span style=\"color: #008000; text-decoration-color: #008000\">/content/wordplay/src/ckpts/</span><span style=\"color: #800080; text-decoration-color: #800080\">checkpoints.log</span>\n",
              "</pre>\n"
            ]
          },
          "metadata": {}
        },
        {
          "output_type": "stream",
          "name": "stderr",
          "text": [
            " 32%|███▏      | 1597/5000 [01:01<01:32, 36.86it/s]"
          ]
        },
        {
          "output_type": "display_data",
          "data": {
            "text/plain": [
              "\u001b[30m[\u001b[0m\u001b[90m2024-02-06 \u001b[0m\u001b[90m14:15:24\u001b[0m\u001b[30m]\u001b[0m\u001b[30m[\u001b[0m\u001b[1;32mINFO\u001b[0m\u001b[30m]\u001b[0m\u001b[30m[\u001b[0m\u001b[3;36mtrainer\u001b[0m\u001b[92m:\u001b[0m\u001b[30m768\u001b[0m\u001b[30m]\u001b[0m\u001b[1;93m - \u001b[0m\u001b[3;94mstep\u001b[0m=\u001b[35m1600\u001b[0m \u001b[3;94mloss\u001b[0m=\u001b[35m1\u001b[0m\u001b[35m.1857\u001b[0m \u001b[3;94mdt\u001b[0m=\u001b[35m25\u001b[0m\u001b[35m.5408\u001b[0m \u001b[3;94mdtf\u001b[0m=\u001b[35m8\u001b[0m\u001b[35m.4444\u001b[0m \u001b[3;94mdtb\u001b[0m=\u001b[35m13\u001b[0m\u001b[35m.9513\u001b[0m \u001b[3;94msps\u001b[0m=\u001b[35m39\u001b[0m\u001b[35m.1531\u001b[0m \u001b[3;94mmtps\u001b[0m=\u001b[35m0\u001b[0m\u001b[35m.6415\u001b[0m \u001b[3;94mmfu\u001b[0m=\u001b[35m14\u001b[0m\u001b[35m.0236\u001b[0m \u001b[3;94mtrain_loss\u001b[0m=\u001b[35m1\u001b[0m\u001b[35m.1484\u001b[0m \u001b[3;94mval_loss\u001b[0m=\u001b[35m1\u001b[0m\u001b[35m.4666\u001b[0m\n"
            ],
            "text/html": [
              "<pre style=\"white-space:pre;overflow-x:auto;line-height:normal;font-family:Menlo,'DejaVu Sans Mono',consolas,'Courier New',monospace\"><span style=\"color: #000000; text-decoration-color: #000000\">[</span><span style=\"color: #808080; text-decoration-color: #808080\">2024-02-06 14:15:24</span><span style=\"color: #000000; text-decoration-color: #000000\">][</span><span style=\"color: #008000; text-decoration-color: #008000; font-weight: bold\">INFO</span><span style=\"color: #000000; text-decoration-color: #000000\">][</span><span style=\"color: #008080; text-decoration-color: #008080; font-style: italic\">trainer</span><span style=\"color: #00ff00; text-decoration-color: #00ff00\">:</span><span style=\"color: #000000; text-decoration-color: #000000\">768</span><span style=\"color: #000000; text-decoration-color: #000000\">]</span><span style=\"color: #ffff00; text-decoration-color: #ffff00; font-weight: bold\"> - </span><span style=\"color: #0000ff; text-decoration-color: #0000ff; font-style: italic\">step</span>=<span style=\"color: #800080; text-decoration-color: #800080\">1600</span> <span style=\"color: #0000ff; text-decoration-color: #0000ff; font-style: italic\">loss</span>=<span style=\"color: #800080; text-decoration-color: #800080\">1.1857</span> <span style=\"color: #0000ff; text-decoration-color: #0000ff; font-style: italic\">dt</span>=<span style=\"color: #800080; text-decoration-color: #800080\">25.5408</span> <span style=\"color: #0000ff; text-decoration-color: #0000ff; font-style: italic\">dtf</span>=<span style=\"color: #800080; text-decoration-color: #800080\">8.4444</span> <span style=\"color: #0000ff; text-decoration-color: #0000ff; font-style: italic\">dtb</span>=<span style=\"color: #800080; text-decoration-color: #800080\">13.9513</span> <span style=\"color: #0000ff; text-decoration-color: #0000ff; font-style: italic\">sps</span>=<span style=\"color: #800080; text-decoration-color: #800080\">39.1531</span> <span style=\"color: #0000ff; text-decoration-color: #0000ff; font-style: italic\">mtps</span>=<span style=\"color: #800080; text-decoration-color: #800080\">0.6415</span> <span style=\"color: #0000ff; text-decoration-color: #0000ff; font-style: italic\">mfu</span>=<span style=\"color: #800080; text-decoration-color: #800080\">14.0236</span> <span style=\"color: #0000ff; text-decoration-color: #0000ff; font-style: italic\">train_loss</span>=<span style=\"color: #800080; text-decoration-color: #800080\">1.1484</span> <span style=\"color: #0000ff; text-decoration-color: #0000ff; font-style: italic\">val_loss</span>=<span style=\"color: #800080; text-decoration-color: #800080\">1.4666</span>\n",
              "</pre>\n"
            ]
          },
          "metadata": {}
        },
        {
          "output_type": "stream",
          "name": "stderr",
          "text": [
            " 34%|███▍      | 1697/5000 [01:04<01:27, 37.82it/s]"
          ]
        },
        {
          "output_type": "display_data",
          "data": {
            "text/plain": [
              "\u001b[30m[\u001b[0m\u001b[90m2024-02-06 \u001b[0m\u001b[90m14:15:26\u001b[0m\u001b[30m]\u001b[0m\u001b[30m[\u001b[0m\u001b[1;32mINFO\u001b[0m\u001b[30m]\u001b[0m\u001b[30m[\u001b[0m\u001b[3;36mtrainer\u001b[0m\u001b[92m:\u001b[0m\u001b[30m768\u001b[0m\u001b[30m]\u001b[0m\u001b[1;93m - \u001b[0m\u001b[3;94mstep\u001b[0m=\u001b[35m1700\u001b[0m \u001b[3;94mloss\u001b[0m=\u001b[35m1\u001b[0m\u001b[35m.1776\u001b[0m \u001b[3;94mdt\u001b[0m=\u001b[35m25\u001b[0m\u001b[35m.2119\u001b[0m \u001b[3;94mdtf\u001b[0m=\u001b[35m8\u001b[0m\u001b[35m.2844\u001b[0m \u001b[3;94mdtb\u001b[0m=\u001b[35m13\u001b[0m\u001b[35m.7826\u001b[0m \u001b[3;94msps\u001b[0m=\u001b[35m39\u001b[0m\u001b[35m.6639\u001b[0m \u001b[3;94mmtps\u001b[0m=\u001b[35m0\u001b[0m\u001b[35m.6499\u001b[0m \u001b[3;94mmfu\u001b[0m=\u001b[35m14\u001b[0m\u001b[35m.0992\u001b[0m \u001b[3;94mtrain_loss\u001b[0m=\u001b[35m1\u001b[0m\u001b[35m.1484\u001b[0m \u001b[3;94mval_loss\u001b[0m=\u001b[35m1\u001b[0m\u001b[35m.4666\u001b[0m\n"
            ],
            "text/html": [
              "<pre style=\"white-space:pre;overflow-x:auto;line-height:normal;font-family:Menlo,'DejaVu Sans Mono',consolas,'Courier New',monospace\"><span style=\"color: #000000; text-decoration-color: #000000\">[</span><span style=\"color: #808080; text-decoration-color: #808080\">2024-02-06 14:15:26</span><span style=\"color: #000000; text-decoration-color: #000000\">][</span><span style=\"color: #008000; text-decoration-color: #008000; font-weight: bold\">INFO</span><span style=\"color: #000000; text-decoration-color: #000000\">][</span><span style=\"color: #008080; text-decoration-color: #008080; font-style: italic\">trainer</span><span style=\"color: #00ff00; text-decoration-color: #00ff00\">:</span><span style=\"color: #000000; text-decoration-color: #000000\">768</span><span style=\"color: #000000; text-decoration-color: #000000\">]</span><span style=\"color: #ffff00; text-decoration-color: #ffff00; font-weight: bold\"> - </span><span style=\"color: #0000ff; text-decoration-color: #0000ff; font-style: italic\">step</span>=<span style=\"color: #800080; text-decoration-color: #800080\">1700</span> <span style=\"color: #0000ff; text-decoration-color: #0000ff; font-style: italic\">loss</span>=<span style=\"color: #800080; text-decoration-color: #800080\">1.1776</span> <span style=\"color: #0000ff; text-decoration-color: #0000ff; font-style: italic\">dt</span>=<span style=\"color: #800080; text-decoration-color: #800080\">25.2119</span> <span style=\"color: #0000ff; text-decoration-color: #0000ff; font-style: italic\">dtf</span>=<span style=\"color: #800080; text-decoration-color: #800080\">8.2844</span> <span style=\"color: #0000ff; text-decoration-color: #0000ff; font-style: italic\">dtb</span>=<span style=\"color: #800080; text-decoration-color: #800080\">13.7826</span> <span style=\"color: #0000ff; text-decoration-color: #0000ff; font-style: italic\">sps</span>=<span style=\"color: #800080; text-decoration-color: #800080\">39.6639</span> <span style=\"color: #0000ff; text-decoration-color: #0000ff; font-style: italic\">mtps</span>=<span style=\"color: #800080; text-decoration-color: #800080\">0.6499</span> <span style=\"color: #0000ff; text-decoration-color: #0000ff; font-style: italic\">mfu</span>=<span style=\"color: #800080; text-decoration-color: #800080\">14.0992</span> <span style=\"color: #0000ff; text-decoration-color: #0000ff; font-style: italic\">train_loss</span>=<span style=\"color: #800080; text-decoration-color: #800080\">1.1484</span> <span style=\"color: #0000ff; text-decoration-color: #0000ff; font-style: italic\">val_loss</span>=<span style=\"color: #800080; text-decoration-color: #800080\">1.4666</span>\n",
              "</pre>\n"
            ]
          },
          "metadata": {}
        },
        {
          "output_type": "stream",
          "name": "stderr",
          "text": [
            " 36%|███▌      | 1797/5000 [01:06<01:25, 37.26it/s]"
          ]
        },
        {
          "output_type": "display_data",
          "data": {
            "text/plain": [
              "\u001b[30m[\u001b[0m\u001b[90m2024-02-06 \u001b[0m\u001b[90m14:15:29\u001b[0m\u001b[30m]\u001b[0m\u001b[30m[\u001b[0m\u001b[1;32mINFO\u001b[0m\u001b[30m]\u001b[0m\u001b[30m[\u001b[0m\u001b[3;36mtrainer\u001b[0m\u001b[92m:\u001b[0m\u001b[30m768\u001b[0m\u001b[30m]\u001b[0m\u001b[1;93m - \u001b[0m\u001b[3;94mstep\u001b[0m=\u001b[35m1800\u001b[0m \u001b[3;94mloss\u001b[0m=\u001b[35m1\u001b[0m\u001b[35m.1887\u001b[0m \u001b[3;94mdt\u001b[0m=\u001b[35m26\u001b[0m\u001b[35m.2850\u001b[0m \u001b[3;94mdtf\u001b[0m=\u001b[35m8\u001b[0m\u001b[35m.7710\u001b[0m \u001b[3;94mdtb\u001b[0m=\u001b[35m14\u001b[0m\u001b[35m.2335\u001b[0m \u001b[3;94msps\u001b[0m=\u001b[35m38\u001b[0m\u001b[35m.0446\u001b[0m \u001b[3;94mmtps\u001b[0m=\u001b[35m0\u001b[0m\u001b[35m.6233\u001b[0m \u001b[3;94mmfu\u001b[0m=\u001b[35m14\u001b[0m\u001b[35m.1069\u001b[0m \u001b[3;94mtrain_loss\u001b[0m=\u001b[35m1\u001b[0m\u001b[35m.1484\u001b[0m \u001b[3;94mval_loss\u001b[0m=\u001b[35m1\u001b[0m\u001b[35m.4666\u001b[0m\n"
            ],
            "text/html": [
              "<pre style=\"white-space:pre;overflow-x:auto;line-height:normal;font-family:Menlo,'DejaVu Sans Mono',consolas,'Courier New',monospace\"><span style=\"color: #000000; text-decoration-color: #000000\">[</span><span style=\"color: #808080; text-decoration-color: #808080\">2024-02-06 14:15:29</span><span style=\"color: #000000; text-decoration-color: #000000\">][</span><span style=\"color: #008000; text-decoration-color: #008000; font-weight: bold\">INFO</span><span style=\"color: #000000; text-decoration-color: #000000\">][</span><span style=\"color: #008080; text-decoration-color: #008080; font-style: italic\">trainer</span><span style=\"color: #00ff00; text-decoration-color: #00ff00\">:</span><span style=\"color: #000000; text-decoration-color: #000000\">768</span><span style=\"color: #000000; text-decoration-color: #000000\">]</span><span style=\"color: #ffff00; text-decoration-color: #ffff00; font-weight: bold\"> - </span><span style=\"color: #0000ff; text-decoration-color: #0000ff; font-style: italic\">step</span>=<span style=\"color: #800080; text-decoration-color: #800080\">1800</span> <span style=\"color: #0000ff; text-decoration-color: #0000ff; font-style: italic\">loss</span>=<span style=\"color: #800080; text-decoration-color: #800080\">1.1887</span> <span style=\"color: #0000ff; text-decoration-color: #0000ff; font-style: italic\">dt</span>=<span style=\"color: #800080; text-decoration-color: #800080\">26.2850</span> <span style=\"color: #0000ff; text-decoration-color: #0000ff; font-style: italic\">dtf</span>=<span style=\"color: #800080; text-decoration-color: #800080\">8.7710</span> <span style=\"color: #0000ff; text-decoration-color: #0000ff; font-style: italic\">dtb</span>=<span style=\"color: #800080; text-decoration-color: #800080\">14.2335</span> <span style=\"color: #0000ff; text-decoration-color: #0000ff; font-style: italic\">sps</span>=<span style=\"color: #800080; text-decoration-color: #800080\">38.0446</span> <span style=\"color: #0000ff; text-decoration-color: #0000ff; font-style: italic\">mtps</span>=<span style=\"color: #800080; text-decoration-color: #800080\">0.6233</span> <span style=\"color: #0000ff; text-decoration-color: #0000ff; font-style: italic\">mfu</span>=<span style=\"color: #800080; text-decoration-color: #800080\">14.1069</span> <span style=\"color: #0000ff; text-decoration-color: #0000ff; font-style: italic\">train_loss</span>=<span style=\"color: #800080; text-decoration-color: #800080\">1.1484</span> <span style=\"color: #0000ff; text-decoration-color: #0000ff; font-style: italic\">val_loss</span>=<span style=\"color: #800080; text-decoration-color: #800080\">1.4666</span>\n",
              "</pre>\n"
            ]
          },
          "metadata": {}
        },
        {
          "output_type": "stream",
          "name": "stderr",
          "text": [
            " 38%|███▊      | 1897/5000 [01:09<01:21, 37.84it/s]"
          ]
        },
        {
          "output_type": "display_data",
          "data": {
            "text/plain": [
              "\u001b[30m[\u001b[0m\u001b[90m2024-02-06 \u001b[0m\u001b[90m14:15:32\u001b[0m\u001b[30m]\u001b[0m\u001b[30m[\u001b[0m\u001b[1;32mINFO\u001b[0m\u001b[30m]\u001b[0m\u001b[30m[\u001b[0m\u001b[3;36mtrainer\u001b[0m\u001b[92m:\u001b[0m\u001b[30m768\u001b[0m\u001b[30m]\u001b[0m\u001b[1;93m - \u001b[0m\u001b[3;94mstep\u001b[0m=\u001b[35m1900\u001b[0m \u001b[3;94mloss\u001b[0m=\u001b[35m1\u001b[0m\u001b[35m.1785\u001b[0m \u001b[3;94mdt\u001b[0m=\u001b[35m25\u001b[0m\u001b[35m.2800\u001b[0m \u001b[3;94mdtf\u001b[0m=\u001b[35m8\u001b[0m\u001b[35m.3411\u001b[0m \u001b[3;94mdtb\u001b[0m=\u001b[35m13\u001b[0m\u001b[35m.8349\u001b[0m \u001b[3;94msps\u001b[0m=\u001b[35m39\u001b[0m\u001b[35m.5570\u001b[0m \u001b[3;94mmtps\u001b[0m=\u001b[35m0\u001b[0m\u001b[35m.6481\u001b[0m \u001b[3;94mmfu\u001b[0m=\u001b[35m14\u001b[0m\u001b[35m.1702\u001b[0m \u001b[3;94mtrain_loss\u001b[0m=\u001b[35m1\u001b[0m\u001b[35m.1484\u001b[0m \u001b[3;94mval_loss\u001b[0m=\u001b[35m1\u001b[0m\u001b[35m.4666\u001b[0m\n"
            ],
            "text/html": [
              "<pre style=\"white-space:pre;overflow-x:auto;line-height:normal;font-family:Menlo,'DejaVu Sans Mono',consolas,'Courier New',monospace\"><span style=\"color: #000000; text-decoration-color: #000000\">[</span><span style=\"color: #808080; text-decoration-color: #808080\">2024-02-06 14:15:32</span><span style=\"color: #000000; text-decoration-color: #000000\">][</span><span style=\"color: #008000; text-decoration-color: #008000; font-weight: bold\">INFO</span><span style=\"color: #000000; text-decoration-color: #000000\">][</span><span style=\"color: #008080; text-decoration-color: #008080; font-style: italic\">trainer</span><span style=\"color: #00ff00; text-decoration-color: #00ff00\">:</span><span style=\"color: #000000; text-decoration-color: #000000\">768</span><span style=\"color: #000000; text-decoration-color: #000000\">]</span><span style=\"color: #ffff00; text-decoration-color: #ffff00; font-weight: bold\"> - </span><span style=\"color: #0000ff; text-decoration-color: #0000ff; font-style: italic\">step</span>=<span style=\"color: #800080; text-decoration-color: #800080\">1900</span> <span style=\"color: #0000ff; text-decoration-color: #0000ff; font-style: italic\">loss</span>=<span style=\"color: #800080; text-decoration-color: #800080\">1.1785</span> <span style=\"color: #0000ff; text-decoration-color: #0000ff; font-style: italic\">dt</span>=<span style=\"color: #800080; text-decoration-color: #800080\">25.2800</span> <span style=\"color: #0000ff; text-decoration-color: #0000ff; font-style: italic\">dtf</span>=<span style=\"color: #800080; text-decoration-color: #800080\">8.3411</span> <span style=\"color: #0000ff; text-decoration-color: #0000ff; font-style: italic\">dtb</span>=<span style=\"color: #800080; text-decoration-color: #800080\">13.8349</span> <span style=\"color: #0000ff; text-decoration-color: #0000ff; font-style: italic\">sps</span>=<span style=\"color: #800080; text-decoration-color: #800080\">39.5570</span> <span style=\"color: #0000ff; text-decoration-color: #0000ff; font-style: italic\">mtps</span>=<span style=\"color: #800080; text-decoration-color: #800080\">0.6481</span> <span style=\"color: #0000ff; text-decoration-color: #0000ff; font-style: italic\">mfu</span>=<span style=\"color: #800080; text-decoration-color: #800080\">14.1702</span> <span style=\"color: #0000ff; text-decoration-color: #0000ff; font-style: italic\">train_loss</span>=<span style=\"color: #800080; text-decoration-color: #800080\">1.1484</span> <span style=\"color: #0000ff; text-decoration-color: #0000ff; font-style: italic\">val_loss</span>=<span style=\"color: #800080; text-decoration-color: #800080\">1.4666</span>\n",
              "</pre>\n"
            ]
          },
          "metadata": {}
        },
        {
          "output_type": "stream",
          "name": "stderr",
          "text": [
            " 40%|███▉      | 1997/5000 [01:12<01:19, 37.93it/s]"
          ]
        },
        {
          "output_type": "display_data",
          "data": {
            "text/plain": [
              "\u001b[30m[\u001b[0m\u001b[90m2024-02-06 \u001b[0m\u001b[90m14:15:34\u001b[0m\u001b[30m]\u001b[0m\u001b[30m[\u001b[0m\u001b[1;32mINFO\u001b[0m\u001b[30m]\u001b[0m\u001b[30m[\u001b[0m\u001b[3;36mtrainer\u001b[0m\u001b[92m:\u001b[0m\u001b[30m768\u001b[0m\u001b[30m]\u001b[0m\u001b[1;93m - \u001b[0m\u001b[3;94mstep\u001b[0m=\u001b[35m2000\u001b[0m \u001b[3;94mloss\u001b[0m=\u001b[35m1\u001b[0m\u001b[35m.1399\u001b[0m \u001b[3;94mdt\u001b[0m=\u001b[35m26\u001b[0m\u001b[35m.3640\u001b[0m \u001b[3;94mdtf\u001b[0m=\u001b[35m8\u001b[0m\u001b[35m.6425\u001b[0m \u001b[3;94mdtb\u001b[0m=\u001b[35m14\u001b[0m\u001b[35m.4208\u001b[0m \u001b[3;94msps\u001b[0m=\u001b[35m37\u001b[0m\u001b[35m.9305\u001b[0m \u001b[3;94mmtps\u001b[0m=\u001b[35m0\u001b[0m\u001b[35m.6215\u001b[0m \u001b[3;94mmfu\u001b[0m=\u001b[35m14\u001b[0m\u001b[35m.1666\u001b[0m \u001b[3;94mtrain_loss\u001b[0m=\u001b[35m1\u001b[0m\u001b[35m.1484\u001b[0m \u001b[3;94mval_loss\u001b[0m=\u001b[35m1\u001b[0m\u001b[35m.4666\u001b[0m\n"
            ],
            "text/html": [
              "<pre style=\"white-space:pre;overflow-x:auto;line-height:normal;font-family:Menlo,'DejaVu Sans Mono',consolas,'Courier New',monospace\"><span style=\"color: #000000; text-decoration-color: #000000\">[</span><span style=\"color: #808080; text-decoration-color: #808080\">2024-02-06 14:15:34</span><span style=\"color: #000000; text-decoration-color: #000000\">][</span><span style=\"color: #008000; text-decoration-color: #008000; font-weight: bold\">INFO</span><span style=\"color: #000000; text-decoration-color: #000000\">][</span><span style=\"color: #008080; text-decoration-color: #008080; font-style: italic\">trainer</span><span style=\"color: #00ff00; text-decoration-color: #00ff00\">:</span><span style=\"color: #000000; text-decoration-color: #000000\">768</span><span style=\"color: #000000; text-decoration-color: #000000\">]</span><span style=\"color: #ffff00; text-decoration-color: #ffff00; font-weight: bold\"> - </span><span style=\"color: #0000ff; text-decoration-color: #0000ff; font-style: italic\">step</span>=<span style=\"color: #800080; text-decoration-color: #800080\">2000</span> <span style=\"color: #0000ff; text-decoration-color: #0000ff; font-style: italic\">loss</span>=<span style=\"color: #800080; text-decoration-color: #800080\">1.1399</span> <span style=\"color: #0000ff; text-decoration-color: #0000ff; font-style: italic\">dt</span>=<span style=\"color: #800080; text-decoration-color: #800080\">26.3640</span> <span style=\"color: #0000ff; text-decoration-color: #0000ff; font-style: italic\">dtf</span>=<span style=\"color: #800080; text-decoration-color: #800080\">8.6425</span> <span style=\"color: #0000ff; text-decoration-color: #0000ff; font-style: italic\">dtb</span>=<span style=\"color: #800080; text-decoration-color: #800080\">14.4208</span> <span style=\"color: #0000ff; text-decoration-color: #0000ff; font-style: italic\">sps</span>=<span style=\"color: #800080; text-decoration-color: #800080\">37.9305</span> <span style=\"color: #0000ff; text-decoration-color: #0000ff; font-style: italic\">mtps</span>=<span style=\"color: #800080; text-decoration-color: #800080\">0.6215</span> <span style=\"color: #0000ff; text-decoration-color: #0000ff; font-style: italic\">mfu</span>=<span style=\"color: #800080; text-decoration-color: #800080\">14.1666</span> <span style=\"color: #0000ff; text-decoration-color: #0000ff; font-style: italic\">train_loss</span>=<span style=\"color: #800080; text-decoration-color: #800080\">1.1484</span> <span style=\"color: #0000ff; text-decoration-color: #0000ff; font-style: italic\">val_loss</span>=<span style=\"color: #800080; text-decoration-color: #800080\">1.4666</span>\n",
              "</pre>\n"
            ]
          },
          "metadata": {}
        },
        {
          "output_type": "display_data",
          "data": {
            "text/plain": [
              "\u001b[30m[\u001b[0m\u001b[90m2024-02-06 \u001b[0m\u001b[90m14:15:39\u001b[0m\u001b[30m]\u001b[0m\u001b[30m[\u001b[0m\u001b[1;32mINFO\u001b[0m\u001b[30m]\u001b[0m\u001b[30m[\u001b[0m\u001b[3;36mtrainer\u001b[0m\u001b[92m:\u001b[0m\u001b[30m666\u001b[0m\u001b[30m]\u001b[0m\u001b[1;93m - \u001b[0mSaving checkpoint to: \u001b[32m/\u001b[0m\u001b[35mcontent\u001b[0m\n"
            ],
            "text/html": [
              "<pre style=\"white-space:pre;overflow-x:auto;line-height:normal;font-family:Menlo,'DejaVu Sans Mono',consolas,'Courier New',monospace\"><span style=\"color: #000000; text-decoration-color: #000000\">[</span><span style=\"color: #808080; text-decoration-color: #808080\">2024-02-06 14:15:39</span><span style=\"color: #000000; text-decoration-color: #000000\">][</span><span style=\"color: #008000; text-decoration-color: #008000; font-weight: bold\">INFO</span><span style=\"color: #000000; text-decoration-color: #000000\">][</span><span style=\"color: #008080; text-decoration-color: #008080; font-style: italic\">trainer</span><span style=\"color: #00ff00; text-decoration-color: #00ff00\">:</span><span style=\"color: #000000; text-decoration-color: #000000\">666</span><span style=\"color: #000000; text-decoration-color: #000000\">]</span><span style=\"color: #ffff00; text-decoration-color: #ffff00; font-weight: bold\"> - </span>Saving checkpoint to: <span style=\"color: #008000; text-decoration-color: #008000\">/</span><span style=\"color: #800080; text-decoration-color: #800080\">content</span>\n",
              "</pre>\n"
            ]
          },
          "metadata": {}
        },
        {
          "output_type": "display_data",
          "data": {
            "text/plain": [
              "\u001b[30m[\u001b[0m\u001b[90m2024-02-06 \u001b[0m\u001b[90m14:15:39\u001b[0m\u001b[30m]\u001b[0m\u001b[30m[\u001b[0m\u001b[1;32mINFO\u001b[0m\u001b[30m]\u001b[0m\u001b[30m[\u001b[0m\u001b[3;36mtrainer\u001b[0m\u001b[92m:\u001b[0m\u001b[30m667\u001b[0m\u001b[30m]\u001b[0m\u001b[1;93m - \u001b[0mSaving model to: \u001b[32m/content/\u001b[0m\u001b[35mmodel.pth\u001b[0m\n"
            ],
            "text/html": [
              "<pre style=\"white-space:pre;overflow-x:auto;line-height:normal;font-family:Menlo,'DejaVu Sans Mono',consolas,'Courier New',monospace\"><span style=\"color: #000000; text-decoration-color: #000000\">[</span><span style=\"color: #808080; text-decoration-color: #808080\">2024-02-06 14:15:39</span><span style=\"color: #000000; text-decoration-color: #000000\">][</span><span style=\"color: #008000; text-decoration-color: #008000; font-weight: bold\">INFO</span><span style=\"color: #000000; text-decoration-color: #000000\">][</span><span style=\"color: #008080; text-decoration-color: #008080; font-style: italic\">trainer</span><span style=\"color: #00ff00; text-decoration-color: #00ff00\">:</span><span style=\"color: #000000; text-decoration-color: #000000\">667</span><span style=\"color: #000000; text-decoration-color: #000000\">]</span><span style=\"color: #ffff00; text-decoration-color: #ffff00; font-weight: bold\"> - </span>Saving model to: <span style=\"color: #008000; text-decoration-color: #008000\">/content/</span><span style=\"color: #800080; text-decoration-color: #800080\">model.pth</span>\n",
              "</pre>\n"
            ]
          },
          "metadata": {}
        },
        {
          "output_type": "display_data",
          "data": {
            "text/plain": [
              "\u001b[30m[\u001b[0m\u001b[90m2024-02-06 \u001b[0m\u001b[90m14:15:39\u001b[0m\u001b[30m]\u001b[0m\u001b[30m[\u001b[0m\u001b[1;32mINFO\u001b[0m\u001b[30m]\u001b[0m\u001b[30m[\u001b[0m\u001b[3;36mconfigs\u001b[0m\u001b[92m:\u001b[0m\u001b[30m132\u001b[0m\u001b[30m]\u001b[0m\u001b[1;93m - \u001b[0mAppending \u001b[32m/\u001b[0m\u001b[35mcontent\u001b[0m to \u001b[32m/content/wordplay/src/ckpts/\u001b[0m\u001b[35mcheckpoints.log\u001b[0m\n"
            ],
            "text/html": [
              "<pre style=\"white-space:pre;overflow-x:auto;line-height:normal;font-family:Menlo,'DejaVu Sans Mono',consolas,'Courier New',monospace\"><span style=\"color: #000000; text-decoration-color: #000000\">[</span><span style=\"color: #808080; text-decoration-color: #808080\">2024-02-06 14:15:39</span><span style=\"color: #000000; text-decoration-color: #000000\">][</span><span style=\"color: #008000; text-decoration-color: #008000; font-weight: bold\">INFO</span><span style=\"color: #000000; text-decoration-color: #000000\">][</span><span style=\"color: #008080; text-decoration-color: #008080; font-style: italic\">configs</span><span style=\"color: #00ff00; text-decoration-color: #00ff00\">:</span><span style=\"color: #000000; text-decoration-color: #000000\">132</span><span style=\"color: #000000; text-decoration-color: #000000\">]</span><span style=\"color: #ffff00; text-decoration-color: #ffff00; font-weight: bold\"> - </span>Appending <span style=\"color: #008000; text-decoration-color: #008000\">/</span><span style=\"color: #800080; text-decoration-color: #800080\">content</span> to <span style=\"color: #008000; text-decoration-color: #008000\">/content/wordplay/src/ckpts/</span><span style=\"color: #800080; text-decoration-color: #800080\">checkpoints.log</span>\n",
              "</pre>\n"
            ]
          },
          "metadata": {}
        },
        {
          "output_type": "stream",
          "name": "stderr",
          "text": [
            " 42%|████▏     | 2097/5000 [01:19<01:18, 37.15it/s]"
          ]
        },
        {
          "output_type": "display_data",
          "data": {
            "text/plain": [
              "\u001b[30m[\u001b[0m\u001b[90m2024-02-06 \u001b[0m\u001b[90m14:15:42\u001b[0m\u001b[30m]\u001b[0m\u001b[30m[\u001b[0m\u001b[1;32mINFO\u001b[0m\u001b[30m]\u001b[0m\u001b[30m[\u001b[0m\u001b[3;36mtrainer\u001b[0m\u001b[92m:\u001b[0m\u001b[30m768\u001b[0m\u001b[30m]\u001b[0m\u001b[1;93m - \u001b[0m\u001b[3;94mstep\u001b[0m=\u001b[35m2100\u001b[0m \u001b[3;94mloss\u001b[0m=\u001b[35m1\u001b[0m\u001b[35m.1366\u001b[0m \u001b[3;94mdt\u001b[0m=\u001b[35m26\u001b[0m\u001b[35m.6770\u001b[0m \u001b[3;94mdtf\u001b[0m=\u001b[35m8\u001b[0m\u001b[35m.7141\u001b[0m \u001b[3;94mdtb\u001b[0m=\u001b[35m14\u001b[0m\u001b[35m.5502\u001b[0m \u001b[3;94msps\u001b[0m=\u001b[35m37\u001b[0m\u001b[35m.4855\u001b[0m \u001b[3;94mmtps\u001b[0m=\u001b[35m0\u001b[0m\u001b[35m.6142\u001b[0m \u001b[3;94mmfu\u001b[0m=\u001b[35m14\u001b[0m\u001b[35m.1467\u001b[0m \u001b[3;94mtrain_loss\u001b[0m=\u001b[35m1\u001b[0m\u001b[35m.0544\u001b[0m \u001b[3;94mval_loss\u001b[0m=\u001b[35m1\u001b[0m\u001b[35m.4728\u001b[0m\n"
            ],
            "text/html": [
              "<pre style=\"white-space:pre;overflow-x:auto;line-height:normal;font-family:Menlo,'DejaVu Sans Mono',consolas,'Courier New',monospace\"><span style=\"color: #000000; text-decoration-color: #000000\">[</span><span style=\"color: #808080; text-decoration-color: #808080\">2024-02-06 14:15:42</span><span style=\"color: #000000; text-decoration-color: #000000\">][</span><span style=\"color: #008000; text-decoration-color: #008000; font-weight: bold\">INFO</span><span style=\"color: #000000; text-decoration-color: #000000\">][</span><span style=\"color: #008080; text-decoration-color: #008080; font-style: italic\">trainer</span><span style=\"color: #00ff00; text-decoration-color: #00ff00\">:</span><span style=\"color: #000000; text-decoration-color: #000000\">768</span><span style=\"color: #000000; text-decoration-color: #000000\">]</span><span style=\"color: #ffff00; text-decoration-color: #ffff00; font-weight: bold\"> - </span><span style=\"color: #0000ff; text-decoration-color: #0000ff; font-style: italic\">step</span>=<span style=\"color: #800080; text-decoration-color: #800080\">2100</span> <span style=\"color: #0000ff; text-decoration-color: #0000ff; font-style: italic\">loss</span>=<span style=\"color: #800080; text-decoration-color: #800080\">1.1366</span> <span style=\"color: #0000ff; text-decoration-color: #0000ff; font-style: italic\">dt</span>=<span style=\"color: #800080; text-decoration-color: #800080\">26.6770</span> <span style=\"color: #0000ff; text-decoration-color: #0000ff; font-style: italic\">dtf</span>=<span style=\"color: #800080; text-decoration-color: #800080\">8.7141</span> <span style=\"color: #0000ff; text-decoration-color: #0000ff; font-style: italic\">dtb</span>=<span style=\"color: #800080; text-decoration-color: #800080\">14.5502</span> <span style=\"color: #0000ff; text-decoration-color: #0000ff; font-style: italic\">sps</span>=<span style=\"color: #800080; text-decoration-color: #800080\">37.4855</span> <span style=\"color: #0000ff; text-decoration-color: #0000ff; font-style: italic\">mtps</span>=<span style=\"color: #800080; text-decoration-color: #800080\">0.6142</span> <span style=\"color: #0000ff; text-decoration-color: #0000ff; font-style: italic\">mfu</span>=<span style=\"color: #800080; text-decoration-color: #800080\">14.1467</span> <span style=\"color: #0000ff; text-decoration-color: #0000ff; font-style: italic\">train_loss</span>=<span style=\"color: #800080; text-decoration-color: #800080\">1.0544</span> <span style=\"color: #0000ff; text-decoration-color: #0000ff; font-style: italic\">val_loss</span>=<span style=\"color: #800080; text-decoration-color: #800080\">1.4728</span>\n",
              "</pre>\n"
            ]
          },
          "metadata": {}
        },
        {
          "output_type": "stream",
          "name": "stderr",
          "text": [
            " 44%|████▍     | 2197/5000 [01:22<01:15, 37.35it/s]"
          ]
        },
        {
          "output_type": "display_data",
          "data": {
            "text/plain": [
              "\u001b[30m[\u001b[0m\u001b[90m2024-02-06 \u001b[0m\u001b[90m14:15:45\u001b[0m\u001b[30m]\u001b[0m\u001b[30m[\u001b[0m\u001b[1;32mINFO\u001b[0m\u001b[30m]\u001b[0m\u001b[30m[\u001b[0m\u001b[3;36mtrainer\u001b[0m\u001b[92m:\u001b[0m\u001b[30m768\u001b[0m\u001b[30m]\u001b[0m\u001b[1;93m - \u001b[0m\u001b[3;94mstep\u001b[0m=\u001b[35m2200\u001b[0m \u001b[3;94mloss\u001b[0m=\u001b[35m1\u001b[0m\u001b[35m.1251\u001b[0m \u001b[3;94mdt\u001b[0m=\u001b[35m27\u001b[0m\u001b[35m.0395\u001b[0m \u001b[3;94mdtf\u001b[0m=\u001b[35m8\u001b[0m\u001b[35m.9586\u001b[0m \u001b[3;94mdtb\u001b[0m=\u001b[35m14\u001b[0m\u001b[35m.7055\u001b[0m \u001b[3;94msps\u001b[0m=\u001b[35m36\u001b[0m\u001b[35m.9829\u001b[0m \u001b[3;94mmtps\u001b[0m=\u001b[35m0\u001b[0m\u001b[35m.6059\u001b[0m \u001b[3;94mmfu\u001b[0m=\u001b[35m14\u001b[0m\u001b[35m.1101\u001b[0m \u001b[3;94mtrain_loss\u001b[0m=\u001b[35m1\u001b[0m\u001b[35m.0544\u001b[0m \u001b[3;94mval_loss\u001b[0m=\u001b[35m1\u001b[0m\u001b[35m.4728\u001b[0m\n"
            ],
            "text/html": [
              "<pre style=\"white-space:pre;overflow-x:auto;line-height:normal;font-family:Menlo,'DejaVu Sans Mono',consolas,'Courier New',monospace\"><span style=\"color: #000000; text-decoration-color: #000000\">[</span><span style=\"color: #808080; text-decoration-color: #808080\">2024-02-06 14:15:45</span><span style=\"color: #000000; text-decoration-color: #000000\">][</span><span style=\"color: #008000; text-decoration-color: #008000; font-weight: bold\">INFO</span><span style=\"color: #000000; text-decoration-color: #000000\">][</span><span style=\"color: #008080; text-decoration-color: #008080; font-style: italic\">trainer</span><span style=\"color: #00ff00; text-decoration-color: #00ff00\">:</span><span style=\"color: #000000; text-decoration-color: #000000\">768</span><span style=\"color: #000000; text-decoration-color: #000000\">]</span><span style=\"color: #ffff00; text-decoration-color: #ffff00; font-weight: bold\"> - </span><span style=\"color: #0000ff; text-decoration-color: #0000ff; font-style: italic\">step</span>=<span style=\"color: #800080; text-decoration-color: #800080\">2200</span> <span style=\"color: #0000ff; text-decoration-color: #0000ff; font-style: italic\">loss</span>=<span style=\"color: #800080; text-decoration-color: #800080\">1.1251</span> <span style=\"color: #0000ff; text-decoration-color: #0000ff; font-style: italic\">dt</span>=<span style=\"color: #800080; text-decoration-color: #800080\">27.0395</span> <span style=\"color: #0000ff; text-decoration-color: #0000ff; font-style: italic\">dtf</span>=<span style=\"color: #800080; text-decoration-color: #800080\">8.9586</span> <span style=\"color: #0000ff; text-decoration-color: #0000ff; font-style: italic\">dtb</span>=<span style=\"color: #800080; text-decoration-color: #800080\">14.7055</span> <span style=\"color: #0000ff; text-decoration-color: #0000ff; font-style: italic\">sps</span>=<span style=\"color: #800080; text-decoration-color: #800080\">36.9829</span> <span style=\"color: #0000ff; text-decoration-color: #0000ff; font-style: italic\">mtps</span>=<span style=\"color: #800080; text-decoration-color: #800080\">0.6059</span> <span style=\"color: #0000ff; text-decoration-color: #0000ff; font-style: italic\">mfu</span>=<span style=\"color: #800080; text-decoration-color: #800080\">14.1101</span> <span style=\"color: #0000ff; text-decoration-color: #0000ff; font-style: italic\">train_loss</span>=<span style=\"color: #800080; text-decoration-color: #800080\">1.0544</span> <span style=\"color: #0000ff; text-decoration-color: #0000ff; font-style: italic\">val_loss</span>=<span style=\"color: #800080; text-decoration-color: #800080\">1.4728</span>\n",
              "</pre>\n"
            ]
          },
          "metadata": {}
        },
        {
          "output_type": "stream",
          "name": "stderr",
          "text": [
            " 46%|████▌     | 2297/5000 [01:24<01:13, 37.02it/s]"
          ]
        },
        {
          "output_type": "display_data",
          "data": {
            "text/plain": [
              "\u001b[30m[\u001b[0m\u001b[90m2024-02-06 \u001b[0m\u001b[90m14:15:47\u001b[0m\u001b[30m]\u001b[0m\u001b[30m[\u001b[0m\u001b[1;32mINFO\u001b[0m\u001b[30m]\u001b[0m\u001b[30m[\u001b[0m\u001b[3;36mtrainer\u001b[0m\u001b[92m:\u001b[0m\u001b[30m768\u001b[0m\u001b[30m]\u001b[0m\u001b[1;93m - \u001b[0m\u001b[3;94mstep\u001b[0m=\u001b[35m2300\u001b[0m \u001b[3;94mloss\u001b[0m=\u001b[35m1\u001b[0m\u001b[35m.1285\u001b[0m \u001b[3;94mdt\u001b[0m=\u001b[35m25\u001b[0m\u001b[35m.7720\u001b[0m \u001b[3;94mdtf\u001b[0m=\u001b[35m8\u001b[0m\u001b[35m.4595\u001b[0m \u001b[3;94mdtb\u001b[0m=\u001b[35m14\u001b[0m\u001b[35m.0766\u001b[0m \u001b[3;94msps\u001b[0m=\u001b[35m38\u001b[0m\u001b[35m.8018\u001b[0m \u001b[3;94mmtps\u001b[0m=\u001b[35m0\u001b[0m\u001b[35m.6357\u001b[0m \u001b[3;94mmfu\u001b[0m=\u001b[35m14\u001b[0m\u001b[35m.1449\u001b[0m \u001b[3;94mtrain_loss\u001b[0m=\u001b[35m1\u001b[0m\u001b[35m.0544\u001b[0m \u001b[3;94mval_loss\u001b[0m=\u001b[35m1\u001b[0m\u001b[35m.4728\u001b[0m\n"
            ],
            "text/html": [
              "<pre style=\"white-space:pre;overflow-x:auto;line-height:normal;font-family:Menlo,'DejaVu Sans Mono',consolas,'Courier New',monospace\"><span style=\"color: #000000; text-decoration-color: #000000\">[</span><span style=\"color: #808080; text-decoration-color: #808080\">2024-02-06 14:15:47</span><span style=\"color: #000000; text-decoration-color: #000000\">][</span><span style=\"color: #008000; text-decoration-color: #008000; font-weight: bold\">INFO</span><span style=\"color: #000000; text-decoration-color: #000000\">][</span><span style=\"color: #008080; text-decoration-color: #008080; font-style: italic\">trainer</span><span style=\"color: #00ff00; text-decoration-color: #00ff00\">:</span><span style=\"color: #000000; text-decoration-color: #000000\">768</span><span style=\"color: #000000; text-decoration-color: #000000\">]</span><span style=\"color: #ffff00; text-decoration-color: #ffff00; font-weight: bold\"> - </span><span style=\"color: #0000ff; text-decoration-color: #0000ff; font-style: italic\">step</span>=<span style=\"color: #800080; text-decoration-color: #800080\">2300</span> <span style=\"color: #0000ff; text-decoration-color: #0000ff; font-style: italic\">loss</span>=<span style=\"color: #800080; text-decoration-color: #800080\">1.1285</span> <span style=\"color: #0000ff; text-decoration-color: #0000ff; font-style: italic\">dt</span>=<span style=\"color: #800080; text-decoration-color: #800080\">25.7720</span> <span style=\"color: #0000ff; text-decoration-color: #0000ff; font-style: italic\">dtf</span>=<span style=\"color: #800080; text-decoration-color: #800080\">8.4595</span> <span style=\"color: #0000ff; text-decoration-color: #0000ff; font-style: italic\">dtb</span>=<span style=\"color: #800080; text-decoration-color: #800080\">14.0766</span> <span style=\"color: #0000ff; text-decoration-color: #0000ff; font-style: italic\">sps</span>=<span style=\"color: #800080; text-decoration-color: #800080\">38.8018</span> <span style=\"color: #0000ff; text-decoration-color: #0000ff; font-style: italic\">mtps</span>=<span style=\"color: #800080; text-decoration-color: #800080\">0.6357</span> <span style=\"color: #0000ff; text-decoration-color: #0000ff; font-style: italic\">mfu</span>=<span style=\"color: #800080; text-decoration-color: #800080\">14.1449</span> <span style=\"color: #0000ff; text-decoration-color: #0000ff; font-style: italic\">train_loss</span>=<span style=\"color: #800080; text-decoration-color: #800080\">1.0544</span> <span style=\"color: #0000ff; text-decoration-color: #0000ff; font-style: italic\">val_loss</span>=<span style=\"color: #800080; text-decoration-color: #800080\">1.4728</span>\n",
              "</pre>\n"
            ]
          },
          "metadata": {}
        },
        {
          "output_type": "stream",
          "name": "stderr",
          "text": [
            " 48%|████▊     | 2397/5000 [01:27<01:08, 37.97it/s]"
          ]
        },
        {
          "output_type": "display_data",
          "data": {
            "text/plain": [
              "\u001b[30m[\u001b[0m\u001b[90m2024-02-06 \u001b[0m\u001b[90m14:15:50\u001b[0m\u001b[30m]\u001b[0m\u001b[30m[\u001b[0m\u001b[1;32mINFO\u001b[0m\u001b[30m]\u001b[0m\u001b[30m[\u001b[0m\u001b[3;36mtrainer\u001b[0m\u001b[92m:\u001b[0m\u001b[30m768\u001b[0m\u001b[30m]\u001b[0m\u001b[1;93m - \u001b[0m\u001b[3;94mstep\u001b[0m=\u001b[35m2400\u001b[0m \u001b[3;94mloss\u001b[0m=\u001b[35m1\u001b[0m\u001b[35m.0860\u001b[0m \u001b[3;94mdt\u001b[0m=\u001b[35m25\u001b[0m\u001b[35m.3362\u001b[0m \u001b[3;94mdtf\u001b[0m=\u001b[35m8\u001b[0m\u001b[35m.3589\u001b[0m \u001b[3;94mdtb\u001b[0m=\u001b[35m13\u001b[0m\u001b[35m.7679\u001b[0m \u001b[3;94msps\u001b[0m=\u001b[35m39\u001b[0m\u001b[35m.4693\u001b[0m \u001b[3;94mmtps\u001b[0m=\u001b[35m0\u001b[0m\u001b[35m.6467\u001b[0m \u001b[3;94mmfu\u001b[0m=\u001b[35m14\u001b[0m\u001b[35m.2012\u001b[0m \u001b[3;94mtrain_loss\u001b[0m=\u001b[35m1\u001b[0m\u001b[35m.0544\u001b[0m \u001b[3;94mval_loss\u001b[0m=\u001b[35m1\u001b[0m\u001b[35m.4728\u001b[0m\n"
            ],
            "text/html": [
              "<pre style=\"white-space:pre;overflow-x:auto;line-height:normal;font-family:Menlo,'DejaVu Sans Mono',consolas,'Courier New',monospace\"><span style=\"color: #000000; text-decoration-color: #000000\">[</span><span style=\"color: #808080; text-decoration-color: #808080\">2024-02-06 14:15:50</span><span style=\"color: #000000; text-decoration-color: #000000\">][</span><span style=\"color: #008000; text-decoration-color: #008000; font-weight: bold\">INFO</span><span style=\"color: #000000; text-decoration-color: #000000\">][</span><span style=\"color: #008080; text-decoration-color: #008080; font-style: italic\">trainer</span><span style=\"color: #00ff00; text-decoration-color: #00ff00\">:</span><span style=\"color: #000000; text-decoration-color: #000000\">768</span><span style=\"color: #000000; text-decoration-color: #000000\">]</span><span style=\"color: #ffff00; text-decoration-color: #ffff00; font-weight: bold\"> - </span><span style=\"color: #0000ff; text-decoration-color: #0000ff; font-style: italic\">step</span>=<span style=\"color: #800080; text-decoration-color: #800080\">2400</span> <span style=\"color: #0000ff; text-decoration-color: #0000ff; font-style: italic\">loss</span>=<span style=\"color: #800080; text-decoration-color: #800080\">1.0860</span> <span style=\"color: #0000ff; text-decoration-color: #0000ff; font-style: italic\">dt</span>=<span style=\"color: #800080; text-decoration-color: #800080\">25.3362</span> <span style=\"color: #0000ff; text-decoration-color: #0000ff; font-style: italic\">dtf</span>=<span style=\"color: #800080; text-decoration-color: #800080\">8.3589</span> <span style=\"color: #0000ff; text-decoration-color: #0000ff; font-style: italic\">dtb</span>=<span style=\"color: #800080; text-decoration-color: #800080\">13.7679</span> <span style=\"color: #0000ff; text-decoration-color: #0000ff; font-style: italic\">sps</span>=<span style=\"color: #800080; text-decoration-color: #800080\">39.4693</span> <span style=\"color: #0000ff; text-decoration-color: #0000ff; font-style: italic\">mtps</span>=<span style=\"color: #800080; text-decoration-color: #800080\">0.6467</span> <span style=\"color: #0000ff; text-decoration-color: #0000ff; font-style: italic\">mfu</span>=<span style=\"color: #800080; text-decoration-color: #800080\">14.2012</span> <span style=\"color: #0000ff; text-decoration-color: #0000ff; font-style: italic\">train_loss</span>=<span style=\"color: #800080; text-decoration-color: #800080\">1.0544</span> <span style=\"color: #0000ff; text-decoration-color: #0000ff; font-style: italic\">val_loss</span>=<span style=\"color: #800080; text-decoration-color: #800080\">1.4728</span>\n",
              "</pre>\n"
            ]
          },
          "metadata": {}
        },
        {
          "output_type": "stream",
          "name": "stderr",
          "text": [
            " 50%|████▉     | 2497/5000 [01:30<01:06, 37.58it/s]"
          ]
        },
        {
          "output_type": "display_data",
          "data": {
            "text/plain": [
              "\u001b[30m[\u001b[0m\u001b[90m2024-02-06 \u001b[0m\u001b[90m14:15:53\u001b[0m\u001b[30m]\u001b[0m\u001b[30m[\u001b[0m\u001b[1;32mINFO\u001b[0m\u001b[30m]\u001b[0m\u001b[30m[\u001b[0m\u001b[3;36mtrainer\u001b[0m\u001b[92m:\u001b[0m\u001b[30m768\u001b[0m\u001b[30m]\u001b[0m\u001b[1;93m - \u001b[0m\u001b[3;94mstep\u001b[0m=\u001b[35m2500\u001b[0m \u001b[3;94mloss\u001b[0m=\u001b[35m1\u001b[0m\u001b[35m.1061\u001b[0m \u001b[3;94mdt\u001b[0m=\u001b[35m26\u001b[0m\u001b[35m.4002\u001b[0m \u001b[3;94mdtf\u001b[0m=\u001b[35m8\u001b[0m\u001b[35m.7603\u001b[0m \u001b[3;94mdtb\u001b[0m=\u001b[35m14\u001b[0m\u001b[35m.3112\u001b[0m \u001b[3;94msps\u001b[0m=\u001b[35m37\u001b[0m\u001b[35m.8785\u001b[0m \u001b[3;94mmtps\u001b[0m=\u001b[35m0\u001b[0m\u001b[35m.6206\u001b[0m \u001b[3;94mmfu\u001b[0m=\u001b[35m14\u001b[0m\u001b[35m.1925\u001b[0m \u001b[3;94mtrain_loss\u001b[0m=\u001b[35m1\u001b[0m\u001b[35m.0544\u001b[0m \u001b[3;94mval_loss\u001b[0m=\u001b[35m1\u001b[0m\u001b[35m.4728\u001b[0m\n"
            ],
            "text/html": [
              "<pre style=\"white-space:pre;overflow-x:auto;line-height:normal;font-family:Menlo,'DejaVu Sans Mono',consolas,'Courier New',monospace\"><span style=\"color: #000000; text-decoration-color: #000000\">[</span><span style=\"color: #808080; text-decoration-color: #808080\">2024-02-06 14:15:53</span><span style=\"color: #000000; text-decoration-color: #000000\">][</span><span style=\"color: #008000; text-decoration-color: #008000; font-weight: bold\">INFO</span><span style=\"color: #000000; text-decoration-color: #000000\">][</span><span style=\"color: #008080; text-decoration-color: #008080; font-style: italic\">trainer</span><span style=\"color: #00ff00; text-decoration-color: #00ff00\">:</span><span style=\"color: #000000; text-decoration-color: #000000\">768</span><span style=\"color: #000000; text-decoration-color: #000000\">]</span><span style=\"color: #ffff00; text-decoration-color: #ffff00; font-weight: bold\"> - </span><span style=\"color: #0000ff; text-decoration-color: #0000ff; font-style: italic\">step</span>=<span style=\"color: #800080; text-decoration-color: #800080\">2500</span> <span style=\"color: #0000ff; text-decoration-color: #0000ff; font-style: italic\">loss</span>=<span style=\"color: #800080; text-decoration-color: #800080\">1.1061</span> <span style=\"color: #0000ff; text-decoration-color: #0000ff; font-style: italic\">dt</span>=<span style=\"color: #800080; text-decoration-color: #800080\">26.4002</span> <span style=\"color: #0000ff; text-decoration-color: #0000ff; font-style: italic\">dtf</span>=<span style=\"color: #800080; text-decoration-color: #800080\">8.7603</span> <span style=\"color: #0000ff; text-decoration-color: #0000ff; font-style: italic\">dtb</span>=<span style=\"color: #800080; text-decoration-color: #800080\">14.3112</span> <span style=\"color: #0000ff; text-decoration-color: #0000ff; font-style: italic\">sps</span>=<span style=\"color: #800080; text-decoration-color: #800080\">37.8785</span> <span style=\"color: #0000ff; text-decoration-color: #0000ff; font-style: italic\">mtps</span>=<span style=\"color: #800080; text-decoration-color: #800080\">0.6206</span> <span style=\"color: #0000ff; text-decoration-color: #0000ff; font-style: italic\">mfu</span>=<span style=\"color: #800080; text-decoration-color: #800080\">14.1925</span> <span style=\"color: #0000ff; text-decoration-color: #0000ff; font-style: italic\">train_loss</span>=<span style=\"color: #800080; text-decoration-color: #800080\">1.0544</span> <span style=\"color: #0000ff; text-decoration-color: #0000ff; font-style: italic\">val_loss</span>=<span style=\"color: #800080; text-decoration-color: #800080\">1.4728</span>\n",
              "</pre>\n"
            ]
          },
          "metadata": {}
        },
        {
          "output_type": "display_data",
          "data": {
            "text/plain": [
              "\u001b[30m[\u001b[0m\u001b[90m2024-02-06 \u001b[0m\u001b[90m14:15:57\u001b[0m\u001b[30m]\u001b[0m\u001b[30m[\u001b[0m\u001b[1;32mINFO\u001b[0m\u001b[30m]\u001b[0m\u001b[30m[\u001b[0m\u001b[3;36mtrainer\u001b[0m\u001b[92m:\u001b[0m\u001b[30m666\u001b[0m\u001b[30m]\u001b[0m\u001b[1;93m - \u001b[0mSaving checkpoint to: \u001b[32m/\u001b[0m\u001b[35mcontent\u001b[0m\n"
            ],
            "text/html": [
              "<pre style=\"white-space:pre;overflow-x:auto;line-height:normal;font-family:Menlo,'DejaVu Sans Mono',consolas,'Courier New',monospace\"><span style=\"color: #000000; text-decoration-color: #000000\">[</span><span style=\"color: #808080; text-decoration-color: #808080\">2024-02-06 14:15:57</span><span style=\"color: #000000; text-decoration-color: #000000\">][</span><span style=\"color: #008000; text-decoration-color: #008000; font-weight: bold\">INFO</span><span style=\"color: #000000; text-decoration-color: #000000\">][</span><span style=\"color: #008080; text-decoration-color: #008080; font-style: italic\">trainer</span><span style=\"color: #00ff00; text-decoration-color: #00ff00\">:</span><span style=\"color: #000000; text-decoration-color: #000000\">666</span><span style=\"color: #000000; text-decoration-color: #000000\">]</span><span style=\"color: #ffff00; text-decoration-color: #ffff00; font-weight: bold\"> - </span>Saving checkpoint to: <span style=\"color: #008000; text-decoration-color: #008000\">/</span><span style=\"color: #800080; text-decoration-color: #800080\">content</span>\n",
              "</pre>\n"
            ]
          },
          "metadata": {}
        },
        {
          "output_type": "display_data",
          "data": {
            "text/plain": [
              "\u001b[30m[\u001b[0m\u001b[90m2024-02-06 \u001b[0m\u001b[90m14:15:57\u001b[0m\u001b[30m]\u001b[0m\u001b[30m[\u001b[0m\u001b[1;32mINFO\u001b[0m\u001b[30m]\u001b[0m\u001b[30m[\u001b[0m\u001b[3;36mtrainer\u001b[0m\u001b[92m:\u001b[0m\u001b[30m667\u001b[0m\u001b[30m]\u001b[0m\u001b[1;93m - \u001b[0mSaving model to: \u001b[32m/content/\u001b[0m\u001b[35mmodel.pth\u001b[0m\n"
            ],
            "text/html": [
              "<pre style=\"white-space:pre;overflow-x:auto;line-height:normal;font-family:Menlo,'DejaVu Sans Mono',consolas,'Courier New',monospace\"><span style=\"color: #000000; text-decoration-color: #000000\">[</span><span style=\"color: #808080; text-decoration-color: #808080\">2024-02-06 14:15:57</span><span style=\"color: #000000; text-decoration-color: #000000\">][</span><span style=\"color: #008000; text-decoration-color: #008000; font-weight: bold\">INFO</span><span style=\"color: #000000; text-decoration-color: #000000\">][</span><span style=\"color: #008080; text-decoration-color: #008080; font-style: italic\">trainer</span><span style=\"color: #00ff00; text-decoration-color: #00ff00\">:</span><span style=\"color: #000000; text-decoration-color: #000000\">667</span><span style=\"color: #000000; text-decoration-color: #000000\">]</span><span style=\"color: #ffff00; text-decoration-color: #ffff00; font-weight: bold\"> - </span>Saving model to: <span style=\"color: #008000; text-decoration-color: #008000\">/content/</span><span style=\"color: #800080; text-decoration-color: #800080\">model.pth</span>\n",
              "</pre>\n"
            ]
          },
          "metadata": {}
        },
        {
          "output_type": "display_data",
          "data": {
            "text/plain": [
              "\u001b[30m[\u001b[0m\u001b[90m2024-02-06 \u001b[0m\u001b[90m14:15:57\u001b[0m\u001b[30m]\u001b[0m\u001b[30m[\u001b[0m\u001b[1;32mINFO\u001b[0m\u001b[30m]\u001b[0m\u001b[30m[\u001b[0m\u001b[3;36mconfigs\u001b[0m\u001b[92m:\u001b[0m\u001b[30m132\u001b[0m\u001b[30m]\u001b[0m\u001b[1;93m - \u001b[0mAppending \u001b[32m/\u001b[0m\u001b[35mcontent\u001b[0m to \u001b[32m/content/wordplay/src/ckpts/\u001b[0m\u001b[35mcheckpoints.log\u001b[0m\n"
            ],
            "text/html": [
              "<pre style=\"white-space:pre;overflow-x:auto;line-height:normal;font-family:Menlo,'DejaVu Sans Mono',consolas,'Courier New',monospace\"><span style=\"color: #000000; text-decoration-color: #000000\">[</span><span style=\"color: #808080; text-decoration-color: #808080\">2024-02-06 14:15:57</span><span style=\"color: #000000; text-decoration-color: #000000\">][</span><span style=\"color: #008000; text-decoration-color: #008000; font-weight: bold\">INFO</span><span style=\"color: #000000; text-decoration-color: #000000\">][</span><span style=\"color: #008080; text-decoration-color: #008080; font-style: italic\">configs</span><span style=\"color: #00ff00; text-decoration-color: #00ff00\">:</span><span style=\"color: #000000; text-decoration-color: #000000\">132</span><span style=\"color: #000000; text-decoration-color: #000000\">]</span><span style=\"color: #ffff00; text-decoration-color: #ffff00; font-weight: bold\"> - </span>Appending <span style=\"color: #008000; text-decoration-color: #008000\">/</span><span style=\"color: #800080; text-decoration-color: #800080\">content</span> to <span style=\"color: #008000; text-decoration-color: #008000\">/content/wordplay/src/ckpts/</span><span style=\"color: #800080; text-decoration-color: #800080\">checkpoints.log</span>\n",
              "</pre>\n"
            ]
          },
          "metadata": {}
        },
        {
          "output_type": "stream",
          "name": "stderr",
          "text": [
            " 52%|█████▏    | 2597/5000 [01:37<01:04, 37.24it/s]"
          ]
        },
        {
          "output_type": "display_data",
          "data": {
            "text/plain": [
              "\u001b[30m[\u001b[0m\u001b[90m2024-02-06 \u001b[0m\u001b[90m14:16:00\u001b[0m\u001b[30m]\u001b[0m\u001b[30m[\u001b[0m\u001b[1;32mINFO\u001b[0m\u001b[30m]\u001b[0m\u001b[30m[\u001b[0m\u001b[3;36mtrainer\u001b[0m\u001b[92m:\u001b[0m\u001b[30m768\u001b[0m\u001b[30m]\u001b[0m\u001b[1;93m - \u001b[0m\u001b[3;94mstep\u001b[0m=\u001b[35m2600\u001b[0m \u001b[3;94mloss\u001b[0m=\u001b[35m1\u001b[0m\u001b[35m.0517\u001b[0m \u001b[3;94mdt\u001b[0m=\u001b[35m26\u001b[0m\u001b[35m.8051\u001b[0m \u001b[3;94mdtf\u001b[0m=\u001b[35m8\u001b[0m\u001b[35m.6102\u001b[0m \u001b[3;94mdtb\u001b[0m=\u001b[35m14\u001b[0m\u001b[35m.7650\u001b[0m \u001b[3;94msps\u001b[0m=\u001b[35m37\u001b[0m\u001b[35m.3063\u001b[0m \u001b[3;94mmtps\u001b[0m=\u001b[35m0\u001b[0m\u001b[35m.6112\u001b[0m \u001b[3;94mmfu\u001b[0m=\u001b[35m14\u001b[0m\u001b[35m.1634\u001b[0m \u001b[3;94mtrain_loss\u001b[0m=\u001b[35m0\u001b[0m\u001b[35m.9546\u001b[0m \u001b[3;94mval_loss\u001b[0m=\u001b[35m1\u001b[0m\u001b[35m.4927\u001b[0m\n"
            ],
            "text/html": [
              "<pre style=\"white-space:pre;overflow-x:auto;line-height:normal;font-family:Menlo,'DejaVu Sans Mono',consolas,'Courier New',monospace\"><span style=\"color: #000000; text-decoration-color: #000000\">[</span><span style=\"color: #808080; text-decoration-color: #808080\">2024-02-06 14:16:00</span><span style=\"color: #000000; text-decoration-color: #000000\">][</span><span style=\"color: #008000; text-decoration-color: #008000; font-weight: bold\">INFO</span><span style=\"color: #000000; text-decoration-color: #000000\">][</span><span style=\"color: #008080; text-decoration-color: #008080; font-style: italic\">trainer</span><span style=\"color: #00ff00; text-decoration-color: #00ff00\">:</span><span style=\"color: #000000; text-decoration-color: #000000\">768</span><span style=\"color: #000000; text-decoration-color: #000000\">]</span><span style=\"color: #ffff00; text-decoration-color: #ffff00; font-weight: bold\"> - </span><span style=\"color: #0000ff; text-decoration-color: #0000ff; font-style: italic\">step</span>=<span style=\"color: #800080; text-decoration-color: #800080\">2600</span> <span style=\"color: #0000ff; text-decoration-color: #0000ff; font-style: italic\">loss</span>=<span style=\"color: #800080; text-decoration-color: #800080\">1.0517</span> <span style=\"color: #0000ff; text-decoration-color: #0000ff; font-style: italic\">dt</span>=<span style=\"color: #800080; text-decoration-color: #800080\">26.8051</span> <span style=\"color: #0000ff; text-decoration-color: #0000ff; font-style: italic\">dtf</span>=<span style=\"color: #800080; text-decoration-color: #800080\">8.6102</span> <span style=\"color: #0000ff; text-decoration-color: #0000ff; font-style: italic\">dtb</span>=<span style=\"color: #800080; text-decoration-color: #800080\">14.7650</span> <span style=\"color: #0000ff; text-decoration-color: #0000ff; font-style: italic\">sps</span>=<span style=\"color: #800080; text-decoration-color: #800080\">37.3063</span> <span style=\"color: #0000ff; text-decoration-color: #0000ff; font-style: italic\">mtps</span>=<span style=\"color: #800080; text-decoration-color: #800080\">0.6112</span> <span style=\"color: #0000ff; text-decoration-color: #0000ff; font-style: italic\">mfu</span>=<span style=\"color: #800080; text-decoration-color: #800080\">14.1634</span> <span style=\"color: #0000ff; text-decoration-color: #0000ff; font-style: italic\">train_loss</span>=<span style=\"color: #800080; text-decoration-color: #800080\">0.9546</span> <span style=\"color: #0000ff; text-decoration-color: #0000ff; font-style: italic\">val_loss</span>=<span style=\"color: #800080; text-decoration-color: #800080\">1.4927</span>\n",
              "</pre>\n"
            ]
          },
          "metadata": {}
        },
        {
          "output_type": "stream",
          "name": "stderr",
          "text": [
            " 54%|█████▍    | 2697/5000 [01:40<01:03, 36.21it/s]"
          ]
        },
        {
          "output_type": "display_data",
          "data": {
            "text/plain": [
              "\u001b[30m[\u001b[0m\u001b[90m2024-02-06 \u001b[0m\u001b[90m14:16:03\u001b[0m\u001b[30m]\u001b[0m\u001b[30m[\u001b[0m\u001b[1;32mINFO\u001b[0m\u001b[30m]\u001b[0m\u001b[30m[\u001b[0m\u001b[3;36mtrainer\u001b[0m\u001b[92m:\u001b[0m\u001b[30m768\u001b[0m\u001b[30m]\u001b[0m\u001b[1;93m - \u001b[0m\u001b[3;94mstep\u001b[0m=\u001b[35m2700\u001b[0m \u001b[3;94mloss\u001b[0m=\u001b[35m1\u001b[0m\u001b[35m.0342\u001b[0m \u001b[3;94mdt\u001b[0m=\u001b[35m26\u001b[0m\u001b[35m.8541\u001b[0m \u001b[3;94mdtf\u001b[0m=\u001b[35m8\u001b[0m\u001b[35m.6688\u001b[0m \u001b[3;94mdtb\u001b[0m=\u001b[35m14\u001b[0m\u001b[35m.6203\u001b[0m \u001b[3;94msps\u001b[0m=\u001b[35m37\u001b[0m\u001b[35m.2383\u001b[0m \u001b[3;94mmtps\u001b[0m=\u001b[35m0\u001b[0m\u001b[35m.6101\u001b[0m \u001b[3;94mmfu\u001b[0m=\u001b[35m14\u001b[0m\u001b[35m.1346\u001b[0m \u001b[3;94mtrain_loss\u001b[0m=\u001b[35m0\u001b[0m\u001b[35m.9546\u001b[0m \u001b[3;94mval_loss\u001b[0m=\u001b[35m1\u001b[0m\u001b[35m.4927\u001b[0m\n"
            ],
            "text/html": [
              "<pre style=\"white-space:pre;overflow-x:auto;line-height:normal;font-family:Menlo,'DejaVu Sans Mono',consolas,'Courier New',monospace\"><span style=\"color: #000000; text-decoration-color: #000000\">[</span><span style=\"color: #808080; text-decoration-color: #808080\">2024-02-06 14:16:03</span><span style=\"color: #000000; text-decoration-color: #000000\">][</span><span style=\"color: #008000; text-decoration-color: #008000; font-weight: bold\">INFO</span><span style=\"color: #000000; text-decoration-color: #000000\">][</span><span style=\"color: #008080; text-decoration-color: #008080; font-style: italic\">trainer</span><span style=\"color: #00ff00; text-decoration-color: #00ff00\">:</span><span style=\"color: #000000; text-decoration-color: #000000\">768</span><span style=\"color: #000000; text-decoration-color: #000000\">]</span><span style=\"color: #ffff00; text-decoration-color: #ffff00; font-weight: bold\"> - </span><span style=\"color: #0000ff; text-decoration-color: #0000ff; font-style: italic\">step</span>=<span style=\"color: #800080; text-decoration-color: #800080\">2700</span> <span style=\"color: #0000ff; text-decoration-color: #0000ff; font-style: italic\">loss</span>=<span style=\"color: #800080; text-decoration-color: #800080\">1.0342</span> <span style=\"color: #0000ff; text-decoration-color: #0000ff; font-style: italic\">dt</span>=<span style=\"color: #800080; text-decoration-color: #800080\">26.8541</span> <span style=\"color: #0000ff; text-decoration-color: #0000ff; font-style: italic\">dtf</span>=<span style=\"color: #800080; text-decoration-color: #800080\">8.6688</span> <span style=\"color: #0000ff; text-decoration-color: #0000ff; font-style: italic\">dtb</span>=<span style=\"color: #800080; text-decoration-color: #800080\">14.6203</span> <span style=\"color: #0000ff; text-decoration-color: #0000ff; font-style: italic\">sps</span>=<span style=\"color: #800080; text-decoration-color: #800080\">37.2383</span> <span style=\"color: #0000ff; text-decoration-color: #0000ff; font-style: italic\">mtps</span>=<span style=\"color: #800080; text-decoration-color: #800080\">0.6101</span> <span style=\"color: #0000ff; text-decoration-color: #0000ff; font-style: italic\">mfu</span>=<span style=\"color: #800080; text-decoration-color: #800080\">14.1346</span> <span style=\"color: #0000ff; text-decoration-color: #0000ff; font-style: italic\">train_loss</span>=<span style=\"color: #800080; text-decoration-color: #800080\">0.9546</span> <span style=\"color: #0000ff; text-decoration-color: #0000ff; font-style: italic\">val_loss</span>=<span style=\"color: #800080; text-decoration-color: #800080\">1.4927</span>\n",
              "</pre>\n"
            ]
          },
          "metadata": {}
        },
        {
          "output_type": "stream",
          "name": "stderr",
          "text": [
            " 56%|█████▌    | 2797/5000 [01:43<00:58, 37.63it/s]"
          ]
        },
        {
          "output_type": "display_data",
          "data": {
            "text/plain": [
              "\u001b[30m[\u001b[0m\u001b[90m2024-02-06 \u001b[0m\u001b[90m14:16:05\u001b[0m\u001b[30m]\u001b[0m\u001b[30m[\u001b[0m\u001b[1;32mINFO\u001b[0m\u001b[30m]\u001b[0m\u001b[30m[\u001b[0m\u001b[3;36mtrainer\u001b[0m\u001b[92m:\u001b[0m\u001b[30m768\u001b[0m\u001b[30m]\u001b[0m\u001b[1;93m - \u001b[0m\u001b[3;94mstep\u001b[0m=\u001b[35m2800\u001b[0m \u001b[3;94mloss\u001b[0m=\u001b[35m1\u001b[0m\u001b[35m.0145\u001b[0m \u001b[3;94mdt\u001b[0m=\u001b[35m26\u001b[0m\u001b[35m.3650\u001b[0m \u001b[3;94mdtf\u001b[0m=\u001b[35m8\u001b[0m\u001b[35m.4137\u001b[0m \u001b[3;94mdtb\u001b[0m=\u001b[35m14\u001b[0m\u001b[35m.8203\u001b[0m \u001b[3;94msps\u001b[0m=\u001b[35m37\u001b[0m\u001b[35m.9291\u001b[0m \u001b[3;94mmtps\u001b[0m=\u001b[35m0\u001b[0m\u001b[35m.6214\u001b[0m \u001b[3;94mmfu\u001b[0m=\u001b[35m14\u001b[0m\u001b[35m.1345\u001b[0m \u001b[3;94mtrain_loss\u001b[0m=\u001b[35m0\u001b[0m\u001b[35m.9546\u001b[0m \u001b[3;94mval_loss\u001b[0m=\u001b[35m1\u001b[0m\u001b[35m.4927\u001b[0m\n"
            ],
            "text/html": [
              "<pre style=\"white-space:pre;overflow-x:auto;line-height:normal;font-family:Menlo,'DejaVu Sans Mono',consolas,'Courier New',monospace\"><span style=\"color: #000000; text-decoration-color: #000000\">[</span><span style=\"color: #808080; text-decoration-color: #808080\">2024-02-06 14:16:05</span><span style=\"color: #000000; text-decoration-color: #000000\">][</span><span style=\"color: #008000; text-decoration-color: #008000; font-weight: bold\">INFO</span><span style=\"color: #000000; text-decoration-color: #000000\">][</span><span style=\"color: #008080; text-decoration-color: #008080; font-style: italic\">trainer</span><span style=\"color: #00ff00; text-decoration-color: #00ff00\">:</span><span style=\"color: #000000; text-decoration-color: #000000\">768</span><span style=\"color: #000000; text-decoration-color: #000000\">]</span><span style=\"color: #ffff00; text-decoration-color: #ffff00; font-weight: bold\"> - </span><span style=\"color: #0000ff; text-decoration-color: #0000ff; font-style: italic\">step</span>=<span style=\"color: #800080; text-decoration-color: #800080\">2800</span> <span style=\"color: #0000ff; text-decoration-color: #0000ff; font-style: italic\">loss</span>=<span style=\"color: #800080; text-decoration-color: #800080\">1.0145</span> <span style=\"color: #0000ff; text-decoration-color: #0000ff; font-style: italic\">dt</span>=<span style=\"color: #800080; text-decoration-color: #800080\">26.3650</span> <span style=\"color: #0000ff; text-decoration-color: #0000ff; font-style: italic\">dtf</span>=<span style=\"color: #800080; text-decoration-color: #800080\">8.4137</span> <span style=\"color: #0000ff; text-decoration-color: #0000ff; font-style: italic\">dtb</span>=<span style=\"color: #800080; text-decoration-color: #800080\">14.8203</span> <span style=\"color: #0000ff; text-decoration-color: #0000ff; font-style: italic\">sps</span>=<span style=\"color: #800080; text-decoration-color: #800080\">37.9291</span> <span style=\"color: #0000ff; text-decoration-color: #0000ff; font-style: italic\">mtps</span>=<span style=\"color: #800080; text-decoration-color: #800080\">0.6214</span> <span style=\"color: #0000ff; text-decoration-color: #0000ff; font-style: italic\">mfu</span>=<span style=\"color: #800080; text-decoration-color: #800080\">14.1345</span> <span style=\"color: #0000ff; text-decoration-color: #0000ff; font-style: italic\">train_loss</span>=<span style=\"color: #800080; text-decoration-color: #800080\">0.9546</span> <span style=\"color: #0000ff; text-decoration-color: #0000ff; font-style: italic\">val_loss</span>=<span style=\"color: #800080; text-decoration-color: #800080\">1.4927</span>\n",
              "</pre>\n"
            ]
          },
          "metadata": {}
        },
        {
          "output_type": "stream",
          "name": "stderr",
          "text": [
            " 58%|█████▊    | 2897/5000 [01:45<00:57, 36.82it/s]"
          ]
        },
        {
          "output_type": "display_data",
          "data": {
            "text/plain": [
              "\u001b[30m[\u001b[0m\u001b[90m2024-02-06 \u001b[0m\u001b[90m14:16:08\u001b[0m\u001b[30m]\u001b[0m\u001b[30m[\u001b[0m\u001b[1;32mINFO\u001b[0m\u001b[30m]\u001b[0m\u001b[30m[\u001b[0m\u001b[3;36mtrainer\u001b[0m\u001b[92m:\u001b[0m\u001b[30m768\u001b[0m\u001b[30m]\u001b[0m\u001b[1;93m - \u001b[0m\u001b[3;94mstep\u001b[0m=\u001b[35m2900\u001b[0m \u001b[3;94mloss\u001b[0m=\u001b[35m0\u001b[0m\u001b[35m.9980\u001b[0m \u001b[3;94mdt\u001b[0m=\u001b[35m25\u001b[0m\u001b[35m.7223\u001b[0m \u001b[3;94mdtf\u001b[0m=\u001b[35m8\u001b[0m\u001b[35m.4343\u001b[0m \u001b[3;94mdtb\u001b[0m=\u001b[35m14\u001b[0m\u001b[35m.0286\u001b[0m \u001b[3;94msps\u001b[0m=\u001b[35m38\u001b[0m\u001b[35m.8768\u001b[0m \u001b[3;94mmtps\u001b[0m=\u001b[35m0\u001b[0m\u001b[35m.6370\u001b[0m \u001b[3;94mmfu\u001b[0m=\u001b[35m14\u001b[0m\u001b[35m.1697\u001b[0m \u001b[3;94mtrain_loss\u001b[0m=\u001b[35m0\u001b[0m\u001b[35m.9546\u001b[0m \u001b[3;94mval_loss\u001b[0m=\u001b[35m1\u001b[0m\u001b[35m.4927\u001b[0m\n"
            ],
            "text/html": [
              "<pre style=\"white-space:pre;overflow-x:auto;line-height:normal;font-family:Menlo,'DejaVu Sans Mono',consolas,'Courier New',monospace\"><span style=\"color: #000000; text-decoration-color: #000000\">[</span><span style=\"color: #808080; text-decoration-color: #808080\">2024-02-06 14:16:08</span><span style=\"color: #000000; text-decoration-color: #000000\">][</span><span style=\"color: #008000; text-decoration-color: #008000; font-weight: bold\">INFO</span><span style=\"color: #000000; text-decoration-color: #000000\">][</span><span style=\"color: #008080; text-decoration-color: #008080; font-style: italic\">trainer</span><span style=\"color: #00ff00; text-decoration-color: #00ff00\">:</span><span style=\"color: #000000; text-decoration-color: #000000\">768</span><span style=\"color: #000000; text-decoration-color: #000000\">]</span><span style=\"color: #ffff00; text-decoration-color: #ffff00; font-weight: bold\"> - </span><span style=\"color: #0000ff; text-decoration-color: #0000ff; font-style: italic\">step</span>=<span style=\"color: #800080; text-decoration-color: #800080\">2900</span> <span style=\"color: #0000ff; text-decoration-color: #0000ff; font-style: italic\">loss</span>=<span style=\"color: #800080; text-decoration-color: #800080\">0.9980</span> <span style=\"color: #0000ff; text-decoration-color: #0000ff; font-style: italic\">dt</span>=<span style=\"color: #800080; text-decoration-color: #800080\">25.7223</span> <span style=\"color: #0000ff; text-decoration-color: #0000ff; font-style: italic\">dtf</span>=<span style=\"color: #800080; text-decoration-color: #800080\">8.4343</span> <span style=\"color: #0000ff; text-decoration-color: #0000ff; font-style: italic\">dtb</span>=<span style=\"color: #800080; text-decoration-color: #800080\">14.0286</span> <span style=\"color: #0000ff; text-decoration-color: #0000ff; font-style: italic\">sps</span>=<span style=\"color: #800080; text-decoration-color: #800080\">38.8768</span> <span style=\"color: #0000ff; text-decoration-color: #0000ff; font-style: italic\">mtps</span>=<span style=\"color: #800080; text-decoration-color: #800080\">0.6370</span> <span style=\"color: #0000ff; text-decoration-color: #0000ff; font-style: italic\">mfu</span>=<span style=\"color: #800080; text-decoration-color: #800080\">14.1697</span> <span style=\"color: #0000ff; text-decoration-color: #0000ff; font-style: italic\">train_loss</span>=<span style=\"color: #800080; text-decoration-color: #800080\">0.9546</span> <span style=\"color: #0000ff; text-decoration-color: #0000ff; font-style: italic\">val_loss</span>=<span style=\"color: #800080; text-decoration-color: #800080\">1.4927</span>\n",
              "</pre>\n"
            ]
          },
          "metadata": {}
        },
        {
          "output_type": "stream",
          "name": "stderr",
          "text": [
            " 60%|█████▉    | 2997/5000 [01:48<00:53, 37.60it/s]"
          ]
        },
        {
          "output_type": "display_data",
          "data": {
            "text/plain": [
              "\u001b[30m[\u001b[0m\u001b[90m2024-02-06 \u001b[0m\u001b[90m14:16:11\u001b[0m\u001b[30m]\u001b[0m\u001b[30m[\u001b[0m\u001b[1;32mINFO\u001b[0m\u001b[30m]\u001b[0m\u001b[30m[\u001b[0m\u001b[3;36mtrainer\u001b[0m\u001b[92m:\u001b[0m\u001b[30m768\u001b[0m\u001b[30m]\u001b[0m\u001b[1;93m - \u001b[0m\u001b[3;94mstep\u001b[0m=\u001b[35m3000\u001b[0m \u001b[3;94mloss\u001b[0m=\u001b[35m0\u001b[0m\u001b[35m.9769\u001b[0m \u001b[3;94mdt\u001b[0m=\u001b[35m25\u001b[0m\u001b[35m.6749\u001b[0m \u001b[3;94mdtf\u001b[0m=\u001b[35m8\u001b[0m\u001b[35m.4540\u001b[0m \u001b[3;94mdtb\u001b[0m=\u001b[35m13\u001b[0m\u001b[35m.9518\u001b[0m \u001b[3;94msps\u001b[0m=\u001b[35m38\u001b[0m\u001b[35m.9485\u001b[0m \u001b[3;94mmtps\u001b[0m=\u001b[35m0\u001b[0m\u001b[35m.6381\u001b[0m \u001b[3;94mmfu\u001b[0m=\u001b[35m14\u001b[0m\u001b[35m.2040\u001b[0m \u001b[3;94mtrain_loss\u001b[0m=\u001b[35m0\u001b[0m\u001b[35m.9546\u001b[0m \u001b[3;94mval_loss\u001b[0m=\u001b[35m1\u001b[0m\u001b[35m.4927\u001b[0m\n"
            ],
            "text/html": [
              "<pre style=\"white-space:pre;overflow-x:auto;line-height:normal;font-family:Menlo,'DejaVu Sans Mono',consolas,'Courier New',monospace\"><span style=\"color: #000000; text-decoration-color: #000000\">[</span><span style=\"color: #808080; text-decoration-color: #808080\">2024-02-06 14:16:11</span><span style=\"color: #000000; text-decoration-color: #000000\">][</span><span style=\"color: #008000; text-decoration-color: #008000; font-weight: bold\">INFO</span><span style=\"color: #000000; text-decoration-color: #000000\">][</span><span style=\"color: #008080; text-decoration-color: #008080; font-style: italic\">trainer</span><span style=\"color: #00ff00; text-decoration-color: #00ff00\">:</span><span style=\"color: #000000; text-decoration-color: #000000\">768</span><span style=\"color: #000000; text-decoration-color: #000000\">]</span><span style=\"color: #ffff00; text-decoration-color: #ffff00; font-weight: bold\"> - </span><span style=\"color: #0000ff; text-decoration-color: #0000ff; font-style: italic\">step</span>=<span style=\"color: #800080; text-decoration-color: #800080\">3000</span> <span style=\"color: #0000ff; text-decoration-color: #0000ff; font-style: italic\">loss</span>=<span style=\"color: #800080; text-decoration-color: #800080\">0.9769</span> <span style=\"color: #0000ff; text-decoration-color: #0000ff; font-style: italic\">dt</span>=<span style=\"color: #800080; text-decoration-color: #800080\">25.6749</span> <span style=\"color: #0000ff; text-decoration-color: #0000ff; font-style: italic\">dtf</span>=<span style=\"color: #800080; text-decoration-color: #800080\">8.4540</span> <span style=\"color: #0000ff; text-decoration-color: #0000ff; font-style: italic\">dtb</span>=<span style=\"color: #800080; text-decoration-color: #800080\">13.9518</span> <span style=\"color: #0000ff; text-decoration-color: #0000ff; font-style: italic\">sps</span>=<span style=\"color: #800080; text-decoration-color: #800080\">38.9485</span> <span style=\"color: #0000ff; text-decoration-color: #0000ff; font-style: italic\">mtps</span>=<span style=\"color: #800080; text-decoration-color: #800080\">0.6381</span> <span style=\"color: #0000ff; text-decoration-color: #0000ff; font-style: italic\">mfu</span>=<span style=\"color: #800080; text-decoration-color: #800080\">14.2040</span> <span style=\"color: #0000ff; text-decoration-color: #0000ff; font-style: italic\">train_loss</span>=<span style=\"color: #800080; text-decoration-color: #800080\">0.9546</span> <span style=\"color: #0000ff; text-decoration-color: #0000ff; font-style: italic\">val_loss</span>=<span style=\"color: #800080; text-decoration-color: #800080\">1.4927</span>\n",
              "</pre>\n"
            ]
          },
          "metadata": {}
        },
        {
          "output_type": "display_data",
          "data": {
            "text/plain": [
              "\u001b[30m[\u001b[0m\u001b[90m2024-02-06 \u001b[0m\u001b[90m14:16:15\u001b[0m\u001b[30m]\u001b[0m\u001b[30m[\u001b[0m\u001b[1;32mINFO\u001b[0m\u001b[30m]\u001b[0m\u001b[30m[\u001b[0m\u001b[3;36mtrainer\u001b[0m\u001b[92m:\u001b[0m\u001b[30m666\u001b[0m\u001b[30m]\u001b[0m\u001b[1;93m - \u001b[0mSaving checkpoint to: \u001b[32m/\u001b[0m\u001b[35mcontent\u001b[0m\n"
            ],
            "text/html": [
              "<pre style=\"white-space:pre;overflow-x:auto;line-height:normal;font-family:Menlo,'DejaVu Sans Mono',consolas,'Courier New',monospace\"><span style=\"color: #000000; text-decoration-color: #000000\">[</span><span style=\"color: #808080; text-decoration-color: #808080\">2024-02-06 14:16:15</span><span style=\"color: #000000; text-decoration-color: #000000\">][</span><span style=\"color: #008000; text-decoration-color: #008000; font-weight: bold\">INFO</span><span style=\"color: #000000; text-decoration-color: #000000\">][</span><span style=\"color: #008080; text-decoration-color: #008080; font-style: italic\">trainer</span><span style=\"color: #00ff00; text-decoration-color: #00ff00\">:</span><span style=\"color: #000000; text-decoration-color: #000000\">666</span><span style=\"color: #000000; text-decoration-color: #000000\">]</span><span style=\"color: #ffff00; text-decoration-color: #ffff00; font-weight: bold\"> - </span>Saving checkpoint to: <span style=\"color: #008000; text-decoration-color: #008000\">/</span><span style=\"color: #800080; text-decoration-color: #800080\">content</span>\n",
              "</pre>\n"
            ]
          },
          "metadata": {}
        },
        {
          "output_type": "display_data",
          "data": {
            "text/plain": [
              "\u001b[30m[\u001b[0m\u001b[90m2024-02-06 \u001b[0m\u001b[90m14:16:15\u001b[0m\u001b[30m]\u001b[0m\u001b[30m[\u001b[0m\u001b[1;32mINFO\u001b[0m\u001b[30m]\u001b[0m\u001b[30m[\u001b[0m\u001b[3;36mtrainer\u001b[0m\u001b[92m:\u001b[0m\u001b[30m667\u001b[0m\u001b[30m]\u001b[0m\u001b[1;93m - \u001b[0mSaving model to: \u001b[32m/content/\u001b[0m\u001b[35mmodel.pth\u001b[0m\n"
            ],
            "text/html": [
              "<pre style=\"white-space:pre;overflow-x:auto;line-height:normal;font-family:Menlo,'DejaVu Sans Mono',consolas,'Courier New',monospace\"><span style=\"color: #000000; text-decoration-color: #000000\">[</span><span style=\"color: #808080; text-decoration-color: #808080\">2024-02-06 14:16:15</span><span style=\"color: #000000; text-decoration-color: #000000\">][</span><span style=\"color: #008000; text-decoration-color: #008000; font-weight: bold\">INFO</span><span style=\"color: #000000; text-decoration-color: #000000\">][</span><span style=\"color: #008080; text-decoration-color: #008080; font-style: italic\">trainer</span><span style=\"color: #00ff00; text-decoration-color: #00ff00\">:</span><span style=\"color: #000000; text-decoration-color: #000000\">667</span><span style=\"color: #000000; text-decoration-color: #000000\">]</span><span style=\"color: #ffff00; text-decoration-color: #ffff00; font-weight: bold\"> - </span>Saving model to: <span style=\"color: #008000; text-decoration-color: #008000\">/content/</span><span style=\"color: #800080; text-decoration-color: #800080\">model.pth</span>\n",
              "</pre>\n"
            ]
          },
          "metadata": {}
        },
        {
          "output_type": "display_data",
          "data": {
            "text/plain": [
              "\u001b[30m[\u001b[0m\u001b[90m2024-02-06 \u001b[0m\u001b[90m14:16:16\u001b[0m\u001b[30m]\u001b[0m\u001b[30m[\u001b[0m\u001b[1;32mINFO\u001b[0m\u001b[30m]\u001b[0m\u001b[30m[\u001b[0m\u001b[3;36mconfigs\u001b[0m\u001b[92m:\u001b[0m\u001b[30m132\u001b[0m\u001b[30m]\u001b[0m\u001b[1;93m - \u001b[0mAppending \u001b[32m/\u001b[0m\u001b[35mcontent\u001b[0m to \u001b[32m/content/wordplay/src/ckpts/\u001b[0m\u001b[35mcheckpoints.log\u001b[0m\n"
            ],
            "text/html": [
              "<pre style=\"white-space:pre;overflow-x:auto;line-height:normal;font-family:Menlo,'DejaVu Sans Mono',consolas,'Courier New',monospace\"><span style=\"color: #000000; text-decoration-color: #000000\">[</span><span style=\"color: #808080; text-decoration-color: #808080\">2024-02-06 14:16:16</span><span style=\"color: #000000; text-decoration-color: #000000\">][</span><span style=\"color: #008000; text-decoration-color: #008000; font-weight: bold\">INFO</span><span style=\"color: #000000; text-decoration-color: #000000\">][</span><span style=\"color: #008080; text-decoration-color: #008080; font-style: italic\">configs</span><span style=\"color: #00ff00; text-decoration-color: #00ff00\">:</span><span style=\"color: #000000; text-decoration-color: #000000\">132</span><span style=\"color: #000000; text-decoration-color: #000000\">]</span><span style=\"color: #ffff00; text-decoration-color: #ffff00; font-weight: bold\"> - </span>Appending <span style=\"color: #008000; text-decoration-color: #008000\">/</span><span style=\"color: #800080; text-decoration-color: #800080\">content</span> to <span style=\"color: #008000; text-decoration-color: #008000\">/content/wordplay/src/ckpts/</span><span style=\"color: #800080; text-decoration-color: #800080\">checkpoints.log</span>\n",
              "</pre>\n"
            ]
          },
          "metadata": {}
        },
        {
          "output_type": "stream",
          "name": "stderr",
          "text": [
            " 62%|██████▏   | 3097/5000 [01:55<00:52, 36.48it/s]"
          ]
        },
        {
          "output_type": "display_data",
          "data": {
            "text/plain": [
              "\u001b[30m[\u001b[0m\u001b[90m2024-02-06 \u001b[0m\u001b[90m14:16:18\u001b[0m\u001b[30m]\u001b[0m\u001b[30m[\u001b[0m\u001b[1;32mINFO\u001b[0m\u001b[30m]\u001b[0m\u001b[30m[\u001b[0m\u001b[3;36mtrainer\u001b[0m\u001b[92m:\u001b[0m\u001b[30m768\u001b[0m\u001b[30m]\u001b[0m\u001b[1;93m - \u001b[0m\u001b[3;94mstep\u001b[0m=\u001b[35m3100\u001b[0m \u001b[3;94mloss\u001b[0m=\u001b[35m0\u001b[0m\u001b[35m.9782\u001b[0m \u001b[3;94mdt\u001b[0m=\u001b[35m26\u001b[0m\u001b[35m.1021\u001b[0m \u001b[3;94mdtf\u001b[0m=\u001b[35m8\u001b[0m\u001b[35m.6133\u001b[0m \u001b[3;94mdtb\u001b[0m=\u001b[35m14\u001b[0m\u001b[35m.1486\u001b[0m \u001b[3;94msps\u001b[0m=\u001b[35m38\u001b[0m\u001b[35m.3111\u001b[0m \u001b[3;94mmtps\u001b[0m=\u001b[35m0\u001b[0m\u001b[35m.6277\u001b[0m \u001b[3;94mmfu\u001b[0m=\u001b[35m14\u001b[0m\u001b[35m.2112\u001b[0m \u001b[3;94mtrain_loss\u001b[0m=\u001b[35m0\u001b[0m\u001b[35m.8607\u001b[0m \u001b[3;94mval_loss\u001b[0m=\u001b[35m1\u001b[0m\u001b[35m.5313\u001b[0m\n"
            ],
            "text/html": [
              "<pre style=\"white-space:pre;overflow-x:auto;line-height:normal;font-family:Menlo,'DejaVu Sans Mono',consolas,'Courier New',monospace\"><span style=\"color: #000000; text-decoration-color: #000000\">[</span><span style=\"color: #808080; text-decoration-color: #808080\">2024-02-06 14:16:18</span><span style=\"color: #000000; text-decoration-color: #000000\">][</span><span style=\"color: #008000; text-decoration-color: #008000; font-weight: bold\">INFO</span><span style=\"color: #000000; text-decoration-color: #000000\">][</span><span style=\"color: #008080; text-decoration-color: #008080; font-style: italic\">trainer</span><span style=\"color: #00ff00; text-decoration-color: #00ff00\">:</span><span style=\"color: #000000; text-decoration-color: #000000\">768</span><span style=\"color: #000000; text-decoration-color: #000000\">]</span><span style=\"color: #ffff00; text-decoration-color: #ffff00; font-weight: bold\"> - </span><span style=\"color: #0000ff; text-decoration-color: #0000ff; font-style: italic\">step</span>=<span style=\"color: #800080; text-decoration-color: #800080\">3100</span> <span style=\"color: #0000ff; text-decoration-color: #0000ff; font-style: italic\">loss</span>=<span style=\"color: #800080; text-decoration-color: #800080\">0.9782</span> <span style=\"color: #0000ff; text-decoration-color: #0000ff; font-style: italic\">dt</span>=<span style=\"color: #800080; text-decoration-color: #800080\">26.1021</span> <span style=\"color: #0000ff; text-decoration-color: #0000ff; font-style: italic\">dtf</span>=<span style=\"color: #800080; text-decoration-color: #800080\">8.6133</span> <span style=\"color: #0000ff; text-decoration-color: #0000ff; font-style: italic\">dtb</span>=<span style=\"color: #800080; text-decoration-color: #800080\">14.1486</span> <span style=\"color: #0000ff; text-decoration-color: #0000ff; font-style: italic\">sps</span>=<span style=\"color: #800080; text-decoration-color: #800080\">38.3111</span> <span style=\"color: #0000ff; text-decoration-color: #0000ff; font-style: italic\">mtps</span>=<span style=\"color: #800080; text-decoration-color: #800080\">0.6277</span> <span style=\"color: #0000ff; text-decoration-color: #0000ff; font-style: italic\">mfu</span>=<span style=\"color: #800080; text-decoration-color: #800080\">14.2112</span> <span style=\"color: #0000ff; text-decoration-color: #0000ff; font-style: italic\">train_loss</span>=<span style=\"color: #800080; text-decoration-color: #800080\">0.8607</span> <span style=\"color: #0000ff; text-decoration-color: #0000ff; font-style: italic\">val_loss</span>=<span style=\"color: #800080; text-decoration-color: #800080\">1.5313</span>\n",
              "</pre>\n"
            ]
          },
          "metadata": {}
        },
        {
          "output_type": "stream",
          "name": "stderr",
          "text": [
            " 64%|██████▍   | 3197/5000 [01:58<00:47, 37.76it/s]"
          ]
        },
        {
          "output_type": "display_data",
          "data": {
            "text/plain": [
              "\u001b[30m[\u001b[0m\u001b[90m2024-02-06 \u001b[0m\u001b[90m14:16:21\u001b[0m\u001b[30m]\u001b[0m\u001b[30m[\u001b[0m\u001b[1;32mINFO\u001b[0m\u001b[30m]\u001b[0m\u001b[30m[\u001b[0m\u001b[3;36mtrainer\u001b[0m\u001b[92m:\u001b[0m\u001b[30m768\u001b[0m\u001b[30m]\u001b[0m\u001b[1;93m - \u001b[0m\u001b[3;94mstep\u001b[0m=\u001b[35m3200\u001b[0m \u001b[3;94mloss\u001b[0m=\u001b[35m0\u001b[0m\u001b[35m.9604\u001b[0m \u001b[3;94mdt\u001b[0m=\u001b[35m25\u001b[0m\u001b[35m.4795\u001b[0m \u001b[3;94mdtf\u001b[0m=\u001b[35m8\u001b[0m\u001b[35m.4449\u001b[0m \u001b[3;94mdtb\u001b[0m=\u001b[35m13\u001b[0m\u001b[35m.8871\u001b[0m \u001b[3;94msps\u001b[0m=\u001b[35m39\u001b[0m\u001b[35m.2473\u001b[0m \u001b[3;94mmtps\u001b[0m=\u001b[35m0\u001b[0m\u001b[35m.6430\u001b[0m \u001b[3;94mmfu\u001b[0m=\u001b[35m14\u001b[0m\u001b[35m.2525\u001b[0m \u001b[3;94mtrain_loss\u001b[0m=\u001b[35m0\u001b[0m\u001b[35m.8607\u001b[0m \u001b[3;94mval_loss\u001b[0m=\u001b[35m1\u001b[0m\u001b[35m.5313\u001b[0m\n"
            ],
            "text/html": [
              "<pre style=\"white-space:pre;overflow-x:auto;line-height:normal;font-family:Menlo,'DejaVu Sans Mono',consolas,'Courier New',monospace\"><span style=\"color: #000000; text-decoration-color: #000000\">[</span><span style=\"color: #808080; text-decoration-color: #808080\">2024-02-06 14:16:21</span><span style=\"color: #000000; text-decoration-color: #000000\">][</span><span style=\"color: #008000; text-decoration-color: #008000; font-weight: bold\">INFO</span><span style=\"color: #000000; text-decoration-color: #000000\">][</span><span style=\"color: #008080; text-decoration-color: #008080; font-style: italic\">trainer</span><span style=\"color: #00ff00; text-decoration-color: #00ff00\">:</span><span style=\"color: #000000; text-decoration-color: #000000\">768</span><span style=\"color: #000000; text-decoration-color: #000000\">]</span><span style=\"color: #ffff00; text-decoration-color: #ffff00; font-weight: bold\"> - </span><span style=\"color: #0000ff; text-decoration-color: #0000ff; font-style: italic\">step</span>=<span style=\"color: #800080; text-decoration-color: #800080\">3200</span> <span style=\"color: #0000ff; text-decoration-color: #0000ff; font-style: italic\">loss</span>=<span style=\"color: #800080; text-decoration-color: #800080\">0.9604</span> <span style=\"color: #0000ff; text-decoration-color: #0000ff; font-style: italic\">dt</span>=<span style=\"color: #800080; text-decoration-color: #800080\">25.4795</span> <span style=\"color: #0000ff; text-decoration-color: #0000ff; font-style: italic\">dtf</span>=<span style=\"color: #800080; text-decoration-color: #800080\">8.4449</span> <span style=\"color: #0000ff; text-decoration-color: #0000ff; font-style: italic\">dtb</span>=<span style=\"color: #800080; text-decoration-color: #800080\">13.8871</span> <span style=\"color: #0000ff; text-decoration-color: #0000ff; font-style: italic\">sps</span>=<span style=\"color: #800080; text-decoration-color: #800080\">39.2473</span> <span style=\"color: #0000ff; text-decoration-color: #0000ff; font-style: italic\">mtps</span>=<span style=\"color: #800080; text-decoration-color: #800080\">0.6430</span> <span style=\"color: #0000ff; text-decoration-color: #0000ff; font-style: italic\">mfu</span>=<span style=\"color: #800080; text-decoration-color: #800080\">14.2525</span> <span style=\"color: #0000ff; text-decoration-color: #0000ff; font-style: italic\">train_loss</span>=<span style=\"color: #800080; text-decoration-color: #800080\">0.8607</span> <span style=\"color: #0000ff; text-decoration-color: #0000ff; font-style: italic\">val_loss</span>=<span style=\"color: #800080; text-decoration-color: #800080\">1.5313</span>\n",
              "</pre>\n"
            ]
          },
          "metadata": {}
        },
        {
          "output_type": "stream",
          "name": "stderr",
          "text": [
            " 66%|██████▌   | 3297/5000 [02:01<00:46, 36.46it/s]"
          ]
        },
        {
          "output_type": "display_data",
          "data": {
            "text/plain": [
              "\u001b[30m[\u001b[0m\u001b[90m2024-02-06 \u001b[0m\u001b[90m14:16:24\u001b[0m\u001b[30m]\u001b[0m\u001b[30m[\u001b[0m\u001b[1;32mINFO\u001b[0m\u001b[30m]\u001b[0m\u001b[30m[\u001b[0m\u001b[3;36mtrainer\u001b[0m\u001b[92m:\u001b[0m\u001b[30m768\u001b[0m\u001b[30m]\u001b[0m\u001b[1;93m - \u001b[0m\u001b[3;94mstep\u001b[0m=\u001b[35m3300\u001b[0m \u001b[3;94mloss\u001b[0m=\u001b[35m0\u001b[0m\u001b[35m.9412\u001b[0m \u001b[3;94mdt\u001b[0m=\u001b[35m26\u001b[0m\u001b[35m.6167\u001b[0m \u001b[3;94mdtf\u001b[0m=\u001b[35m8\u001b[0m\u001b[35m.7524\u001b[0m \u001b[3;94mdtb\u001b[0m=\u001b[35m14\u001b[0m\u001b[35m.4363\u001b[0m \u001b[3;94msps\u001b[0m=\u001b[35m37\u001b[0m\u001b[35m.5703\u001b[0m \u001b[3;94mmtps\u001b[0m=\u001b[35m0\u001b[0m\u001b[35m.6156\u001b[0m \u001b[3;94mmfu\u001b[0m=\u001b[35m14\u001b[0m\u001b[35m.2272\u001b[0m \u001b[3;94mtrain_loss\u001b[0m=\u001b[35m0\u001b[0m\u001b[35m.8607\u001b[0m \u001b[3;94mval_loss\u001b[0m=\u001b[35m1\u001b[0m\u001b[35m.5313\u001b[0m\n"
            ],
            "text/html": [
              "<pre style=\"white-space:pre;overflow-x:auto;line-height:normal;font-family:Menlo,'DejaVu Sans Mono',consolas,'Courier New',monospace\"><span style=\"color: #000000; text-decoration-color: #000000\">[</span><span style=\"color: #808080; text-decoration-color: #808080\">2024-02-06 14:16:24</span><span style=\"color: #000000; text-decoration-color: #000000\">][</span><span style=\"color: #008000; text-decoration-color: #008000; font-weight: bold\">INFO</span><span style=\"color: #000000; text-decoration-color: #000000\">][</span><span style=\"color: #008080; text-decoration-color: #008080; font-style: italic\">trainer</span><span style=\"color: #00ff00; text-decoration-color: #00ff00\">:</span><span style=\"color: #000000; text-decoration-color: #000000\">768</span><span style=\"color: #000000; text-decoration-color: #000000\">]</span><span style=\"color: #ffff00; text-decoration-color: #ffff00; font-weight: bold\"> - </span><span style=\"color: #0000ff; text-decoration-color: #0000ff; font-style: italic\">step</span>=<span style=\"color: #800080; text-decoration-color: #800080\">3300</span> <span style=\"color: #0000ff; text-decoration-color: #0000ff; font-style: italic\">loss</span>=<span style=\"color: #800080; text-decoration-color: #800080\">0.9412</span> <span style=\"color: #0000ff; text-decoration-color: #0000ff; font-style: italic\">dt</span>=<span style=\"color: #800080; text-decoration-color: #800080\">26.6167</span> <span style=\"color: #0000ff; text-decoration-color: #0000ff; font-style: italic\">dtf</span>=<span style=\"color: #800080; text-decoration-color: #800080\">8.7524</span> <span style=\"color: #0000ff; text-decoration-color: #0000ff; font-style: italic\">dtb</span>=<span style=\"color: #800080; text-decoration-color: #800080\">14.4363</span> <span style=\"color: #0000ff; text-decoration-color: #0000ff; font-style: italic\">sps</span>=<span style=\"color: #800080; text-decoration-color: #800080\">37.5703</span> <span style=\"color: #0000ff; text-decoration-color: #0000ff; font-style: italic\">mtps</span>=<span style=\"color: #800080; text-decoration-color: #800080\">0.6156</span> <span style=\"color: #0000ff; text-decoration-color: #0000ff; font-style: italic\">mfu</span>=<span style=\"color: #800080; text-decoration-color: #800080\">14.2272</span> <span style=\"color: #0000ff; text-decoration-color: #0000ff; font-style: italic\">train_loss</span>=<span style=\"color: #800080; text-decoration-color: #800080\">0.8607</span> <span style=\"color: #0000ff; text-decoration-color: #0000ff; font-style: italic\">val_loss</span>=<span style=\"color: #800080; text-decoration-color: #800080\">1.5313</span>\n",
              "</pre>\n"
            ]
          },
          "metadata": {}
        },
        {
          "output_type": "stream",
          "name": "stderr",
          "text": [
            " 68%|██████▊   | 3397/5000 [02:03<00:42, 38.04it/s]"
          ]
        },
        {
          "output_type": "display_data",
          "data": {
            "text/plain": [
              "\u001b[30m[\u001b[0m\u001b[90m2024-02-06 \u001b[0m\u001b[90m14:16:26\u001b[0m\u001b[30m]\u001b[0m\u001b[30m[\u001b[0m\u001b[1;32mINFO\u001b[0m\u001b[30m]\u001b[0m\u001b[30m[\u001b[0m\u001b[3;36mtrainer\u001b[0m\u001b[92m:\u001b[0m\u001b[30m768\u001b[0m\u001b[30m]\u001b[0m\u001b[1;93m - \u001b[0m\u001b[3;94mstep\u001b[0m=\u001b[35m3400\u001b[0m \u001b[3;94mloss\u001b[0m=\u001b[35m0\u001b[0m\u001b[35m.9382\u001b[0m \u001b[3;94mdt\u001b[0m=\u001b[35m25\u001b[0m\u001b[35m.4786\u001b[0m \u001b[3;94mdtf\u001b[0m=\u001b[35m8\u001b[0m\u001b[35m.3933\u001b[0m \u001b[3;94mdtb\u001b[0m=\u001b[35m13\u001b[0m\u001b[35m.8342\u001b[0m \u001b[3;94msps\u001b[0m=\u001b[35m39\u001b[0m\u001b[35m.2486\u001b[0m \u001b[3;94mmtps\u001b[0m=\u001b[35m0\u001b[0m\u001b[35m.6430\u001b[0m \u001b[3;94mmfu\u001b[0m=\u001b[35m14\u001b[0m\u001b[35m.2670\u001b[0m \u001b[3;94mtrain_loss\u001b[0m=\u001b[35m0\u001b[0m\u001b[35m.8607\u001b[0m \u001b[3;94mval_loss\u001b[0m=\u001b[35m1\u001b[0m\u001b[35m.5313\u001b[0m\n"
            ],
            "text/html": [
              "<pre style=\"white-space:pre;overflow-x:auto;line-height:normal;font-family:Menlo,'DejaVu Sans Mono',consolas,'Courier New',monospace\"><span style=\"color: #000000; text-decoration-color: #000000\">[</span><span style=\"color: #808080; text-decoration-color: #808080\">2024-02-06 14:16:26</span><span style=\"color: #000000; text-decoration-color: #000000\">][</span><span style=\"color: #008000; text-decoration-color: #008000; font-weight: bold\">INFO</span><span style=\"color: #000000; text-decoration-color: #000000\">][</span><span style=\"color: #008080; text-decoration-color: #008080; font-style: italic\">trainer</span><span style=\"color: #00ff00; text-decoration-color: #00ff00\">:</span><span style=\"color: #000000; text-decoration-color: #000000\">768</span><span style=\"color: #000000; text-decoration-color: #000000\">]</span><span style=\"color: #ffff00; text-decoration-color: #ffff00; font-weight: bold\"> - </span><span style=\"color: #0000ff; text-decoration-color: #0000ff; font-style: italic\">step</span>=<span style=\"color: #800080; text-decoration-color: #800080\">3400</span> <span style=\"color: #0000ff; text-decoration-color: #0000ff; font-style: italic\">loss</span>=<span style=\"color: #800080; text-decoration-color: #800080\">0.9382</span> <span style=\"color: #0000ff; text-decoration-color: #0000ff; font-style: italic\">dt</span>=<span style=\"color: #800080; text-decoration-color: #800080\">25.4786</span> <span style=\"color: #0000ff; text-decoration-color: #0000ff; font-style: italic\">dtf</span>=<span style=\"color: #800080; text-decoration-color: #800080\">8.3933</span> <span style=\"color: #0000ff; text-decoration-color: #0000ff; font-style: italic\">dtb</span>=<span style=\"color: #800080; text-decoration-color: #800080\">13.8342</span> <span style=\"color: #0000ff; text-decoration-color: #0000ff; font-style: italic\">sps</span>=<span style=\"color: #800080; text-decoration-color: #800080\">39.2486</span> <span style=\"color: #0000ff; text-decoration-color: #0000ff; font-style: italic\">mtps</span>=<span style=\"color: #800080; text-decoration-color: #800080\">0.6430</span> <span style=\"color: #0000ff; text-decoration-color: #0000ff; font-style: italic\">mfu</span>=<span style=\"color: #800080; text-decoration-color: #800080\">14.2670</span> <span style=\"color: #0000ff; text-decoration-color: #0000ff; font-style: italic\">train_loss</span>=<span style=\"color: #800080; text-decoration-color: #800080\">0.8607</span> <span style=\"color: #0000ff; text-decoration-color: #0000ff; font-style: italic\">val_loss</span>=<span style=\"color: #800080; text-decoration-color: #800080\">1.5313</span>\n",
              "</pre>\n"
            ]
          },
          "metadata": {}
        },
        {
          "output_type": "stream",
          "name": "stderr",
          "text": [
            " 70%|██████▉   | 3497/5000 [02:06<00:40, 37.14it/s]"
          ]
        },
        {
          "output_type": "display_data",
          "data": {
            "text/plain": [
              "\u001b[30m[\u001b[0m\u001b[90m2024-02-06 \u001b[0m\u001b[90m14:16:29\u001b[0m\u001b[30m]\u001b[0m\u001b[30m[\u001b[0m\u001b[1;32mINFO\u001b[0m\u001b[30m]\u001b[0m\u001b[30m[\u001b[0m\u001b[3;36mtrainer\u001b[0m\u001b[92m:\u001b[0m\u001b[30m768\u001b[0m\u001b[30m]\u001b[0m\u001b[1;93m - \u001b[0m\u001b[3;94mstep\u001b[0m=\u001b[35m3500\u001b[0m \u001b[3;94mloss\u001b[0m=\u001b[35m0\u001b[0m\u001b[35m.9153\u001b[0m \u001b[3;94mdt\u001b[0m=\u001b[35m25\u001b[0m\u001b[35m.6821\u001b[0m \u001b[3;94mdtf\u001b[0m=\u001b[35m8\u001b[0m\u001b[35m.4146\u001b[0m \u001b[3;94mdtb\u001b[0m=\u001b[35m14\u001b[0m\u001b[35m.0071\u001b[0m \u001b[3;94msps\u001b[0m=\u001b[35m38\u001b[0m\u001b[35m.9377\u001b[0m \u001b[3;94mmtps\u001b[0m=\u001b[35m0\u001b[0m\u001b[35m.6380\u001b[0m \u001b[3;94mmfu\u001b[0m=\u001b[35m14\u001b[0m\u001b[35m.2912\u001b[0m \u001b[3;94mtrain_loss\u001b[0m=\u001b[35m0\u001b[0m\u001b[35m.8607\u001b[0m \u001b[3;94mval_loss\u001b[0m=\u001b[35m1\u001b[0m\u001b[35m.5313\u001b[0m\n"
            ],
            "text/html": [
              "<pre style=\"white-space:pre;overflow-x:auto;line-height:normal;font-family:Menlo,'DejaVu Sans Mono',consolas,'Courier New',monospace\"><span style=\"color: #000000; text-decoration-color: #000000\">[</span><span style=\"color: #808080; text-decoration-color: #808080\">2024-02-06 14:16:29</span><span style=\"color: #000000; text-decoration-color: #000000\">][</span><span style=\"color: #008000; text-decoration-color: #008000; font-weight: bold\">INFO</span><span style=\"color: #000000; text-decoration-color: #000000\">][</span><span style=\"color: #008080; text-decoration-color: #008080; font-style: italic\">trainer</span><span style=\"color: #00ff00; text-decoration-color: #00ff00\">:</span><span style=\"color: #000000; text-decoration-color: #000000\">768</span><span style=\"color: #000000; text-decoration-color: #000000\">]</span><span style=\"color: #ffff00; text-decoration-color: #ffff00; font-weight: bold\"> - </span><span style=\"color: #0000ff; text-decoration-color: #0000ff; font-style: italic\">step</span>=<span style=\"color: #800080; text-decoration-color: #800080\">3500</span> <span style=\"color: #0000ff; text-decoration-color: #0000ff; font-style: italic\">loss</span>=<span style=\"color: #800080; text-decoration-color: #800080\">0.9153</span> <span style=\"color: #0000ff; text-decoration-color: #0000ff; font-style: italic\">dt</span>=<span style=\"color: #800080; text-decoration-color: #800080\">25.6821</span> <span style=\"color: #0000ff; text-decoration-color: #0000ff; font-style: italic\">dtf</span>=<span style=\"color: #800080; text-decoration-color: #800080\">8.4146</span> <span style=\"color: #0000ff; text-decoration-color: #0000ff; font-style: italic\">dtb</span>=<span style=\"color: #800080; text-decoration-color: #800080\">14.0071</span> <span style=\"color: #0000ff; text-decoration-color: #0000ff; font-style: italic\">sps</span>=<span style=\"color: #800080; text-decoration-color: #800080\">38.9377</span> <span style=\"color: #0000ff; text-decoration-color: #0000ff; font-style: italic\">mtps</span>=<span style=\"color: #800080; text-decoration-color: #800080\">0.6380</span> <span style=\"color: #0000ff; text-decoration-color: #0000ff; font-style: italic\">mfu</span>=<span style=\"color: #800080; text-decoration-color: #800080\">14.2912</span> <span style=\"color: #0000ff; text-decoration-color: #0000ff; font-style: italic\">train_loss</span>=<span style=\"color: #800080; text-decoration-color: #800080\">0.8607</span> <span style=\"color: #0000ff; text-decoration-color: #0000ff; font-style: italic\">val_loss</span>=<span style=\"color: #800080; text-decoration-color: #800080\">1.5313</span>\n",
              "</pre>\n"
            ]
          },
          "metadata": {}
        },
        {
          "output_type": "display_data",
          "data": {
            "text/plain": [
              "\u001b[30m[\u001b[0m\u001b[90m2024-02-06 \u001b[0m\u001b[90m14:16:33\u001b[0m\u001b[30m]\u001b[0m\u001b[30m[\u001b[0m\u001b[1;32mINFO\u001b[0m\u001b[30m]\u001b[0m\u001b[30m[\u001b[0m\u001b[3;36mtrainer\u001b[0m\u001b[92m:\u001b[0m\u001b[30m666\u001b[0m\u001b[30m]\u001b[0m\u001b[1;93m - \u001b[0mSaving checkpoint to: \u001b[32m/\u001b[0m\u001b[35mcontent\u001b[0m\n"
            ],
            "text/html": [
              "<pre style=\"white-space:pre;overflow-x:auto;line-height:normal;font-family:Menlo,'DejaVu Sans Mono',consolas,'Courier New',monospace\"><span style=\"color: #000000; text-decoration-color: #000000\">[</span><span style=\"color: #808080; text-decoration-color: #808080\">2024-02-06 14:16:33</span><span style=\"color: #000000; text-decoration-color: #000000\">][</span><span style=\"color: #008000; text-decoration-color: #008000; font-weight: bold\">INFO</span><span style=\"color: #000000; text-decoration-color: #000000\">][</span><span style=\"color: #008080; text-decoration-color: #008080; font-style: italic\">trainer</span><span style=\"color: #00ff00; text-decoration-color: #00ff00\">:</span><span style=\"color: #000000; text-decoration-color: #000000\">666</span><span style=\"color: #000000; text-decoration-color: #000000\">]</span><span style=\"color: #ffff00; text-decoration-color: #ffff00; font-weight: bold\"> - </span>Saving checkpoint to: <span style=\"color: #008000; text-decoration-color: #008000\">/</span><span style=\"color: #800080; text-decoration-color: #800080\">content</span>\n",
              "</pre>\n"
            ]
          },
          "metadata": {}
        },
        {
          "output_type": "display_data",
          "data": {
            "text/plain": [
              "\u001b[30m[\u001b[0m\u001b[90m2024-02-06 \u001b[0m\u001b[90m14:16:33\u001b[0m\u001b[30m]\u001b[0m\u001b[30m[\u001b[0m\u001b[1;32mINFO\u001b[0m\u001b[30m]\u001b[0m\u001b[30m[\u001b[0m\u001b[3;36mtrainer\u001b[0m\u001b[92m:\u001b[0m\u001b[30m667\u001b[0m\u001b[30m]\u001b[0m\u001b[1;93m - \u001b[0mSaving model to: \u001b[32m/content/\u001b[0m\u001b[35mmodel.pth\u001b[0m\n"
            ],
            "text/html": [
              "<pre style=\"white-space:pre;overflow-x:auto;line-height:normal;font-family:Menlo,'DejaVu Sans Mono',consolas,'Courier New',monospace\"><span style=\"color: #000000; text-decoration-color: #000000\">[</span><span style=\"color: #808080; text-decoration-color: #808080\">2024-02-06 14:16:33</span><span style=\"color: #000000; text-decoration-color: #000000\">][</span><span style=\"color: #008000; text-decoration-color: #008000; font-weight: bold\">INFO</span><span style=\"color: #000000; text-decoration-color: #000000\">][</span><span style=\"color: #008080; text-decoration-color: #008080; font-style: italic\">trainer</span><span style=\"color: #00ff00; text-decoration-color: #00ff00\">:</span><span style=\"color: #000000; text-decoration-color: #000000\">667</span><span style=\"color: #000000; text-decoration-color: #000000\">]</span><span style=\"color: #ffff00; text-decoration-color: #ffff00; font-weight: bold\"> - </span>Saving model to: <span style=\"color: #008000; text-decoration-color: #008000\">/content/</span><span style=\"color: #800080; text-decoration-color: #800080\">model.pth</span>\n",
              "</pre>\n"
            ]
          },
          "metadata": {}
        },
        {
          "output_type": "display_data",
          "data": {
            "text/plain": [
              "\u001b[30m[\u001b[0m\u001b[90m2024-02-06 \u001b[0m\u001b[90m14:16:34\u001b[0m\u001b[30m]\u001b[0m\u001b[30m[\u001b[0m\u001b[1;32mINFO\u001b[0m\u001b[30m]\u001b[0m\u001b[30m[\u001b[0m\u001b[3;36mconfigs\u001b[0m\u001b[92m:\u001b[0m\u001b[30m132\u001b[0m\u001b[30m]\u001b[0m\u001b[1;93m - \u001b[0mAppending \u001b[32m/\u001b[0m\u001b[35mcontent\u001b[0m to \u001b[32m/content/wordplay/src/ckpts/\u001b[0m\u001b[35mcheckpoints.log\u001b[0m\n"
            ],
            "text/html": [
              "<pre style=\"white-space:pre;overflow-x:auto;line-height:normal;font-family:Menlo,'DejaVu Sans Mono',consolas,'Courier New',monospace\"><span style=\"color: #000000; text-decoration-color: #000000\">[</span><span style=\"color: #808080; text-decoration-color: #808080\">2024-02-06 14:16:34</span><span style=\"color: #000000; text-decoration-color: #000000\">][</span><span style=\"color: #008000; text-decoration-color: #008000; font-weight: bold\">INFO</span><span style=\"color: #000000; text-decoration-color: #000000\">][</span><span style=\"color: #008080; text-decoration-color: #008080; font-style: italic\">configs</span><span style=\"color: #00ff00; text-decoration-color: #00ff00\">:</span><span style=\"color: #000000; text-decoration-color: #000000\">132</span><span style=\"color: #000000; text-decoration-color: #000000\">]</span><span style=\"color: #ffff00; text-decoration-color: #ffff00; font-weight: bold\"> - </span>Appending <span style=\"color: #008000; text-decoration-color: #008000\">/</span><span style=\"color: #800080; text-decoration-color: #800080\">content</span> to <span style=\"color: #008000; text-decoration-color: #008000\">/content/wordplay/src/ckpts/</span><span style=\"color: #800080; text-decoration-color: #800080\">checkpoints.log</span>\n",
              "</pre>\n"
            ]
          },
          "metadata": {}
        },
        {
          "output_type": "stream",
          "name": "stderr",
          "text": [
            " 72%|███████▏  | 3597/5000 [02:14<00:37, 37.88it/s]"
          ]
        },
        {
          "output_type": "display_data",
          "data": {
            "text/plain": [
              "\u001b[30m[\u001b[0m\u001b[90m2024-02-06 \u001b[0m\u001b[90m14:16:36\u001b[0m\u001b[30m]\u001b[0m\u001b[30m[\u001b[0m\u001b[1;32mINFO\u001b[0m\u001b[30m]\u001b[0m\u001b[30m[\u001b[0m\u001b[3;36mtrainer\u001b[0m\u001b[92m:\u001b[0m\u001b[30m768\u001b[0m\u001b[30m]\u001b[0m\u001b[1;93m - \u001b[0m\u001b[3;94mstep\u001b[0m=\u001b[35m3600\u001b[0m \u001b[3;94mloss\u001b[0m=\u001b[35m0\u001b[0m\u001b[35m.9011\u001b[0m \u001b[3;94mdt\u001b[0m=\u001b[35m25\u001b[0m\u001b[35m.6884\u001b[0m \u001b[3;94mdtf\u001b[0m=\u001b[35m8\u001b[0m\u001b[35m.3820\u001b[0m \u001b[3;94mdtb\u001b[0m=\u001b[35m14\u001b[0m\u001b[35m.1168\u001b[0m \u001b[3;94msps\u001b[0m=\u001b[35m38\u001b[0m\u001b[35m.9281\u001b[0m \u001b[3;94mmtps\u001b[0m=\u001b[35m0\u001b[0m\u001b[35m.6378\u001b[0m \u001b[3;94mmfu\u001b[0m=\u001b[35m14\u001b[0m\u001b[35m.3126\u001b[0m \u001b[3;94mtrain_loss\u001b[0m=\u001b[35m0\u001b[0m\u001b[35m.7715\u001b[0m \u001b[3;94mval_loss\u001b[0m=\u001b[35m1\u001b[0m\u001b[35m.5810\u001b[0m\n"
            ],
            "text/html": [
              "<pre style=\"white-space:pre;overflow-x:auto;line-height:normal;font-family:Menlo,'DejaVu Sans Mono',consolas,'Courier New',monospace\"><span style=\"color: #000000; text-decoration-color: #000000\">[</span><span style=\"color: #808080; text-decoration-color: #808080\">2024-02-06 14:16:36</span><span style=\"color: #000000; text-decoration-color: #000000\">][</span><span style=\"color: #008000; text-decoration-color: #008000; font-weight: bold\">INFO</span><span style=\"color: #000000; text-decoration-color: #000000\">][</span><span style=\"color: #008080; text-decoration-color: #008080; font-style: italic\">trainer</span><span style=\"color: #00ff00; text-decoration-color: #00ff00\">:</span><span style=\"color: #000000; text-decoration-color: #000000\">768</span><span style=\"color: #000000; text-decoration-color: #000000\">]</span><span style=\"color: #ffff00; text-decoration-color: #ffff00; font-weight: bold\"> - </span><span style=\"color: #0000ff; text-decoration-color: #0000ff; font-style: italic\">step</span>=<span style=\"color: #800080; text-decoration-color: #800080\">3600</span> <span style=\"color: #0000ff; text-decoration-color: #0000ff; font-style: italic\">loss</span>=<span style=\"color: #800080; text-decoration-color: #800080\">0.9011</span> <span style=\"color: #0000ff; text-decoration-color: #0000ff; font-style: italic\">dt</span>=<span style=\"color: #800080; text-decoration-color: #800080\">25.6884</span> <span style=\"color: #0000ff; text-decoration-color: #0000ff; font-style: italic\">dtf</span>=<span style=\"color: #800080; text-decoration-color: #800080\">8.3820</span> <span style=\"color: #0000ff; text-decoration-color: #0000ff; font-style: italic\">dtb</span>=<span style=\"color: #800080; text-decoration-color: #800080\">14.1168</span> <span style=\"color: #0000ff; text-decoration-color: #0000ff; font-style: italic\">sps</span>=<span style=\"color: #800080; text-decoration-color: #800080\">38.9281</span> <span style=\"color: #0000ff; text-decoration-color: #0000ff; font-style: italic\">mtps</span>=<span style=\"color: #800080; text-decoration-color: #800080\">0.6378</span> <span style=\"color: #0000ff; text-decoration-color: #0000ff; font-style: italic\">mfu</span>=<span style=\"color: #800080; text-decoration-color: #800080\">14.3126</span> <span style=\"color: #0000ff; text-decoration-color: #0000ff; font-style: italic\">train_loss</span>=<span style=\"color: #800080; text-decoration-color: #800080\">0.7715</span> <span style=\"color: #0000ff; text-decoration-color: #0000ff; font-style: italic\">val_loss</span>=<span style=\"color: #800080; text-decoration-color: #800080\">1.5810</span>\n",
              "</pre>\n"
            ]
          },
          "metadata": {}
        },
        {
          "output_type": "stream",
          "name": "stderr",
          "text": [
            " 74%|███████▍  | 3697/5000 [02:16<00:34, 37.50it/s]"
          ]
        },
        {
          "output_type": "display_data",
          "data": {
            "text/plain": [
              "\u001b[30m[\u001b[0m\u001b[90m2024-02-06 \u001b[0m\u001b[90m14:16:39\u001b[0m\u001b[30m]\u001b[0m\u001b[30m[\u001b[0m\u001b[1;32mINFO\u001b[0m\u001b[30m]\u001b[0m\u001b[30m[\u001b[0m\u001b[3;36mtrainer\u001b[0m\u001b[92m:\u001b[0m\u001b[30m768\u001b[0m\u001b[30m]\u001b[0m\u001b[1;93m - \u001b[0m\u001b[3;94mstep\u001b[0m=\u001b[35m3700\u001b[0m \u001b[3;94mloss\u001b[0m=\u001b[35m0\u001b[0m\u001b[35m.8748\u001b[0m \u001b[3;94mdt\u001b[0m=\u001b[35m25\u001b[0m\u001b[35m.2183\u001b[0m \u001b[3;94mdtf\u001b[0m=\u001b[35m8\u001b[0m\u001b[35m.3906\u001b[0m \u001b[3;94mdtb\u001b[0m=\u001b[35m13\u001b[0m\u001b[35m.7281\u001b[0m \u001b[3;94msps\u001b[0m=\u001b[35m39\u001b[0m\u001b[35m.6538\u001b[0m \u001b[3;94mmtps\u001b[0m=\u001b[35m0\u001b[0m\u001b[35m.6497\u001b[0m \u001b[3;94mmfu\u001b[0m=\u001b[35m14\u001b[0m\u001b[35m.3590\u001b[0m \u001b[3;94mtrain_loss\u001b[0m=\u001b[35m0\u001b[0m\u001b[35m.7715\u001b[0m \u001b[3;94mval_loss\u001b[0m=\u001b[35m1\u001b[0m\u001b[35m.5810\u001b[0m\n"
            ],
            "text/html": [
              "<pre style=\"white-space:pre;overflow-x:auto;line-height:normal;font-family:Menlo,'DejaVu Sans Mono',consolas,'Courier New',monospace\"><span style=\"color: #000000; text-decoration-color: #000000\">[</span><span style=\"color: #808080; text-decoration-color: #808080\">2024-02-06 14:16:39</span><span style=\"color: #000000; text-decoration-color: #000000\">][</span><span style=\"color: #008000; text-decoration-color: #008000; font-weight: bold\">INFO</span><span style=\"color: #000000; text-decoration-color: #000000\">][</span><span style=\"color: #008080; text-decoration-color: #008080; font-style: italic\">trainer</span><span style=\"color: #00ff00; text-decoration-color: #00ff00\">:</span><span style=\"color: #000000; text-decoration-color: #000000\">768</span><span style=\"color: #000000; text-decoration-color: #000000\">]</span><span style=\"color: #ffff00; text-decoration-color: #ffff00; font-weight: bold\"> - </span><span style=\"color: #0000ff; text-decoration-color: #0000ff; font-style: italic\">step</span>=<span style=\"color: #800080; text-decoration-color: #800080\">3700</span> <span style=\"color: #0000ff; text-decoration-color: #0000ff; font-style: italic\">loss</span>=<span style=\"color: #800080; text-decoration-color: #800080\">0.8748</span> <span style=\"color: #0000ff; text-decoration-color: #0000ff; font-style: italic\">dt</span>=<span style=\"color: #800080; text-decoration-color: #800080\">25.2183</span> <span style=\"color: #0000ff; text-decoration-color: #0000ff; font-style: italic\">dtf</span>=<span style=\"color: #800080; text-decoration-color: #800080\">8.3906</span> <span style=\"color: #0000ff; text-decoration-color: #0000ff; font-style: italic\">dtb</span>=<span style=\"color: #800080; text-decoration-color: #800080\">13.7281</span> <span style=\"color: #0000ff; text-decoration-color: #0000ff; font-style: italic\">sps</span>=<span style=\"color: #800080; text-decoration-color: #800080\">39.6538</span> <span style=\"color: #0000ff; text-decoration-color: #0000ff; font-style: italic\">mtps</span>=<span style=\"color: #800080; text-decoration-color: #800080\">0.6497</span> <span style=\"color: #0000ff; text-decoration-color: #0000ff; font-style: italic\">mfu</span>=<span style=\"color: #800080; text-decoration-color: #800080\">14.3590</span> <span style=\"color: #0000ff; text-decoration-color: #0000ff; font-style: italic\">train_loss</span>=<span style=\"color: #800080; text-decoration-color: #800080\">0.7715</span> <span style=\"color: #0000ff; text-decoration-color: #0000ff; font-style: italic\">val_loss</span>=<span style=\"color: #800080; text-decoration-color: #800080\">1.5810</span>\n",
              "</pre>\n"
            ]
          },
          "metadata": {}
        },
        {
          "output_type": "stream",
          "name": "stderr",
          "text": [
            " 76%|███████▌  | 3797/5000 [02:19<00:31, 38.39it/s]"
          ]
        },
        {
          "output_type": "display_data",
          "data": {
            "text/plain": [
              "\u001b[30m[\u001b[0m\u001b[90m2024-02-06 \u001b[0m\u001b[90m14:16:42\u001b[0m\u001b[30m]\u001b[0m\u001b[30m[\u001b[0m\u001b[1;32mINFO\u001b[0m\u001b[30m]\u001b[0m\u001b[30m[\u001b[0m\u001b[3;36mtrainer\u001b[0m\u001b[92m:\u001b[0m\u001b[30m768\u001b[0m\u001b[30m]\u001b[0m\u001b[1;93m - \u001b[0m\u001b[3;94mstep\u001b[0m=\u001b[35m3800\u001b[0m \u001b[3;94mloss\u001b[0m=\u001b[35m0\u001b[0m\u001b[35m.9028\u001b[0m \u001b[3;94mdt\u001b[0m=\u001b[35m25\u001b[0m\u001b[35m.9814\u001b[0m \u001b[3;94mdtf\u001b[0m=\u001b[35m8\u001b[0m\u001b[35m.3123\u001b[0m \u001b[3;94mdtb\u001b[0m=\u001b[35m14\u001b[0m\u001b[35m.5680\u001b[0m \u001b[3;94msps\u001b[0m=\u001b[35m38\u001b[0m\u001b[35m.4890\u001b[0m \u001b[3;94mmtps\u001b[0m=\u001b[35m0\u001b[0m\u001b[35m.6306\u001b[0m \u001b[3;94mmfu\u001b[0m=\u001b[35m14\u001b[0m\u001b[35m.3573\u001b[0m \u001b[3;94mtrain_loss\u001b[0m=\u001b[35m0\u001b[0m\u001b[35m.7715\u001b[0m \u001b[3;94mval_loss\u001b[0m=\u001b[35m1\u001b[0m\u001b[35m.5810\u001b[0m\n"
            ],
            "text/html": [
              "<pre style=\"white-space:pre;overflow-x:auto;line-height:normal;font-family:Menlo,'DejaVu Sans Mono',consolas,'Courier New',monospace\"><span style=\"color: #000000; text-decoration-color: #000000\">[</span><span style=\"color: #808080; text-decoration-color: #808080\">2024-02-06 14:16:42</span><span style=\"color: #000000; text-decoration-color: #000000\">][</span><span style=\"color: #008000; text-decoration-color: #008000; font-weight: bold\">INFO</span><span style=\"color: #000000; text-decoration-color: #000000\">][</span><span style=\"color: #008080; text-decoration-color: #008080; font-style: italic\">trainer</span><span style=\"color: #00ff00; text-decoration-color: #00ff00\">:</span><span style=\"color: #000000; text-decoration-color: #000000\">768</span><span style=\"color: #000000; text-decoration-color: #000000\">]</span><span style=\"color: #ffff00; text-decoration-color: #ffff00; font-weight: bold\"> - </span><span style=\"color: #0000ff; text-decoration-color: #0000ff; font-style: italic\">step</span>=<span style=\"color: #800080; text-decoration-color: #800080\">3800</span> <span style=\"color: #0000ff; text-decoration-color: #0000ff; font-style: italic\">loss</span>=<span style=\"color: #800080; text-decoration-color: #800080\">0.9028</span> <span style=\"color: #0000ff; text-decoration-color: #0000ff; font-style: italic\">dt</span>=<span style=\"color: #800080; text-decoration-color: #800080\">25.9814</span> <span style=\"color: #0000ff; text-decoration-color: #0000ff; font-style: italic\">dtf</span>=<span style=\"color: #800080; text-decoration-color: #800080\">8.3123</span> <span style=\"color: #0000ff; text-decoration-color: #0000ff; font-style: italic\">dtb</span>=<span style=\"color: #800080; text-decoration-color: #800080\">14.5680</span> <span style=\"color: #0000ff; text-decoration-color: #0000ff; font-style: italic\">sps</span>=<span style=\"color: #800080; text-decoration-color: #800080\">38.4890</span> <span style=\"color: #0000ff; text-decoration-color: #0000ff; font-style: italic\">mtps</span>=<span style=\"color: #800080; text-decoration-color: #800080\">0.6306</span> <span style=\"color: #0000ff; text-decoration-color: #0000ff; font-style: italic\">mfu</span>=<span style=\"color: #800080; text-decoration-color: #800080\">14.3573</span> <span style=\"color: #0000ff; text-decoration-color: #0000ff; font-style: italic\">train_loss</span>=<span style=\"color: #800080; text-decoration-color: #800080\">0.7715</span> <span style=\"color: #0000ff; text-decoration-color: #0000ff; font-style: italic\">val_loss</span>=<span style=\"color: #800080; text-decoration-color: #800080\">1.5810</span>\n",
              "</pre>\n"
            ]
          },
          "metadata": {}
        },
        {
          "output_type": "stream",
          "name": "stderr",
          "text": [
            " 78%|███████▊  | 3897/5000 [02:21<00:28, 38.28it/s]"
          ]
        },
        {
          "output_type": "display_data",
          "data": {
            "text/plain": [
              "\u001b[30m[\u001b[0m\u001b[90m2024-02-06 \u001b[0m\u001b[90m14:16:44\u001b[0m\u001b[30m]\u001b[0m\u001b[30m[\u001b[0m\u001b[1;32mINFO\u001b[0m\u001b[30m]\u001b[0m\u001b[30m[\u001b[0m\u001b[3;36mtrainer\u001b[0m\u001b[92m:\u001b[0m\u001b[30m768\u001b[0m\u001b[30m]\u001b[0m\u001b[1;93m - \u001b[0m\u001b[3;94mstep\u001b[0m=\u001b[35m3900\u001b[0m \u001b[3;94mloss\u001b[0m=\u001b[35m0\u001b[0m\u001b[35m.9106\u001b[0m \u001b[3;94mdt\u001b[0m=\u001b[35m24\u001b[0m\u001b[35m.9762\u001b[0m \u001b[3;94mdtf\u001b[0m=\u001b[35m8\u001b[0m\u001b[35m.1918\u001b[0m \u001b[3;94mdtb\u001b[0m=\u001b[35m13\u001b[0m\u001b[35m.6802\u001b[0m \u001b[3;94msps\u001b[0m=\u001b[35m40\u001b[0m\u001b[35m.0381\u001b[0m \u001b[3;94mmtps\u001b[0m=\u001b[35m0\u001b[0m\u001b[35m.6560\u001b[0m \u001b[3;94mmfu\u001b[0m=\u001b[35m14\u001b[0m\u001b[35m.4134\u001b[0m \u001b[3;94mtrain_loss\u001b[0m=\u001b[35m0\u001b[0m\u001b[35m.7715\u001b[0m \u001b[3;94mval_loss\u001b[0m=\u001b[35m1\u001b[0m\u001b[35m.5810\u001b[0m\n"
            ],
            "text/html": [
              "<pre style=\"white-space:pre;overflow-x:auto;line-height:normal;font-family:Menlo,'DejaVu Sans Mono',consolas,'Courier New',monospace\"><span style=\"color: #000000; text-decoration-color: #000000\">[</span><span style=\"color: #808080; text-decoration-color: #808080\">2024-02-06 14:16:44</span><span style=\"color: #000000; text-decoration-color: #000000\">][</span><span style=\"color: #008000; text-decoration-color: #008000; font-weight: bold\">INFO</span><span style=\"color: #000000; text-decoration-color: #000000\">][</span><span style=\"color: #008080; text-decoration-color: #008080; font-style: italic\">trainer</span><span style=\"color: #00ff00; text-decoration-color: #00ff00\">:</span><span style=\"color: #000000; text-decoration-color: #000000\">768</span><span style=\"color: #000000; text-decoration-color: #000000\">]</span><span style=\"color: #ffff00; text-decoration-color: #ffff00; font-weight: bold\"> - </span><span style=\"color: #0000ff; text-decoration-color: #0000ff; font-style: italic\">step</span>=<span style=\"color: #800080; text-decoration-color: #800080\">3900</span> <span style=\"color: #0000ff; text-decoration-color: #0000ff; font-style: italic\">loss</span>=<span style=\"color: #800080; text-decoration-color: #800080\">0.9106</span> <span style=\"color: #0000ff; text-decoration-color: #0000ff; font-style: italic\">dt</span>=<span style=\"color: #800080; text-decoration-color: #800080\">24.9762</span> <span style=\"color: #0000ff; text-decoration-color: #0000ff; font-style: italic\">dtf</span>=<span style=\"color: #800080; text-decoration-color: #800080\">8.1918</span> <span style=\"color: #0000ff; text-decoration-color: #0000ff; font-style: italic\">dtb</span>=<span style=\"color: #800080; text-decoration-color: #800080\">13.6802</span> <span style=\"color: #0000ff; text-decoration-color: #0000ff; font-style: italic\">sps</span>=<span style=\"color: #800080; text-decoration-color: #800080\">40.0381</span> <span style=\"color: #0000ff; text-decoration-color: #0000ff; font-style: italic\">mtps</span>=<span style=\"color: #800080; text-decoration-color: #800080\">0.6560</span> <span style=\"color: #0000ff; text-decoration-color: #0000ff; font-style: italic\">mfu</span>=<span style=\"color: #800080; text-decoration-color: #800080\">14.4134</span> <span style=\"color: #0000ff; text-decoration-color: #0000ff; font-style: italic\">train_loss</span>=<span style=\"color: #800080; text-decoration-color: #800080\">0.7715</span> <span style=\"color: #0000ff; text-decoration-color: #0000ff; font-style: italic\">val_loss</span>=<span style=\"color: #800080; text-decoration-color: #800080\">1.5810</span>\n",
              "</pre>\n"
            ]
          },
          "metadata": {}
        },
        {
          "output_type": "stream",
          "name": "stderr",
          "text": [
            " 80%|███████▉  | 3997/5000 [02:24<00:26, 37.21it/s]"
          ]
        },
        {
          "output_type": "display_data",
          "data": {
            "text/plain": [
              "\u001b[30m[\u001b[0m\u001b[90m2024-02-06 \u001b[0m\u001b[90m14:16:47\u001b[0m\u001b[30m]\u001b[0m\u001b[30m[\u001b[0m\u001b[1;32mINFO\u001b[0m\u001b[30m]\u001b[0m\u001b[30m[\u001b[0m\u001b[3;36mtrainer\u001b[0m\u001b[92m:\u001b[0m\u001b[30m768\u001b[0m\u001b[30m]\u001b[0m\u001b[1;93m - \u001b[0m\u001b[3;94mstep\u001b[0m=\u001b[35m4000\u001b[0m \u001b[3;94mloss\u001b[0m=\u001b[35m0\u001b[0m\u001b[35m.8699\u001b[0m \u001b[3;94mdt\u001b[0m=\u001b[35m27\u001b[0m\u001b[35m.5879\u001b[0m \u001b[3;94mdtf\u001b[0m=\u001b[35m8\u001b[0m\u001b[35m.5578\u001b[0m \u001b[3;94mdtb\u001b[0m=\u001b[35m15\u001b[0m\u001b[35m.6070\u001b[0m \u001b[3;94msps\u001b[0m=\u001b[35m36\u001b[0m\u001b[35m.2478\u001b[0m \u001b[3;94mmtps\u001b[0m=\u001b[35m0\u001b[0m\u001b[35m.5939\u001b[0m \u001b[3;94mmfu\u001b[0m=\u001b[35m14\u001b[0m\u001b[35m.3228\u001b[0m \u001b[3;94mtrain_loss\u001b[0m=\u001b[35m0\u001b[0m\u001b[35m.7715\u001b[0m \u001b[3;94mval_loss\u001b[0m=\u001b[35m1\u001b[0m\u001b[35m.5810\u001b[0m\n"
            ],
            "text/html": [
              "<pre style=\"white-space:pre;overflow-x:auto;line-height:normal;font-family:Menlo,'DejaVu Sans Mono',consolas,'Courier New',monospace\"><span style=\"color: #000000; text-decoration-color: #000000\">[</span><span style=\"color: #808080; text-decoration-color: #808080\">2024-02-06 14:16:47</span><span style=\"color: #000000; text-decoration-color: #000000\">][</span><span style=\"color: #008000; text-decoration-color: #008000; font-weight: bold\">INFO</span><span style=\"color: #000000; text-decoration-color: #000000\">][</span><span style=\"color: #008080; text-decoration-color: #008080; font-style: italic\">trainer</span><span style=\"color: #00ff00; text-decoration-color: #00ff00\">:</span><span style=\"color: #000000; text-decoration-color: #000000\">768</span><span style=\"color: #000000; text-decoration-color: #000000\">]</span><span style=\"color: #ffff00; text-decoration-color: #ffff00; font-weight: bold\"> - </span><span style=\"color: #0000ff; text-decoration-color: #0000ff; font-style: italic\">step</span>=<span style=\"color: #800080; text-decoration-color: #800080\">4000</span> <span style=\"color: #0000ff; text-decoration-color: #0000ff; font-style: italic\">loss</span>=<span style=\"color: #800080; text-decoration-color: #800080\">0.8699</span> <span style=\"color: #0000ff; text-decoration-color: #0000ff; font-style: italic\">dt</span>=<span style=\"color: #800080; text-decoration-color: #800080\">27.5879</span> <span style=\"color: #0000ff; text-decoration-color: #0000ff; font-style: italic\">dtf</span>=<span style=\"color: #800080; text-decoration-color: #800080\">8.5578</span> <span style=\"color: #0000ff; text-decoration-color: #0000ff; font-style: italic\">dtb</span>=<span style=\"color: #800080; text-decoration-color: #800080\">15.6070</span> <span style=\"color: #0000ff; text-decoration-color: #0000ff; font-style: italic\">sps</span>=<span style=\"color: #800080; text-decoration-color: #800080\">36.2478</span> <span style=\"color: #0000ff; text-decoration-color: #0000ff; font-style: italic\">mtps</span>=<span style=\"color: #800080; text-decoration-color: #800080\">0.5939</span> <span style=\"color: #0000ff; text-decoration-color: #0000ff; font-style: italic\">mfu</span>=<span style=\"color: #800080; text-decoration-color: #800080\">14.3228</span> <span style=\"color: #0000ff; text-decoration-color: #0000ff; font-style: italic\">train_loss</span>=<span style=\"color: #800080; text-decoration-color: #800080\">0.7715</span> <span style=\"color: #0000ff; text-decoration-color: #0000ff; font-style: italic\">val_loss</span>=<span style=\"color: #800080; text-decoration-color: #800080\">1.5810</span>\n",
              "</pre>\n"
            ]
          },
          "metadata": {}
        },
        {
          "output_type": "display_data",
          "data": {
            "text/plain": [
              "\u001b[30m[\u001b[0m\u001b[90m2024-02-06 \u001b[0m\u001b[90m14:16:51\u001b[0m\u001b[30m]\u001b[0m\u001b[30m[\u001b[0m\u001b[1;32mINFO\u001b[0m\u001b[30m]\u001b[0m\u001b[30m[\u001b[0m\u001b[3;36mtrainer\u001b[0m\u001b[92m:\u001b[0m\u001b[30m666\u001b[0m\u001b[30m]\u001b[0m\u001b[1;93m - \u001b[0mSaving checkpoint to: \u001b[32m/\u001b[0m\u001b[35mcontent\u001b[0m\n"
            ],
            "text/html": [
              "<pre style=\"white-space:pre;overflow-x:auto;line-height:normal;font-family:Menlo,'DejaVu Sans Mono',consolas,'Courier New',monospace\"><span style=\"color: #000000; text-decoration-color: #000000\">[</span><span style=\"color: #808080; text-decoration-color: #808080\">2024-02-06 14:16:51</span><span style=\"color: #000000; text-decoration-color: #000000\">][</span><span style=\"color: #008000; text-decoration-color: #008000; font-weight: bold\">INFO</span><span style=\"color: #000000; text-decoration-color: #000000\">][</span><span style=\"color: #008080; text-decoration-color: #008080; font-style: italic\">trainer</span><span style=\"color: #00ff00; text-decoration-color: #00ff00\">:</span><span style=\"color: #000000; text-decoration-color: #000000\">666</span><span style=\"color: #000000; text-decoration-color: #000000\">]</span><span style=\"color: #ffff00; text-decoration-color: #ffff00; font-weight: bold\"> - </span>Saving checkpoint to: <span style=\"color: #008000; text-decoration-color: #008000\">/</span><span style=\"color: #800080; text-decoration-color: #800080\">content</span>\n",
              "</pre>\n"
            ]
          },
          "metadata": {}
        },
        {
          "output_type": "display_data",
          "data": {
            "text/plain": [
              "\u001b[30m[\u001b[0m\u001b[90m2024-02-06 \u001b[0m\u001b[90m14:16:51\u001b[0m\u001b[30m]\u001b[0m\u001b[30m[\u001b[0m\u001b[1;32mINFO\u001b[0m\u001b[30m]\u001b[0m\u001b[30m[\u001b[0m\u001b[3;36mtrainer\u001b[0m\u001b[92m:\u001b[0m\u001b[30m667\u001b[0m\u001b[30m]\u001b[0m\u001b[1;93m - \u001b[0mSaving model to: \u001b[32m/content/\u001b[0m\u001b[35mmodel.pth\u001b[0m\n"
            ],
            "text/html": [
              "<pre style=\"white-space:pre;overflow-x:auto;line-height:normal;font-family:Menlo,'DejaVu Sans Mono',consolas,'Courier New',monospace\"><span style=\"color: #000000; text-decoration-color: #000000\">[</span><span style=\"color: #808080; text-decoration-color: #808080\">2024-02-06 14:16:51</span><span style=\"color: #000000; text-decoration-color: #000000\">][</span><span style=\"color: #008000; text-decoration-color: #008000; font-weight: bold\">INFO</span><span style=\"color: #000000; text-decoration-color: #000000\">][</span><span style=\"color: #008080; text-decoration-color: #008080; font-style: italic\">trainer</span><span style=\"color: #00ff00; text-decoration-color: #00ff00\">:</span><span style=\"color: #000000; text-decoration-color: #000000\">667</span><span style=\"color: #000000; text-decoration-color: #000000\">]</span><span style=\"color: #ffff00; text-decoration-color: #ffff00; font-weight: bold\"> - </span>Saving model to: <span style=\"color: #008000; text-decoration-color: #008000\">/content/</span><span style=\"color: #800080; text-decoration-color: #800080\">model.pth</span>\n",
              "</pre>\n"
            ]
          },
          "metadata": {}
        },
        {
          "output_type": "display_data",
          "data": {
            "text/plain": [
              "\u001b[30m[\u001b[0m\u001b[90m2024-02-06 \u001b[0m\u001b[90m14:16:52\u001b[0m\u001b[30m]\u001b[0m\u001b[30m[\u001b[0m\u001b[1;32mINFO\u001b[0m\u001b[30m]\u001b[0m\u001b[30m[\u001b[0m\u001b[3;36mconfigs\u001b[0m\u001b[92m:\u001b[0m\u001b[30m132\u001b[0m\u001b[30m]\u001b[0m\u001b[1;93m - \u001b[0mAppending \u001b[32m/\u001b[0m\u001b[35mcontent\u001b[0m to \u001b[32m/content/wordplay/src/ckpts/\u001b[0m\u001b[35mcheckpoints.log\u001b[0m\n"
            ],
            "text/html": [
              "<pre style=\"white-space:pre;overflow-x:auto;line-height:normal;font-family:Menlo,'DejaVu Sans Mono',consolas,'Courier New',monospace\"><span style=\"color: #000000; text-decoration-color: #000000\">[</span><span style=\"color: #808080; text-decoration-color: #808080\">2024-02-06 14:16:52</span><span style=\"color: #000000; text-decoration-color: #000000\">][</span><span style=\"color: #008000; text-decoration-color: #008000; font-weight: bold\">INFO</span><span style=\"color: #000000; text-decoration-color: #000000\">][</span><span style=\"color: #008080; text-decoration-color: #008080; font-style: italic\">configs</span><span style=\"color: #00ff00; text-decoration-color: #00ff00\">:</span><span style=\"color: #000000; text-decoration-color: #000000\">132</span><span style=\"color: #000000; text-decoration-color: #000000\">]</span><span style=\"color: #ffff00; text-decoration-color: #ffff00; font-weight: bold\"> - </span>Appending <span style=\"color: #008000; text-decoration-color: #008000\">/</span><span style=\"color: #800080; text-decoration-color: #800080\">content</span> to <span style=\"color: #008000; text-decoration-color: #008000\">/content/wordplay/src/ckpts/</span><span style=\"color: #800080; text-decoration-color: #800080\">checkpoints.log</span>\n",
              "</pre>\n"
            ]
          },
          "metadata": {}
        },
        {
          "output_type": "stream",
          "name": "stderr",
          "text": [
            " 82%|████████▏ | 4097/5000 [02:31<00:23, 38.42it/s]"
          ]
        },
        {
          "output_type": "display_data",
          "data": {
            "text/plain": [
              "\u001b[30m[\u001b[0m\u001b[90m2024-02-06 \u001b[0m\u001b[90m14:16:54\u001b[0m\u001b[30m]\u001b[0m\u001b[30m[\u001b[0m\u001b[1;32mINFO\u001b[0m\u001b[30m]\u001b[0m\u001b[30m[\u001b[0m\u001b[3;36mtrainer\u001b[0m\u001b[92m:\u001b[0m\u001b[30m768\u001b[0m\u001b[30m]\u001b[0m\u001b[1;93m - \u001b[0m\u001b[3;94mstep\u001b[0m=\u001b[35m4100\u001b[0m \u001b[3;94mloss\u001b[0m=\u001b[35m0\u001b[0m\u001b[35m.8700\u001b[0m \u001b[3;94mdt\u001b[0m=\u001b[35m24\u001b[0m\u001b[35m.6507\u001b[0m \u001b[3;94mdtf\u001b[0m=\u001b[35m8\u001b[0m\u001b[35m.2001\u001b[0m \u001b[3;94mdtb\u001b[0m=\u001b[35m13\u001b[0m\u001b[35m.3796\u001b[0m \u001b[3;94msps\u001b[0m=\u001b[35m40\u001b[0m\u001b[35m.5667\u001b[0m \u001b[3;94mmtps\u001b[0m=\u001b[35m0\u001b[0m\u001b[35m.6646\u001b[0m \u001b[3;94mmfu\u001b[0m=\u001b[35m14\u001b[0m\u001b[35m.4021\u001b[0m \u001b[3;94mtrain_loss\u001b[0m=\u001b[35m0\u001b[0m\u001b[35m.6969\u001b[0m \u001b[3;94mval_loss\u001b[0m=\u001b[35m1\u001b[0m\u001b[35m.6337\u001b[0m\n"
            ],
            "text/html": [
              "<pre style=\"white-space:pre;overflow-x:auto;line-height:normal;font-family:Menlo,'DejaVu Sans Mono',consolas,'Courier New',monospace\"><span style=\"color: #000000; text-decoration-color: #000000\">[</span><span style=\"color: #808080; text-decoration-color: #808080\">2024-02-06 14:16:54</span><span style=\"color: #000000; text-decoration-color: #000000\">][</span><span style=\"color: #008000; text-decoration-color: #008000; font-weight: bold\">INFO</span><span style=\"color: #000000; text-decoration-color: #000000\">][</span><span style=\"color: #008080; text-decoration-color: #008080; font-style: italic\">trainer</span><span style=\"color: #00ff00; text-decoration-color: #00ff00\">:</span><span style=\"color: #000000; text-decoration-color: #000000\">768</span><span style=\"color: #000000; text-decoration-color: #000000\">]</span><span style=\"color: #ffff00; text-decoration-color: #ffff00; font-weight: bold\"> - </span><span style=\"color: #0000ff; text-decoration-color: #0000ff; font-style: italic\">step</span>=<span style=\"color: #800080; text-decoration-color: #800080\">4100</span> <span style=\"color: #0000ff; text-decoration-color: #0000ff; font-style: italic\">loss</span>=<span style=\"color: #800080; text-decoration-color: #800080\">0.8700</span> <span style=\"color: #0000ff; text-decoration-color: #0000ff; font-style: italic\">dt</span>=<span style=\"color: #800080; text-decoration-color: #800080\">24.6507</span> <span style=\"color: #0000ff; text-decoration-color: #0000ff; font-style: italic\">dtf</span>=<span style=\"color: #800080; text-decoration-color: #800080\">8.2001</span> <span style=\"color: #0000ff; text-decoration-color: #0000ff; font-style: italic\">dtb</span>=<span style=\"color: #800080; text-decoration-color: #800080\">13.3796</span> <span style=\"color: #0000ff; text-decoration-color: #0000ff; font-style: italic\">sps</span>=<span style=\"color: #800080; text-decoration-color: #800080\">40.5667</span> <span style=\"color: #0000ff; text-decoration-color: #0000ff; font-style: italic\">mtps</span>=<span style=\"color: #800080; text-decoration-color: #800080\">0.6646</span> <span style=\"color: #0000ff; text-decoration-color: #0000ff; font-style: italic\">mfu</span>=<span style=\"color: #800080; text-decoration-color: #800080\">14.4021</span> <span style=\"color: #0000ff; text-decoration-color: #0000ff; font-style: italic\">train_loss</span>=<span style=\"color: #800080; text-decoration-color: #800080\">0.6969</span> <span style=\"color: #0000ff; text-decoration-color: #0000ff; font-style: italic\">val_loss</span>=<span style=\"color: #800080; text-decoration-color: #800080\">1.6337</span>\n",
              "</pre>\n"
            ]
          },
          "metadata": {}
        },
        {
          "output_type": "stream",
          "name": "stderr",
          "text": [
            " 84%|████████▍ | 4197/5000 [02:34<00:20, 38.48it/s]"
          ]
        },
        {
          "output_type": "display_data",
          "data": {
            "text/plain": [
              "\u001b[30m[\u001b[0m\u001b[90m2024-02-06 \u001b[0m\u001b[90m14:16:57\u001b[0m\u001b[30m]\u001b[0m\u001b[30m[\u001b[0m\u001b[1;32mINFO\u001b[0m\u001b[30m]\u001b[0m\u001b[30m[\u001b[0m\u001b[3;36mtrainer\u001b[0m\u001b[92m:\u001b[0m\u001b[30m768\u001b[0m\u001b[30m]\u001b[0m\u001b[1;93m - \u001b[0m\u001b[3;94mstep\u001b[0m=\u001b[35m4200\u001b[0m \u001b[3;94mloss\u001b[0m=\u001b[35m0\u001b[0m\u001b[35m.8607\u001b[0m \u001b[3;94mdt\u001b[0m=\u001b[35m25\u001b[0m\u001b[35m.0208\u001b[0m \u001b[3;94mdtf\u001b[0m=\u001b[35m8\u001b[0m\u001b[35m.2039\u001b[0m \u001b[3;94mdtb\u001b[0m=\u001b[35m13\u001b[0m\u001b[35m.6743\u001b[0m \u001b[3;94msps\u001b[0m=\u001b[35m39\u001b[0m\u001b[35m.9667\u001b[0m \u001b[3;94mmtps\u001b[0m=\u001b[35m0\u001b[0m\u001b[35m.6548\u001b[0m \u001b[3;94mmfu\u001b[0m=\u001b[35m14\u001b[0m\u001b[35m.4512\u001b[0m \u001b[3;94mtrain_loss\u001b[0m=\u001b[35m0\u001b[0m\u001b[35m.6969\u001b[0m \u001b[3;94mval_loss\u001b[0m=\u001b[35m1\u001b[0m\u001b[35m.6337\u001b[0m\n"
            ],
            "text/html": [
              "<pre style=\"white-space:pre;overflow-x:auto;line-height:normal;font-family:Menlo,'DejaVu Sans Mono',consolas,'Courier New',monospace\"><span style=\"color: #000000; text-decoration-color: #000000\">[</span><span style=\"color: #808080; text-decoration-color: #808080\">2024-02-06 14:16:57</span><span style=\"color: #000000; text-decoration-color: #000000\">][</span><span style=\"color: #008000; text-decoration-color: #008000; font-weight: bold\">INFO</span><span style=\"color: #000000; text-decoration-color: #000000\">][</span><span style=\"color: #008080; text-decoration-color: #008080; font-style: italic\">trainer</span><span style=\"color: #00ff00; text-decoration-color: #00ff00\">:</span><span style=\"color: #000000; text-decoration-color: #000000\">768</span><span style=\"color: #000000; text-decoration-color: #000000\">]</span><span style=\"color: #ffff00; text-decoration-color: #ffff00; font-weight: bold\"> - </span><span style=\"color: #0000ff; text-decoration-color: #0000ff; font-style: italic\">step</span>=<span style=\"color: #800080; text-decoration-color: #800080\">4200</span> <span style=\"color: #0000ff; text-decoration-color: #0000ff; font-style: italic\">loss</span>=<span style=\"color: #800080; text-decoration-color: #800080\">0.8607</span> <span style=\"color: #0000ff; text-decoration-color: #0000ff; font-style: italic\">dt</span>=<span style=\"color: #800080; text-decoration-color: #800080\">25.0208</span> <span style=\"color: #0000ff; text-decoration-color: #0000ff; font-style: italic\">dtf</span>=<span style=\"color: #800080; text-decoration-color: #800080\">8.2039</span> <span style=\"color: #0000ff; text-decoration-color: #0000ff; font-style: italic\">dtb</span>=<span style=\"color: #800080; text-decoration-color: #800080\">13.6743</span> <span style=\"color: #0000ff; text-decoration-color: #0000ff; font-style: italic\">sps</span>=<span style=\"color: #800080; text-decoration-color: #800080\">39.9667</span> <span style=\"color: #0000ff; text-decoration-color: #0000ff; font-style: italic\">mtps</span>=<span style=\"color: #800080; text-decoration-color: #800080\">0.6548</span> <span style=\"color: #0000ff; text-decoration-color: #0000ff; font-style: italic\">mfu</span>=<span style=\"color: #800080; text-decoration-color: #800080\">14.4512</span> <span style=\"color: #0000ff; text-decoration-color: #0000ff; font-style: italic\">train_loss</span>=<span style=\"color: #800080; text-decoration-color: #800080\">0.6969</span> <span style=\"color: #0000ff; text-decoration-color: #0000ff; font-style: italic\">val_loss</span>=<span style=\"color: #800080; text-decoration-color: #800080\">1.6337</span>\n",
              "</pre>\n"
            ]
          },
          "metadata": {}
        },
        {
          "output_type": "stream",
          "name": "stderr",
          "text": [
            " 86%|████████▌ | 4297/5000 [02:37<00:18, 38.22it/s]"
          ]
        },
        {
          "output_type": "display_data",
          "data": {
            "text/plain": [
              "\u001b[30m[\u001b[0m\u001b[90m2024-02-06 \u001b[0m\u001b[90m14:17:00\u001b[0m\u001b[30m]\u001b[0m\u001b[30m[\u001b[0m\u001b[1;32mINFO\u001b[0m\u001b[30m]\u001b[0m\u001b[30m[\u001b[0m\u001b[3;36mtrainer\u001b[0m\u001b[92m:\u001b[0m\u001b[30m768\u001b[0m\u001b[30m]\u001b[0m\u001b[1;93m - \u001b[0m\u001b[3;94mstep\u001b[0m=\u001b[35m4300\u001b[0m \u001b[3;94mloss\u001b[0m=\u001b[35m0\u001b[0m\u001b[35m.8254\u001b[0m \u001b[3;94mdt\u001b[0m=\u001b[35m24\u001b[0m\u001b[35m.9226\u001b[0m \u001b[3;94mdtf\u001b[0m=\u001b[35m8\u001b[0m\u001b[35m.2661\u001b[0m \u001b[3;94mdtb\u001b[0m=\u001b[35m13\u001b[0m\u001b[35m.6075\u001b[0m \u001b[3;94msps\u001b[0m=\u001b[35m40\u001b[0m\u001b[35m.1243\u001b[0m \u001b[3;94mmtps\u001b[0m=\u001b[35m0\u001b[0m\u001b[35m.6574\u001b[0m \u001b[3;94mmfu\u001b[0m=\u001b[35m14\u001b[0m\u001b[35m.5012\u001b[0m \u001b[3;94mtrain_loss\u001b[0m=\u001b[35m0\u001b[0m\u001b[35m.6969\u001b[0m \u001b[3;94mval_loss\u001b[0m=\u001b[35m1\u001b[0m\u001b[35m.6337\u001b[0m\n"
            ],
            "text/html": [
              "<pre style=\"white-space:pre;overflow-x:auto;line-height:normal;font-family:Menlo,'DejaVu Sans Mono',consolas,'Courier New',monospace\"><span style=\"color: #000000; text-decoration-color: #000000\">[</span><span style=\"color: #808080; text-decoration-color: #808080\">2024-02-06 14:17:00</span><span style=\"color: #000000; text-decoration-color: #000000\">][</span><span style=\"color: #008000; text-decoration-color: #008000; font-weight: bold\">INFO</span><span style=\"color: #000000; text-decoration-color: #000000\">][</span><span style=\"color: #008080; text-decoration-color: #008080; font-style: italic\">trainer</span><span style=\"color: #00ff00; text-decoration-color: #00ff00\">:</span><span style=\"color: #000000; text-decoration-color: #000000\">768</span><span style=\"color: #000000; text-decoration-color: #000000\">]</span><span style=\"color: #ffff00; text-decoration-color: #ffff00; font-weight: bold\"> - </span><span style=\"color: #0000ff; text-decoration-color: #0000ff; font-style: italic\">step</span>=<span style=\"color: #800080; text-decoration-color: #800080\">4300</span> <span style=\"color: #0000ff; text-decoration-color: #0000ff; font-style: italic\">loss</span>=<span style=\"color: #800080; text-decoration-color: #800080\">0.8254</span> <span style=\"color: #0000ff; text-decoration-color: #0000ff; font-style: italic\">dt</span>=<span style=\"color: #800080; text-decoration-color: #800080\">24.9226</span> <span style=\"color: #0000ff; text-decoration-color: #0000ff; font-style: italic\">dtf</span>=<span style=\"color: #800080; text-decoration-color: #800080\">8.2661</span> <span style=\"color: #0000ff; text-decoration-color: #0000ff; font-style: italic\">dtb</span>=<span style=\"color: #800080; text-decoration-color: #800080\">13.6075</span> <span style=\"color: #0000ff; text-decoration-color: #0000ff; font-style: italic\">sps</span>=<span style=\"color: #800080; text-decoration-color: #800080\">40.1243</span> <span style=\"color: #0000ff; text-decoration-color: #0000ff; font-style: italic\">mtps</span>=<span style=\"color: #800080; text-decoration-color: #800080\">0.6574</span> <span style=\"color: #0000ff; text-decoration-color: #0000ff; font-style: italic\">mfu</span>=<span style=\"color: #800080; text-decoration-color: #800080\">14.5012</span> <span style=\"color: #0000ff; text-decoration-color: #0000ff; font-style: italic\">train_loss</span>=<span style=\"color: #800080; text-decoration-color: #800080\">0.6969</span> <span style=\"color: #0000ff; text-decoration-color: #0000ff; font-style: italic\">val_loss</span>=<span style=\"color: #800080; text-decoration-color: #800080\">1.6337</span>\n",
              "</pre>\n"
            ]
          },
          "metadata": {}
        },
        {
          "output_type": "stream",
          "name": "stderr",
          "text": [
            " 88%|████████▊ | 4397/5000 [02:39<00:15, 38.34it/s]"
          ]
        },
        {
          "output_type": "display_data",
          "data": {
            "text/plain": [
              "\u001b[30m[\u001b[0m\u001b[90m2024-02-06 \u001b[0m\u001b[90m14:17:02\u001b[0m\u001b[30m]\u001b[0m\u001b[30m[\u001b[0m\u001b[1;32mINFO\u001b[0m\u001b[30m]\u001b[0m\u001b[30m[\u001b[0m\u001b[3;36mtrainer\u001b[0m\u001b[92m:\u001b[0m\u001b[30m768\u001b[0m\u001b[30m]\u001b[0m\u001b[1;93m - \u001b[0m\u001b[3;94mstep\u001b[0m=\u001b[35m4400\u001b[0m \u001b[3;94mloss\u001b[0m=\u001b[35m0\u001b[0m\u001b[35m.8388\u001b[0m \u001b[3;94mdt\u001b[0m=\u001b[35m25\u001b[0m\u001b[35m.3210\u001b[0m \u001b[3;94mdtf\u001b[0m=\u001b[35m8\u001b[0m\u001b[35m.3739\u001b[0m \u001b[3;94mdtb\u001b[0m=\u001b[35m13\u001b[0m\u001b[35m.7299\u001b[0m \u001b[3;94msps\u001b[0m=\u001b[35m39\u001b[0m\u001b[35m.4929\u001b[0m \u001b[3;94mmtps\u001b[0m=\u001b[35m0\u001b[0m\u001b[35m.6471\u001b[0m \u001b[3;94mmfu\u001b[0m=\u001b[35m14\u001b[0m\u001b[35m.5226\u001b[0m \u001b[3;94mtrain_loss\u001b[0m=\u001b[35m0\u001b[0m\u001b[35m.6969\u001b[0m \u001b[3;94mval_loss\u001b[0m=\u001b[35m1\u001b[0m\u001b[35m.6337\u001b[0m\n"
            ],
            "text/html": [
              "<pre style=\"white-space:pre;overflow-x:auto;line-height:normal;font-family:Menlo,'DejaVu Sans Mono',consolas,'Courier New',monospace\"><span style=\"color: #000000; text-decoration-color: #000000\">[</span><span style=\"color: #808080; text-decoration-color: #808080\">2024-02-06 14:17:02</span><span style=\"color: #000000; text-decoration-color: #000000\">][</span><span style=\"color: #008000; text-decoration-color: #008000; font-weight: bold\">INFO</span><span style=\"color: #000000; text-decoration-color: #000000\">][</span><span style=\"color: #008080; text-decoration-color: #008080; font-style: italic\">trainer</span><span style=\"color: #00ff00; text-decoration-color: #00ff00\">:</span><span style=\"color: #000000; text-decoration-color: #000000\">768</span><span style=\"color: #000000; text-decoration-color: #000000\">]</span><span style=\"color: #ffff00; text-decoration-color: #ffff00; font-weight: bold\"> - </span><span style=\"color: #0000ff; text-decoration-color: #0000ff; font-style: italic\">step</span>=<span style=\"color: #800080; text-decoration-color: #800080\">4400</span> <span style=\"color: #0000ff; text-decoration-color: #0000ff; font-style: italic\">loss</span>=<span style=\"color: #800080; text-decoration-color: #800080\">0.8388</span> <span style=\"color: #0000ff; text-decoration-color: #0000ff; font-style: italic\">dt</span>=<span style=\"color: #800080; text-decoration-color: #800080\">25.3210</span> <span style=\"color: #0000ff; text-decoration-color: #0000ff; font-style: italic\">dtf</span>=<span style=\"color: #800080; text-decoration-color: #800080\">8.3739</span> <span style=\"color: #0000ff; text-decoration-color: #0000ff; font-style: italic\">dtb</span>=<span style=\"color: #800080; text-decoration-color: #800080\">13.7299</span> <span style=\"color: #0000ff; text-decoration-color: #0000ff; font-style: italic\">sps</span>=<span style=\"color: #800080; text-decoration-color: #800080\">39.4929</span> <span style=\"color: #0000ff; text-decoration-color: #0000ff; font-style: italic\">mtps</span>=<span style=\"color: #800080; text-decoration-color: #800080\">0.6471</span> <span style=\"color: #0000ff; text-decoration-color: #0000ff; font-style: italic\">mfu</span>=<span style=\"color: #800080; text-decoration-color: #800080\">14.5226</span> <span style=\"color: #0000ff; text-decoration-color: #0000ff; font-style: italic\">train_loss</span>=<span style=\"color: #800080; text-decoration-color: #800080\">0.6969</span> <span style=\"color: #0000ff; text-decoration-color: #0000ff; font-style: italic\">val_loss</span>=<span style=\"color: #800080; text-decoration-color: #800080\">1.6337</span>\n",
              "</pre>\n"
            ]
          },
          "metadata": {}
        },
        {
          "output_type": "stream",
          "name": "stderr",
          "text": [
            " 90%|████████▉ | 4497/5000 [02:42<00:13, 37.13it/s]"
          ]
        },
        {
          "output_type": "display_data",
          "data": {
            "text/plain": [
              "\u001b[30m[\u001b[0m\u001b[90m2024-02-06 \u001b[0m\u001b[90m14:17:05\u001b[0m\u001b[30m]\u001b[0m\u001b[30m[\u001b[0m\u001b[1;32mINFO\u001b[0m\u001b[30m]\u001b[0m\u001b[30m[\u001b[0m\u001b[3;36mtrainer\u001b[0m\u001b[92m:\u001b[0m\u001b[30m768\u001b[0m\u001b[30m]\u001b[0m\u001b[1;93m - \u001b[0m\u001b[3;94mstep\u001b[0m=\u001b[35m4500\u001b[0m \u001b[3;94mloss\u001b[0m=\u001b[35m0\u001b[0m\u001b[35m.8295\u001b[0m \u001b[3;94mdt\u001b[0m=\u001b[35m25\u001b[0m\u001b[35m.8943\u001b[0m \u001b[3;94mdtf\u001b[0m=\u001b[35m8\u001b[0m\u001b[35m.5895\u001b[0m \u001b[3;94mdtb\u001b[0m=\u001b[35m14\u001b[0m\u001b[35m.0344\u001b[0m \u001b[3;94msps\u001b[0m=\u001b[35m38\u001b[0m\u001b[35m.6185\u001b[0m \u001b[3;94mmtps\u001b[0m=\u001b[35m0\u001b[0m\u001b[35m.6327\u001b[0m \u001b[3;94mmfu\u001b[0m=\u001b[35m14\u001b[0m\u001b[35m.5094\u001b[0m \u001b[3;94mtrain_loss\u001b[0m=\u001b[35m0\u001b[0m\u001b[35m.6969\u001b[0m \u001b[3;94mval_loss\u001b[0m=\u001b[35m1\u001b[0m\u001b[35m.6337\u001b[0m\n"
            ],
            "text/html": [
              "<pre style=\"white-space:pre;overflow-x:auto;line-height:normal;font-family:Menlo,'DejaVu Sans Mono',consolas,'Courier New',monospace\"><span style=\"color: #000000; text-decoration-color: #000000\">[</span><span style=\"color: #808080; text-decoration-color: #808080\">2024-02-06 14:17:05</span><span style=\"color: #000000; text-decoration-color: #000000\">][</span><span style=\"color: #008000; text-decoration-color: #008000; font-weight: bold\">INFO</span><span style=\"color: #000000; text-decoration-color: #000000\">][</span><span style=\"color: #008080; text-decoration-color: #008080; font-style: italic\">trainer</span><span style=\"color: #00ff00; text-decoration-color: #00ff00\">:</span><span style=\"color: #000000; text-decoration-color: #000000\">768</span><span style=\"color: #000000; text-decoration-color: #000000\">]</span><span style=\"color: #ffff00; text-decoration-color: #ffff00; font-weight: bold\"> - </span><span style=\"color: #0000ff; text-decoration-color: #0000ff; font-style: italic\">step</span>=<span style=\"color: #800080; text-decoration-color: #800080\">4500</span> <span style=\"color: #0000ff; text-decoration-color: #0000ff; font-style: italic\">loss</span>=<span style=\"color: #800080; text-decoration-color: #800080\">0.8295</span> <span style=\"color: #0000ff; text-decoration-color: #0000ff; font-style: italic\">dt</span>=<span style=\"color: #800080; text-decoration-color: #800080\">25.8943</span> <span style=\"color: #0000ff; text-decoration-color: #0000ff; font-style: italic\">dtf</span>=<span style=\"color: #800080; text-decoration-color: #800080\">8.5895</span> <span style=\"color: #0000ff; text-decoration-color: #0000ff; font-style: italic\">dtb</span>=<span style=\"color: #800080; text-decoration-color: #800080\">14.0344</span> <span style=\"color: #0000ff; text-decoration-color: #0000ff; font-style: italic\">sps</span>=<span style=\"color: #800080; text-decoration-color: #800080\">38.6185</span> <span style=\"color: #0000ff; text-decoration-color: #0000ff; font-style: italic\">mtps</span>=<span style=\"color: #800080; text-decoration-color: #800080\">0.6327</span> <span style=\"color: #0000ff; text-decoration-color: #0000ff; font-style: italic\">mfu</span>=<span style=\"color: #800080; text-decoration-color: #800080\">14.5094</span> <span style=\"color: #0000ff; text-decoration-color: #0000ff; font-style: italic\">train_loss</span>=<span style=\"color: #800080; text-decoration-color: #800080\">0.6969</span> <span style=\"color: #0000ff; text-decoration-color: #0000ff; font-style: italic\">val_loss</span>=<span style=\"color: #800080; text-decoration-color: #800080\">1.6337</span>\n",
              "</pre>\n"
            ]
          },
          "metadata": {}
        },
        {
          "output_type": "display_data",
          "data": {
            "text/plain": [
              "\u001b[30m[\u001b[0m\u001b[90m2024-02-06 \u001b[0m\u001b[90m14:17:09\u001b[0m\u001b[30m]\u001b[0m\u001b[30m[\u001b[0m\u001b[1;32mINFO\u001b[0m\u001b[30m]\u001b[0m\u001b[30m[\u001b[0m\u001b[3;36mtrainer\u001b[0m\u001b[92m:\u001b[0m\u001b[30m666\u001b[0m\u001b[30m]\u001b[0m\u001b[1;93m - \u001b[0mSaving checkpoint to: \u001b[32m/\u001b[0m\u001b[35mcontent\u001b[0m\n"
            ],
            "text/html": [
              "<pre style=\"white-space:pre;overflow-x:auto;line-height:normal;font-family:Menlo,'DejaVu Sans Mono',consolas,'Courier New',monospace\"><span style=\"color: #000000; text-decoration-color: #000000\">[</span><span style=\"color: #808080; text-decoration-color: #808080\">2024-02-06 14:17:09</span><span style=\"color: #000000; text-decoration-color: #000000\">][</span><span style=\"color: #008000; text-decoration-color: #008000; font-weight: bold\">INFO</span><span style=\"color: #000000; text-decoration-color: #000000\">][</span><span style=\"color: #008080; text-decoration-color: #008080; font-style: italic\">trainer</span><span style=\"color: #00ff00; text-decoration-color: #00ff00\">:</span><span style=\"color: #000000; text-decoration-color: #000000\">666</span><span style=\"color: #000000; text-decoration-color: #000000\">]</span><span style=\"color: #ffff00; text-decoration-color: #ffff00; font-weight: bold\"> - </span>Saving checkpoint to: <span style=\"color: #008000; text-decoration-color: #008000\">/</span><span style=\"color: #800080; text-decoration-color: #800080\">content</span>\n",
              "</pre>\n"
            ]
          },
          "metadata": {}
        },
        {
          "output_type": "display_data",
          "data": {
            "text/plain": [
              "\u001b[30m[\u001b[0m\u001b[90m2024-02-06 \u001b[0m\u001b[90m14:17:09\u001b[0m\u001b[30m]\u001b[0m\u001b[30m[\u001b[0m\u001b[1;32mINFO\u001b[0m\u001b[30m]\u001b[0m\u001b[30m[\u001b[0m\u001b[3;36mtrainer\u001b[0m\u001b[92m:\u001b[0m\u001b[30m667\u001b[0m\u001b[30m]\u001b[0m\u001b[1;93m - \u001b[0mSaving model to: \u001b[32m/content/\u001b[0m\u001b[35mmodel.pth\u001b[0m\n"
            ],
            "text/html": [
              "<pre style=\"white-space:pre;overflow-x:auto;line-height:normal;font-family:Menlo,'DejaVu Sans Mono',consolas,'Courier New',monospace\"><span style=\"color: #000000; text-decoration-color: #000000\">[</span><span style=\"color: #808080; text-decoration-color: #808080\">2024-02-06 14:17:09</span><span style=\"color: #000000; text-decoration-color: #000000\">][</span><span style=\"color: #008000; text-decoration-color: #008000; font-weight: bold\">INFO</span><span style=\"color: #000000; text-decoration-color: #000000\">][</span><span style=\"color: #008080; text-decoration-color: #008080; font-style: italic\">trainer</span><span style=\"color: #00ff00; text-decoration-color: #00ff00\">:</span><span style=\"color: #000000; text-decoration-color: #000000\">667</span><span style=\"color: #000000; text-decoration-color: #000000\">]</span><span style=\"color: #ffff00; text-decoration-color: #ffff00; font-weight: bold\"> - </span>Saving model to: <span style=\"color: #008000; text-decoration-color: #008000\">/content/</span><span style=\"color: #800080; text-decoration-color: #800080\">model.pth</span>\n",
              "</pre>\n"
            ]
          },
          "metadata": {}
        },
        {
          "output_type": "display_data",
          "data": {
            "text/plain": [
              "\u001b[30m[\u001b[0m\u001b[90m2024-02-06 \u001b[0m\u001b[90m14:17:10\u001b[0m\u001b[30m]\u001b[0m\u001b[30m[\u001b[0m\u001b[1;32mINFO\u001b[0m\u001b[30m]\u001b[0m\u001b[30m[\u001b[0m\u001b[3;36mconfigs\u001b[0m\u001b[92m:\u001b[0m\u001b[30m132\u001b[0m\u001b[30m]\u001b[0m\u001b[1;93m - \u001b[0mAppending \u001b[32m/\u001b[0m\u001b[35mcontent\u001b[0m to \u001b[32m/content/wordplay/src/ckpts/\u001b[0m\u001b[35mcheckpoints.log\u001b[0m\n"
            ],
            "text/html": [
              "<pre style=\"white-space:pre;overflow-x:auto;line-height:normal;font-family:Menlo,'DejaVu Sans Mono',consolas,'Courier New',monospace\"><span style=\"color: #000000; text-decoration-color: #000000\">[</span><span style=\"color: #808080; text-decoration-color: #808080\">2024-02-06 14:17:10</span><span style=\"color: #000000; text-decoration-color: #000000\">][</span><span style=\"color: #008000; text-decoration-color: #008000; font-weight: bold\">INFO</span><span style=\"color: #000000; text-decoration-color: #000000\">][</span><span style=\"color: #008080; text-decoration-color: #008080; font-style: italic\">configs</span><span style=\"color: #00ff00; text-decoration-color: #00ff00\">:</span><span style=\"color: #000000; text-decoration-color: #000000\">132</span><span style=\"color: #000000; text-decoration-color: #000000\">]</span><span style=\"color: #ffff00; text-decoration-color: #ffff00; font-weight: bold\"> - </span>Appending <span style=\"color: #008000; text-decoration-color: #008000\">/</span><span style=\"color: #800080; text-decoration-color: #800080\">content</span> to <span style=\"color: #008000; text-decoration-color: #008000\">/content/wordplay/src/ckpts/</span><span style=\"color: #800080; text-decoration-color: #800080\">checkpoints.log</span>\n",
              "</pre>\n"
            ]
          },
          "metadata": {}
        },
        {
          "output_type": "stream",
          "name": "stderr",
          "text": [
            " 92%|█████████▏| 4597/5000 [02:49<00:10, 38.94it/s]"
          ]
        },
        {
          "output_type": "display_data",
          "data": {
            "text/plain": [
              "\u001b[30m[\u001b[0m\u001b[90m2024-02-06 \u001b[0m\u001b[90m14:17:12\u001b[0m\u001b[30m]\u001b[0m\u001b[30m[\u001b[0m\u001b[1;32mINFO\u001b[0m\u001b[30m]\u001b[0m\u001b[30m[\u001b[0m\u001b[3;36mtrainer\u001b[0m\u001b[92m:\u001b[0m\u001b[30m768\u001b[0m\u001b[30m]\u001b[0m\u001b[1;93m - \u001b[0m\u001b[3;94mstep\u001b[0m=\u001b[35m4600\u001b[0m \u001b[3;94mloss\u001b[0m=\u001b[35m0\u001b[0m\u001b[35m.8260\u001b[0m \u001b[3;94mdt\u001b[0m=\u001b[35m26\u001b[0m\u001b[35m.7049\u001b[0m \u001b[3;94mdtf\u001b[0m=\u001b[35m9\u001b[0m\u001b[35m.7508\u001b[0m \u001b[3;94mdtb\u001b[0m=\u001b[35m13\u001b[0m\u001b[35m.7344\u001b[0m \u001b[3;94msps\u001b[0m=\u001b[35m37\u001b[0m\u001b[35m.4463\u001b[0m \u001b[3;94mmtps\u001b[0m=\u001b[35m0\u001b[0m\u001b[35m.6135\u001b[0m \u001b[3;94mmfu\u001b[0m=\u001b[35m14\u001b[0m\u001b[35m.4538\u001b[0m \u001b[3;94mtrain_loss\u001b[0m=\u001b[35m0\u001b[0m\u001b[35m.6439\u001b[0m \u001b[3;94mval_loss\u001b[0m=\u001b[35m1\u001b[0m\u001b[35m.6704\u001b[0m\n"
            ],
            "text/html": [
              "<pre style=\"white-space:pre;overflow-x:auto;line-height:normal;font-family:Menlo,'DejaVu Sans Mono',consolas,'Courier New',monospace\"><span style=\"color: #000000; text-decoration-color: #000000\">[</span><span style=\"color: #808080; text-decoration-color: #808080\">2024-02-06 14:17:12</span><span style=\"color: #000000; text-decoration-color: #000000\">][</span><span style=\"color: #008000; text-decoration-color: #008000; font-weight: bold\">INFO</span><span style=\"color: #000000; text-decoration-color: #000000\">][</span><span style=\"color: #008080; text-decoration-color: #008080; font-style: italic\">trainer</span><span style=\"color: #00ff00; text-decoration-color: #00ff00\">:</span><span style=\"color: #000000; text-decoration-color: #000000\">768</span><span style=\"color: #000000; text-decoration-color: #000000\">]</span><span style=\"color: #ffff00; text-decoration-color: #ffff00; font-weight: bold\"> - </span><span style=\"color: #0000ff; text-decoration-color: #0000ff; font-style: italic\">step</span>=<span style=\"color: #800080; text-decoration-color: #800080\">4600</span> <span style=\"color: #0000ff; text-decoration-color: #0000ff; font-style: italic\">loss</span>=<span style=\"color: #800080; text-decoration-color: #800080\">0.8260</span> <span style=\"color: #0000ff; text-decoration-color: #0000ff; font-style: italic\">dt</span>=<span style=\"color: #800080; text-decoration-color: #800080\">26.7049</span> <span style=\"color: #0000ff; text-decoration-color: #0000ff; font-style: italic\">dtf</span>=<span style=\"color: #800080; text-decoration-color: #800080\">9.7508</span> <span style=\"color: #0000ff; text-decoration-color: #0000ff; font-style: italic\">dtb</span>=<span style=\"color: #800080; text-decoration-color: #800080\">13.7344</span> <span style=\"color: #0000ff; text-decoration-color: #0000ff; font-style: italic\">sps</span>=<span style=\"color: #800080; text-decoration-color: #800080\">37.4463</span> <span style=\"color: #0000ff; text-decoration-color: #0000ff; font-style: italic\">mtps</span>=<span style=\"color: #800080; text-decoration-color: #800080\">0.6135</span> <span style=\"color: #0000ff; text-decoration-color: #0000ff; font-style: italic\">mfu</span>=<span style=\"color: #800080; text-decoration-color: #800080\">14.4538</span> <span style=\"color: #0000ff; text-decoration-color: #0000ff; font-style: italic\">train_loss</span>=<span style=\"color: #800080; text-decoration-color: #800080\">0.6439</span> <span style=\"color: #0000ff; text-decoration-color: #0000ff; font-style: italic\">val_loss</span>=<span style=\"color: #800080; text-decoration-color: #800080\">1.6704</span>\n",
              "</pre>\n"
            ]
          },
          "metadata": {}
        },
        {
          "output_type": "stream",
          "name": "stderr",
          "text": [
            " 94%|█████████▍| 4697/5000 [02:52<00:07, 38.65it/s]"
          ]
        },
        {
          "output_type": "display_data",
          "data": {
            "text/plain": [
              "\u001b[30m[\u001b[0m\u001b[90m2024-02-06 \u001b[0m\u001b[90m14:17:15\u001b[0m\u001b[30m]\u001b[0m\u001b[30m[\u001b[0m\u001b[1;32mINFO\u001b[0m\u001b[30m]\u001b[0m\u001b[30m[\u001b[0m\u001b[3;36mtrainer\u001b[0m\u001b[92m:\u001b[0m\u001b[30m768\u001b[0m\u001b[30m]\u001b[0m\u001b[1;93m - \u001b[0m\u001b[3;94mstep\u001b[0m=\u001b[35m4700\u001b[0m \u001b[3;94mloss\u001b[0m=\u001b[35m0\u001b[0m\u001b[35m.8318\u001b[0m \u001b[3;94mdt\u001b[0m=\u001b[35m25\u001b[0m\u001b[35m.2713\u001b[0m \u001b[3;94mdtf\u001b[0m=\u001b[35m8\u001b[0m\u001b[35m.2920\u001b[0m \u001b[3;94mdtb\u001b[0m=\u001b[35m13\u001b[0m\u001b[35m.8575\u001b[0m \u001b[3;94msps\u001b[0m=\u001b[35m39\u001b[0m\u001b[35m.5706\u001b[0m \u001b[3;94mmtps\u001b[0m=\u001b[35m0\u001b[0m\u001b[35m.6483\u001b[0m \u001b[3;94mmfu\u001b[0m=\u001b[35m14\u001b[0m\u001b[35m.4829\u001b[0m \u001b[3;94mtrain_loss\u001b[0m=\u001b[35m0\u001b[0m\u001b[35m.6439\u001b[0m \u001b[3;94mval_loss\u001b[0m=\u001b[35m1\u001b[0m\u001b[35m.6704\u001b[0m\n"
            ],
            "text/html": [
              "<pre style=\"white-space:pre;overflow-x:auto;line-height:normal;font-family:Menlo,'DejaVu Sans Mono',consolas,'Courier New',monospace\"><span style=\"color: #000000; text-decoration-color: #000000\">[</span><span style=\"color: #808080; text-decoration-color: #808080\">2024-02-06 14:17:15</span><span style=\"color: #000000; text-decoration-color: #000000\">][</span><span style=\"color: #008000; text-decoration-color: #008000; font-weight: bold\">INFO</span><span style=\"color: #000000; text-decoration-color: #000000\">][</span><span style=\"color: #008080; text-decoration-color: #008080; font-style: italic\">trainer</span><span style=\"color: #00ff00; text-decoration-color: #00ff00\">:</span><span style=\"color: #000000; text-decoration-color: #000000\">768</span><span style=\"color: #000000; text-decoration-color: #000000\">]</span><span style=\"color: #ffff00; text-decoration-color: #ffff00; font-weight: bold\"> - </span><span style=\"color: #0000ff; text-decoration-color: #0000ff; font-style: italic\">step</span>=<span style=\"color: #800080; text-decoration-color: #800080\">4700</span> <span style=\"color: #0000ff; text-decoration-color: #0000ff; font-style: italic\">loss</span>=<span style=\"color: #800080; text-decoration-color: #800080\">0.8318</span> <span style=\"color: #0000ff; text-decoration-color: #0000ff; font-style: italic\">dt</span>=<span style=\"color: #800080; text-decoration-color: #800080\">25.2713</span> <span style=\"color: #0000ff; text-decoration-color: #0000ff; font-style: italic\">dtf</span>=<span style=\"color: #800080; text-decoration-color: #800080\">8.2920</span> <span style=\"color: #0000ff; text-decoration-color: #0000ff; font-style: italic\">dtb</span>=<span style=\"color: #800080; text-decoration-color: #800080\">13.8575</span> <span style=\"color: #0000ff; text-decoration-color: #0000ff; font-style: italic\">sps</span>=<span style=\"color: #800080; text-decoration-color: #800080\">39.5706</span> <span style=\"color: #0000ff; text-decoration-color: #0000ff; font-style: italic\">mtps</span>=<span style=\"color: #800080; text-decoration-color: #800080\">0.6483</span> <span style=\"color: #0000ff; text-decoration-color: #0000ff; font-style: italic\">mfu</span>=<span style=\"color: #800080; text-decoration-color: #800080\">14.4829</span> <span style=\"color: #0000ff; text-decoration-color: #0000ff; font-style: italic\">train_loss</span>=<span style=\"color: #800080; text-decoration-color: #800080\">0.6439</span> <span style=\"color: #0000ff; text-decoration-color: #0000ff; font-style: italic\">val_loss</span>=<span style=\"color: #800080; text-decoration-color: #800080\">1.6704</span>\n",
              "</pre>\n"
            ]
          },
          "metadata": {}
        },
        {
          "output_type": "stream",
          "name": "stderr",
          "text": [
            " 96%|█████████▌| 4797/5000 [02:55<00:05, 38.74it/s]"
          ]
        },
        {
          "output_type": "display_data",
          "data": {
            "text/plain": [
              "\u001b[30m[\u001b[0m\u001b[90m2024-02-06 \u001b[0m\u001b[90m14:17:17\u001b[0m\u001b[30m]\u001b[0m\u001b[30m[\u001b[0m\u001b[1;32mINFO\u001b[0m\u001b[30m]\u001b[0m\u001b[30m[\u001b[0m\u001b[3;36mtrainer\u001b[0m\u001b[92m:\u001b[0m\u001b[30m768\u001b[0m\u001b[30m]\u001b[0m\u001b[1;93m - \u001b[0m\u001b[3;94mstep\u001b[0m=\u001b[35m4800\u001b[0m \u001b[3;94mloss\u001b[0m=\u001b[35m0\u001b[0m\u001b[35m.8207\u001b[0m \u001b[3;94mdt\u001b[0m=\u001b[35m25\u001b[0m\u001b[35m.2546\u001b[0m \u001b[3;94mdtf\u001b[0m=\u001b[35m8\u001b[0m\u001b[35m.3224\u001b[0m \u001b[3;94mdtb\u001b[0m=\u001b[35m13\u001b[0m\u001b[35m.7507\u001b[0m \u001b[3;94msps\u001b[0m=\u001b[35m39\u001b[0m\u001b[35m.5967\u001b[0m \u001b[3;94mmtps\u001b[0m=\u001b[35m0\u001b[0m\u001b[35m.6488\u001b[0m \u001b[3;94mmfu\u001b[0m=\u001b[35m14\u001b[0m\u001b[35m.5101\u001b[0m \u001b[3;94mtrain_loss\u001b[0m=\u001b[35m0\u001b[0m\u001b[35m.6439\u001b[0m \u001b[3;94mval_loss\u001b[0m=\u001b[35m1\u001b[0m\u001b[35m.6704\u001b[0m\n"
            ],
            "text/html": [
              "<pre style=\"white-space:pre;overflow-x:auto;line-height:normal;font-family:Menlo,'DejaVu Sans Mono',consolas,'Courier New',monospace\"><span style=\"color: #000000; text-decoration-color: #000000\">[</span><span style=\"color: #808080; text-decoration-color: #808080\">2024-02-06 14:17:17</span><span style=\"color: #000000; text-decoration-color: #000000\">][</span><span style=\"color: #008000; text-decoration-color: #008000; font-weight: bold\">INFO</span><span style=\"color: #000000; text-decoration-color: #000000\">][</span><span style=\"color: #008080; text-decoration-color: #008080; font-style: italic\">trainer</span><span style=\"color: #00ff00; text-decoration-color: #00ff00\">:</span><span style=\"color: #000000; text-decoration-color: #000000\">768</span><span style=\"color: #000000; text-decoration-color: #000000\">]</span><span style=\"color: #ffff00; text-decoration-color: #ffff00; font-weight: bold\"> - </span><span style=\"color: #0000ff; text-decoration-color: #0000ff; font-style: italic\">step</span>=<span style=\"color: #800080; text-decoration-color: #800080\">4800</span> <span style=\"color: #0000ff; text-decoration-color: #0000ff; font-style: italic\">loss</span>=<span style=\"color: #800080; text-decoration-color: #800080\">0.8207</span> <span style=\"color: #0000ff; text-decoration-color: #0000ff; font-style: italic\">dt</span>=<span style=\"color: #800080; text-decoration-color: #800080\">25.2546</span> <span style=\"color: #0000ff; text-decoration-color: #0000ff; font-style: italic\">dtf</span>=<span style=\"color: #800080; text-decoration-color: #800080\">8.3224</span> <span style=\"color: #0000ff; text-decoration-color: #0000ff; font-style: italic\">dtb</span>=<span style=\"color: #800080; text-decoration-color: #800080\">13.7507</span> <span style=\"color: #0000ff; text-decoration-color: #0000ff; font-style: italic\">sps</span>=<span style=\"color: #800080; text-decoration-color: #800080\">39.5967</span> <span style=\"color: #0000ff; text-decoration-color: #0000ff; font-style: italic\">mtps</span>=<span style=\"color: #800080; text-decoration-color: #800080\">0.6488</span> <span style=\"color: #0000ff; text-decoration-color: #0000ff; font-style: italic\">mfu</span>=<span style=\"color: #800080; text-decoration-color: #800080\">14.5101</span> <span style=\"color: #0000ff; text-decoration-color: #0000ff; font-style: italic\">train_loss</span>=<span style=\"color: #800080; text-decoration-color: #800080\">0.6439</span> <span style=\"color: #0000ff; text-decoration-color: #0000ff; font-style: italic\">val_loss</span>=<span style=\"color: #800080; text-decoration-color: #800080\">1.6704</span>\n",
              "</pre>\n"
            ]
          },
          "metadata": {}
        },
        {
          "output_type": "stream",
          "name": "stderr",
          "text": [
            " 98%|█████████▊| 4897/5000 [02:57<00:02, 37.93it/s]"
          ]
        },
        {
          "output_type": "display_data",
          "data": {
            "text/plain": [
              "\u001b[30m[\u001b[0m\u001b[90m2024-02-06 \u001b[0m\u001b[90m14:17:20\u001b[0m\u001b[30m]\u001b[0m\u001b[30m[\u001b[0m\u001b[1;32mINFO\u001b[0m\u001b[30m]\u001b[0m\u001b[30m[\u001b[0m\u001b[3;36mtrainer\u001b[0m\u001b[92m:\u001b[0m\u001b[30m768\u001b[0m\u001b[30m]\u001b[0m\u001b[1;93m - \u001b[0m\u001b[3;94mstep\u001b[0m=\u001b[35m4900\u001b[0m \u001b[3;94mloss\u001b[0m=\u001b[35m0\u001b[0m\u001b[35m.8081\u001b[0m \u001b[3;94mdt\u001b[0m=\u001b[35m25\u001b[0m\u001b[35m.8349\u001b[0m \u001b[3;94mdtf\u001b[0m=\u001b[35m8\u001b[0m\u001b[35m.3901\u001b[0m \u001b[3;94mdtb\u001b[0m=\u001b[35m14\u001b[0m\u001b[35m.3042\u001b[0m \u001b[3;94msps\u001b[0m=\u001b[35m38\u001b[0m\u001b[35m.7073\u001b[0m \u001b[3;94mmtps\u001b[0m=\u001b[35m0\u001b[0m\u001b[35m.6342\u001b[0m \u001b[3;94mmfu\u001b[0m=\u001b[35m14\u001b[0m\u001b[35m.5014\u001b[0m \u001b[3;94mtrain_loss\u001b[0m=\u001b[35m0\u001b[0m\u001b[35m.6439\u001b[0m \u001b[3;94mval_loss\u001b[0m=\u001b[35m1\u001b[0m\u001b[35m.6704\u001b[0m\n"
            ],
            "text/html": [
              "<pre style=\"white-space:pre;overflow-x:auto;line-height:normal;font-family:Menlo,'DejaVu Sans Mono',consolas,'Courier New',monospace\"><span style=\"color: #000000; text-decoration-color: #000000\">[</span><span style=\"color: #808080; text-decoration-color: #808080\">2024-02-06 14:17:20</span><span style=\"color: #000000; text-decoration-color: #000000\">][</span><span style=\"color: #008000; text-decoration-color: #008000; font-weight: bold\">INFO</span><span style=\"color: #000000; text-decoration-color: #000000\">][</span><span style=\"color: #008080; text-decoration-color: #008080; font-style: italic\">trainer</span><span style=\"color: #00ff00; text-decoration-color: #00ff00\">:</span><span style=\"color: #000000; text-decoration-color: #000000\">768</span><span style=\"color: #000000; text-decoration-color: #000000\">]</span><span style=\"color: #ffff00; text-decoration-color: #ffff00; font-weight: bold\"> - </span><span style=\"color: #0000ff; text-decoration-color: #0000ff; font-style: italic\">step</span>=<span style=\"color: #800080; text-decoration-color: #800080\">4900</span> <span style=\"color: #0000ff; text-decoration-color: #0000ff; font-style: italic\">loss</span>=<span style=\"color: #800080; text-decoration-color: #800080\">0.8081</span> <span style=\"color: #0000ff; text-decoration-color: #0000ff; font-style: italic\">dt</span>=<span style=\"color: #800080; text-decoration-color: #800080\">25.8349</span> <span style=\"color: #0000ff; text-decoration-color: #0000ff; font-style: italic\">dtf</span>=<span style=\"color: #800080; text-decoration-color: #800080\">8.3901</span> <span style=\"color: #0000ff; text-decoration-color: #0000ff; font-style: italic\">dtb</span>=<span style=\"color: #800080; text-decoration-color: #800080\">14.3042</span> <span style=\"color: #0000ff; text-decoration-color: #0000ff; font-style: italic\">sps</span>=<span style=\"color: #800080; text-decoration-color: #800080\">38.7073</span> <span style=\"color: #0000ff; text-decoration-color: #0000ff; font-style: italic\">mtps</span>=<span style=\"color: #800080; text-decoration-color: #800080\">0.6342</span> <span style=\"color: #0000ff; text-decoration-color: #0000ff; font-style: italic\">mfu</span>=<span style=\"color: #800080; text-decoration-color: #800080\">14.5014</span> <span style=\"color: #0000ff; text-decoration-color: #0000ff; font-style: italic\">train_loss</span>=<span style=\"color: #800080; text-decoration-color: #800080\">0.6439</span> <span style=\"color: #0000ff; text-decoration-color: #0000ff; font-style: italic\">val_loss</span>=<span style=\"color: #800080; text-decoration-color: #800080\">1.6704</span>\n",
              "</pre>\n"
            ]
          },
          "metadata": {}
        },
        {
          "output_type": "stream",
          "name": "stderr",
          "text": [
            "100%|█████████▉| 4997/5000 [03:00<00:00, 38.24it/s]"
          ]
        },
        {
          "output_type": "display_data",
          "data": {
            "text/plain": [
              "\u001b[30m[\u001b[0m\u001b[90m2024-02-06 \u001b[0m\u001b[90m14:17:23\u001b[0m\u001b[30m]\u001b[0m\u001b[30m[\u001b[0m\u001b[1;32mINFO\u001b[0m\u001b[30m]\u001b[0m\u001b[30m[\u001b[0m\u001b[3;36mtrainer\u001b[0m\u001b[92m:\u001b[0m\u001b[30m768\u001b[0m\u001b[30m]\u001b[0m\u001b[1;93m - \u001b[0m\u001b[3;94mstep\u001b[0m=\u001b[35m5000\u001b[0m \u001b[3;94mloss\u001b[0m=\u001b[35m0\u001b[0m\u001b[35m.8423\u001b[0m \u001b[3;94mdt\u001b[0m=\u001b[35m26\u001b[0m\u001b[35m.0989\u001b[0m \u001b[3;94mdtf\u001b[0m=\u001b[35m8\u001b[0m\u001b[35m.5888\u001b[0m \u001b[3;94mdtb\u001b[0m=\u001b[35m14\u001b[0m\u001b[35m.1429\u001b[0m \u001b[3;94msps\u001b[0m=\u001b[35m38\u001b[0m\u001b[35m.3158\u001b[0m \u001b[3;94mmtps\u001b[0m=\u001b[35m0\u001b[0m\u001b[35m.6278\u001b[0m \u001b[3;94mmfu\u001b[0m=\u001b[35m14\u001b[0m\u001b[35m.4790\u001b[0m \u001b[3;94mtrain_loss\u001b[0m=\u001b[35m0\u001b[0m\u001b[35m.6439\u001b[0m \u001b[3;94mval_loss\u001b[0m=\u001b[35m1\u001b[0m\u001b[35m.6704\u001b[0m\n"
            ],
            "text/html": [
              "<pre style=\"white-space:pre;overflow-x:auto;line-height:normal;font-family:Menlo,'DejaVu Sans Mono',consolas,'Courier New',monospace\"><span style=\"color: #000000; text-decoration-color: #000000\">[</span><span style=\"color: #808080; text-decoration-color: #808080\">2024-02-06 14:17:23</span><span style=\"color: #000000; text-decoration-color: #000000\">][</span><span style=\"color: #008000; text-decoration-color: #008000; font-weight: bold\">INFO</span><span style=\"color: #000000; text-decoration-color: #000000\">][</span><span style=\"color: #008080; text-decoration-color: #008080; font-style: italic\">trainer</span><span style=\"color: #00ff00; text-decoration-color: #00ff00\">:</span><span style=\"color: #000000; text-decoration-color: #000000\">768</span><span style=\"color: #000000; text-decoration-color: #000000\">]</span><span style=\"color: #ffff00; text-decoration-color: #ffff00; font-weight: bold\"> - </span><span style=\"color: #0000ff; text-decoration-color: #0000ff; font-style: italic\">step</span>=<span style=\"color: #800080; text-decoration-color: #800080\">5000</span> <span style=\"color: #0000ff; text-decoration-color: #0000ff; font-style: italic\">loss</span>=<span style=\"color: #800080; text-decoration-color: #800080\">0.8423</span> <span style=\"color: #0000ff; text-decoration-color: #0000ff; font-style: italic\">dt</span>=<span style=\"color: #800080; text-decoration-color: #800080\">26.0989</span> <span style=\"color: #0000ff; text-decoration-color: #0000ff; font-style: italic\">dtf</span>=<span style=\"color: #800080; text-decoration-color: #800080\">8.5888</span> <span style=\"color: #0000ff; text-decoration-color: #0000ff; font-style: italic\">dtb</span>=<span style=\"color: #800080; text-decoration-color: #800080\">14.1429</span> <span style=\"color: #0000ff; text-decoration-color: #0000ff; font-style: italic\">sps</span>=<span style=\"color: #800080; text-decoration-color: #800080\">38.3158</span> <span style=\"color: #0000ff; text-decoration-color: #0000ff; font-style: italic\">mtps</span>=<span style=\"color: #800080; text-decoration-color: #800080\">0.6278</span> <span style=\"color: #0000ff; text-decoration-color: #0000ff; font-style: italic\">mfu</span>=<span style=\"color: #800080; text-decoration-color: #800080\">14.4790</span> <span style=\"color: #0000ff; text-decoration-color: #0000ff; font-style: italic\">train_loss</span>=<span style=\"color: #800080; text-decoration-color: #800080\">0.6439</span> <span style=\"color: #0000ff; text-decoration-color: #0000ff; font-style: italic\">val_loss</span>=<span style=\"color: #800080; text-decoration-color: #800080\">1.6704</span>\n",
              "</pre>\n"
            ]
          },
          "metadata": {}
        },
        {
          "output_type": "stream",
          "name": "stderr",
          "text": [
            "\r100%|██████████| 5000/5000 [03:00<00:00, 27.72it/s]\n"
          ]
        }
      ],
      "source": [
        "trainer.train()"
      ]
    },
    {
      "cell_type": "markdown",
      "id": "aa5c0c5a-539a-462d-a9e3-0655e8e48d85",
      "metadata": {
        "id": "aa5c0c5a-539a-462d-a9e3-0655e8e48d85"
      },
      "source": [
        "## Evaluate Model"
      ]
    },
    {
      "cell_type": "code",
      "execution_count": 9,
      "id": "b17c4414",
      "metadata": {
        "jupyter": {
          "outputs_hidden": false,
          "source_hidden": false
        },
        "colab": {
          "base_uri": "https://localhost:8080/",
          "height": 241
        },
        "id": "b17c4414",
        "outputId": "46e27705-b839-413b-e171-6f3c905848f1"
      },
      "outputs": [
        {
          "output_type": "display_data",
          "data": {
            "text/plain": [
              "\u001b[30m[\u001b[0m\u001b[90m2024-02-06 \u001b[0m\u001b[90m14:25:22\u001b[0m\u001b[30m]\u001b[0m\u001b[30m[\u001b[0m\u001b[1;32mINFO\u001b[0m\u001b[30m]\u001b[0m\u001b[30m[\u001b[0m\u001b[3;36m<ipython-input-9-99b80f46fd99>\u001b[0m\u001b[92m:\u001b[0m\u001b[30m12\u001b[0m\u001b[30m]\u001b[0m\u001b[1;93m - \u001b[0mtook: \u001b[35m1.\u001b[0m8314s\n"
            ],
            "text/html": [
              "<pre style=\"white-space:pre;overflow-x:auto;line-height:normal;font-family:Menlo,'DejaVu Sans Mono',consolas,'Courier New',monospace\"><span style=\"color: #000000; text-decoration-color: #000000\">[</span><span style=\"color: #808080; text-decoration-color: #808080\">2024-02-06 14:25:22</span><span style=\"color: #000000; text-decoration-color: #000000\">][</span><span style=\"color: #008000; text-decoration-color: #008000; font-weight: bold\">INFO</span><span style=\"color: #000000; text-decoration-color: #000000\">][</span><span style=\"color: #008080; text-decoration-color: #008080; font-style: italic\">&lt;ipython-input-9-99b80f46fd99&gt;</span><span style=\"color: #00ff00; text-decoration-color: #00ff00\">:</span><span style=\"color: #000000; text-decoration-color: #000000\">12</span><span style=\"color: #000000; text-decoration-color: #000000\">]</span><span style=\"color: #ffff00; text-decoration-color: #ffff00; font-weight: bold\"> - </span>took: <span style=\"color: #800080; text-decoration-color: #800080\">1.</span>8314s\n",
              "</pre>\n"
            ]
          },
          "metadata": {}
        },
        {
          "output_type": "display_data",
          "data": {
            "text/plain": [
              "\u001b[30m[\u001b[0m\u001b[90m2024-02-06 \u001b[0m\u001b[90m14:25:22\u001b[0m\u001b[30m]\u001b[0m\u001b[30m[\u001b[0m\u001b[1;32mINFO\u001b[0m\u001b[30m]\u001b[0m\u001b[30m[\u001b[0m\u001b[3;36m<ipython-input-9-99b80f46fd99>\u001b[0m\u001b[92m:\u001b[0m\u001b[30m13\u001b[0m\u001b[30m]\u001b[0m\u001b[1;93m - \u001b[0m\u001b[1;31m[\u001b[0m\u001b[3;33m'prompt'\u001b[0m\u001b[1;31m]\u001b[0m: \u001b[3;33m'What is an LLM?'\u001b[0m\n"
            ],
            "text/html": [
              "<pre style=\"white-space:pre;overflow-x:auto;line-height:normal;font-family:Menlo,'DejaVu Sans Mono',consolas,'Courier New',monospace\"><span style=\"color: #000000; text-decoration-color: #000000\">[</span><span style=\"color: #808080; text-decoration-color: #808080\">2024-02-06 14:25:22</span><span style=\"color: #000000; text-decoration-color: #000000\">][</span><span style=\"color: #008000; text-decoration-color: #008000; font-weight: bold\">INFO</span><span style=\"color: #000000; text-decoration-color: #000000\">][</span><span style=\"color: #008080; text-decoration-color: #008080; font-style: italic\">&lt;ipython-input-9-99b80f46fd99&gt;</span><span style=\"color: #00ff00; text-decoration-color: #00ff00\">:</span><span style=\"color: #000000; text-decoration-color: #000000\">13</span><span style=\"color: #000000; text-decoration-color: #000000\">]</span><span style=\"color: #ffff00; text-decoration-color: #ffff00; font-weight: bold\"> - </span><span style=\"color: #800000; text-decoration-color: #800000; font-weight: bold\">[</span><span style=\"color: #808000; text-decoration-color: #808000; font-style: italic\">'prompt'</span><span style=\"color: #800000; text-decoration-color: #800000; font-weight: bold\">]</span>: <span style=\"color: #808000; text-decoration-color: #808000; font-style: italic\">'What is an LLM?'</span>\n",
              "</pre>\n"
            ]
          },
          "metadata": {}
        },
        {
          "output_type": "display_data",
          "data": {
            "text/plain": [
              "\u001b[30m[\u001b[0m\u001b[90m2024-02-06 \u001b[0m\u001b[90m14:25:22\u001b[0m\u001b[30m]\u001b[0m\u001b[30m[\u001b[0m\u001b[1;32mINFO\u001b[0m\u001b[30m]\u001b[0m\u001b[30m[\u001b[0m\u001b[3;36m<ipython-input-9-99b80f46fd99>\u001b[0m\u001b[92m:\u001b[0m\u001b[30m14\u001b[0m\u001b[30m]\u001b[0m\u001b[1;93m - \u001b[0m\u001b[1;31m[\u001b[0m\u001b[3;33m'response'\u001b[0m\u001b[1;31m]\u001b[0m:\n",
              "\n",
              "What is an LLM?\n",
              "\n",
              "POLIXENES:\n",
              "That when my father's grace is mine.\n",
              "\n",
              "PAULINA:\n",
              "The matter, then, like a child, and a forty of\n",
              "The queen's life is a man. Hermione, she came from\n",
              "the morning: he is a man that made the law, and that\n",
              "he was like a man dishessed to his charters; \n"
            ],
            "text/html": [
              "<pre style=\"white-space:pre;overflow-x:auto;line-height:normal;font-family:Menlo,'DejaVu Sans Mono',consolas,'Courier New',monospace\"><span style=\"color: #000000; text-decoration-color: #000000\">[</span><span style=\"color: #808080; text-decoration-color: #808080\">2024-02-06 14:25:22</span><span style=\"color: #000000; text-decoration-color: #000000\">][</span><span style=\"color: #008000; text-decoration-color: #008000; font-weight: bold\">INFO</span><span style=\"color: #000000; text-decoration-color: #000000\">][</span><span style=\"color: #008080; text-decoration-color: #008080; font-style: italic\">&lt;ipython-input-9-99b80f46fd99&gt;</span><span style=\"color: #00ff00; text-decoration-color: #00ff00\">:</span><span style=\"color: #000000; text-decoration-color: #000000\">14</span><span style=\"color: #000000; text-decoration-color: #000000\">]</span><span style=\"color: #ffff00; text-decoration-color: #ffff00; font-weight: bold\"> - </span><span style=\"color: #800000; text-decoration-color: #800000; font-weight: bold\">[</span><span style=\"color: #808000; text-decoration-color: #808000; font-style: italic\">'response'</span><span style=\"color: #800000; text-decoration-color: #800000; font-weight: bold\">]</span>:\n",
              "\n",
              "What is an LLM?\n",
              "\n",
              "POLIXENES:\n",
              "That when my father's grace is mine.\n",
              "\n",
              "PAULINA:\n",
              "The matter, then, like a child, and a forty of\n",
              "The queen's life is a man. Hermione, she came from\n",
              "the morning: he is a man that made the law, and that\n",
              "he was like a man dishessed to his charters; \n",
              "</pre>\n"
            ]
          },
          "metadata": {}
        }
      ],
      "source": [
        "import time\n",
        "\n",
        "query = \"What is an LLM?\"\n",
        "t0 = time.perf_counter()\n",
        "outputs = trainer.evaluate(\n",
        "    query,\n",
        "    num_samples=1,\n",
        "    max_new_tokens=256,\n",
        "    top_k=2,\n",
        "    display=False\n",
        ")\n",
        "log.info(f'took: {time.perf_counter() - t0:.4f}s')\n",
        "log.info(f\"['prompt']: '{query}'\")\n",
        "log.info(\"['response']:\\n\\n\" + fr\"{outputs['0']['raw']}\")"
      ]
    },
    {
      "cell_type": "code",
      "execution_count": null,
      "id": "45437956",
      "metadata": {
        "id": "45437956"
      },
      "outputs": [],
      "source": []
    }
  ],
  "metadata": {
    "kernelspec": {
      "display_name": "Python 3",
      "name": "python3"
    },
    "language_info": {
      "codemirror_mode": {
        "name": "ipython",
        "version": 3
      },
      "file_extension": ".py",
      "mimetype": "text/x-python",
      "name": "python",
      "nbconvert_exporter": "python",
      "pygments_lexer": "ipython3",
      "version": "3.11.6"
    },
    "colab": {
      "provenance": [],
      "gpuType": "A100"
    },
    "accelerator": "GPU"
  },
  "nbformat": 4,
  "nbformat_minor": 5
}